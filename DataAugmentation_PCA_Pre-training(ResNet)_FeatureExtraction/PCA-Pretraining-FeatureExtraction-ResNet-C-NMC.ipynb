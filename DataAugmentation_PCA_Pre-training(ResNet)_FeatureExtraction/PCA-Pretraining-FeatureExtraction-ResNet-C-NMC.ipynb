{
 "cells": [
  {
   "cell_type": "code",
   "execution_count": 1,
   "metadata": {
    "_cell_guid": "b1076dfc-b9ad-4769-8c92-a6c4dae69d19",
    "_uuid": "8f2839f25d086af736a60e9eeb907d3b93b6e0e5",
    "execution": {
     "iopub.execute_input": "2021-12-28T09:23:12.526315Z",
     "iopub.status.busy": "2021-12-28T09:23:12.525665Z",
     "iopub.status.idle": "2021-12-28T09:23:18.477918Z",
     "shell.execute_reply": "2021-12-28T09:23:18.476617Z",
     "shell.execute_reply.started": "2021-12-28T08:55:06.745147Z"
    },
    "papermill": {
     "duration": 5.993561,
     "end_time": "2021-12-28T09:23:18.478094",
     "exception": false,
     "start_time": "2021-12-28T09:23:12.484533",
     "status": "completed"
    },
    "tags": []
   },
   "outputs": [],
   "source": [
    "# Import essential libraries\n",
    "%matplotlib inline\n",
    "import matplotlib.pyplot as plt\n",
    "import numpy as np\n",
    "import pandas as pd\n",
    "from sklearn.model_selection import StratifiedKFold\n",
    "import itertools\n",
    "import keras\n",
    "import seaborn as sns\n",
    "from glob import glob\n",
    "from PIL import Image\n",
    "from sklearn.preprocessing import label_binarize\n",
    "from sklearn.metrics import confusion_matrix\n",
    "from sklearn.model_selection import train_test_split\n",
    "from keras.utils.np_utils import to_categorical\n",
    "from keras.models import Sequential\n",
    "from keras.callbacks import ReduceLROnPlateau\n",
    "from keras.optimizers import Adam\n",
    "from keras.preprocessing.image import ImageDataGenerator\n",
    "from sklearn.model_selection import train_test_split\n",
    "from keras import backend as K\n",
    "from keras.layers.normalization import BatchNormalization\n",
    "import os\n",
    "import cv2\n",
    "from keras import layers\n",
    "from keras.layers import Input, Add, Dense, Activation, ZeroPadding2D, BatchNormalization, Flatten, Conv2D, AveragePooling2D, MaxPooling2D\n",
    "from keras.models import Model, load_model\n",
    "from keras.initializers import glorot_uniform\n",
    "from keras.utils import plot_model\n",
    "from IPython.display import SVG\n",
    "from keras.utils.vis_utils import model_to_dot\n",
    "import keras.backend as K\n",
    "from keras.models import Sequential\n",
    "from keras import optimizers\n",
    "from keras.layers import Dense, Conv2D, Dropout, Flatten, MaxPooling2D\n",
    "from keras import regularizers\n",
    "from keras.callbacks import Callback\n",
    "from keras import backend\n",
    "from keras.models import load_model\n",
    "from sklearn.metrics import roc_curve\n",
    "from sklearn.metrics import auc"
   ]
  },
  {
   "cell_type": "code",
   "execution_count": 2,
   "metadata": {
    "_cell_guid": "79c7e3d0-c299-4dcb-8224-4455121ee9b0",
    "_uuid": "d629ff2d2480ee46fbb7e2d37f6b5fab8052498a",
    "execution": {
     "iopub.execute_input": "2021-12-28T09:23:18.560187Z",
     "iopub.status.busy": "2021-12-28T09:23:18.559514Z",
     "iopub.status.idle": "2021-12-28T09:23:19.043809Z",
     "shell.execute_reply": "2021-12-28T09:23:19.042283Z",
     "shell.execute_reply.started": "2021-12-28T08:55:13.623272Z"
    },
    "papermill": {
     "duration": 0.527682,
     "end_time": "2021-12-28T09:23:19.043935",
     "exception": false,
     "start_time": "2021-12-28T09:23:18.516253",
     "status": "completed"
    },
    "tags": []
   },
   "outputs": [],
   "source": [
    "blood_cell_directory = os.path.join('', '../input/cnmc-leukemia/')\n",
    "\n",
    "# creating a directory for all images present with us and bringing them under same directory\n",
    "image_directory = {os.path.splitext(os.path.basename(x))[0]: x\n",
    "                     for x in glob(os.path.join(blood_cell_directory, '*', '*.jpg'))}"
   ]
  },
  {
   "cell_type": "code",
   "execution_count": 3,
   "metadata": {
    "execution": {
     "iopub.execute_input": "2021-12-28T09:23:19.125695Z",
     "iopub.status.busy": "2021-12-28T09:23:19.125014Z",
     "iopub.status.idle": "2021-12-28T09:23:22.484570Z",
     "shell.execute_reply": "2021-12-28T09:23:22.485138Z",
     "shell.execute_reply.started": "2021-12-28T08:55:14.132580Z"
    },
    "papermill": {
     "duration": 3.404361,
     "end_time": "2021-12-28T09:23:22.485285",
     "exception": false,
     "start_time": "2021-12-28T09:23:19.080924",
     "status": "completed"
    },
    "tags": []
   },
   "outputs": [],
   "source": [
    "count = 0\n",
    "NotHealthyPaths = []\n",
    "for dirname, _, filenames in os.walk(os.path.join(blood_cell_directory, 'Processed ALL')):\n",
    "    for filename in filenames:\n",
    "        if (filename[-3:] == 'jpg'):\n",
    "                NotHealthyPaths.append(os.path.join(dirname, filename))\n",
    "                count += 1"
   ]
  },
  {
   "cell_type": "code",
   "execution_count": 4,
   "metadata": {
    "execution": {
     "iopub.execute_input": "2021-12-28T09:23:22.565482Z",
     "iopub.status.busy": "2021-12-28T09:23:22.564540Z",
     "iopub.status.idle": "2021-12-28T09:23:24.199930Z",
     "shell.execute_reply": "2021-12-28T09:23:24.200527Z",
     "shell.execute_reply.started": "2021-12-28T08:55:18.185909Z"
    },
    "papermill": {
     "duration": 1.6772,
     "end_time": "2021-12-28T09:23:24.200674",
     "exception": false,
     "start_time": "2021-12-28T09:23:22.523474",
     "status": "completed"
    },
    "tags": []
   },
   "outputs": [],
   "source": [
    "count = 0\n",
    "HealthyPaths = []\n",
    "for dirname, _, filenames in os.walk(os.path.join(blood_cell_directory, 'Processed Hem')):\n",
    "    for filename in filenames:\n",
    "        if (filename[-3:] == 'jpg'):\n",
    "                HealthyPaths.append(os.path.join(dirname, filename))\n",
    "                count += 1"
   ]
  },
  {
   "cell_type": "code",
   "execution_count": 5,
   "metadata": {
    "execution": {
     "iopub.execute_input": "2021-12-28T09:23:24.279757Z",
     "iopub.status.busy": "2021-12-28T09:23:24.278777Z",
     "iopub.status.idle": "2021-12-28T09:23:24.290027Z",
     "shell.execute_reply": "2021-12-28T09:23:24.290618Z",
     "shell.execute_reply.started": "2021-12-28T08:55:20.001275Z"
    },
    "papermill": {
     "duration": 0.052438,
     "end_time": "2021-12-28T09:23:24.290764",
     "exception": false,
     "start_time": "2021-12-28T09:23:24.238326",
     "status": "completed"
    },
    "tags": []
   },
   "outputs": [],
   "source": [
    "df = pd.DataFrame(columns = ['path', 'label'])"
   ]
  },
  {
   "cell_type": "code",
   "execution_count": 6,
   "metadata": {
    "execution": {
     "iopub.execute_input": "2021-12-28T09:23:24.370047Z",
     "iopub.status.busy": "2021-12-28T09:23:24.369071Z",
     "iopub.status.idle": "2021-12-28T09:23:55.199158Z",
     "shell.execute_reply": "2021-12-28T09:23:55.198429Z",
     "shell.execute_reply.started": "2021-12-28T08:55:20.020490Z"
    },
    "papermill": {
     "duration": 30.870687,
     "end_time": "2021-12-28T09:23:55.199273",
     "exception": false,
     "start_time": "2021-12-28T09:23:24.328586",
     "status": "completed"
    },
    "tags": []
   },
   "outputs": [],
   "source": [
    "# labels for Healthy:0, NotHealthy:1\n",
    "\n",
    "for index1 in HealthyPaths:\n",
    "    df=df.append({'path' : str(index1) , 'label' : 0} , ignore_index=True)\n",
    "for index2 in NotHealthyPaths:\n",
    "    df=df.append({'path' : str(index2) , 'label' : 1} , ignore_index=True)"
   ]
  },
  {
   "cell_type": "code",
   "execution_count": 7,
   "metadata": {
    "execution": {
     "iopub.execute_input": "2021-12-28T09:23:55.291048Z",
     "iopub.status.busy": "2021-12-28T09:23:55.290373Z",
     "iopub.status.idle": "2021-12-28T09:23:55.298086Z",
     "shell.execute_reply": "2021-12-28T09:23:55.298715Z",
     "shell.execute_reply.started": "2021-12-28T08:55:51.707972Z"
    },
    "papermill": {
     "duration": 0.060729,
     "end_time": "2021-12-28T09:23:55.298856",
     "exception": false,
     "start_time": "2021-12-28T09:23:55.238127",
     "status": "completed"
    },
    "tags": []
   },
   "outputs": [
    {
     "data": {
      "text/html": [
       "<div>\n",
       "<style scoped>\n",
       "    .dataframe tbody tr th:only-of-type {\n",
       "        vertical-align: middle;\n",
       "    }\n",
       "\n",
       "    .dataframe tbody tr th {\n",
       "        vertical-align: top;\n",
       "    }\n",
       "\n",
       "    .dataframe thead th {\n",
       "        text-align: right;\n",
       "    }\n",
       "</style>\n",
       "<table border=\"1\" class=\"dataframe\">\n",
       "  <thead>\n",
       "    <tr style=\"text-align: right;\">\n",
       "      <th></th>\n",
       "      <th>path</th>\n",
       "      <th>label</th>\n",
       "    </tr>\n",
       "  </thead>\n",
       "  <tbody>\n",
       "    <tr>\n",
       "      <th>10656</th>\n",
       "      <td>../input/cnmc-leukemia/Processed ALL/image_Cla...</td>\n",
       "      <td>1</td>\n",
       "    </tr>\n",
       "    <tr>\n",
       "      <th>10657</th>\n",
       "      <td>../input/cnmc-leukemia/Processed ALL/image_Cla...</td>\n",
       "      <td>1</td>\n",
       "    </tr>\n",
       "    <tr>\n",
       "      <th>10658</th>\n",
       "      <td>../input/cnmc-leukemia/Processed ALL/image_Cla...</td>\n",
       "      <td>1</td>\n",
       "    </tr>\n",
       "    <tr>\n",
       "      <th>10659</th>\n",
       "      <td>../input/cnmc-leukemia/Processed ALL/image_Cla...</td>\n",
       "      <td>1</td>\n",
       "    </tr>\n",
       "    <tr>\n",
       "      <th>10660</th>\n",
       "      <td>../input/cnmc-leukemia/Processed ALL/image_Cla...</td>\n",
       "      <td>1</td>\n",
       "    </tr>\n",
       "  </tbody>\n",
       "</table>\n",
       "</div>"
      ],
      "text/plain": [
       "                                                    path label\n",
       "10656  ../input/cnmc-leukemia/Processed ALL/image_Cla...     1\n",
       "10657  ../input/cnmc-leukemia/Processed ALL/image_Cla...     1\n",
       "10658  ../input/cnmc-leukemia/Processed ALL/image_Cla...     1\n",
       "10659  ../input/cnmc-leukemia/Processed ALL/image_Cla...     1\n",
       "10660  ../input/cnmc-leukemia/Processed ALL/image_Cla...     1"
      ]
     },
     "execution_count": 7,
     "metadata": {},
     "output_type": "execute_result"
    }
   ],
   "source": [
    "df.tail()"
   ]
  },
  {
   "cell_type": "code",
   "execution_count": 8,
   "metadata": {
    "execution": {
     "iopub.execute_input": "2021-12-28T09:23:55.378789Z",
     "iopub.status.busy": "2021-12-28T09:23:55.377847Z",
     "iopub.status.idle": "2021-12-28T09:25:17.166687Z",
     "shell.execute_reply": "2021-12-28T09:25:17.167260Z",
     "shell.execute_reply.started": "2021-12-28T08:55:51.744975Z"
    },
    "papermill": {
     "duration": 81.830147,
     "end_time": "2021-12-28T09:25:17.167427",
     "exception": false,
     "start_time": "2021-12-28T09:23:55.337280",
     "status": "completed"
    },
    "tags": []
   },
   "outputs": [],
   "source": [
    "# Resizing images to 100 x 100\n",
    "df['image'] = df['path'].map(lambda x: np.asarray(Image.open(x).resize((100,100))))"
   ]
  },
  {
   "cell_type": "code",
   "execution_count": 9,
   "metadata": {
    "execution": {
     "iopub.execute_input": "2021-12-28T09:25:17.251660Z",
     "iopub.status.busy": "2021-12-28T09:25:17.251040Z",
     "iopub.status.idle": "2021-12-28T09:25:19.430685Z",
     "shell.execute_reply": "2021-12-28T09:25:19.430074Z",
     "shell.execute_reply.started": "2021-12-28T08:57:21.873307Z"
    },
    "papermill": {
     "duration": 2.225317,
     "end_time": "2021-12-28T09:25:19.430800",
     "exception": false,
     "start_time": "2021-12-28T09:25:17.205483",
     "status": "completed"
    },
    "tags": []
   },
   "outputs": [],
   "source": [
    "for index in range(len(df['image'])):\n",
    "    img = Image.fromarray(df['image'][index])\n",
    "    if img.mode == 'RGB':\n",
    "        df['image'][index] = cv2.cvtColor(df['image'][index], cv2.COLOR_BGR2GRAY)"
   ]
  },
  {
   "cell_type": "code",
   "execution_count": 10,
   "metadata": {
    "execution": {
     "iopub.execute_input": "2021-12-28T09:25:19.544171Z",
     "iopub.status.busy": "2021-12-28T09:25:19.538790Z",
     "iopub.status.idle": "2021-12-28T09:25:20.590566Z",
     "shell.execute_reply": "2021-12-28T09:25:20.589968Z",
     "shell.execute_reply.started": "2021-12-28T08:57:24.054104Z"
    },
    "papermill": {
     "duration": 1.121981,
     "end_time": "2021-12-28T09:25:20.590684",
     "exception": false,
     "start_time": "2021-12-28T09:25:19.468703",
     "status": "completed"
    },
    "tags": []
   },
   "outputs": [
    {
     "data": {
      "text/html": [
       "<div>\n",
       "<style scoped>\n",
       "    .dataframe tbody tr th:only-of-type {\n",
       "        vertical-align: middle;\n",
       "    }\n",
       "\n",
       "    .dataframe tbody tr th {\n",
       "        vertical-align: top;\n",
       "    }\n",
       "\n",
       "    .dataframe thead th {\n",
       "        text-align: right;\n",
       "    }\n",
       "</style>\n",
       "<table border=\"1\" class=\"dataframe\">\n",
       "  <thead>\n",
       "    <tr style=\"text-align: right;\">\n",
       "      <th></th>\n",
       "      <th>path</th>\n",
       "      <th>label</th>\n",
       "      <th>image</th>\n",
       "    </tr>\n",
       "  </thead>\n",
       "  <tbody>\n",
       "    <tr>\n",
       "      <th>0</th>\n",
       "      <td>../input/cnmc-leukemia/Processed Hem/image_Cla...</td>\n",
       "      <td>0</td>\n",
       "      <td>[[0, 0, 0, 0, 0, 0, 0, 0, 0, 0, 0, 0, 0, 0, 0,...</td>\n",
       "    </tr>\n",
       "    <tr>\n",
       "      <th>1</th>\n",
       "      <td>../input/cnmc-leukemia/Processed Hem/image_Cla...</td>\n",
       "      <td>0</td>\n",
       "      <td>[[0, 0, 0, 0, 0, 0, 0, 0, 0, 0, 0, 0, 0, 0, 0,...</td>\n",
       "    </tr>\n",
       "    <tr>\n",
       "      <th>2</th>\n",
       "      <td>../input/cnmc-leukemia/Processed Hem/image_Cla...</td>\n",
       "      <td>0</td>\n",
       "      <td>[[0, 0, 0, 0, 0, 0, 0, 0, 0, 0, 0, 0, 0, 0, 0,...</td>\n",
       "    </tr>\n",
       "    <tr>\n",
       "      <th>3</th>\n",
       "      <td>../input/cnmc-leukemia/Processed Hem/image_Cla...</td>\n",
       "      <td>0</td>\n",
       "      <td>[[0, 0, 0, 0, 0, 0, 0, 0, 0, 0, 0, 0, 0, 0, 0,...</td>\n",
       "    </tr>\n",
       "    <tr>\n",
       "      <th>4</th>\n",
       "      <td>../input/cnmc-leukemia/Processed Hem/image_Cla...</td>\n",
       "      <td>0</td>\n",
       "      <td>[[0, 0, 0, 0, 0, 0, 0, 0, 0, 0, 0, 0, 0, 0, 0,...</td>\n",
       "    </tr>\n",
       "  </tbody>\n",
       "</table>\n",
       "</div>"
      ],
      "text/plain": [
       "                                                path label  \\\n",
       "0  ../input/cnmc-leukemia/Processed Hem/image_Cla...     0   \n",
       "1  ../input/cnmc-leukemia/Processed Hem/image_Cla...     0   \n",
       "2  ../input/cnmc-leukemia/Processed Hem/image_Cla...     0   \n",
       "3  ../input/cnmc-leukemia/Processed Hem/image_Cla...     0   \n",
       "4  ../input/cnmc-leukemia/Processed Hem/image_Cla...     0   \n",
       "\n",
       "                                               image  \n",
       "0  [[0, 0, 0, 0, 0, 0, 0, 0, 0, 0, 0, 0, 0, 0, 0,...  \n",
       "1  [[0, 0, 0, 0, 0, 0, 0, 0, 0, 0, 0, 0, 0, 0, 0,...  \n",
       "2  [[0, 0, 0, 0, 0, 0, 0, 0, 0, 0, 0, 0, 0, 0, 0,...  \n",
       "3  [[0, 0, 0, 0, 0, 0, 0, 0, 0, 0, 0, 0, 0, 0, 0,...  \n",
       "4  [[0, 0, 0, 0, 0, 0, 0, 0, 0, 0, 0, 0, 0, 0, 0,...  "
      ]
     },
     "execution_count": 10,
     "metadata": {},
     "output_type": "execute_result"
    }
   ],
   "source": [
    "df.head()"
   ]
  },
  {
   "cell_type": "code",
   "execution_count": 11,
   "metadata": {
    "execution": {
     "iopub.execute_input": "2021-12-28T09:25:20.676898Z",
     "iopub.status.busy": "2021-12-28T09:25:20.676268Z",
     "iopub.status.idle": "2021-12-28T09:25:22.018254Z",
     "shell.execute_reply": "2021-12-28T09:25:22.017682Z",
     "shell.execute_reply.started": "2021-12-28T08:57:25.148542Z"
    },
    "papermill": {
     "duration": 1.389641,
     "end_time": "2021-12-28T09:25:22.018373",
     "exception": false,
     "start_time": "2021-12-28T09:25:20.628732",
     "status": "completed"
    },
    "tags": []
   },
   "outputs": [
    {
     "data": {
      "image/png": "[encoded data removed]",
      "text/plain": [
       "<Figure size 1440x432 with 10 Axes>"
      ]
     },
     "metadata": {
      "needs_background": "light"
     },
     "output_type": "display_data"
    }
   ],
   "source": [
    "# Printing Sample images for each lesion type\n",
    "n_samples = 5\n",
    "num_classes = 2\n",
    "fig, m_axs = plt.subplots(num_classes, n_samples, figsize = (4*n_samples, 3*num_classes))\n",
    "for n_axs, (type_name, type_rows) in zip(m_axs, \n",
    "                                         df.sort_values(['label']).groupby('label')):\n",
    "    n_axs[0].set_title(type_name)\n",
    "    for c_ax, (_, c_row) in zip(n_axs, type_rows.sample(n_samples, random_state=1234).iterrows()):\n",
    "        c_ax.imshow(c_row['image'])\n",
    "        c_ax.axis('off')\n",
    "fig.savefig('category_samples.png', dpi=300)"
   ]
  },
  {
   "cell_type": "code",
   "execution_count": 12,
   "metadata": {
    "execution": {
     "iopub.execute_input": "2021-12-28T09:25:22.105320Z",
     "iopub.status.busy": "2021-12-28T09:25:22.104683Z",
     "iopub.status.idle": "2021-12-28T09:25:22.106885Z",
     "shell.execute_reply": "2021-12-28T09:25:22.106315Z",
     "shell.execute_reply.started": "2021-12-28T08:57:26.576572Z"
    },
    "papermill": {
     "duration": 0.048625,
     "end_time": "2021-12-28T09:25:22.107005",
     "exception": false,
     "start_time": "2021-12-28T09:25:22.058380",
     "status": "completed"
    },
    "tags": []
   },
   "outputs": [],
   "source": [
    "datagen = ImageDataGenerator(\n",
    "        featurewise_center=False,  # set input mean to 0 over the dataset\n",
    "        samplewise_center=False,  # set each sample mean to 0\n",
    "        featurewise_std_normalization=False,  # divide inputs by std of the dataset\n",
    "        samplewise_std_normalization=False,  # divide each input by its std\n",
    "        zca_whitening=False,  # apply ZCA whitening\n",
    "        rotation_range = 30,  # randomly rotate images in the range (degrees, 0 to 180)\n",
    "        zoom_range = 0.2, # Randomly zoom image \n",
    "        width_shift_range=0.1,  # randomly shift images horizontally (fraction of total width)\n",
    "        height_shift_range=0.1,  # randomly shift images vertically (fraction of total height)\n",
    "        horizontal_flip = True,  # randomly flip images\n",
    "        vertical_flip=False)"
   ]
  },
  {
   "cell_type": "code",
   "execution_count": 13,
   "metadata": {
    "execution": {
     "iopub.execute_input": "2021-12-28T09:25:22.194897Z",
     "iopub.status.busy": "2021-12-28T09:25:22.194254Z",
     "iopub.status.idle": "2021-12-28T09:25:22.529535Z",
     "shell.execute_reply": "2021-12-28T09:25:22.528941Z",
     "shell.execute_reply.started": "2021-12-28T08:57:26.588911Z"
    },
    "papermill": {
     "duration": 0.382918,
     "end_time": "2021-12-28T09:25:22.529660",
     "exception": false,
     "start_time": "2021-12-28T09:25:22.146742",
     "status": "completed"
    },
    "tags": []
   },
   "outputs": [],
   "source": [
    "Healthy = df.loc[df['label'] == 0]\n",
    "features = np.asarray(Healthy['image'].tolist())\n",
    "\n",
    "# Normalizing the data\n",
    "data_mean = np.mean(features)\n",
    "data_std = np.std(features)\n",
    "\n",
    "Normilized_features = (features - data_mean)/data_std"
   ]
  },
  {
   "cell_type": "code",
   "execution_count": 14,
   "metadata": {
    "execution": {
     "iopub.execute_input": "2021-12-28T09:25:22.619659Z",
     "iopub.status.busy": "2021-12-28T09:25:22.618959Z",
     "iopub.status.idle": "2021-12-28T09:25:22.623583Z",
     "shell.execute_reply": "2021-12-28T09:25:22.624096Z",
     "shell.execute_reply.started": "2021-12-28T08:57:26.972400Z"
    },
    "papermill": {
     "duration": 0.052388,
     "end_time": "2021-12-28T09:25:22.624234",
     "exception": false,
     "start_time": "2021-12-28T09:25:22.571846",
     "status": "completed"
    },
    "tags": []
   },
   "outputs": [
    {
     "data": {
      "text/plain": [
       "(3389, 100, 100)"
      ]
     },
     "execution_count": 14,
     "metadata": {},
     "output_type": "execute_result"
    }
   ],
   "source": [
    "Healthy_label = df.loc[df['label'] == 0]\n",
    "labels = Healthy_label['label']\n",
    "Normilized_features.shape"
   ]
  },
  {
   "cell_type": "code",
   "execution_count": 15,
   "metadata": {
    "execution": {
     "iopub.execute_input": "2021-12-28T09:25:22.709693Z",
     "iopub.status.busy": "2021-12-28T09:25:22.709013Z",
     "iopub.status.idle": "2021-12-28T09:25:22.783635Z",
     "shell.execute_reply": "2021-12-28T09:25:22.784129Z",
     "shell.execute_reply.started": "2021-12-28T08:57:26.986121Z"
    },
    "papermill": {
     "duration": 0.118693,
     "end_time": "2021-12-28T09:25:22.784268",
     "exception": false,
     "start_time": "2021-12-28T09:25:22.665575",
     "status": "completed"
    },
    "tags": []
   },
   "outputs": [
    {
     "data": {
      "text/plain": [
       "(3389, 100, 100, 1)"
      ]
     },
     "execution_count": 15,
     "metadata": {},
     "output_type": "execute_result"
    }
   ],
   "source": [
    "Normilized_features = Normilized_features.reshape((Normilized_features.shape[0], 100, 100, 1))\n",
    "Normilized_features = Normilized_features.astype('float32')\n",
    "Normilized_features.shape"
   ]
  },
  {
   "cell_type": "code",
   "execution_count": 16,
   "metadata": {
    "execution": {
     "iopub.execute_input": "2021-12-28T09:25:22.868168Z",
     "iopub.status.busy": "2021-12-28T09:25:22.867499Z",
     "iopub.status.idle": "2021-12-28T09:25:22.926904Z",
     "shell.execute_reply": "2021-12-28T09:25:22.927479Z",
     "shell.execute_reply.started": "2021-12-28T08:57:27.078942Z"
    },
    "papermill": {
     "duration": 0.102803,
     "end_time": "2021-12-28T09:25:22.927643",
     "exception": false,
     "start_time": "2021-12-28T09:25:22.824840",
     "status": "completed"
    },
    "tags": []
   },
   "outputs": [],
   "source": [
    "datagen.fit(Normilized_features)"
   ]
  },
  {
   "cell_type": "code",
   "execution_count": 17,
   "metadata": {
    "execution": {
     "iopub.execute_input": "2021-12-28T09:25:23.014323Z",
     "iopub.status.busy": "2021-12-28T09:25:23.013703Z",
     "iopub.status.idle": "2021-12-28T09:25:23.045646Z",
     "shell.execute_reply": "2021-12-28T09:25:23.045097Z",
     "shell.execute_reply.started": "2021-12-28T08:57:27.139997Z"
    },
    "papermill": {
     "duration": 0.075732,
     "end_time": "2021-12-28T09:25:23.045777",
     "exception": false,
     "start_time": "2021-12-28T09:25:22.970045",
     "status": "completed"
    },
    "tags": []
   },
   "outputs": [],
   "source": [
    "Images = []\n",
    "Image_Labels = []\n",
    "for i in range(len(Normilized_features)):\n",
    "    Images.append(Normilized_features[i])\n",
    "    Image_Labels.append(labels[i])"
   ]
  },
  {
   "cell_type": "code",
   "execution_count": 18,
   "metadata": {
    "execution": {
     "iopub.execute_input": "2021-12-28T09:25:23.136567Z",
     "iopub.status.busy": "2021-12-28T09:25:23.135916Z",
     "iopub.status.idle": "2021-12-28T09:25:23.924608Z",
     "shell.execute_reply": "2021-12-28T09:25:23.924027Z",
     "shell.execute_reply.started": "2021-12-28T08:57:27.174158Z"
    },
    "papermill": {
     "duration": 0.837944,
     "end_time": "2021-12-28T09:25:23.924728",
     "exception": false,
     "start_time": "2021-12-28T09:25:23.086784",
     "status": "completed"
    },
    "tags": []
   },
   "outputs": [
    {
     "name": "stdout",
     "output_type": "stream",
     "text": [
      "-------------------\n",
      "3399\n",
      "-------------------\n",
      "3409\n",
      "-------------------\n",
      "3419\n",
      "-------------------\n",
      "3429\n",
      "-------------------\n",
      "3439\n",
      "-------------------\n",
      "3449\n",
      "-------------------\n",
      "3459\n",
      "-------------------\n",
      "3469\n",
      "-------------------\n",
      "3479\n",
      "-------------------\n",
      "3489\n",
      "-------------------\n",
      "3499\n",
      "-------------------\n",
      "3509\n",
      "-------------------\n",
      "3519\n",
      "-------------------\n",
      "3529\n",
      "-------------------\n",
      "3539\n",
      "-------------------\n",
      "3549\n",
      "-------------------\n",
      "3559\n",
      "-------------------\n",
      "3569\n",
      "-------------------\n",
      "3579\n",
      "-------------------\n",
      "3589\n",
      "-------------------\n",
      "3599\n",
      "-------------------\n",
      "3609\n",
      "-------------------\n",
      "3619\n",
      "-------------------\n",
      "3629\n",
      "-------------------\n",
      "3639\n",
      "-------------------\n",
      "3649\n",
      "-------------------\n",
      "3659\n",
      "-------------------\n",
      "3669\n",
      "-------------------\n",
      "3679\n",
      "-------------------\n",
      "3689\n",
      "-------------------\n",
      "3699\n",
      "-------------------\n",
      "3709\n",
      "-------------------\n",
      "3719\n",
      "-------------------\n",
      "3729\n",
      "-------------------\n",
      "3739\n",
      "-------------------\n",
      "3749\n",
      "-------------------\n",
      "3759\n",
      "-------------------\n",
      "3769\n",
      "-------------------\n",
      "3779\n",
      "-------------------\n",
      "3789\n",
      "-------------------\n",
      "3799\n",
      "-------------------\n",
      "3809\n",
      "-------------------\n",
      "3819\n",
      "-------------------\n",
      "3829\n",
      "-------------------\n",
      "3839\n",
      "-------------------\n",
      "3849\n",
      "-------------------\n",
      "3859\n",
      "-------------------\n",
      "3869\n",
      "-------------------\n",
      "3879\n",
      "-------------------\n",
      "3889\n",
      "-------------------\n",
      "3899\n",
      "-------------------\n",
      "3909\n",
      "-------------------\n",
      "3919\n",
      "-------------------\n",
      "3929\n",
      "-------------------\n",
      "3939\n",
      "-------------------\n",
      "3949\n",
      "-------------------\n",
      "3959\n",
      "-------------------\n",
      "3969\n",
      "-------------------\n",
      "3979\n",
      "-------------------\n",
      "3989\n",
      "-------------------\n",
      "3999\n",
      "-------------------\n",
      "4009\n",
      "-------------------\n",
      "4019\n",
      "-------------------\n",
      "4029\n",
      "-------------------\n",
      "4039\n",
      "-------------------\n",
      "4049\n",
      "-------------------\n",
      "4059\n",
      "-------------------\n",
      "4069\n",
      "-------------------\n",
      "4079\n",
      "-------------------\n",
      "4089\n",
      "-------------------\n",
      "4099\n",
      "-------------------\n",
      "4109\n",
      "-------------------\n",
      "4119\n",
      "-------------------\n",
      "4129\n",
      "-------------------\n",
      "4139\n",
      "-------------------\n",
      "4149\n",
      "-------------------\n",
      "4159\n",
      "-------------------\n",
      "4169\n",
      "-------------------\n",
      "4179\n",
      "-------------------\n",
      "4189\n",
      "-------------------\n",
      "4199\n",
      "-------------------\n",
      "4209\n"
     ]
    }
   ],
   "source": [
    "from matplotlib import pyplot\n",
    "for X_batch, y_batch in datagen.flow(Normilized_features, labels, batch_size=10):\n",
    "    for j in range(len(X_batch)):\n",
    "        X_batch[j] = np.asarray(X_batch[j])\n",
    "        X_batch[j] = X_batch[j].astype('float32')\n",
    "        Images.append(X_batch[j])\n",
    "        Image_Labels.append(y_batch[j])\n",
    "    print(\"-------------------\")\n",
    "    print(len(Images))\n",
    "    if len(Images) > 4200:\n",
    "        break"
   ]
  },
  {
   "cell_type": "code",
   "execution_count": 19,
   "metadata": {
    "execution": {
     "iopub.execute_input": "2021-12-28T09:25:24.199175Z",
     "iopub.status.busy": "2021-12-28T09:25:24.182926Z",
     "iopub.status.idle": "2021-12-28T09:25:35.454491Z",
     "shell.execute_reply": "2021-12-28T09:25:35.453472Z",
     "shell.execute_reply.started": "2021-12-28T08:57:27.985712Z"
    },
    "papermill": {
     "duration": 11.486784,
     "end_time": "2021-12-28T09:25:35.454656",
     "exception": false,
     "start_time": "2021-12-28T09:25:23.967872",
     "status": "completed"
    },
    "tags": []
   },
   "outputs": [],
   "source": [
    "dataframe = pd.DataFrame(columns = ['image', 'label'])\n",
    "for index in range(len(Image_Labels)):\n",
    "    dataframe = dataframe.append({'image':Images[index]  , 'label': Image_Labels[index]} , ignore_index=True)"
   ]
  },
  {
   "cell_type": "code",
   "execution_count": 20,
   "metadata": {
    "execution": {
     "iopub.execute_input": "2021-12-28T09:25:35.545249Z",
     "iopub.status.busy": "2021-12-28T09:25:35.544299Z",
     "iopub.status.idle": "2021-12-28T09:25:51.186876Z",
     "shell.execute_reply": "2021-12-28T09:25:51.186346Z",
     "shell.execute_reply.started": "2021-12-28T08:57:39.663445Z"
    },
    "papermill": {
     "duration": 15.687982,
     "end_time": "2021-12-28T09:25:51.187006",
     "exception": false,
     "start_time": "2021-12-28T09:25:35.499024",
     "status": "completed"
    },
    "tags": []
   },
   "outputs": [
    {
     "data": {
      "text/html": [
       "<div>\n",
       "<style scoped>\n",
       "    .dataframe tbody tr th:only-of-type {\n",
       "        vertical-align: middle;\n",
       "    }\n",
       "\n",
       "    .dataframe tbody tr th {\n",
       "        vertical-align: top;\n",
       "    }\n",
       "\n",
       "    .dataframe thead th {\n",
       "        text-align: right;\n",
       "    }\n",
       "</style>\n",
       "<table border=\"1\" class=\"dataframe\">\n",
       "  <thead>\n",
       "    <tr style=\"text-align: right;\">\n",
       "      <th></th>\n",
       "      <th>image</th>\n",
       "      <th>label</th>\n",
       "    </tr>\n",
       "  </thead>\n",
       "  <tbody>\n",
       "    <tr>\n",
       "      <th>0</th>\n",
       "      <td>[[[-0.14523652], [-0.14523652], [-0.14523652],...</td>\n",
       "      <td>0</td>\n",
       "    </tr>\n",
       "    <tr>\n",
       "      <th>1</th>\n",
       "      <td>[[[-0.14523652], [-0.14523652], [-0.14523652],...</td>\n",
       "      <td>0</td>\n",
       "    </tr>\n",
       "    <tr>\n",
       "      <th>2</th>\n",
       "      <td>[[[-0.14523652], [-0.14523652], [-0.14523652],...</td>\n",
       "      <td>0</td>\n",
       "    </tr>\n",
       "    <tr>\n",
       "      <th>3</th>\n",
       "      <td>[[[-0.14523652], [-0.14523652], [-0.14523652],...</td>\n",
       "      <td>0</td>\n",
       "    </tr>\n",
       "    <tr>\n",
       "      <th>4</th>\n",
       "      <td>[[[-0.14523652], [-0.14523652], [-0.14523652],...</td>\n",
       "      <td>0</td>\n",
       "    </tr>\n",
       "  </tbody>\n",
       "</table>\n",
       "</div>"
      ],
      "text/plain": [
       "                                               image label\n",
       "0  [[[-0.14523652], [-0.14523652], [-0.14523652],...     0\n",
       "1  [[[-0.14523652], [-0.14523652], [-0.14523652],...     0\n",
       "2  [[[-0.14523652], [-0.14523652], [-0.14523652],...     0\n",
       "3  [[[-0.14523652], [-0.14523652], [-0.14523652],...     0\n",
       "4  [[[-0.14523652], [-0.14523652], [-0.14523652],...     0"
      ]
     },
     "execution_count": 20,
     "metadata": {},
     "output_type": "execute_result"
    }
   ],
   "source": [
    "dataframe.head()"
   ]
  },
  {
   "cell_type": "code",
   "execution_count": 21,
   "metadata": {
    "execution": {
     "iopub.execute_input": "2021-12-28T09:25:51.283706Z",
     "iopub.status.busy": "2021-12-28T09:25:51.281655Z",
     "iopub.status.idle": "2021-12-28T09:25:52.142158Z",
     "shell.execute_reply": "2021-12-28T09:25:52.142695Z",
     "shell.execute_reply.started": "2021-12-28T08:57:55.809632Z"
    },
    "papermill": {
     "duration": 0.912903,
     "end_time": "2021-12-28T09:25:52.142836",
     "exception": false,
     "start_time": "2021-12-28T09:25:51.229933",
     "status": "completed"
    },
    "tags": []
   },
   "outputs": [
    {
     "data": {
      "text/plain": [
       "(7272, 100, 100, 1)"
      ]
     },
     "execution_count": 21,
     "metadata": {},
     "output_type": "execute_result"
    }
   ],
   "source": [
    "NotHealthy = df.loc[df['label'] == 1]\n",
    "NotHealthy_features = np.asarray(NotHealthy['image'].tolist())\n",
    "\n",
    "# Normalizing the data\n",
    "data_mean = np.mean(NotHealthy_features)\n",
    "data_std = np.std(NotHealthy_features)\n",
    "\n",
    "NotHealthy_Normilized_features = (NotHealthy_features - data_mean)/data_std\n",
    "\n",
    "NotHealthy_Normilized_features = NotHealthy_Normilized_features.reshape((NotHealthy_Normilized_features.shape[0], 100, 100, 1))\n",
    "NotHealthy_Normilized_features = NotHealthy_Normilized_features.astype('float32')\n",
    "NotHealthy_Normilized_features.shape"
   ]
  },
  {
   "cell_type": "code",
   "execution_count": 22,
   "metadata": {
    "execution": {
     "iopub.execute_input": "2021-12-28T09:25:52.233181Z",
     "iopub.status.busy": "2021-12-28T09:25:52.232194Z",
     "iopub.status.idle": "2021-12-28T09:25:52.243711Z",
     "shell.execute_reply": "2021-12-28T09:25:52.244237Z",
     "shell.execute_reply.started": "2021-12-28T08:57:56.719655Z"
    },
    "papermill": {
     "duration": 0.058087,
     "end_time": "2021-12-28T09:25:52.244379",
     "exception": false,
     "start_time": "2021-12-28T09:25:52.186292",
     "status": "completed"
    },
    "tags": []
   },
   "outputs": [],
   "source": [
    "del Images\n",
    "del Image_Labels\n",
    "Images = []\n",
    "Image_Labels = []\n",
    "NotHealthy_labels = NotHealthy['label'].tolist()\n",
    "for i in range(len(NotHealthy_Normilized_features)):\n",
    "    Images.append(NotHealthy_Normilized_features[i])\n",
    "    Image_Labels.append(NotHealthy_labels[i])"
   ]
  },
  {
   "cell_type": "code",
   "execution_count": 23,
   "metadata": {
    "execution": {
     "iopub.execute_input": "2021-12-28T09:25:52.334618Z",
     "iopub.status.busy": "2021-12-28T09:25:52.333645Z",
     "iopub.status.idle": "2021-12-28T09:26:04.645684Z",
     "shell.execute_reply": "2021-12-28T09:26:04.645039Z",
     "shell.execute_reply.started": "2021-12-28T08:57:56.734529Z"
    },
    "papermill": {
     "duration": 12.35838,
     "end_time": "2021-12-28T09:26:04.645801",
     "exception": false,
     "start_time": "2021-12-28T09:25:52.287421",
     "status": "completed"
    },
    "tags": []
   },
   "outputs": [],
   "source": [
    "for index in range(len(Image_Labels)):\n",
    "    if index <= 4200:\n",
    "        dataframe = dataframe.append({'image':Images[index]  , 'label': Image_Labels[index]} , ignore_index=True)"
   ]
  },
  {
   "cell_type": "code",
   "execution_count": 24,
   "metadata": {
    "execution": {
     "iopub.execute_input": "2021-12-28T09:26:04.735261Z",
     "iopub.status.busy": "2021-12-28T09:26:04.734304Z",
     "iopub.status.idle": "2021-12-28T09:26:20.506615Z",
     "shell.execute_reply": "2021-12-28T09:26:20.506067Z",
     "shell.execute_reply.started": "2021-12-28T08:58:09.431818Z"
    },
    "papermill": {
     "duration": 15.817883,
     "end_time": "2021-12-28T09:26:20.506731",
     "exception": false,
     "start_time": "2021-12-28T09:26:04.688848",
     "status": "completed"
    },
    "tags": []
   },
   "outputs": [
    {
     "data": {
      "text/html": [
       "<div>\n",
       "<style scoped>\n",
       "    .dataframe tbody tr th:only-of-type {\n",
       "        vertical-align: middle;\n",
       "    }\n",
       "\n",
       "    .dataframe tbody tr th {\n",
       "        vertical-align: top;\n",
       "    }\n",
       "\n",
       "    .dataframe thead th {\n",
       "        text-align: right;\n",
       "    }\n",
       "</style>\n",
       "<table border=\"1\" class=\"dataframe\">\n",
       "  <thead>\n",
       "    <tr style=\"text-align: right;\">\n",
       "      <th></th>\n",
       "      <th>image</th>\n",
       "      <th>label</th>\n",
       "    </tr>\n",
       "  </thead>\n",
       "  <tbody>\n",
       "    <tr>\n",
       "      <th>8405</th>\n",
       "      <td>[[[-0.16216828], [-0.16216828], [-0.16216828],...</td>\n",
       "      <td>1</td>\n",
       "    </tr>\n",
       "    <tr>\n",
       "      <th>8406</th>\n",
       "      <td>[[[-0.16216828], [-0.16216828], [-0.16216828],...</td>\n",
       "      <td>1</td>\n",
       "    </tr>\n",
       "    <tr>\n",
       "      <th>8407</th>\n",
       "      <td>[[[-0.16216828], [-0.16216828], [-0.16216828],...</td>\n",
       "      <td>1</td>\n",
       "    </tr>\n",
       "    <tr>\n",
       "      <th>8408</th>\n",
       "      <td>[[[-0.16216828], [-0.16216828], [-0.16216828],...</td>\n",
       "      <td>1</td>\n",
       "    </tr>\n",
       "    <tr>\n",
       "      <th>8409</th>\n",
       "      <td>[[[-0.16216828], [-0.16216828], [-0.16216828],...</td>\n",
       "      <td>1</td>\n",
       "    </tr>\n",
       "  </tbody>\n",
       "</table>\n",
       "</div>"
      ],
      "text/plain": [
       "                                                  image label\n",
       "8405  [[[-0.16216828], [-0.16216828], [-0.16216828],...     1\n",
       "8406  [[[-0.16216828], [-0.16216828], [-0.16216828],...     1\n",
       "8407  [[[-0.16216828], [-0.16216828], [-0.16216828],...     1\n",
       "8408  [[[-0.16216828], [-0.16216828], [-0.16216828],...     1\n",
       "8409  [[[-0.16216828], [-0.16216828], [-0.16216828],...     1"
      ]
     },
     "execution_count": 24,
     "metadata": {},
     "output_type": "execute_result"
    }
   ],
   "source": [
    "dataframe.tail()"
   ]
  },
  {
   "cell_type": "code",
   "execution_count": 25,
   "metadata": {
    "execution": {
     "iopub.execute_input": "2021-12-28T09:26:20.597012Z",
     "iopub.status.busy": "2021-12-28T09:26:20.596069Z",
     "iopub.status.idle": "2021-12-28T09:26:20.601576Z",
     "shell.execute_reply": "2021-12-28T09:26:20.602210Z",
     "shell.execute_reply.started": "2021-12-28T08:58:27.756513Z"
    },
    "papermill": {
     "duration": 0.052094,
     "end_time": "2021-12-28T09:26:20.602345",
     "exception": false,
     "start_time": "2021-12-28T09:26:20.550251",
     "status": "completed"
    },
    "tags": []
   },
   "outputs": [
    {
     "data": {
      "text/plain": [
       "(8410, 2)"
      ]
     },
     "execution_count": 25,
     "metadata": {},
     "output_type": "execute_result"
    }
   ],
   "source": [
    "dataframe.shape"
   ]
  },
  {
   "cell_type": "code",
   "execution_count": 26,
   "metadata": {
    "execution": {
     "iopub.execute_input": "2021-12-28T09:26:20.692675Z",
     "iopub.status.busy": "2021-12-28T09:26:20.691702Z",
     "iopub.status.idle": "2021-12-28T09:26:20.804536Z",
     "shell.execute_reply": "2021-12-28T09:26:20.803937Z",
     "shell.execute_reply.started": "2021-12-28T09:08:24.892899Z"
    },
    "papermill": {
     "duration": 0.158954,
     "end_time": "2021-12-28T09:26:20.804650",
     "exception": false,
     "start_time": "2021-12-28T09:26:20.645696",
     "status": "completed"
    },
    "tags": []
   },
   "outputs": [],
   "source": [
    "data = np.asarray(dataframe['image'].tolist())\n",
    "\n",
    "data_y = dataframe['label']\n",
    "\n",
    "data = data.reshape(-1,10000)"
   ]
  },
  {
   "cell_type": "code",
   "execution_count": 27,
   "metadata": {
    "execution": {
     "iopub.execute_input": "2021-12-28T09:26:20.896163Z",
     "iopub.status.busy": "2021-12-28T09:26:20.895185Z",
     "iopub.status.idle": "2021-12-28T09:26:20.899760Z",
     "shell.execute_reply": "2021-12-28T09:26:20.900314Z",
     "shell.execute_reply.started": "2021-12-28T09:08:26.554643Z"
    },
    "papermill": {
     "duration": 0.052095,
     "end_time": "2021-12-28T09:26:20.900469",
     "exception": false,
     "start_time": "2021-12-28T09:26:20.848374",
     "status": "completed"
    },
    "tags": []
   },
   "outputs": [],
   "source": [
    "df_cifar = pd.DataFrame(data)"
   ]
  },
  {
   "cell_type": "code",
   "execution_count": 28,
   "metadata": {
    "execution": {
     "iopub.execute_input": "2021-12-28T09:26:20.992450Z",
     "iopub.status.busy": "2021-12-28T09:26:20.991398Z",
     "iopub.status.idle": "2021-12-28T09:26:21.001222Z",
     "shell.execute_reply": "2021-12-28T09:26:21.000229Z",
     "shell.execute_reply.started": "2021-12-28T09:08:27.964996Z"
    },
    "papermill": {
     "duration": 0.056941,
     "end_time": "2021-12-28T09:26:21.001380",
     "exception": false,
     "start_time": "2021-12-28T09:26:20.944439",
     "status": "completed"
    },
    "tags": []
   },
   "outputs": [
    {
     "name": "stdout",
     "output_type": "stream",
     "text": [
      "Size of the dataframe: (8410, 10001)\n"
     ]
    }
   ],
   "source": [
    "df_cifar['label'] = dataframe['label']\n",
    "print('Size of the dataframe: {}'.format(df_cifar.shape))"
   ]
  },
  {
   "cell_type": "code",
   "execution_count": 29,
   "metadata": {
    "execution": {
     "iopub.execute_input": "2021-12-28T09:26:21.096949Z",
     "iopub.status.busy": "2021-12-28T09:26:21.096133Z",
     "iopub.status.idle": "2021-12-28T09:28:28.257122Z",
     "shell.execute_reply": "2021-12-28T09:28:28.257654Z",
     "shell.execute_reply.started": "2021-12-28T09:08:33.556337Z"
    },
    "papermill": {
     "duration": 127.211378,
     "end_time": "2021-12-28T09:28:28.257806",
     "exception": false,
     "start_time": "2021-12-28T09:26:21.046428",
     "status": "completed"
    },
    "tags": []
   },
   "outputs": [
    {
     "data": {
      "text/plain": [
       "(8410, 2066)"
      ]
     },
     "execution_count": 29,
     "metadata": {},
     "output_type": "execute_result"
    }
   ],
   "source": [
    "from sklearn.decomposition import PCA\n",
    "pca = PCA(0.99)\n",
    "lower_dimension_data = pca.fit_transform(df_cifar.iloc[:,:-1])\n",
    "lower_dimension_data.shape"
   ]
  },
  {
   "cell_type": "code",
   "execution_count": 30,
   "metadata": {
    "execution": {
     "iopub.execute_input": "2021-12-28T09:28:28.427267Z",
     "iopub.status.busy": "2021-12-28T09:28:28.426564Z",
     "iopub.status.idle": "2021-12-28T09:28:31.004458Z",
     "shell.execute_reply": "2021-12-28T09:28:31.005068Z",
     "shell.execute_reply.started": "2021-12-28T09:11:30.056473Z"
    },
    "papermill": {
     "duration": 2.702571,
     "end_time": "2021-12-28T09:28:31.005235",
     "exception": false,
     "start_time": "2021-12-28T09:28:28.302664",
     "status": "completed"
    },
    "tags": []
   },
   "outputs": [
    {
     "name": "stdout",
     "output_type": "stream",
     "text": [
      "(8410, 10000)\n"
     ]
    }
   ],
   "source": [
    "#Project lower dimension data onto original features\n",
    "approximation = pca.inverse_transform(lower_dimension_data)\n",
    "print(approximation.shape)\n",
    "approximation = approximation.reshape(-1,100,100, 1)\n",
    "X_norm = data\n",
    "X_norm = X_norm.reshape(-1,100,100, 1)"
   ]
  },
  {
   "cell_type": "code",
   "execution_count": 31,
   "metadata": {
    "execution": {
     "iopub.execute_input": "2021-12-28T09:28:31.102366Z",
     "iopub.status.busy": "2021-12-28T09:28:31.101360Z",
     "iopub.status.idle": "2021-12-28T09:28:31.105522Z",
     "shell.execute_reply": "2021-12-28T09:28:31.106070Z",
     "shell.execute_reply.started": "2021-12-28T09:11:32.912621Z"
    },
    "papermill": {
     "duration": 0.05249,
     "end_time": "2021-12-28T09:28:31.106201",
     "exception": false,
     "start_time": "2021-12-28T09:28:31.053711",
     "status": "completed"
    },
    "tags": []
   },
   "outputs": [],
   "source": [
    "data = approximation"
   ]
  },
  {
   "cell_type": "code",
   "execution_count": 32,
   "metadata": {
    "execution": {
     "iopub.execute_input": "2021-12-28T09:28:31.199577Z",
     "iopub.status.busy": "2021-12-28T09:28:31.198660Z",
     "iopub.status.idle": "2021-12-28T09:28:31.304965Z",
     "shell.execute_reply": "2021-12-28T09:28:31.305527Z",
     "shell.execute_reply.started": "2021-12-28T09:20:58.232282Z"
    },
    "papermill": {
     "duration": 0.154232,
     "end_time": "2021-12-28T09:28:31.305670",
     "exception": false,
     "start_time": "2021-12-28T09:28:31.151438",
     "status": "completed"
    },
    "tags": []
   },
   "outputs": [],
   "source": [
    "x_train, x_test, y_train, y_test = train_test_split(data, data_y, test_size=0.2, random_state=42, shuffle=True)"
   ]
  },
  {
   "cell_type": "code",
   "execution_count": 33,
   "metadata": {
    "execution": {
     "iopub.execute_input": "2021-12-28T09:28:31.399002Z",
     "iopub.status.busy": "2021-12-28T09:28:31.398060Z",
     "iopub.status.idle": "2021-12-28T09:28:31.403361Z",
     "shell.execute_reply": "2021-12-28T09:28:31.403896Z",
     "shell.execute_reply.started": "2021-12-28T09:20:59.763425Z"
    },
    "papermill": {
     "duration": 0.053511,
     "end_time": "2021-12-28T09:28:31.404047",
     "exception": false,
     "start_time": "2021-12-28T09:28:31.350536",
     "status": "completed"
    },
    "tags": []
   },
   "outputs": [],
   "source": [
    "y_train = to_categorical(y_train, num_classes = num_classes)\n",
    "y_test = to_categorical(y_test, num_classes = num_classes)"
   ]
  },
  {
   "cell_type": "code",
   "execution_count": 34,
   "metadata": {
    "execution": {
     "iopub.execute_input": "2021-12-28T09:28:31.496068Z",
     "iopub.status.busy": "2021-12-28T09:28:31.495096Z",
     "iopub.status.idle": "2021-12-28T09:28:31.503994Z",
     "shell.execute_reply": "2021-12-28T09:28:31.504482Z",
     "shell.execute_reply.started": "2021-12-28T09:21:41.631286Z"
    },
    "papermill": {
     "duration": 0.056079,
     "end_time": "2021-12-28T09:28:31.504617",
     "exception": false,
     "start_time": "2021-12-28T09:28:31.448538",
     "status": "completed"
    },
    "tags": []
   },
   "outputs": [],
   "source": [
    "del NotHealthy_Normilized_features\n",
    "del data_mean\n",
    "del data_std\n",
    "del NotHealthy_features\n",
    "del NotHealthy\n",
    "del Normilized_features\n",
    "del Healthy\n",
    "del data\n",
    "del approximation\n",
    "del df\n",
    "del X_norm\n",
    "del lower_dimension_data\n",
    "del dataframe\n",
    "del Images\n",
    "del Image_Labels"
   ]
  },
  {
   "cell_type": "code",
   "execution_count": 35,
   "metadata": {
    "execution": {
     "iopub.execute_input": "2021-12-28T09:28:31.596611Z",
     "iopub.status.busy": "2021-12-28T09:28:31.595965Z",
     "iopub.status.idle": "2021-12-28T09:28:31.610110Z",
     "shell.execute_reply": "2021-12-28T09:28:31.610727Z",
     "shell.execute_reply.started": "2021-12-28T09:21:44.094896Z"
    },
    "papermill": {
     "duration": 0.061982,
     "end_time": "2021-12-28T09:28:31.610868",
     "exception": false,
     "start_time": "2021-12-28T09:28:31.548886",
     "status": "completed"
    },
    "tags": []
   },
   "outputs": [],
   "source": [
    "def identity_block(X, f, filters, stage, block):\n",
    "    # defining name basis\n",
    "    conv_name_base = 'res' + str(stage) + block + '_branch'\n",
    "    bn_name_base = 'bn' + str(stage) + block + '_branch'\n",
    "\n",
    "    # Retrieve Filters\n",
    "    F1, F2, F3 = filters\n",
    "\n",
    "    # Save the input value. We'll need this later to add back to the main path. \n",
    "    X_shortcut = X\n",
    "\n",
    "    # First component of main path\n",
    "    X = Conv2D(filters = F1, kernel_size = (1, 1), strides = (1,1), padding = 'valid', name = conv_name_base + '2a', kernel_initializer = glorot_uniform(seed=0))(X)\n",
    "    X = BatchNormalization(axis = 3, name = bn_name_base + '2a')(X)\n",
    "    X = Activation('relu')(X)\n",
    "\n",
    "    # Second component of main path\n",
    "    X = Conv2D(filters = F2, kernel_size = (f, f), strides = (1,1), padding = 'same', name = conv_name_base + '2b', kernel_initializer = glorot_uniform(seed=0))(X)\n",
    "    X = BatchNormalization(axis = 3, name = bn_name_base + '2b')(X)\n",
    "    X = Activation('relu')(X)\n",
    "\n",
    "    # Third component of main path\n",
    "    X = Conv2D(filters = F3, kernel_size = (1, 1), strides = (1,1), padding = 'valid', name = conv_name_base + '2c', kernel_initializer = glorot_uniform(seed=0))(X)\n",
    "    X = BatchNormalization(axis = 3, name = bn_name_base + '2c')(X)\n",
    "\n",
    "    # Final step: Add shortcut value to main path, and pass it through a RELU activation\n",
    "    X = Add()([X, X_shortcut])\n",
    "    X = Activation('relu')(X)\n",
    "\n",
    "    return X"
   ]
  },
  {
   "cell_type": "code",
   "execution_count": 36,
   "metadata": {
    "execution": {
     "iopub.execute_input": "2021-12-28T09:28:31.703158Z",
     "iopub.status.busy": "2021-12-28T09:28:31.702532Z",
     "iopub.status.idle": "2021-12-28T09:28:31.717219Z",
     "shell.execute_reply": "2021-12-28T09:28:31.717726Z",
     "shell.execute_reply.started": "2021-12-28T09:21:45.039129Z"
    },
    "papermill": {
     "duration": 0.062323,
     "end_time": "2021-12-28T09:28:31.717876",
     "exception": false,
     "start_time": "2021-12-28T09:28:31.655553",
     "status": "completed"
    },
    "tags": []
   },
   "outputs": [],
   "source": [
    "def convolutional_block(X, f, filters, stage, block, s = 2):\n",
    "    # defining name basis\n",
    "    conv_name_base = 'res' + str(stage) + block + '_branch'\n",
    "    bn_name_base = 'bn' + str(stage) + block + '_branch'\n",
    "    \n",
    "    # Retrieve Filters\n",
    "    F1, F2, F3 = filters\n",
    "    \n",
    "    # Save the input value\n",
    "    X_shortcut = X\n",
    "\n",
    "\n",
    "    ##### MAIN PATH #####\n",
    "    # First component of main path \n",
    "    X = Conv2D(F1, (1, 1), strides = (s,s), name = conv_name_base + '2a', kernel_initializer = glorot_uniform(seed=0))(X)\n",
    "    X = BatchNormalization(axis = 3, name = bn_name_base + '2a')(X)\n",
    "    X = Activation('relu')(X)\n",
    "\n",
    "    # Second component of main path\n",
    "    X = Conv2D(filters=F2, kernel_size=(f, f), strides=(1, 1), padding='same', name=conv_name_base + '2b', kernel_initializer=glorot_uniform(seed=0))(X)\n",
    "    X = BatchNormalization(axis=3, name=bn_name_base + '2b')(X)\n",
    "    X = Activation('relu')(X)\n",
    "\n",
    "    # Third component of main path\n",
    "    X = Conv2D(filters=F3, kernel_size=(1, 1), strides=(1, 1), padding='valid', name=conv_name_base + '2c', kernel_initializer=glorot_uniform(seed=0))(X)\n",
    "    X = BatchNormalization(axis=3, name=bn_name_base + '2c')(X)\n",
    "\n",
    "    \n",
    "    ##### SHORTCUT PATH ####\n",
    "    X_shortcut = Conv2D(F3, (1, 1), strides = (s,s), name = conv_name_base + '1', kernel_initializer = glorot_uniform(seed=0))(X_shortcut)\n",
    "    X_shortcut = BatchNormalization(axis = 3, name = bn_name_base + '1')(X_shortcut)\n",
    "\n",
    "    # Final step: Add shortcut value to main path, and pass it through a RELU activation\n",
    "    X = Add()([X, X_shortcut])\n",
    "    X = Activation('relu')(X)\n",
    "    \n",
    "    return X"
   ]
  },
  {
   "cell_type": "code",
   "execution_count": 37,
   "metadata": {
    "execution": {
     "iopub.execute_input": "2021-12-28T09:28:31.809854Z",
     "iopub.status.busy": "2021-12-28T09:28:31.809253Z",
     "iopub.status.idle": "2021-12-28T09:28:31.827062Z",
     "shell.execute_reply": "2021-12-28T09:28:31.827623Z",
     "shell.execute_reply.started": "2021-12-28T09:21:45.524383Z"
    },
    "papermill": {
     "duration": 0.065542,
     "end_time": "2021-12-28T09:28:31.827763",
     "exception": false,
     "start_time": "2021-12-28T09:28:31.762221",
     "status": "completed"
    },
    "tags": []
   },
   "outputs": [],
   "source": [
    "def ResNet(input_shape = (64, 64, 3), classes = 2):   \n",
    "    # Define the input as a tensor with shape input_shape\n",
    "    X_input = Input(input_shape)\n",
    "\n",
    "    # Zero-Padding\n",
    "    X = ZeroPadding2D((3, 3))(X_input)\n",
    "    \n",
    "    # Stage 1\n",
    "    X = Conv2D(64, (7, 7), strides = (2, 2), name = 'conv1', kernel_initializer = glorot_uniform(seed=0))(X)\n",
    "    X = BatchNormalization(axis = 3, name = 'bn_conv1')(X)\n",
    "    X = Activation('relu')(X)\n",
    "    X = MaxPooling2D((3, 3), strides=(2, 2))(X)\n",
    "\n",
    "    # Stage 2\n",
    "    X = convolutional_block(X, f = 3, filters = [32, 32, 64], stage = 2, block='a', s = 1)\n",
    "    X = identity_block(X, 3, [32, 32, 64], stage=2, block='b')\n",
    "    X = identity_block(X, 3, [32, 32, 64], stage=2, block='c')\n",
    "    # Stage 3\n",
    "    X = convolutional_block(X, f = 3, filters = [64, 64, 128], stage = 3, block='a', s = 2)\n",
    "    X = identity_block(X, 3, [64, 64, 128], stage=3, block='b')\n",
    "    X = identity_block(X, 3, [64, 64, 128], stage=3, block='c')\n",
    "    \n",
    "    X = convolutional_block(X, f = 3, filters = [64, 64, 256], stage = 4, block='a', s = 2)\n",
    "    X = identity_block(X, 3, [64, 64, 256], stage=4, block='b')\n",
    "    X = identity_block(X, 3, [64, 64, 256], stage=4, block='c')\n",
    "    # AVGPOOL.\n",
    "    X = AveragePooling2D((2, 2), name='avg_pool')(X)\n",
    "\n",
    "    # output layer\n",
    "    X = Flatten()(X)\n",
    "    #X = Dense(1200, activation='relu')(X)\n",
    "    X = Dense(classes, activation='softmax', name='fc' + str(classes), kernel_initializer = glorot_uniform(seed=0))(X)\n",
    "    \n",
    "    # Create model\n",
    "    model = Model(inputs = X_input, outputs = X, name='ResNet')\n",
    "\n",
    "    return model"
   ]
  },
  {
   "cell_type": "code",
   "execution_count": 38,
   "metadata": {
    "execution": {
     "iopub.execute_input": "2021-12-28T09:28:31.921221Z",
     "iopub.status.busy": "2021-12-28T09:28:31.920278Z",
     "iopub.status.idle": "2021-12-28T09:28:33.036488Z",
     "shell.execute_reply": "2021-12-28T09:28:33.037077Z",
     "shell.execute_reply.started": "2021-12-28T09:21:45.972109Z"
    },
    "papermill": {
     "duration": 1.165069,
     "end_time": "2021-12-28T09:28:33.037226",
     "exception": false,
     "start_time": "2021-12-28T09:28:31.872157",
     "status": "completed"
    },
    "tags": []
   },
   "outputs": [],
   "source": [
    "model = ResNet(input_shape = (100, 100, 1), classes = 2)"
   ]
  },
  {
   "cell_type": "code",
   "execution_count": 39,
   "metadata": {
    "execution": {
     "iopub.execute_input": "2021-12-28T09:28:33.131276Z",
     "iopub.status.busy": "2021-12-28T09:28:33.130302Z",
     "iopub.status.idle": "2021-12-28T09:28:33.178867Z",
     "shell.execute_reply": "2021-12-28T09:28:33.179732Z",
     "shell.execute_reply.started": "2021-12-28T09:21:47.371780Z"
    },
    "papermill": {
     "duration": 0.097355,
     "end_time": "2021-12-28T09:28:33.179957",
     "exception": false,
     "start_time": "2021-12-28T09:28:33.082602",
     "status": "completed"
    },
    "tags": []
   },
   "outputs": [
    {
     "name": "stdout",
     "output_type": "stream",
     "text": [
      "Model: \"ResNet\"\n",
      "__________________________________________________________________________________________________\n",
      "Layer (type)                    Output Shape         Param #     Connected to                     \n",
      "==================================================================================================\n",
      "input_1 (InputLayer)            [(None, 100, 100, 1) 0                                            \n",
      "__________________________________________________________________________________________________\n",
      "zero_padding2d (ZeroPadding2D)  (None, 106, 106, 1)  0           input_1[0][0]                    \n",
      "__________________________________________________________________________________________________\n",
      "conv1 (Conv2D)                  (None, 50, 50, 64)   3200        zero_padding2d[0][0]             \n",
      "__________________________________________________________________________________________________\n",
      "bn_conv1 (BatchNormalization)   (None, 50, 50, 64)   256         conv1[0][0]                      \n",
      "__________________________________________________________________________________________________\n",
      "activation (Activation)         (None, 50, 50, 64)   0           bn_conv1[0][0]                   \n",
      "__________________________________________________________________________________________________\n",
      "max_pooling2d (MaxPooling2D)    (None, 24, 24, 64)   0           activation[0][0]                 \n",
      "__________________________________________________________________________________________________\n",
      "res2a_branch2a (Conv2D)         (None, 24, 24, 32)   2080        max_pooling2d[0][0]              \n",
      "__________________________________________________________________________________________________\n",
      "bn2a_branch2a (BatchNormalizati (None, 24, 24, 32)   128         res2a_branch2a[0][0]             \n",
      "__________________________________________________________________________________________________\n",
      "activation_1 (Activation)       (None, 24, 24, 32)   0           bn2a_branch2a[0][0]              \n",
      "__________________________________________________________________________________________________\n",
      "res2a_branch2b (Conv2D)         (None, 24, 24, 32)   9248        activation_1[0][0]               \n",
      "__________________________________________________________________________________________________\n",
      "bn2a_branch2b (BatchNormalizati (None, 24, 24, 32)   128         res2a_branch2b[0][0]             \n",
      "__________________________________________________________________________________________________\n",
      "activation_2 (Activation)       (None, 24, 24, 32)   0           bn2a_branch2b[0][0]              \n",
      "__________________________________________________________________________________________________\n",
      "res2a_branch2c (Conv2D)         (None, 24, 24, 64)   2112        activation_2[0][0]               \n",
      "__________________________________________________________________________________________________\n",
      "res2a_branch1 (Conv2D)          (None, 24, 24, 64)   4160        max_pooling2d[0][0]              \n",
      "__________________________________________________________________________________________________\n",
      "bn2a_branch2c (BatchNormalizati (None, 24, 24, 64)   256         res2a_branch2c[0][0]             \n",
      "__________________________________________________________________________________________________\n",
      "bn2a_branch1 (BatchNormalizatio (None, 24, 24, 64)   256         res2a_branch1[0][0]              \n",
      "__________________________________________________________________________________________________\n",
      "add (Add)                       (None, 24, 24, 64)   0           bn2a_branch2c[0][0]              \n",
      "                                                                 bn2a_branch1[0][0]               \n",
      "__________________________________________________________________________________________________\n",
      "activation_3 (Activation)       (None, 24, 24, 64)   0           add[0][0]                        \n",
      "__________________________________________________________________________________________________\n",
      "res2b_branch2a (Conv2D)         (None, 24, 24, 32)   2080        activation_3[0][0]               \n",
      "__________________________________________________________________________________________________\n",
      "bn2b_branch2a (BatchNormalizati (None, 24, 24, 32)   128         res2b_branch2a[0][0]             \n",
      "__________________________________________________________________________________________________\n",
      "activation_4 (Activation)       (None, 24, 24, 32)   0           bn2b_branch2a[0][0]              \n",
      "__________________________________________________________________________________________________\n",
      "res2b_branch2b (Conv2D)         (None, 24, 24, 32)   9248        activation_4[0][0]               \n",
      "__________________________________________________________________________________________________\n",
      "bn2b_branch2b (BatchNormalizati (None, 24, 24, 32)   128         res2b_branch2b[0][0]             \n",
      "__________________________________________________________________________________________________\n",
      "activation_5 (Activation)       (None, 24, 24, 32)   0           bn2b_branch2b[0][0]              \n",
      "__________________________________________________________________________________________________\n",
      "res2b_branch2c (Conv2D)         (None, 24, 24, 64)   2112        activation_5[0][0]               \n",
      "__________________________________________________________________________________________________\n",
      "bn2b_branch2c (BatchNormalizati (None, 24, 24, 64)   256         res2b_branch2c[0][0]             \n",
      "__________________________________________________________________________________________________\n",
      "add_1 (Add)                     (None, 24, 24, 64)   0           bn2b_branch2c[0][0]              \n",
      "                                                                 activation_3[0][0]               \n",
      "__________________________________________________________________________________________________\n",
      "activation_6 (Activation)       (None, 24, 24, 64)   0           add_1[0][0]                      \n",
      "__________________________________________________________________________________________________\n",
      "res2c_branch2a (Conv2D)         (None, 24, 24, 32)   2080        activation_6[0][0]               \n",
      "__________________________________________________________________________________________________\n",
      "bn2c_branch2a (BatchNormalizati (None, 24, 24, 32)   128         res2c_branch2a[0][0]             \n",
      "__________________________________________________________________________________________________\n",
      "activation_7 (Activation)       (None, 24, 24, 32)   0           bn2c_branch2a[0][0]              \n",
      "__________________________________________________________________________________________________\n",
      "res2c_branch2b (Conv2D)         (None, 24, 24, 32)   9248        activation_7[0][0]               \n",
      "__________________________________________________________________________________________________\n",
      "bn2c_branch2b (BatchNormalizati (None, 24, 24, 32)   128         res2c_branch2b[0][0]             \n",
      "__________________________________________________________________________________________________\n",
      "activation_8 (Activation)       (None, 24, 24, 32)   0           bn2c_branch2b[0][0]              \n",
      "__________________________________________________________________________________________________\n",
      "res2c_branch2c (Conv2D)         (None, 24, 24, 64)   2112        activation_8[0][0]               \n",
      "__________________________________________________________________________________________________\n",
      "bn2c_branch2c (BatchNormalizati (None, 24, 24, 64)   256         res2c_branch2c[0][0]             \n",
      "__________________________________________________________________________________________________\n",
      "add_2 (Add)                     (None, 24, 24, 64)   0           bn2c_branch2c[0][0]              \n",
      "                                                                 activation_6[0][0]               \n",
      "__________________________________________________________________________________________________\n",
      "activation_9 (Activation)       (None, 24, 24, 64)   0           add_2[0][0]                      \n",
      "__________________________________________________________________________________________________\n",
      "res3a_branch2a (Conv2D)         (None, 12, 12, 64)   4160        activation_9[0][0]               \n",
      "__________________________________________________________________________________________________\n",
      "bn3a_branch2a (BatchNormalizati (None, 12, 12, 64)   256         res3a_branch2a[0][0]             \n",
      "__________________________________________________________________________________________________\n",
      "activation_10 (Activation)      (None, 12, 12, 64)   0           bn3a_branch2a[0][0]              \n",
      "__________________________________________________________________________________________________\n",
      "res3a_branch2b (Conv2D)         (None, 12, 12, 64)   36928       activation_10[0][0]              \n",
      "__________________________________________________________________________________________________\n",
      "bn3a_branch2b (BatchNormalizati (None, 12, 12, 64)   256         res3a_branch2b[0][0]             \n",
      "__________________________________________________________________________________________________\n",
      "activation_11 (Activation)      (None, 12, 12, 64)   0           bn3a_branch2b[0][0]              \n",
      "__________________________________________________________________________________________________\n",
      "res3a_branch2c (Conv2D)         (None, 12, 12, 128)  8320        activation_11[0][0]              \n",
      "__________________________________________________________________________________________________\n",
      "res3a_branch1 (Conv2D)          (None, 12, 12, 128)  8320        activation_9[0][0]               \n",
      "__________________________________________________________________________________________________\n",
      "bn3a_branch2c (BatchNormalizati (None, 12, 12, 128)  512         res3a_branch2c[0][0]             \n",
      "__________________________________________________________________________________________________\n",
      "bn3a_branch1 (BatchNormalizatio (None, 12, 12, 128)  512         res3a_branch1[0][0]              \n",
      "__________________________________________________________________________________________________\n",
      "add_3 (Add)                     (None, 12, 12, 128)  0           bn3a_branch2c[0][0]              \n",
      "                                                                 bn3a_branch1[0][0]               \n",
      "__________________________________________________________________________________________________\n",
      "activation_12 (Activation)      (None, 12, 12, 128)  0           add_3[0][0]                      \n",
      "__________________________________________________________________________________________________\n",
      "res3b_branch2a (Conv2D)         (None, 12, 12, 64)   8256        activation_12[0][0]              \n",
      "__________________________________________________________________________________________________\n",
      "bn3b_branch2a (BatchNormalizati (None, 12, 12, 64)   256         res3b_branch2a[0][0]             \n",
      "__________________________________________________________________________________________________\n",
      "activation_13 (Activation)      (None, 12, 12, 64)   0           bn3b_branch2a[0][0]              \n",
      "__________________________________________________________________________________________________\n",
      "res3b_branch2b (Conv2D)         (None, 12, 12, 64)   36928       activation_13[0][0]              \n",
      "__________________________________________________________________________________________________\n",
      "bn3b_branch2b (BatchNormalizati (None, 12, 12, 64)   256         res3b_branch2b[0][0]             \n",
      "__________________________________________________________________________________________________\n",
      "activation_14 (Activation)      (None, 12, 12, 64)   0           bn3b_branch2b[0][0]              \n",
      "__________________________________________________________________________________________________\n",
      "res3b_branch2c (Conv2D)         (None, 12, 12, 128)  8320        activation_14[0][0]              \n",
      "__________________________________________________________________________________________________\n",
      "bn3b_branch2c (BatchNormalizati (None, 12, 12, 128)  512         res3b_branch2c[0][0]             \n",
      "__________________________________________________________________________________________________\n",
      "add_4 (Add)                     (None, 12, 12, 128)  0           bn3b_branch2c[0][0]              \n",
      "                                                                 activation_12[0][0]              \n",
      "__________________________________________________________________________________________________\n",
      "activation_15 (Activation)      (None, 12, 12, 128)  0           add_4[0][0]                      \n",
      "__________________________________________________________________________________________________\n",
      "res3c_branch2a (Conv2D)         (None, 12, 12, 64)   8256        activation_15[0][0]              \n",
      "__________________________________________________________________________________________________\n",
      "bn3c_branch2a (BatchNormalizati (None, 12, 12, 64)   256         res3c_branch2a[0][0]             \n",
      "__________________________________________________________________________________________________\n",
      "activation_16 (Activation)      (None, 12, 12, 64)   0           bn3c_branch2a[0][0]              \n",
      "__________________________________________________________________________________________________\n",
      "res3c_branch2b (Conv2D)         (None, 12, 12, 64)   36928       activation_16[0][0]              \n",
      "__________________________________________________________________________________________________\n",
      "bn3c_branch2b (BatchNormalizati (None, 12, 12, 64)   256         res3c_branch2b[0][0]             \n",
      "__________________________________________________________________________________________________\n",
      "activation_17 (Activation)      (None, 12, 12, 64)   0           bn3c_branch2b[0][0]              \n",
      "__________________________________________________________________________________________________\n",
      "res3c_branch2c (Conv2D)         (None, 12, 12, 128)  8320        activation_17[0][0]              \n",
      "__________________________________________________________________________________________________\n",
      "bn3c_branch2c (BatchNormalizati (None, 12, 12, 128)  512         res3c_branch2c[0][0]             \n",
      "__________________________________________________________________________________________________\n",
      "add_5 (Add)                     (None, 12, 12, 128)  0           bn3c_branch2c[0][0]              \n",
      "                                                                 activation_15[0][0]              \n",
      "__________________________________________________________________________________________________\n",
      "activation_18 (Activation)      (None, 12, 12, 128)  0           add_5[0][0]                      \n",
      "__________________________________________________________________________________________________\n",
      "res4a_branch2a (Conv2D)         (None, 6, 6, 64)     8256        activation_18[0][0]              \n",
      "__________________________________________________________________________________________________\n",
      "bn4a_branch2a (BatchNormalizati (None, 6, 6, 64)     256         res4a_branch2a[0][0]             \n",
      "__________________________________________________________________________________________________\n",
      "activation_19 (Activation)      (None, 6, 6, 64)     0           bn4a_branch2a[0][0]              \n",
      "__________________________________________________________________________________________________\n",
      "res4a_branch2b (Conv2D)         (None, 6, 6, 64)     36928       activation_19[0][0]              \n",
      "__________________________________________________________________________________________________\n",
      "bn4a_branch2b (BatchNormalizati (None, 6, 6, 64)     256         res4a_branch2b[0][0]             \n",
      "__________________________________________________________________________________________________\n",
      "activation_20 (Activation)      (None, 6, 6, 64)     0           bn4a_branch2b[0][0]              \n",
      "__________________________________________________________________________________________________\n",
      "res4a_branch2c (Conv2D)         (None, 6, 6, 256)    16640       activation_20[0][0]              \n",
      "__________________________________________________________________________________________________\n",
      "res4a_branch1 (Conv2D)          (None, 6, 6, 256)    33024       activation_18[0][0]              \n",
      "__________________________________________________________________________________________________\n",
      "bn4a_branch2c (BatchNormalizati (None, 6, 6, 256)    1024        res4a_branch2c[0][0]             \n",
      "__________________________________________________________________________________________________\n",
      "bn4a_branch1 (BatchNormalizatio (None, 6, 6, 256)    1024        res4a_branch1[0][0]              \n",
      "__________________________________________________________________________________________________\n",
      "add_6 (Add)                     (None, 6, 6, 256)    0           bn4a_branch2c[0][0]              \n",
      "                                                                 bn4a_branch1[0][0]               \n",
      "__________________________________________________________________________________________________\n",
      "activation_21 (Activation)      (None, 6, 6, 256)    0           add_6[0][0]                      \n",
      "__________________________________________________________________________________________________\n",
      "res4b_branch2a (Conv2D)         (None, 6, 6, 64)     16448       activation_21[0][0]              \n",
      "__________________________________________________________________________________________________\n",
      "bn4b_branch2a (BatchNormalizati (None, 6, 6, 64)     256         res4b_branch2a[0][0]             \n",
      "__________________________________________________________________________________________________\n",
      "activation_22 (Activation)      (None, 6, 6, 64)     0           bn4b_branch2a[0][0]              \n",
      "__________________________________________________________________________________________________\n",
      "res4b_branch2b (Conv2D)         (None, 6, 6, 64)     36928       activation_22[0][0]              \n",
      "__________________________________________________________________________________________________\n",
      "bn4b_branch2b (BatchNormalizati (None, 6, 6, 64)     256         res4b_branch2b[0][0]             \n",
      "__________________________________________________________________________________________________\n",
      "activation_23 (Activation)      (None, 6, 6, 64)     0           bn4b_branch2b[0][0]              \n",
      "__________________________________________________________________________________________________\n",
      "res4b_branch2c (Conv2D)         (None, 6, 6, 256)    16640       activation_23[0][0]              \n",
      "__________________________________________________________________________________________________\n",
      "bn4b_branch2c (BatchNormalizati (None, 6, 6, 256)    1024        res4b_branch2c[0][0]             \n",
      "__________________________________________________________________________________________________\n",
      "add_7 (Add)                     (None, 6, 6, 256)    0           bn4b_branch2c[0][0]              \n",
      "                                                                 activation_21[0][0]              \n",
      "__________________________________________________________________________________________________\n",
      "activation_24 (Activation)      (None, 6, 6, 256)    0           add_7[0][0]                      \n",
      "__________________________________________________________________________________________________\n",
      "res4c_branch2a (Conv2D)         (None, 6, 6, 64)     16448       activation_24[0][0]              \n",
      "__________________________________________________________________________________________________\n",
      "bn4c_branch2a (BatchNormalizati (None, 6, 6, 64)     256         res4c_branch2a[0][0]             \n",
      "__________________________________________________________________________________________________\n",
      "activation_25 (Activation)      (None, 6, 6, 64)     0           bn4c_branch2a[0][0]              \n",
      "__________________________________________________________________________________________________\n",
      "res4c_branch2b (Conv2D)         (None, 6, 6, 64)     36928       activation_25[0][0]              \n",
      "__________________________________________________________________________________________________\n",
      "bn4c_branch2b (BatchNormalizati (None, 6, 6, 64)     256         res4c_branch2b[0][0]             \n",
      "__________________________________________________________________________________________________\n",
      "activation_26 (Activation)      (None, 6, 6, 64)     0           bn4c_branch2b[0][0]              \n",
      "__________________________________________________________________________________________________\n",
      "res4c_branch2c (Conv2D)         (None, 6, 6, 256)    16640       activation_26[0][0]              \n",
      "__________________________________________________________________________________________________\n",
      "bn4c_branch2c (BatchNormalizati (None, 6, 6, 256)    1024        res4c_branch2c[0][0]             \n",
      "__________________________________________________________________________________________________\n",
      "add_8 (Add)                     (None, 6, 6, 256)    0           bn4c_branch2c[0][0]              \n",
      "                                                                 activation_24[0][0]              \n",
      "__________________________________________________________________________________________________\n",
      "activation_27 (Activation)      (None, 6, 6, 256)    0           add_8[0][0]                      \n",
      "__________________________________________________________________________________________________\n",
      "avg_pool (AveragePooling2D)     (None, 3, 3, 256)    0           activation_27[0][0]              \n",
      "__________________________________________________________________________________________________\n",
      "flatten (Flatten)               (None, 2304)         0           avg_pool[0][0]                   \n",
      "__________________________________________________________________________________________________\n",
      "fc2 (Dense)                     (None, 2)            4610        flatten[0][0]                    \n",
      "==================================================================================================\n",
      "Total params: 463,170\n",
      "Trainable params: 457,538\n",
      "Non-trainable params: 5,632\n",
      "__________________________________________________________________________________________________\n"
     ]
    }
   ],
   "source": [
    "model.compile(optimizer='adam', loss='categorical_crossentropy', metrics=['accuracy'])\n",
    "model.summary()"
   ]
  },
  {
   "cell_type": "code",
   "execution_count": 40,
   "metadata": {
    "execution": {
     "iopub.execute_input": "2021-12-28T09:28:33.279705Z",
     "iopub.status.busy": "2021-12-28T09:28:33.278734Z",
     "iopub.status.idle": "2021-12-28T09:28:33.283158Z",
     "shell.execute_reply": "2021-12-28T09:28:33.282470Z",
     "shell.execute_reply.started": "2021-12-28T09:21:47.842579Z"
    },
    "papermill": {
     "duration": 0.056165,
     "end_time": "2021-12-28T09:28:33.283275",
     "exception": false,
     "start_time": "2021-12-28T09:28:33.227110",
     "status": "completed"
    },
    "tags": []
   },
   "outputs": [
    {
     "data": {
      "text/plain": [
       "(6728, 100, 100, 1)"
      ]
     },
     "execution_count": 40,
     "metadata": {},
     "output_type": "execute_result"
    }
   ],
   "source": [
    "learning_rate_reduction = ReduceLROnPlateau(monitor='val_accuracy', patience = 5, verbose=1,factor=0.3, min_lr=0.000001)\n",
    "x_train.shape"
   ]
  },
  {
   "cell_type": "code",
   "execution_count": 41,
   "metadata": {
    "execution": {
     "iopub.execute_input": "2021-12-28T09:28:33.382033Z",
     "iopub.status.busy": "2021-12-28T09:28:33.381343Z",
     "iopub.status.idle": "2021-12-28T09:40:57.513788Z",
     "shell.execute_reply": "2021-12-28T09:40:57.512809Z"
    },
    "papermill": {
     "duration": 744.184194,
     "end_time": "2021-12-28T09:40:57.513931",
     "exception": false,
     "start_time": "2021-12-28T09:28:33.329737",
     "status": "completed"
    },
    "tags": []
   },
   "outputs": [
    {
     "name": "stdout",
     "output_type": "stream",
     "text": [
      "Epoch 1/10\n",
      "211/211 [==============================] - 74s 353ms/step - loss: 0.1748 - accuracy: 0.9432\n",
      "Epoch 2/10\n",
      "211/211 [==============================] - 75s 355ms/step - loss: 0.0095 - accuracy: 0.9967\n",
      "Epoch 3/10\n",
      "211/211 [==============================] - 75s 354ms/step - loss: 4.9341e-04 - accuracy: 0.9999\n",
      "Epoch 4/10\n",
      "211/211 [==============================] - 73s 347ms/step - loss: 3.6264e-04 - accuracy: 0.9999\n",
      "Epoch 5/10\n",
      "211/211 [==============================] - 73s 348ms/step - loss: 7.4053e-05 - accuracy: 1.0000\n",
      "Epoch 6/10\n",
      "211/211 [==============================] - 73s 348ms/step - loss: 2.1012e-05 - accuracy: 1.0000\n",
      "Epoch 7/10\n",
      "211/211 [==============================] - 74s 349ms/step - loss: 9.6433e-06 - accuracy: 1.0000\n",
      "Epoch 8/10\n",
      "211/211 [==============================] - 73s 345ms/step - loss: 7.0468e-07 - accuracy: 1.0000\n",
      "Epoch 9/10\n",
      "211/211 [==============================] - 73s 346ms/step - loss: 1.4665e-06 - accuracy: 1.0000\n",
      "Epoch 10/10\n",
      "211/211 [==============================] - 74s 350ms/step - loss: 0.0420 - accuracy: 0.9930\n"
     ]
    }
   ],
   "source": [
    "# Fit data to model\n",
    "history = model.fit(x_train, y_train,\n",
    "            batch_size=32,\n",
    "            epochs=10,\n",
    "            verbose=1,\n",
    "            callbacks=[learning_rate_reduction]\n",
    ")"
   ]
  },
  {
   "cell_type": "code",
   "execution_count": 42,
   "metadata": {
    "execution": {
     "iopub.execute_input": "2021-12-28T09:40:58.993347Z",
     "iopub.status.busy": "2021-12-28T09:40:58.992679Z",
     "iopub.status.idle": "2021-12-28T09:40:59.302175Z",
     "shell.execute_reply": "2021-12-28T09:40:59.301346Z",
     "shell.execute_reply.started": "2021-12-26T14:05:54.016342Z"
    },
    "papermill": {
     "duration": 1.056127,
     "end_time": "2021-12-28T09:40:59.302300",
     "exception": false,
     "start_time": "2021-12-28T09:40:58.246173",
     "status": "completed"
    },
    "tags": []
   },
   "outputs": [],
   "source": [
    "model.save('PreTrained_C_NMC_FeatureExtractor.h5')"
   ]
  },
  {
   "cell_type": "code",
   "execution_count": 43,
   "metadata": {
    "execution": {
     "iopub.execute_input": "2021-12-28T09:41:00.899770Z",
     "iopub.status.busy": "2021-12-28T09:41:00.898743Z",
     "iopub.status.idle": "2021-12-28T09:41:00.920795Z",
     "shell.execute_reply": "2021-12-28T09:41:00.921315Z",
     "shell.execute_reply.started": "2021-12-26T14:19:11.289887Z"
    },
    "papermill": {
     "duration": 0.887096,
     "end_time": "2021-12-28T09:41:00.921478",
     "exception": false,
     "start_time": "2021-12-28T09:41:00.034382",
     "status": "completed"
    },
    "tags": []
   },
   "outputs": [],
   "source": [
    "FeatureExtractor_Model = Model(inputs = model.input, outputs = model.layers[-2].output, name='FeatureExtractor_ResNet')"
   ]
  },
  {
   "cell_type": "code",
   "execution_count": 44,
   "metadata": {
    "execution": {
     "iopub.execute_input": "2021-12-28T09:41:02.439768Z",
     "iopub.status.busy": "2021-12-28T09:41:02.439102Z",
     "iopub.status.idle": "2021-12-28T09:41:02.570902Z",
     "shell.execute_reply": "2021-12-28T09:41:02.571427Z",
     "shell.execute_reply.started": "2021-12-26T14:09:02.564847Z"
    },
    "papermill": {
     "duration": 0.894767,
     "end_time": "2021-12-28T09:41:02.571621",
     "exception": false,
     "start_time": "2021-12-28T09:41:01.676854",
     "status": "completed"
    },
    "tags": []
   },
   "outputs": [],
   "source": [
    "# Merge inputs and targets\n",
    "inputs = np.concatenate((x_train, x_test), axis=0)\n",
    "targets = np.concatenate((y_train, y_test), axis=0)"
   ]
  },
  {
   "cell_type": "code",
   "execution_count": 45,
   "metadata": {
    "execution": {
     "iopub.execute_input": "2021-12-28T09:41:04.093591Z",
     "iopub.status.busy": "2021-12-28T09:41:04.092570Z",
     "iopub.status.idle": "2021-12-28T09:41:04.095213Z",
     "shell.execute_reply": "2021-12-28T09:41:04.095801Z",
     "shell.execute_reply.started": "2021-12-26T14:09:41.25413Z"
    },
    "papermill": {
     "duration": 0.781807,
     "end_time": "2021-12-28T09:41:04.095944",
     "exception": false,
     "start_time": "2021-12-28T09:41:03.314137",
     "status": "completed"
    },
    "tags": []
   },
   "outputs": [],
   "source": [
    "def feature_extraction(inputs, model):\n",
    "    features = model.predict(inputs[0:100])\n",
    "    for i in range(100, len(inputs), 100):\n",
    "        feature = model.predict(inputs[i:i+100])\n",
    "        features = np.concatenate((features, feature), axis=0)\n",
    "        print(\"Processing Images From: \", int(i), \"to: \", int(i+100))\n",
    "    return features"
   ]
  },
  {
   "cell_type": "code",
   "execution_count": 46,
   "metadata": {
    "execution": {
     "iopub.execute_input": "2021-12-28T09:41:05.589790Z",
     "iopub.status.busy": "2021-12-28T09:41:05.589144Z",
     "iopub.status.idle": "2021-12-28T09:41:29.188897Z",
     "shell.execute_reply": "2021-12-28T09:41:29.189425Z",
     "shell.execute_reply.started": "2021-12-26T14:19:24.18308Z"
    },
    "papermill": {
     "duration": 24.332136,
     "end_time": "2021-12-28T09:41:29.189590",
     "exception": false,
     "start_time": "2021-12-28T09:41:04.857454",
     "status": "completed"
    },
    "tags": []
   },
   "outputs": [
    {
     "name": "stdout",
     "output_type": "stream",
     "text": [
      "Processing Images From:  100 to:  200\n",
      "Processing Images From:  200 to:  300\n",
      "Processing Images From:  300 to:  400\n",
      "Processing Images From:  400 to:  500\n",
      "Processing Images From:  500 to:  600\n",
      "Processing Images From:  600 to:  700\n",
      "Processing Images From:  700 to:  800\n",
      "Processing Images From:  800 to:  900\n",
      "Processing Images From:  900 to:  1000\n",
      "Processing Images From:  1000 to:  1100\n",
      "Processing Images From:  1100 to:  1200\n",
      "Processing Images From:  1200 to:  1300\n",
      "Processing Images From:  1300 to:  1400\n",
      "Processing Images From:  1400 to:  1500\n",
      "Processing Images From:  1500 to:  1600\n",
      "Processing Images From:  1600 to:  1700\n",
      "Processing Images From:  1700 to:  1800\n",
      "Processing Images From:  1800 to:  1900\n",
      "Processing Images From:  1900 to:  2000\n",
      "Processing Images From:  2000 to:  2100\n",
      "Processing Images From:  2100 to:  2200\n",
      "Processing Images From:  2200 to:  2300\n",
      "Processing Images From:  2300 to:  2400\n",
      "Processing Images From:  2400 to:  2500\n",
      "Processing Images From:  2500 to:  2600\n",
      "Processing Images From:  2600 to:  2700\n",
      "Processing Images From:  2700 to:  2800\n",
      "Processing Images From:  2800 to:  2900\n",
      "Processing Images From:  2900 to:  3000\n",
      "Processing Images From:  3000 to:  3100\n",
      "Processing Images From:  3100 to:  3200\n",
      "Processing Images From:  3200 to:  3300\n",
      "Processing Images From:  3300 to:  3400\n",
      "Processing Images From:  3400 to:  3500\n",
      "Processing Images From:  3500 to:  3600\n",
      "Processing Images From:  3600 to:  3700\n",
      "Processing Images From:  3700 to:  3800\n",
      "Processing Images From:  3800 to:  3900\n",
      "Processing Images From:  3900 to:  4000\n",
      "Processing Images From:  4000 to:  4100\n",
      "Processing Images From:  4100 to:  4200\n",
      "Processing Images From:  4200 to:  4300\n",
      "Processing Images From:  4300 to:  4400\n",
      "Processing Images From:  4400 to:  4500\n",
      "Processing Images From:  4500 to:  4600\n",
      "Processing Images From:  4600 to:  4700\n",
      "Processing Images From:  4700 to:  4800\n",
      "Processing Images From:  4800 to:  4900\n",
      "Processing Images From:  4900 to:  5000\n",
      "Processing Images From:  5000 to:  5100\n",
      "Processing Images From:  5100 to:  5200\n",
      "Processing Images From:  5200 to:  5300\n",
      "Processing Images From:  5300 to:  5400\n",
      "Processing Images From:  5400 to:  5500\n",
      "Processing Images From:  5500 to:  5600\n",
      "Processing Images From:  5600 to:  5700\n",
      "Processing Images From:  5700 to:  5800\n",
      "Processing Images From:  5800 to:  5900\n",
      "Processing Images From:  5900 to:  6000\n",
      "Processing Images From:  6000 to:  6100\n",
      "Processing Images From:  6100 to:  6200\n",
      "Processing Images From:  6200 to:  6300\n",
      "Processing Images From:  6300 to:  6400\n",
      "Processing Images From:  6400 to:  6500\n",
      "Processing Images From:  6500 to:  6600\n",
      "Processing Images From:  6600 to:  6700\n",
      "Processing Images From:  6700 to:  6800\n",
      "Processing Images From:  6800 to:  6900\n",
      "Processing Images From:  6900 to:  7000\n",
      "Processing Images From:  7000 to:  7100\n",
      "Processing Images From:  7100 to:  7200\n",
      "Processing Images From:  7200 to:  7300\n",
      "Processing Images From:  7300 to:  7400\n",
      "Processing Images From:  7400 to:  7500\n",
      "Processing Images From:  7500 to:  7600\n",
      "Processing Images From:  7600 to:  7700\n",
      "Processing Images From:  7700 to:  7800\n",
      "Processing Images From:  7800 to:  7900\n",
      "Processing Images From:  7900 to:  8000\n",
      "Processing Images From:  8000 to:  8100\n",
      "Processing Images From:  8100 to:  8200\n",
      "Processing Images From:  8200 to:  8300\n",
      "Processing Images From:  8300 to:  8400\n",
      "Processing Images From:  8400 to:  8500\n"
     ]
    }
   ],
   "source": [
    "features_resnet_C_NMC = feature_extraction(inputs, FeatureExtractor_Model)"
   ]
  },
  {
   "cell_type": "code",
   "execution_count": 47,
   "metadata": {
    "execution": {
     "iopub.execute_input": "2021-12-28T09:41:30.721979Z",
     "iopub.status.busy": "2021-12-28T09:41:30.721344Z",
     "iopub.status.idle": "2021-12-28T09:41:30.728128Z",
     "shell.execute_reply": "2021-12-28T09:41:30.727501Z",
     "shell.execute_reply.started": "2021-12-26T14:21:02.761294Z"
    },
    "papermill": {
     "duration": 0.775953,
     "end_time": "2021-12-28T09:41:30.728248",
     "exception": false,
     "start_time": "2021-12-28T09:41:29.952295",
     "status": "completed"
    },
    "tags": []
   },
   "outputs": [
    {
     "name": "stdout",
     "output_type": "stream",
     "text": [
      "Shape of Extracted Features: (8410, 2304)\n",
      "Shape of Outputs: (8410, 2)\n"
     ]
    }
   ],
   "source": [
    "print(\"Shape of Extracted Features:\", features_resnet_C_NMC.shape)\n",
    "print(\"Shape of Outputs:\", targets.shape)"
   ]
  },
  {
   "cell_type": "code",
   "execution_count": 48,
   "metadata": {
    "execution": {
     "iopub.execute_input": "2021-12-28T09:41:32.306783Z",
     "iopub.status.busy": "2021-12-28T09:41:32.305836Z",
     "iopub.status.idle": "2021-12-28T09:41:32.371193Z",
     "shell.execute_reply": "2021-12-28T09:41:32.371744Z",
     "shell.execute_reply.started": "2021-12-26T14:23:03.596132Z"
    },
    "papermill": {
     "duration": 0.882255,
     "end_time": "2021-12-28T09:41:32.371897",
     "exception": false,
     "start_time": "2021-12-28T09:41:31.489642",
     "status": "completed"
    },
    "tags": []
   },
   "outputs": [],
   "source": [
    "np.save(\"C_NMC_ExtractedFeatures.npy\", features_resnet_C_NMC)\n",
    "np.save(\"Targets.npy\", targets)"
   ]
  },
  {
   "cell_type": "code",
   "execution_count": null,
   "metadata": {
    "papermill": {
     "duration": 0.761696,
     "end_time": "2021-12-28T09:41:33.933822",
     "exception": false,
     "start_time": "2021-12-28T09:41:33.172126",
     "status": "completed"
    },
    "tags": []
   },
   "outputs": [],
   "source": []
  }
 ],
 "metadata": {
  "kernelspec": {
   "display_name": "Python 3",
   "language": "python",
   "name": "python3"
  },
  "language_info": {
   "codemirror_mode": {
    "name": "ipython",
    "version": 3
   },
   "file_extension": ".py",
   "mimetype": "text/x-python",
   "name": "python",
   "nbconvert_exporter": "python",
   "pygments_lexer": "ipython3",
   "version": "3.7.6"
  },
  "papermill": {
   "duration": 1106.699656,
   "end_time": "2021-12-28T09:41:34.803374",
   "environment_variables": {},
   "exception": null,
   "input_path": "__notebook__.ipynb",
   "output_path": "__notebook__.ipynb",
   "parameters": {},
   "start_time": "2021-12-28T09:23:08.103718",
   "version": "2.1.0"
  }
 },
 "nbformat": 4,
 "nbformat_minor": 4
}
