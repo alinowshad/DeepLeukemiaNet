{
 "cells": [
  {
   "cell_type": "code",
   "execution_count": 1,
   "id": "14897213",
   "metadata": {
    "_cell_guid": "b1076dfc-b9ad-4769-8c92-a6c4dae69d19",
    "_uuid": "8f2839f25d086af736a60e9eeb907d3b93b6e0e5",
    "execution": {
     "iopub.execute_input": "2021-12-29T09:19:05.157117Z",
     "iopub.status.busy": "2021-12-29T09:19:05.155624Z",
     "iopub.status.idle": "2021-12-29T09:19:09.235162Z",
     "shell.execute_reply": "2021-12-29T09:19:09.234541Z",
     "shell.execute_reply.started": "2021-12-29T09:07:28.457580Z"
    },
    "papermill": {
     "duration": 4.096332,
     "end_time": "2021-12-29T09:19:09.235318",
     "exception": false,
     "start_time": "2021-12-29T09:19:05.138986",
     "status": "completed"
    },
    "tags": []
   },
   "outputs": [],
   "source": [
    "import pandas as pd, numpy as np\n",
    "from kaggle_datasets import KaggleDatasets\n",
    "from sklearn.preprocessing import StandardScaler\n",
    "from sklearn.ensemble import RandomForestClassifier\n",
    "from sklearn.model_selection import KFold\n",
    "from sklearn.metrics import roc_auc_score\n",
    "from glob import glob\n",
    "from PIL import Image\n",
    "from skimage import color\n",
    "import cv2, matplotlib.pyplot as plt\n",
    "import random\n",
    "import gc\n",
    "# Import essential libraries\n",
    "%matplotlib inline\n",
    "import matplotlib.pyplot as plt\n",
    "import pandas as pd\n",
    "from sklearn.model_selection import StratifiedKFold\n",
    "import itertools\n",
    "import seaborn as sns\n",
    "from sklearn.preprocessing import label_binarize\n",
    "from sklearn.metrics import confusion_matrix\n",
    "from sklearn.model_selection import train_test_split\n",
    "from sklearn.model_selection import train_test_split\n",
    "import os\n",
    "import cv2\n",
    "from IPython.display import SVG\n",
    "from sklearn.decomposition import PCA\n",
    "import numpy as np\n",
    "from numpy.random import rand\n",
    "import cudf, cuml\n",
    "from cuml.neighbors import KNeighborsClassifier\n",
    "from sklearn.model_selection import train_test_split\n",
    "import matplotlib.pyplot as plt\n",
    "import random\n",
    "from random import randrange\n",
    "import time"
   ]
  },
  {
   "cell_type": "code",
   "execution_count": 2,
   "id": "314d174e",
   "metadata": {
    "execution": {
     "iopub.execute_input": "2021-12-29T09:19:09.265081Z",
     "iopub.status.busy": "2021-12-29T09:19:09.264439Z",
     "iopub.status.idle": "2021-12-29T09:19:10.476434Z",
     "shell.execute_reply": "2021-12-29T09:19:10.475444Z",
     "shell.execute_reply.started": "2021-12-29T09:07:49.183767Z"
    },
    "papermill": {
     "duration": 1.227127,
     "end_time": "2021-12-29T09:19:10.476610",
     "exception": false,
     "start_time": "2021-12-29T09:19:09.249483",
     "status": "completed"
    },
    "tags": []
   },
   "outputs": [],
   "source": [
    "features_C_NMC_resnet = np.load('../input/pca-pretraining-featureextraction-resnet-c-nmc/C_NMC_ExtractedFeatures.npy')\n",
    "targets_C_NMC = np.load('../input/pca-pretraining-featureextraction-resnet-c-nmc/Targets.npy')"
   ]
  },
  {
   "cell_type": "code",
   "execution_count": 3,
   "id": "1c33cfec",
   "metadata": {
    "execution": {
     "iopub.execute_input": "2021-12-29T09:19:10.508076Z",
     "iopub.status.busy": "2021-12-29T09:19:10.507147Z",
     "iopub.status.idle": "2021-12-29T09:19:10.849774Z",
     "shell.execute_reply": "2021-12-29T09:19:10.849207Z",
     "shell.execute_reply.started": "2021-12-29T09:07:50.676583Z"
    },
    "papermill": {
     "duration": 0.359446,
     "end_time": "2021-12-29T09:19:10.849909",
     "exception": false,
     "start_time": "2021-12-29T09:19:10.490463",
     "status": "completed"
    },
    "tags": []
   },
   "outputs": [],
   "source": [
    "sc = StandardScaler()\n",
    "features_C_NMC_resnet = sc.fit_transform(features_C_NMC_resnet)"
   ]
  },
  {
   "cell_type": "code",
   "execution_count": 4,
   "id": "8406b210",
   "metadata": {
    "execution": {
     "iopub.execute_input": "2021-12-29T09:19:10.882213Z",
     "iopub.status.busy": "2021-12-29T09:19:10.881379Z",
     "iopub.status.idle": "2021-12-29T09:19:10.910691Z",
     "shell.execute_reply": "2021-12-29T09:19:10.910242Z",
     "shell.execute_reply.started": "2021-12-29T09:07:51.019348Z"
    },
    "papermill": {
     "duration": 0.047979,
     "end_time": "2021-12-29T09:19:10.910806",
     "exception": false,
     "start_time": "2021-12-29T09:19:10.862827",
     "status": "completed"
    },
    "tags": []
   },
   "outputs": [],
   "source": [
    "targets_C_NMC = [np.argmax(y, axis=None, out=None) for y in targets_C_NMC]\n",
    "targets_C_NMC = np.asarray(targets_C_NMC)"
   ]
  },
  {
   "cell_type": "code",
   "execution_count": 5,
   "id": "cdb263f7",
   "metadata": {
    "execution": {
     "iopub.execute_input": "2021-12-29T09:19:10.940134Z",
     "iopub.status.busy": "2021-12-29T09:19:10.939364Z",
     "iopub.status.idle": "2021-12-29T09:19:10.942672Z",
     "shell.execute_reply": "2021-12-29T09:19:10.943098Z",
     "shell.execute_reply.started": "2021-12-29T09:07:51.107505Z"
    },
    "papermill": {
     "duration": 0.02008,
     "end_time": "2021-12-29T09:19:10.943223",
     "exception": false,
     "start_time": "2021-12-29T09:19:10.923143",
     "status": "completed"
    },
    "tags": []
   },
   "outputs": [
    {
     "name": "stdout",
     "output_type": "stream",
     "text": [
      "Features C-NMC ResNet:  (8410, 2304)\n",
      "Labels C-NMC:  (8410,)\n"
     ]
    }
   ],
   "source": [
    "print(\"Features C-NMC ResNet: \", features_C_NMC_resnet.shape)\n",
    "print(\"Labels C-NMC: \", targets_C_NMC.shape)"
   ]
  },
  {
   "cell_type": "code",
   "execution_count": 6,
   "id": "abdeddcf",
   "metadata": {
    "execution": {
     "iopub.execute_input": "2021-12-29T09:19:10.979209Z",
     "iopub.status.busy": "2021-12-29T09:19:10.978303Z",
     "iopub.status.idle": "2021-12-29T09:19:10.980509Z",
     "shell.execute_reply": "2021-12-29T09:19:10.980923Z",
     "shell.execute_reply.started": "2021-12-29T09:07:54.806078Z"
    },
    "papermill": {
     "duration": 0.024665,
     "end_time": "2021-12-29T09:19:10.981056",
     "exception": false,
     "start_time": "2021-12-29T09:19:10.956391",
     "status": "completed"
    },
    "tags": []
   },
   "outputs": [],
   "source": [
    "# error rate\n",
    "def error_rate(xtrain, ytrain, x, opts):\n",
    "    # parameters\n",
    "    k  = opts['k']\n",
    "    fold = opts['fold']\n",
    "    xt = fold['xt']\n",
    "    yt = fold['yt']\n",
    "    xv = fold['xv']\n",
    "    yv = fold['yv']\n",
    "    \n",
    "    # number of instances\n",
    "    num_train = np.size(xt, 0)\n",
    "    num_valid = np.size(xv, 0)\n",
    "    # Define selected features\n",
    "    xtrain = xt[:, x == 1]\n",
    "    ytrain = yt.reshape(num_train)\n",
    "    xvalid = xv[:, x == 1]\n",
    "    yvalid = yv.reshape(num_valid)\n",
    "    # Training\n",
    "    mdl     = KNeighborsClassifier(n_neighbors= k)\n",
    "    mdl.fit(xtrain, ytrain)\n",
    "    # Prediction\n",
    "    ypred   = mdl.predict(xvalid)\n",
    "    acc     = np.sum(yvalid == ypred) / num_valid\n",
    "    error   = 1 - acc\n",
    "    \n",
    "    return error, acc\n",
    "# Error rate & Feature size\n",
    "def Fun(xtrain, ytrain, x, opts):\n",
    "    # parameters\n",
    "    alpha = 0.99\n",
    "    beta = 1 - alpha\n",
    "    # original feature size\n",
    "    max_feat = len(x)\n",
    "    # Number of selected features\n",
    "    num_feat = np.sum(x == 1)\n",
    "    # Solve if no feature selected\n",
    "    if num_feat == 0:\n",
    "        cost = 1\n",
    "    else:\n",
    "        # Get error rate\n",
    "        error, acc = error_rate(xtrain, ytrain, x, opts)\n",
    "        # Objective function\n",
    "        cost = alpha * error + beta * (num_feat / max_feat)\n",
    "        \n",
    "    return cost"
   ]
  },
  {
   "cell_type": "code",
   "execution_count": 7,
   "id": "5380546f",
   "metadata": {
    "execution": {
     "iopub.execute_input": "2021-12-29T09:19:11.011660Z",
     "iopub.status.busy": "2021-12-29T09:19:11.010983Z",
     "iopub.status.idle": "2021-12-29T09:19:11.013396Z",
     "shell.execute_reply": "2021-12-29T09:19:11.013905Z",
     "shell.execute_reply.started": "2021-12-29T09:07:55.737990Z"
    },
    "papermill": {
     "duration": 0.020585,
     "end_time": "2021-12-29T09:19:11.014037",
     "exception": false,
     "start_time": "2021-12-29T09:19:10.993452",
     "status": "completed"
    },
    "tags": []
   },
   "outputs": [],
   "source": [
    "# Error rate & Feature size\n",
    "def Fun(xtrain, ytrain, x, opts):\n",
    "    # parameters\n",
    "    alpha = 0.99\n",
    "    beta = 1 - alpha\n",
    "    # original feature size\n",
    "    max_feat = len(x)\n",
    "    # Number of selected features\n",
    "    num_feat = np.sum(x == 1)\n",
    "    # Solve if no feature selected\n",
    "    if num_feat == 0:\n",
    "        cost = 1\n",
    "    else:\n",
    "        # Get error rate\n",
    "        error, acc = error_rate(xtrain, ytrain, x, opts)\n",
    "        # Objective function\n",
    "        cost = alpha * error + beta * (num_feat / max_feat)\n",
    "        \n",
    "    return cost"
   ]
  },
  {
   "cell_type": "code",
   "execution_count": 8,
   "id": "98a85f97",
   "metadata": {
    "execution": {
     "iopub.execute_input": "2021-12-29T09:19:11.044285Z",
     "iopub.status.busy": "2021-12-29T09:19:11.043475Z",
     "iopub.status.idle": "2021-12-29T09:19:11.045420Z",
     "shell.execute_reply": "2021-12-29T09:19:11.045838Z",
     "shell.execute_reply.started": "2021-12-29T09:07:56.462367Z"
    },
    "papermill": {
     "duration": 0.019409,
     "end_time": "2021-12-29T09:19:11.045961",
     "exception": false,
     "start_time": "2021-12-29T09:19:11.026552",
     "status": "completed"
    },
    "tags": []
   },
   "outputs": [],
   "source": [
    "def init_position(lb, ub, N, dim):\n",
    "    X = np.zeros([N, dim], dtype='float')\n",
    "    for i in range(N):\n",
    "        for d in range(dim):\n",
    "            X[i,d] = lb[0,d] + (ub[0,d] - lb[0,d]) * rand()        \n",
    "    \n",
    "    return X"
   ]
  },
  {
   "cell_type": "code",
   "execution_count": 9,
   "id": "8e2fcca6",
   "metadata": {
    "execution": {
     "iopub.execute_input": "2021-12-29T09:19:11.074482Z",
     "iopub.status.busy": "2021-12-29T09:19:11.073710Z",
     "iopub.status.idle": "2021-12-29T09:19:11.076152Z",
     "shell.execute_reply": "2021-12-29T09:19:11.075657Z",
     "shell.execute_reply.started": "2021-12-29T09:07:57.342519Z"
    },
    "papermill": {
     "duration": 0.018669,
     "end_time": "2021-12-29T09:19:11.076252",
     "exception": false,
     "start_time": "2021-12-29T09:19:11.057583",
     "status": "completed"
    },
    "tags": []
   },
   "outputs": [],
   "source": [
    "def binary_conversion(X, thres, N, dim):\n",
    "    Xbin = np.zeros([N, dim], dtype='int')\n",
    "    for i in range(N):\n",
    "        for d in range(dim):\n",
    "            if X[i,d] > thres:\n",
    "                Xbin[i,d] = 1\n",
    "            else:\n",
    "                Xbin[i,d] = 0\n",
    "    \n",
    "    return Xbin"
   ]
  },
  {
   "cell_type": "code",
   "execution_count": 10,
   "id": "8d6dd0ff",
   "metadata": {
    "execution": {
     "iopub.execute_input": "2021-12-29T09:19:11.103612Z",
     "iopub.status.busy": "2021-12-29T09:19:11.103027Z",
     "iopub.status.idle": "2021-12-29T09:19:11.105681Z",
     "shell.execute_reply": "2021-12-29T09:19:11.105232Z",
     "shell.execute_reply.started": "2021-12-29T09:07:59.652349Z"
    },
    "papermill": {
     "duration": 0.017713,
     "end_time": "2021-12-29T09:19:11.105785",
     "exception": false,
     "start_time": "2021-12-29T09:19:11.088072",
     "status": "completed"
    },
    "tags": []
   },
   "outputs": [],
   "source": [
    "def boundary(x, lb, ub):\n",
    "    if x < lb:\n",
    "        x = lb\n",
    "    if x > ub:\n",
    "        x = ub\n",
    "    \n",
    "    return x"
   ]
  },
  {
   "cell_type": "code",
   "execution_count": 11,
   "id": "91344344",
   "metadata": {
    "execution": {
     "iopub.execute_input": "2021-12-29T09:19:11.146970Z",
     "iopub.status.busy": "2021-12-29T09:19:11.146267Z",
     "iopub.status.idle": "2021-12-29T09:19:11.148842Z",
     "shell.execute_reply": "2021-12-29T09:19:11.148393Z",
     "shell.execute_reply.started": "2021-12-29T09:08:00.151161Z"
    },
    "papermill": {
     "duration": 0.031483,
     "end_time": "2021-12-29T09:19:11.148945",
     "exception": false,
     "start_time": "2021-12-29T09:19:11.117462",
     "status": "completed"
    },
    "tags": []
   },
   "outputs": [],
   "source": [
    "def jfs(xtrain, ytrain, opts):\n",
    "    # Parameters\n",
    "    ub     = 1\n",
    "    lb     = 0\n",
    "    thres  = 0.5\n",
    "    \n",
    "    N          = opts['N']\n",
    "    max_iter   = opts['T']\n",
    "        \n",
    "    # Dimension\n",
    "    dim = np.size(xtrain, 1)\n",
    "    if np.size(lb) == 1:\n",
    "        ub = ub * np.ones([1, dim], dtype='float')\n",
    "        lb = lb * np.ones([1, dim], dtype='float')\n",
    "        \n",
    "    # Initialize position \n",
    "    X     = init_position(lb, ub, N, dim)\n",
    "    \n",
    "    # Binary conversion\n",
    "    Xbin  = binary_conversion(X, thres, N, dim)\n",
    "    \n",
    "    # Fitness at first iteration\n",
    "    fit   = np.zeros([N, 1], dtype='float')\n",
    "    Xgb   = np.zeros([1, dim], dtype='float')\n",
    "    fitG  = float('inf')\n",
    "    \n",
    "    for i in range(N):\n",
    "        fit[i,0] = Fun(xtrain, ytrain, Xbin[i,:], opts)\n",
    "        if fit[i,0] < fitG:\n",
    "            Xgb[0,:] = X[i,:]\n",
    "            fitG     = fit[i,0]\n",
    "    \n",
    "    # Pre\n",
    "    curve = np.zeros([1, max_iter], dtype='float') \n",
    "    t     = 0\n",
    "    \n",
    "    curve[0,t] = fitG.copy()\n",
    "    print(\"Generation:\", t + 1)\n",
    "    print(\"Best (JA):\", curve[0,t])\n",
    "    t += 1\n",
    "    \n",
    "    while t < max_iter:  \n",
    "        Xnew  = np.zeros([N, dim], dtype='float') \n",
    "        \n",
    "        # Identify best & worst in population\n",
    "        idx_max = np.argmax(fit)\n",
    "        Xw      = X[idx_max,np.newaxis,:].copy()\n",
    "        idx_min = np.argmin(fit)\n",
    "        Xb      = X[idx_min,np.newaxis,:].copy()       \n",
    "          \n",
    "        for i in range(N):\n",
    "            for d in range(dim):\n",
    "                # Random numbers\n",
    "                r1 = rand();\n",
    "                r2 = rand();\n",
    "                # Position update (1)\n",
    "                Xnew[i,d] = X[i,d] + r1 * (Xb[0,d] - abs(X[i,d])) - r2 * (Xw[0,d] - abs(X[i,d])) \n",
    "                # Boundary\n",
    "                Xnew[i,d] = boundary(Xnew[i,d], lb[0,d], ub[0,d])\n",
    "                \n",
    "        # Binary conversion\n",
    "        Xbin = binary_conversion(Xnew, thres, N, dim)\n",
    "        \n",
    "        # Greedy selection\n",
    "        for i in range(N):\n",
    "            Fnew = Fun(xtrain, ytrain, Xbin[i,:], opts)\n",
    "            if Fnew < fit[i,0]:\n",
    "                X[i,:]   = Xnew[i,:]\n",
    "                fit[i,0] = Fnew             \n",
    "                \n",
    "            if fit[i,0] < fitG:\n",
    "                Xgb[0,:] = X[i,:]\n",
    "                fitG     = fit[i,0]\n",
    "             \n",
    "        # Store result\n",
    "        curve[0,t] = fitG.copy()\n",
    "        print(\"Generation:\", t + 1)\n",
    "        print(\"Best (JA):\", curve[0,t])\n",
    "        t += 1            \n",
    "\n",
    "            \n",
    "    # Best feature subset\n",
    "    Gbin       = binary_conversion(Xgb, thres, 1, dim) \n",
    "    Gbin       = Gbin.reshape(dim)\n",
    "    pos        = np.asarray(range(0, dim))    \n",
    "    sel_index  = pos[Gbin == 1]\n",
    "    num_feat   = len(sel_index)\n",
    "    # Create dictionary\n",
    "    ja_data = {'sf': sel_index, 'c': curve, 'nf': num_feat}\n",
    "    \n",
    "    return ja_data"
   ]
  },
  {
   "cell_type": "code",
   "execution_count": 12,
   "id": "eaff12ee",
   "metadata": {
    "execution": {
     "iopub.execute_input": "2021-12-29T09:19:11.177828Z",
     "iopub.status.busy": "2021-12-29T09:19:11.177181Z",
     "iopub.status.idle": "2021-12-29T09:19:11.204964Z",
     "shell.execute_reply": "2021-12-29T09:19:11.205449Z",
     "shell.execute_reply.started": "2021-12-29T09:08:01.121574Z"
    },
    "papermill": {
     "duration": 0.045077,
     "end_time": "2021-12-29T09:19:11.205673",
     "exception": false,
     "start_time": "2021-12-29T09:19:11.160596",
     "status": "completed"
    },
    "tags": []
   },
   "outputs": [],
   "source": [
    "xtrain, xtest, ytrain, ytest = train_test_split(features_C_NMC_resnet, targets_C_NMC, test_size=0.3, shuffle=True)\n",
    "fold = {'xt':xtrain, 'yt':ytrain, 'xv':xtest, 'yv':ytest}"
   ]
  },
  {
   "cell_type": "code",
   "execution_count": 13,
   "id": "60ff8cc1",
   "metadata": {
    "execution": {
     "iopub.execute_input": "2021-12-29T09:19:11.232819Z",
     "iopub.status.busy": "2021-12-29T09:19:11.232032Z",
     "iopub.status.idle": "2021-12-29T09:19:11.236926Z",
     "shell.execute_reply": "2021-12-29T09:19:11.236455Z",
     "shell.execute_reply.started": "2021-12-29T09:08:02.535669Z"
    },
    "papermill": {
     "duration": 0.019281,
     "end_time": "2021-12-29T09:19:11.237040",
     "exception": false,
     "start_time": "2021-12-29T09:19:11.217759",
     "status": "completed"
    },
    "tags": []
   },
   "outputs": [],
   "source": [
    "P    = 0.8       # switch probability\n",
    "k     = 5     # k-value in KNN\n",
    "N     = 20    # number of\n",
    "T     = 100   # maximum number of iterations\n",
    "opts = {'k':k, 'fold':fold, 'N':N, 'T':T, 'P':P}"
   ]
  },
  {
   "cell_type": "code",
   "execution_count": 14,
   "id": "e37f5499",
   "metadata": {
    "execution": {
     "iopub.execute_input": "2021-12-29T09:19:11.284207Z",
     "iopub.status.busy": "2021-12-29T09:19:11.268736Z",
     "iopub.status.idle": "2021-12-29T09:27:28.203573Z",
     "shell.execute_reply": "2021-12-29T09:27:28.203142Z",
     "shell.execute_reply.started": "2021-12-29T09:08:03.978843Z"
    },
    "papermill": {
     "duration": 496.954494,
     "end_time": "2021-12-29T09:27:28.203705",
     "exception": false,
     "start_time": "2021-12-29T09:19:11.249211",
     "status": "completed"
    },
    "tags": []
   },
   "outputs": [
    {
     "name": "stdout",
     "output_type": "stream",
     "text": [
      "Generation: 1\n",
      "Best (JA): 0.028304685435658648\n",
      "Generation: 2\n",
      "Best (JA): 0.027589349856321818\n",
      "Generation: 3\n",
      "Best (JA): 0.027589349856321818\n",
      "Generation: 4\n",
      "Best (JA): 0.027192619566653455\n",
      "Generation: 5\n",
      "Best (JA): 0.02706241123332012\n",
      "Generation: 6\n",
      "Best (JA): 0.02706241123332012\n",
      "Generation: 7\n",
      "Best (JA): 0.02706241123332012\n",
      "Generation: 8\n",
      "Best (JA): 0.02686099344365176\n",
      "Generation: 9\n",
      "Best (JA): 0.02686099344365176\n",
      "Generation: 10\n",
      "Best (JA): 0.02686099344365176\n",
      "Generation: 11\n",
      "Best (JA): 0.025631740074646567\n",
      "Generation: 12\n",
      "Best (JA): 0.025631740074646567\n",
      "Generation: 13\n",
      "Best (JA): 0.025631740074646567\n",
      "Generation: 14\n",
      "Best (JA): 0.025631740074646567\n",
      "Generation: 15\n",
      "Best (JA): 0.025631740074646567\n",
      "Generation: 16\n",
      "Best (JA): 0.025631740074646567\n",
      "Generation: 17\n",
      "Best (JA): 0.025623059519091013\n",
      "Generation: 18\n",
      "Best (JA): 0.025623059519091013\n",
      "Generation: 19\n",
      "Best (JA): 0.02558399701909101\n",
      "Generation: 20\n",
      "Best (JA): 0.02558399701909101\n",
      "Generation: 21\n",
      "Best (JA): 0.02558399701909101\n",
      "Generation: 22\n",
      "Best (JA): 0.02558399701909101\n",
      "Generation: 23\n",
      "Best (JA): 0.02558399701909101\n",
      "Generation: 24\n",
      "Best (JA): 0.02558399701909101\n",
      "Generation: 25\n",
      "Best (JA): 0.02558399701909101\n",
      "Generation: 26\n",
      "Best (JA): 0.02558399701909101\n",
      "Generation: 27\n",
      "Best (JA): 0.02558399701909101\n",
      "Generation: 28\n",
      "Best (JA): 0.02558399701909101\n",
      "Generation: 29\n",
      "Best (JA): 0.02558399701909101\n",
      "Generation: 30\n",
      "Best (JA): 0.02558399701909101\n",
      "Generation: 31\n",
      "Best (JA): 0.025557955352424347\n",
      "Generation: 32\n",
      "Best (JA): 0.025557955352424347\n",
      "Generation: 33\n",
      "Best (JA): 0.025557955352424347\n",
      "Generation: 34\n",
      "Best (JA): 0.025557955352424347\n",
      "Generation: 35\n",
      "Best (JA): 0.025557955352424347\n",
      "Generation: 36\n",
      "Best (JA): 0.025557955352424347\n",
      "Generation: 37\n",
      "Best (JA): 0.025557955352424347\n",
      "Generation: 38\n",
      "Best (JA): 0.025557955352424347\n",
      "Generation: 39\n",
      "Best (JA): 0.025557955352424347\n",
      "Generation: 40\n",
      "Best (JA): 0.025557955352424347\n",
      "Generation: 41\n",
      "Best (JA): 0.025557955352424347\n",
      "Generation: 42\n",
      "Best (JA): 0.025557955352424347\n",
      "Generation: 43\n",
      "Best (JA): 0.025557955352424347\n",
      "Generation: 44\n",
      "Best (JA): 0.025557955352424347\n",
      "Generation: 45\n",
      "Best (JA): 0.025557955352424347\n",
      "Generation: 46\n",
      "Best (JA): 0.024938105884198734\n",
      "Generation: 47\n",
      "Best (JA): 0.024938105884198734\n",
      "Generation: 48\n",
      "Best (JA): 0.024938105884198734\n",
      "Generation: 49\n",
      "Best (JA): 0.024938105884198734\n",
      "Generation: 50\n",
      "Best (JA): 0.024938105884198734\n",
      "Generation: 51\n",
      "Best (JA): 0.024938105884198734\n",
      "Generation: 52\n",
      "Best (JA): 0.024938105884198734\n",
      "Generation: 53\n",
      "Best (JA): 0.024938105884198734\n",
      "Generation: 54\n",
      "Best (JA): 0.024938105884198734\n",
      "Generation: 55\n",
      "Best (JA): 0.024938105884198734\n",
      "Generation: 56\n",
      "Best (JA): 0.024938105884198734\n",
      "Generation: 57\n",
      "Best (JA): 0.024938105884198734\n",
      "Generation: 58\n",
      "Best (JA): 0.024938105884198734\n",
      "Generation: 59\n",
      "Best (JA): 0.024938105884198734\n",
      "Generation: 60\n",
      "Best (JA): 0.024938105884198734\n",
      "Generation: 61\n",
      "Best (JA): 0.024938105884198734\n",
      "Generation: 62\n",
      "Best (JA): 0.024938105884198734\n",
      "Generation: 63\n",
      "Best (JA): 0.024938105884198734\n",
      "Generation: 64\n",
      "Best (JA): 0.024938105884198734\n",
      "Generation: 65\n",
      "Best (JA): 0.024938105884198734\n",
      "Generation: 66\n",
      "Best (JA): 0.024938105884198734\n",
      "Generation: 67\n",
      "Best (JA): 0.024938105884198734\n",
      "Generation: 68\n",
      "Best (JA): 0.024938105884198734\n",
      "Generation: 69\n",
      "Best (JA): 0.024938105884198734\n",
      "Generation: 70\n",
      "Best (JA): 0.024938105884198734\n",
      "Generation: 71\n",
      "Best (JA): 0.024938105884198734\n",
      "Generation: 72\n",
      "Best (JA): 0.024938105884198734\n",
      "Generation: 73\n",
      "Best (JA): 0.024938105884198734\n",
      "Generation: 74\n",
      "Best (JA): 0.024938105884198734\n",
      "Generation: 75\n",
      "Best (JA): 0.024938105884198734\n",
      "Generation: 76\n",
      "Best (JA): 0.024938105884198734\n",
      "Generation: 77\n",
      "Best (JA): 0.024938105884198734\n",
      "Generation: 78\n",
      "Best (JA): 0.024938105884198734\n",
      "Generation: 79\n",
      "Best (JA): 0.024938105884198734\n",
      "Generation: 80\n",
      "Best (JA): 0.024938105884198734\n",
      "Generation: 81\n",
      "Best (JA): 0.024938105884198734\n",
      "Generation: 82\n",
      "Best (JA): 0.024938105884198734\n",
      "Generation: 83\n",
      "Best (JA): 0.024938105884198734\n",
      "Generation: 84\n",
      "Best (JA): 0.024938105884198734\n",
      "Generation: 85\n",
      "Best (JA): 0.024938105884198734\n",
      "Generation: 86\n",
      "Best (JA): 0.024938105884198734\n",
      "Generation: 87\n",
      "Best (JA): 0.024938105884198734\n",
      "Generation: 88\n",
      "Best (JA): 0.024938105884198734\n",
      "Generation: 89\n",
      "Best (JA): 0.024938105884198734\n",
      "Generation: 90\n",
      "Best (JA): 0.024938105884198734\n",
      "Generation: 91\n",
      "Best (JA): 0.024938105884198734\n",
      "Generation: 92\n",
      "Best (JA): 0.024938105884198734\n",
      "Generation: 93\n",
      "Best (JA): 0.024938105884198734\n",
      "Generation: 94\n",
      "Best (JA): 0.024938105884198734\n",
      "Generation: 95\n",
      "Best (JA): 0.024938105884198734\n",
      "Generation: 96\n",
      "Best (JA): 0.02492942532864318\n",
      "Generation: 97\n",
      "Best (JA): 0.02492942532864318\n",
      "Generation: 98\n",
      "Best (JA): 0.02492942532864318\n",
      "Generation: 99\n",
      "Best (JA): 0.02492942532864318\n",
      "Generation: 100\n",
      "Best (JA): 0.02492942532864318\n",
      "Run Time --- 496.50156116485596 seconds ---\n",
      "Accuracy: 97.97859690844233\n",
      "Feature Size: 1133\n"
     ]
    },
    {
     "data": {
      "image/png": "[encoded data removed]",
      "text/plain": [
       "<Figure size 432x288 with 1 Axes>"
      ]
     },
     "metadata": {
      "needs_background": "light"
     },
     "output_type": "display_data"
    }
   ],
   "source": [
    "# perform feature selection\n",
    "start_time = time.time()\n",
    "fmdl  = jfs(features_C_NMC_resnet, targets_C_NMC, opts)\n",
    "print(\"Run Time --- %s seconds ---\" % (time.time() - start_time))\n",
    "\n",
    "sf    = fmdl['sf']\n",
    "\n",
    "# model with selected features\n",
    "num_train = np.size(xtrain, 0)\n",
    "num_valid = np.size(xtest, 0)\n",
    "x_train   = xtrain[:, sf]\n",
    "y_train   = ytrain.reshape(num_train)  # Solve bug\n",
    "x_valid   = xtest[:, sf]\n",
    "y_valid   = ytest.reshape(num_valid)  # Solve bug\n",
    "\n",
    "mdl       = KNeighborsClassifier(n_neighbors= k) \n",
    "mdl.fit(x_train, y_train)\n",
    "\n",
    "# accuracy\n",
    "y_pred    = mdl.predict(x_valid)\n",
    "Acc       = np.sum(y_valid == y_pred)  / num_valid\n",
    "print(\"Accuracy:\", 100 * Acc)\n",
    "\n",
    "# number of selected features\n",
    "num_feat = fmdl['nf']\n",
    "print(\"Feature Size:\", num_feat)\n",
    "\n",
    "# plot convergence\n",
    "curve   = fmdl['c']\n",
    "curve   = curve.reshape(np.size(curve,1))\n",
    "x       = np.arange(0, opts['T'], 1.0) + 1.0\n",
    "\n",
    "fig, ax = plt.subplots()\n",
    "ax.plot(x, curve, 'o-')\n",
    "ax.set_xlabel('Number of Iterations')\n",
    "ax.set_ylabel('Fitness')\n",
    "ax.set_title('Jaya')\n",
    "ax.grid()\n",
    "plt.show()"
   ]
  },
  {
   "cell_type": "code",
   "execution_count": 15,
   "id": "f4308b99",
   "metadata": {
    "execution": {
     "iopub.execute_input": "2021-12-29T09:27:28.291278Z",
     "iopub.status.busy": "2021-12-29T09:27:28.290540Z",
     "iopub.status.idle": "2021-12-29T09:27:28.293174Z",
     "shell.execute_reply": "2021-12-29T09:27:28.293643Z",
     "shell.execute_reply.started": "2021-12-29T09:16:22.580256Z"
    },
    "papermill": {
     "duration": 0.051236,
     "end_time": "2021-12-29T09:27:28.293795",
     "exception": false,
     "start_time": "2021-12-29T09:27:28.242559",
     "status": "completed"
    },
    "tags": []
   },
   "outputs": [],
   "source": [
    "np.save(\"SelectedFeaturesIndexs_C_NMC_ResNet_100iter.npy\", fmdl['sf'])"
   ]
  },
  {
   "cell_type": "code",
   "execution_count": null,
   "id": "ed5ee433",
   "metadata": {
    "papermill": {
     "duration": 0.038495,
     "end_time": "2021-12-29T09:27:28.372592",
     "exception": false,
     "start_time": "2021-12-29T09:27:28.334097",
     "status": "completed"
    },
    "tags": []
   },
   "outputs": [],
   "source": []
  }
 ],
 "metadata": {
  "kernelspec": {
   "display_name": "Python 3",
   "language": "python",
   "name": "python3"
  },
  "language_info": {
   "codemirror_mode": {
    "name": "ipython",
    "version": 3
   },
   "file_extension": ".py",
   "mimetype": "text/x-python",
   "name": "python",
   "nbconvert_exporter": "python",
   "pygments_lexer": "ipython3",
   "version": "3.7.12"
  },
  "papermill": {
   "default_parameters": {},
   "duration": 512.704422,
   "end_time": "2021-12-29T09:27:29.725696",
   "environment_variables": {},
   "exception": null,
   "input_path": "__notebook__.ipynb",
   "output_path": "__notebook__.ipynb",
   "parameters": {},
   "start_time": "2021-12-29T09:18:57.021274",
   "version": "2.3.3"
  }
 },
 "nbformat": 4,
 "nbformat_minor": 5
}
