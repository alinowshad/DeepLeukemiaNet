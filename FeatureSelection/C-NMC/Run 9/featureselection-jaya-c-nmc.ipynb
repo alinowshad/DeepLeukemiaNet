{
 "cells": [
  {
   "cell_type": "code",
   "execution_count": 1,
   "id": "3b972abd",
   "metadata": {
    "_cell_guid": "b1076dfc-b9ad-4769-8c92-a6c4dae69d19",
    "_uuid": "8f2839f25d086af736a60e9eeb907d3b93b6e0e5",
    "execution": {
     "iopub.execute_input": "2022-01-05T18:40:24.854809Z",
     "iopub.status.busy": "2022-01-05T18:40:24.853324Z",
     "iopub.status.idle": "2022-01-05T18:40:29.282707Z",
     "shell.execute_reply": "2022-01-05T18:40:29.282128Z",
     "shell.execute_reply.started": "2021-12-29T09:07:28.45758Z"
    },
    "papermill": {
     "duration": 4.447192,
     "end_time": "2022-01-05T18:40:29.282863",
     "exception": false,
     "start_time": "2022-01-05T18:40:24.835671",
     "status": "completed"
    },
    "tags": []
   },
   "outputs": [],
   "source": [
    "import pandas as pd, numpy as np\n",
    "from kaggle_datasets import KaggleDatasets\n",
    "from sklearn.preprocessing import StandardScaler\n",
    "from sklearn.ensemble import RandomForestClassifier\n",
    "from sklearn.model_selection import KFold\n",
    "from sklearn.metrics import roc_auc_score\n",
    "from glob import glob\n",
    "from PIL import Image\n",
    "from skimage import color\n",
    "import cv2, matplotlib.pyplot as plt\n",
    "import random\n",
    "import gc\n",
    "# Import essential libraries\n",
    "%matplotlib inline\n",
    "import matplotlib.pyplot as plt\n",
    "import pandas as pd\n",
    "from sklearn.model_selection import StratifiedKFold\n",
    "import itertools\n",
    "import seaborn as sns\n",
    "from sklearn.preprocessing import label_binarize\n",
    "from sklearn.metrics import confusion_matrix\n",
    "from sklearn.model_selection import train_test_split\n",
    "from sklearn.model_selection import train_test_split\n",
    "import os\n",
    "import cv2\n",
    "from IPython.display import SVG\n",
    "from sklearn.decomposition import PCA\n",
    "import numpy as np\n",
    "from numpy.random import rand\n",
    "import cudf, cuml\n",
    "from cuml.neighbors import KNeighborsClassifier\n",
    "from sklearn.model_selection import train_test_split\n",
    "import matplotlib.pyplot as plt\n",
    "import random\n",
    "from random import randrange\n",
    "import time"
   ]
  },
  {
   "cell_type": "code",
   "execution_count": 2,
   "id": "e388f232",
   "metadata": {
    "execution": {
     "iopub.execute_input": "2022-01-05T18:40:29.311666Z",
     "iopub.status.busy": "2022-01-05T18:40:29.311042Z",
     "iopub.status.idle": "2022-01-05T18:40:31.175732Z",
     "shell.execute_reply": "2022-01-05T18:40:31.175266Z",
     "shell.execute_reply.started": "2021-12-29T09:07:49.183767Z"
    },
    "papermill": {
     "duration": 1.880346,
     "end_time": "2022-01-05T18:40:31.175860",
     "exception": false,
     "start_time": "2022-01-05T18:40:29.295514",
     "status": "completed"
    },
    "tags": []
   },
   "outputs": [],
   "source": [
    "features_C_NMC_resnet = np.load('../input/pca-pretraining-featureextraction-resnet-c-nmc/C_NMC_ExtractedFeatures.npy')\n",
    "targets_C_NMC = np.load('../input/pca-pretraining-featureextraction-resnet-c-nmc/Targets.npy')"
   ]
  },
  {
   "cell_type": "code",
   "execution_count": 3,
   "id": "dd9b0ba8",
   "metadata": {
    "execution": {
     "iopub.execute_input": "2022-01-05T18:40:31.204731Z",
     "iopub.status.busy": "2022-01-05T18:40:31.203901Z",
     "iopub.status.idle": "2022-01-05T18:40:31.535852Z",
     "shell.execute_reply": "2022-01-05T18:40:31.534828Z",
     "shell.execute_reply.started": "2021-12-29T09:07:50.676583Z"
    },
    "papermill": {
     "duration": 0.348052,
     "end_time": "2022-01-05T18:40:31.536013",
     "exception": false,
     "start_time": "2022-01-05T18:40:31.187961",
     "status": "completed"
    },
    "tags": []
   },
   "outputs": [],
   "source": [
    "sc = StandardScaler()\n",
    "features_C_NMC_resnet = sc.fit_transform(features_C_NMC_resnet)"
   ]
  },
  {
   "cell_type": "code",
   "execution_count": 4,
   "id": "0d6ca01c",
   "metadata": {
    "execution": {
     "iopub.execute_input": "2022-01-05T18:40:31.569557Z",
     "iopub.status.busy": "2022-01-05T18:40:31.566192Z",
     "iopub.status.idle": "2022-01-05T18:40:31.596588Z",
     "shell.execute_reply": "2022-01-05T18:40:31.596148Z",
     "shell.execute_reply.started": "2021-12-29T09:07:51.019348Z"
    },
    "papermill": {
     "duration": 0.048811,
     "end_time": "2022-01-05T18:40:31.596710",
     "exception": false,
     "start_time": "2022-01-05T18:40:31.547899",
     "status": "completed"
    },
    "tags": []
   },
   "outputs": [],
   "source": [
    "targets_C_NMC = [np.argmax(y, axis=None, out=None) for y in targets_C_NMC]\n",
    "targets_C_NMC = np.asarray(targets_C_NMC)"
   ]
  },
  {
   "cell_type": "code",
   "execution_count": 5,
   "id": "ee046f08",
   "metadata": {
    "execution": {
     "iopub.execute_input": "2022-01-05T18:40:31.625096Z",
     "iopub.status.busy": "2022-01-05T18:40:31.623775Z",
     "iopub.status.idle": "2022-01-05T18:40:31.630035Z",
     "shell.execute_reply": "2022-01-05T18:40:31.629418Z",
     "shell.execute_reply.started": "2021-12-29T09:07:51.107505Z"
    },
    "papermill": {
     "duration": 0.021491,
     "end_time": "2022-01-05T18:40:31.630182",
     "exception": false,
     "start_time": "2022-01-05T18:40:31.608691",
     "status": "completed"
    },
    "tags": []
   },
   "outputs": [
    {
     "name": "stdout",
     "output_type": "stream",
     "text": [
      "Features C-NMC ResNet:  (8410, 2304)\n",
      "Labels C-NMC:  (8410,)\n"
     ]
    }
   ],
   "source": [
    "print(\"Features C-NMC ResNet: \", features_C_NMC_resnet.shape)\n",
    "print(\"Labels C-NMC: \", targets_C_NMC.shape)"
   ]
  },
  {
   "cell_type": "code",
   "execution_count": 6,
   "id": "4b1cfcce",
   "metadata": {
    "execution": {
     "iopub.execute_input": "2022-01-05T18:40:31.664753Z",
     "iopub.status.busy": "2022-01-05T18:40:31.664199Z",
     "iopub.status.idle": "2022-01-05T18:40:31.667800Z",
     "shell.execute_reply": "2022-01-05T18:40:31.667346Z",
     "shell.execute_reply.started": "2021-12-29T09:07:54.806078Z"
    },
    "papermill": {
     "duration": 0.02488,
     "end_time": "2022-01-05T18:40:31.667934",
     "exception": false,
     "start_time": "2022-01-05T18:40:31.643054",
     "status": "completed"
    },
    "tags": []
   },
   "outputs": [],
   "source": [
    "# error rate\n",
    "def error_rate(xtrain, ytrain, x, opts):\n",
    "    # parameters\n",
    "    k  = opts['k']\n",
    "    fold = opts['fold']\n",
    "    xt = fold['xt']\n",
    "    yt = fold['yt']\n",
    "    xv = fold['xv']\n",
    "    yv = fold['yv']\n",
    "    \n",
    "    # number of instances\n",
    "    num_train = np.size(xt, 0)\n",
    "    num_valid = np.size(xv, 0)\n",
    "    # Define selected features\n",
    "    xtrain = xt[:, x == 1]\n",
    "    ytrain = yt.reshape(num_train)\n",
    "    xvalid = xv[:, x == 1]\n",
    "    yvalid = yv.reshape(num_valid)\n",
    "    # Training\n",
    "    mdl     = KNeighborsClassifier(n_neighbors= k)\n",
    "    mdl.fit(xtrain, ytrain)\n",
    "    # Prediction\n",
    "    ypred   = mdl.predict(xvalid)\n",
    "    acc     = np.sum(yvalid == ypred) / num_valid\n",
    "    error   = 1 - acc\n",
    "    \n",
    "    return error, acc\n",
    "# Error rate & Feature size\n",
    "def Fun(xtrain, ytrain, x, opts):\n",
    "    # parameters\n",
    "    alpha = 0.99\n",
    "    beta = 1 - alpha\n",
    "    # original feature size\n",
    "    max_feat = len(x)\n",
    "    # Number of selected features\n",
    "    num_feat = np.sum(x == 1)\n",
    "    # Solve if no feature selected\n",
    "    if num_feat == 0:\n",
    "        cost = 1\n",
    "    else:\n",
    "        # Get error rate\n",
    "        error, acc = error_rate(xtrain, ytrain, x, opts)\n",
    "        # Objective function\n",
    "        cost = alpha * error + beta * (num_feat / max_feat)\n",
    "        \n",
    "    return cost"
   ]
  },
  {
   "cell_type": "code",
   "execution_count": 7,
   "id": "2759a8c9",
   "metadata": {
    "execution": {
     "iopub.execute_input": "2022-01-05T18:40:31.698305Z",
     "iopub.status.busy": "2022-01-05T18:40:31.697542Z",
     "iopub.status.idle": "2022-01-05T18:40:31.699958Z",
     "shell.execute_reply": "2022-01-05T18:40:31.699546Z",
     "shell.execute_reply.started": "2021-12-29T09:07:55.73799Z"
    },
    "papermill": {
     "duration": 0.020003,
     "end_time": "2022-01-05T18:40:31.700070",
     "exception": false,
     "start_time": "2022-01-05T18:40:31.680067",
     "status": "completed"
    },
    "tags": []
   },
   "outputs": [],
   "source": [
    "# Error rate & Feature size\n",
    "def Fun(xtrain, ytrain, x, opts):\n",
    "    # parameters\n",
    "    alpha = 0.99\n",
    "    beta = 1 - alpha\n",
    "    # original feature size\n",
    "    max_feat = len(x)\n",
    "    # Number of selected features\n",
    "    num_feat = np.sum(x == 1)\n",
    "    # Solve if no feature selected\n",
    "    if num_feat == 0:\n",
    "        cost = 1\n",
    "    else:\n",
    "        # Get error rate\n",
    "        error, acc = error_rate(xtrain, ytrain, x, opts)\n",
    "        # Objective function\n",
    "        cost = alpha * error + beta * (num_feat / max_feat)\n",
    "        \n",
    "    return cost"
   ]
  },
  {
   "cell_type": "code",
   "execution_count": 8,
   "id": "30d99c9b",
   "metadata": {
    "execution": {
     "iopub.execute_input": "2022-01-05T18:40:31.730169Z",
     "iopub.status.busy": "2022-01-05T18:40:31.729283Z",
     "iopub.status.idle": "2022-01-05T18:40:31.731100Z",
     "shell.execute_reply": "2022-01-05T18:40:31.731529Z",
     "shell.execute_reply.started": "2021-12-29T09:07:56.462367Z"
    },
    "papermill": {
     "duration": 0.019653,
     "end_time": "2022-01-05T18:40:31.731655",
     "exception": false,
     "start_time": "2022-01-05T18:40:31.712002",
     "status": "completed"
    },
    "tags": []
   },
   "outputs": [],
   "source": [
    "def init_position(lb, ub, N, dim):\n",
    "    X = np.zeros([N, dim], dtype='float')\n",
    "    for i in range(N):\n",
    "        for d in range(dim):\n",
    "            X[i,d] = lb[0,d] + (ub[0,d] - lb[0,d]) * rand()        \n",
    "    \n",
    "    return X"
   ]
  },
  {
   "cell_type": "code",
   "execution_count": 9,
   "id": "79e48b8a",
   "metadata": {
    "execution": {
     "iopub.execute_input": "2022-01-05T18:40:31.762309Z",
     "iopub.status.busy": "2022-01-05T18:40:31.761434Z",
     "iopub.status.idle": "2022-01-05T18:40:31.763430Z",
     "shell.execute_reply": "2022-01-05T18:40:31.763838Z",
     "shell.execute_reply.started": "2021-12-29T09:07:57.342519Z"
    },
    "papermill": {
     "duration": 0.020262,
     "end_time": "2022-01-05T18:40:31.763992",
     "exception": false,
     "start_time": "2022-01-05T18:40:31.743730",
     "status": "completed"
    },
    "tags": []
   },
   "outputs": [],
   "source": [
    "def binary_conversion(X, thres, N, dim):\n",
    "    Xbin = np.zeros([N, dim], dtype='int')\n",
    "    for i in range(N):\n",
    "        for d in range(dim):\n",
    "            if X[i,d] > thres:\n",
    "                Xbin[i,d] = 1\n",
    "            else:\n",
    "                Xbin[i,d] = 0\n",
    "    \n",
    "    return Xbin"
   ]
  },
  {
   "cell_type": "code",
   "execution_count": 10,
   "id": "6ac3e9f7",
   "metadata": {
    "execution": {
     "iopub.execute_input": "2022-01-05T18:40:31.792977Z",
     "iopub.status.busy": "2022-01-05T18:40:31.792179Z",
     "iopub.status.idle": "2022-01-05T18:40:31.794607Z",
     "shell.execute_reply": "2022-01-05T18:40:31.794181Z",
     "shell.execute_reply.started": "2021-12-29T09:07:59.652349Z"
    },
    "papermill": {
     "duration": 0.018718,
     "end_time": "2022-01-05T18:40:31.794725",
     "exception": false,
     "start_time": "2022-01-05T18:40:31.776007",
     "status": "completed"
    },
    "tags": []
   },
   "outputs": [],
   "source": [
    "def boundary(x, lb, ub):\n",
    "    if x < lb:\n",
    "        x = lb\n",
    "    if x > ub:\n",
    "        x = ub\n",
    "    \n",
    "    return x"
   ]
  },
  {
   "cell_type": "code",
   "execution_count": 11,
   "id": "e96b78e8",
   "metadata": {
    "execution": {
     "iopub.execute_input": "2022-01-05T18:40:31.838200Z",
     "iopub.status.busy": "2022-01-05T18:40:31.837262Z",
     "iopub.status.idle": "2022-01-05T18:40:31.839050Z",
     "shell.execute_reply": "2022-01-05T18:40:31.839413Z",
     "shell.execute_reply.started": "2021-12-29T09:08:00.151161Z"
    },
    "papermill": {
     "duration": 0.03282,
     "end_time": "2022-01-05T18:40:31.839559",
     "exception": false,
     "start_time": "2022-01-05T18:40:31.806739",
     "status": "completed"
    },
    "tags": []
   },
   "outputs": [],
   "source": [
    "def jfs(xtrain, ytrain, opts):\n",
    "    # Parameters\n",
    "    ub     = 1\n",
    "    lb     = 0\n",
    "    thres  = 0.5\n",
    "    \n",
    "    N          = opts['N']\n",
    "    max_iter   = opts['T']\n",
    "        \n",
    "    # Dimension\n",
    "    dim = np.size(xtrain, 1)\n",
    "    if np.size(lb) == 1:\n",
    "        ub = ub * np.ones([1, dim], dtype='float')\n",
    "        lb = lb * np.ones([1, dim], dtype='float')\n",
    "        \n",
    "    # Initialize position \n",
    "    X     = init_position(lb, ub, N, dim)\n",
    "    \n",
    "    # Binary conversion\n",
    "    Xbin  = binary_conversion(X, thres, N, dim)\n",
    "    \n",
    "    # Fitness at first iteration\n",
    "    fit   = np.zeros([N, 1], dtype='float')\n",
    "    Xgb   = np.zeros([1, dim], dtype='float')\n",
    "    fitG  = float('inf')\n",
    "    \n",
    "    for i in range(N):\n",
    "        fit[i,0] = Fun(xtrain, ytrain, Xbin[i,:], opts)\n",
    "        if fit[i,0] < fitG:\n",
    "            Xgb[0,:] = X[i,:]\n",
    "            fitG     = fit[i,0]\n",
    "    \n",
    "    # Pre\n",
    "    curve = np.zeros([1, max_iter], dtype='float') \n",
    "    t     = 0\n",
    "    \n",
    "    curve[0,t] = fitG.copy()\n",
    "    print(\"Generation:\", t + 1)\n",
    "    print(\"Best (JA):\", curve[0,t])\n",
    "    t += 1\n",
    "    \n",
    "    while t < max_iter:  \n",
    "        Xnew  = np.zeros([N, dim], dtype='float') \n",
    "        \n",
    "        # Identify best & worst in population\n",
    "        idx_max = np.argmax(fit)\n",
    "        Xw      = X[idx_max,np.newaxis,:].copy()\n",
    "        idx_min = np.argmin(fit)\n",
    "        Xb      = X[idx_min,np.newaxis,:].copy()       \n",
    "          \n",
    "        for i in range(N):\n",
    "            for d in range(dim):\n",
    "                # Random numbers\n",
    "                r1 = rand();\n",
    "                r2 = rand();\n",
    "                # Position update (1)\n",
    "                Xnew[i,d] = X[i,d] + r1 * (Xb[0,d] - abs(X[i,d])) - r2 * (Xw[0,d] - abs(X[i,d])) \n",
    "                # Boundary\n",
    "                Xnew[i,d] = boundary(Xnew[i,d], lb[0,d], ub[0,d])\n",
    "                \n",
    "        # Binary conversion\n",
    "        Xbin = binary_conversion(Xnew, thres, N, dim)\n",
    "        \n",
    "        # Greedy selection\n",
    "        for i in range(N):\n",
    "            Fnew = Fun(xtrain, ytrain, Xbin[i,:], opts)\n",
    "            if Fnew < fit[i,0]:\n",
    "                X[i,:]   = Xnew[i,:]\n",
    "                fit[i,0] = Fnew             \n",
    "                \n",
    "            if fit[i,0] < fitG:\n",
    "                Xgb[0,:] = X[i,:]\n",
    "                fitG     = fit[i,0]\n",
    "             \n",
    "        # Store result\n",
    "        curve[0,t] = fitG.copy()\n",
    "        print(\"Generation:\", t + 1)\n",
    "        print(\"Best (JA):\", curve[0,t])\n",
    "        t += 1            \n",
    "\n",
    "            \n",
    "    # Best feature subset\n",
    "    Gbin       = binary_conversion(Xgb, thres, 1, dim) \n",
    "    Gbin       = Gbin.reshape(dim)\n",
    "    pos        = np.asarray(range(0, dim))    \n",
    "    sel_index  = pos[Gbin == 1]\n",
    "    num_feat   = len(sel_index)\n",
    "    # Create dictionary\n",
    "    ja_data = {'sf': sel_index, 'c': curve, 'nf': num_feat}\n",
    "    \n",
    "    return ja_data"
   ]
  },
  {
   "cell_type": "code",
   "execution_count": 12,
   "id": "3e232d1c",
   "metadata": {
    "execution": {
     "iopub.execute_input": "2022-01-05T18:40:31.871029Z",
     "iopub.status.busy": "2022-01-05T18:40:31.869809Z",
     "iopub.status.idle": "2022-01-05T18:40:31.897303Z",
     "shell.execute_reply": "2022-01-05T18:40:31.896785Z",
     "shell.execute_reply.started": "2021-12-29T09:08:01.121574Z"
    },
    "papermill": {
     "duration": 0.045773,
     "end_time": "2022-01-05T18:40:31.897444",
     "exception": false,
     "start_time": "2022-01-05T18:40:31.851671",
     "status": "completed"
    },
    "tags": []
   },
   "outputs": [],
   "source": [
    "xtrain, xtest, ytrain, ytest = train_test_split(features_C_NMC_resnet, targets_C_NMC, test_size=0.3, shuffle=True)\n",
    "fold = {'xt':xtrain, 'yt':ytrain, 'xv':xtest, 'yv':ytest}"
   ]
  },
  {
   "cell_type": "code",
   "execution_count": 13,
   "id": "624f4d78",
   "metadata": {
    "execution": {
     "iopub.execute_input": "2022-01-05T18:40:31.927258Z",
     "iopub.status.busy": "2022-01-05T18:40:31.926405Z",
     "iopub.status.idle": "2022-01-05T18:40:31.928322Z",
     "shell.execute_reply": "2022-01-05T18:40:31.928828Z",
     "shell.execute_reply.started": "2021-12-29T09:08:02.535669Z"
    },
    "papermill": {
     "duration": 0.01927,
     "end_time": "2022-01-05T18:40:31.929000",
     "exception": false,
     "start_time": "2022-01-05T18:40:31.909730",
     "status": "completed"
    },
    "tags": []
   },
   "outputs": [],
   "source": [
    "P    = 0.8       # switch probability\n",
    "k     = 5     # k-value in KNN\n",
    "N     = 20    # number of\n",
    "T     = 100   # maximum number of iterations\n",
    "opts = {'k':k, 'fold':fold, 'N':N, 'T':T, 'P':P}"
   ]
  },
  {
   "cell_type": "code",
   "execution_count": 14,
   "id": "7875a89f",
   "metadata": {
    "execution": {
     "iopub.execute_input": "2022-01-05T18:40:31.982336Z",
     "iopub.status.busy": "2022-01-05T18:40:31.961770Z",
     "iopub.status.idle": "2022-01-05T18:48:51.653841Z",
     "shell.execute_reply": "2022-01-05T18:48:51.654275Z",
     "shell.execute_reply.started": "2021-12-29T09:08:03.978843Z"
    },
    "papermill": {
     "duration": 499.713193,
     "end_time": "2022-01-05T18:48:51.654430",
     "exception": false,
     "start_time": "2022-01-05T18:40:31.941237",
     "status": "completed"
    },
    "tags": []
   },
   "outputs": [
    {
     "name": "stdout",
     "output_type": "stream",
     "text": [
      "Generation: 1\n",
      "Best (JA): 0.023804338626304655\n",
      "Generation: 2\n",
      "Best (JA): 0.02247525886841068\n",
      "Generation: 3\n",
      "Best (JA): 0.02247525886841068\n",
      "Generation: 4\n",
      "Best (JA): 0.02247525886841068\n",
      "Generation: 5\n",
      "Best (JA): 0.02247525886841068\n",
      "Generation: 6\n",
      "Best (JA): 0.02247525886841068\n",
      "Generation: 7\n",
      "Best (JA): 0.021673117733518293\n",
      "Generation: 8\n",
      "Best (JA): 0.021673117733518293\n",
      "Generation: 9\n",
      "Best (JA): 0.021673117733518293\n",
      "Generation: 10\n",
      "Best (JA): 0.021673117733518293\n",
      "Generation: 11\n",
      "Best (JA): 0.02137621383273882\n",
      "Generation: 12\n",
      "Best (JA): 0.021345831888294378\n",
      "Generation: 13\n",
      "Best (JA): 0.021345831888294378\n",
      "Generation: 14\n",
      "Best (JA): 0.021345831888294378\n",
      "Generation: 15\n",
      "Best (JA): 0.021276387443849933\n",
      "Generation: 16\n",
      "Best (JA): 0.021259026332738823\n",
      "Generation: 17\n",
      "Best (JA): 0.021259026332738823\n",
      "Generation: 18\n",
      "Best (JA): 0.021259026332738823\n",
      "Generation: 19\n",
      "Best (JA): 0.021259026332738823\n",
      "Generation: 20\n",
      "Best (JA): 0.0205610518645131\n",
      "Generation: 21\n",
      "Best (JA): 0.02054803103117977\n",
      "Generation: 22\n",
      "Best (JA): 0.02054803103117977\n",
      "Generation: 23\n",
      "Best (JA): 0.02054803103117977\n",
      "Generation: 24\n",
      "Best (JA): 0.02054803103117977\n",
      "Generation: 25\n",
      "Best (JA): 0.02054803103117977\n",
      "Generation: 26\n",
      "Best (JA): 0.02052632964229088\n",
      "Generation: 27\n",
      "Best (JA): 0.02052632964229088\n",
      "Generation: 28\n",
      "Best (JA): 0.02052632964229088\n",
      "Generation: 29\n",
      "Best (JA): 0.02052632964229088\n",
      "Generation: 30\n",
      "Best (JA): 0.02052632964229088\n",
      "Generation: 31\n",
      "Best (JA): 0.02052632964229088\n",
      "Generation: 32\n",
      "Best (JA): 0.02052632964229088\n",
      "Generation: 33\n",
      "Best (JA): 0.02052632964229088\n",
      "Generation: 34\n",
      "Best (JA): 0.02052632964229088\n",
      "Generation: 35\n",
      "Best (JA): 0.02052632964229088\n",
      "Generation: 36\n",
      "Best (JA): 0.02052632964229088\n",
      "Generation: 37\n",
      "Best (JA): 0.02052632964229088\n",
      "Generation: 38\n",
      "Best (JA): 0.02052632964229088\n",
      "Generation: 39\n",
      "Best (JA): 0.02052632964229088\n",
      "Generation: 40\n",
      "Best (JA): 0.02052632964229088\n",
      "Generation: 41\n",
      "Best (JA): 0.02052632964229088\n",
      "Generation: 42\n",
      "Best (JA): 0.02052632964229088\n",
      "Generation: 43\n",
      "Best (JA): 0.02052632964229088\n",
      "Generation: 44\n",
      "Best (JA): 0.02052632964229088\n",
      "Generation: 45\n",
      "Best (JA): 0.02052632964229088\n",
      "Generation: 46\n",
      "Best (JA): 0.02052632964229088\n",
      "Generation: 47\n",
      "Best (JA): 0.02052632964229088\n",
      "Generation: 48\n",
      "Best (JA): 0.02052632964229088\n",
      "Generation: 49\n",
      "Best (JA): 0.02052632964229088\n",
      "Generation: 50\n",
      "Best (JA): 0.02052632964229088\n",
      "Generation: 51\n",
      "Best (JA): 0.02052632964229088\n",
      "Generation: 52\n",
      "Best (JA): 0.02050462825340199\n",
      "Generation: 53\n",
      "Best (JA): 0.02050462825340199\n",
      "Generation: 54\n",
      "Best (JA): 0.02050462825340199\n",
      "Generation: 55\n",
      "Best (JA): 0.02050462825340199\n",
      "Generation: 56\n",
      "Best (JA): 0.02050462825340199\n",
      "Generation: 57\n",
      "Best (JA): 0.02050462825340199\n",
      "Generation: 58\n",
      "Best (JA): 0.02018168268595585\n",
      "Generation: 59\n",
      "Best (JA): 0.02018168268595585\n",
      "Generation: 60\n",
      "Best (JA): 0.02009921740817807\n",
      "Generation: 61\n",
      "Best (JA): 0.02009921740817807\n",
      "Generation: 62\n",
      "Best (JA): 0.02009921740817807\n",
      "Generation: 63\n",
      "Best (JA): 0.02009921740817807\n",
      "Generation: 64\n",
      "Best (JA): 0.02009921740817807\n",
      "Generation: 65\n",
      "Best (JA): 0.02009921740817807\n",
      "Generation: 66\n",
      "Best (JA): 0.02009921740817807\n",
      "Generation: 67\n",
      "Best (JA): 0.02009921740817807\n",
      "Generation: 68\n",
      "Best (JA): 0.02009921740817807\n",
      "Generation: 69\n",
      "Best (JA): 0.02009921740817807\n",
      "Generation: 70\n",
      "Best (JA): 0.02009921740817807\n",
      "Generation: 71\n",
      "Best (JA): 0.02009921740817807\n",
      "Generation: 72\n",
      "Best (JA): 0.02009921740817807\n",
      "Generation: 73\n",
      "Best (JA): 0.02009921740817807\n",
      "Generation: 74\n",
      "Best (JA): 0.02009921740817807\n",
      "Generation: 75\n",
      "Best (JA): 0.02006449518595585\n",
      "Generation: 76\n",
      "Best (JA): 0.019728528785176377\n",
      "Generation: 77\n",
      "Best (JA): 0.019728528785176377\n",
      "Generation: 78\n",
      "Best (JA): 0.019728528785176377\n",
      "Generation: 79\n",
      "Best (JA): 0.019728528785176377\n",
      "Generation: 80\n",
      "Best (JA): 0.019728528785176377\n",
      "Generation: 81\n",
      "Best (JA): 0.019353499884396906\n",
      "Generation: 82\n",
      "Best (JA): 0.019353499884396906\n",
      "Generation: 83\n",
      "Best (JA): 0.01934047905106357\n",
      "Generation: 84\n",
      "Best (JA): 0.01934047905106357\n",
      "Generation: 85\n",
      "Best (JA): 0.01930575682884135\n",
      "Generation: 86\n",
      "Best (JA): 0.0189263876502841\n",
      "Generation: 87\n",
      "Best (JA): 0.0189263876502841\n",
      "Generation: 88\n",
      "Best (JA): 0.0189263876502841\n",
      "Generation: 89\n",
      "Best (JA): 0.0189263876502841\n",
      "Generation: 90\n",
      "Best (JA): 0.0189263876502841\n",
      "Generation: 91\n",
      "Best (JA): 0.0189263876502841\n",
      "Generation: 92\n",
      "Best (JA): 0.0189263876502841\n",
      "Generation: 93\n",
      "Best (JA): 0.0189263876502841\n",
      "Generation: 94\n",
      "Best (JA): 0.0189263876502841\n",
      "Generation: 95\n",
      "Best (JA): 0.0189263876502841\n",
      "Generation: 96\n",
      "Best (JA): 0.0189263876502841\n",
      "Generation: 97\n",
      "Best (JA): 0.0189263876502841\n",
      "Generation: 98\n",
      "Best (JA): 0.0189263876502841\n",
      "Generation: 99\n",
      "Best (JA): 0.0189263876502841\n",
      "Generation: 100\n",
      "Best (JA): 0.0189263876502841\n",
      "Run Time --- 499.2526729106903 seconds ---\n",
      "Accuracy: 98.5731272294887\n",
      "Feature Size: 1106\n"
     ]
    },
    {
     "data": {
      "image/png": "[encoded data removed]",
      "text/plain": [
       "<Figure size 432x288 with 1 Axes>"
      ]
     },
     "metadata": {
      "needs_background": "light"
     },
     "output_type": "display_data"
    }
   ],
   "source": [
    "# perform feature selection\n",
    "start_time = time.time()\n",
    "fmdl  = jfs(features_C_NMC_resnet, targets_C_NMC, opts)\n",
    "print(\"Run Time --- %s seconds ---\" % (time.time() - start_time))\n",
    "\n",
    "sf    = fmdl['sf']\n",
    "\n",
    "# model with selected features\n",
    "num_train = np.size(xtrain, 0)\n",
    "num_valid = np.size(xtest, 0)\n",
    "x_train   = xtrain[:, sf]\n",
    "y_train   = ytrain.reshape(num_train)  # Solve bug\n",
    "x_valid   = xtest[:, sf]\n",
    "y_valid   = ytest.reshape(num_valid)  # Solve bug\n",
    "\n",
    "mdl       = KNeighborsClassifier(n_neighbors= k) \n",
    "mdl.fit(x_train, y_train)\n",
    "\n",
    "# accuracy\n",
    "y_pred    = mdl.predict(x_valid)\n",
    "Acc       = np.sum(y_valid == y_pred)  / num_valid\n",
    "print(\"Accuracy:\", 100 * Acc)\n",
    "\n",
    "# number of selected features\n",
    "num_feat = fmdl['nf']\n",
    "print(\"Feature Size:\", num_feat)\n",
    "\n",
    "# plot convergence\n",
    "curve   = fmdl['c']\n",
    "curve   = curve.reshape(np.size(curve,1))\n",
    "x       = np.arange(0, opts['T'], 1.0) + 1.0\n",
    "\n",
    "fig, ax = plt.subplots()\n",
    "ax.plot(x, curve, 'o-')\n",
    "ax.set_xlabel('Number of Iterations')\n",
    "ax.set_ylabel('Fitness')\n",
    "ax.set_title('Jaya')\n",
    "ax.grid()\n",
    "plt.show()"
   ]
  },
  {
   "cell_type": "code",
   "execution_count": 15,
   "id": "879399e6",
   "metadata": {
    "execution": {
     "iopub.execute_input": "2022-01-05T18:48:51.737096Z",
     "iopub.status.busy": "2022-01-05T18:48:51.735906Z",
     "iopub.status.idle": "2022-01-05T18:48:51.738163Z",
     "shell.execute_reply": "2022-01-05T18:48:51.738576Z",
     "shell.execute_reply.started": "2021-12-29T09:16:22.580256Z"
    },
    "papermill": {
     "duration": 0.046043,
     "end_time": "2022-01-05T18:48:51.738721",
     "exception": false,
     "start_time": "2022-01-05T18:48:51.692678",
     "status": "completed"
    },
    "tags": []
   },
   "outputs": [],
   "source": [
    "np.save(\"SelectedFeaturesIndexs_C_NMC_ResNet_100iter.npy\", fmdl['sf'])"
   ]
  },
  {
   "cell_type": "code",
   "execution_count": null,
   "id": "13b18662",
   "metadata": {
    "papermill": {
     "duration": 0.037485,
     "end_time": "2022-01-05T18:48:51.814332",
     "exception": false,
     "start_time": "2022-01-05T18:48:51.776847",
     "status": "completed"
    },
    "tags": []
   },
   "outputs": [],
   "source": []
  }
 ],
 "metadata": {
  "kernelspec": {
   "display_name": "Python 3",
   "language": "python",
   "name": "python3"
  },
  "language_info": {
   "codemirror_mode": {
    "name": "ipython",
    "version": 3
   },
   "file_extension": ".py",
   "mimetype": "text/x-python",
   "name": "python",
   "nbconvert_exporter": "python",
   "pygments_lexer": "ipython3",
   "version": "3.7.12"
  },
  "papermill": {
   "default_parameters": {},
   "duration": 517.872631,
   "end_time": "2022-01-05T18:48:54.238071",
   "environment_variables": {},
   "exception": null,
   "input_path": "__notebook__.ipynb",
   "output_path": "__notebook__.ipynb",
   "parameters": {},
   "start_time": "2022-01-05T18:40:16.365440",
   "version": "2.3.3"
  }
 },
 "nbformat": 4,
 "nbformat_minor": 5
}
