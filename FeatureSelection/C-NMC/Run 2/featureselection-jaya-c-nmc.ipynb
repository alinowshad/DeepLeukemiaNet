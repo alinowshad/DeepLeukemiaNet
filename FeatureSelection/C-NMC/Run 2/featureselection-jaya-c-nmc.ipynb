{
 "cells": [
  {
   "cell_type": "code",
   "execution_count": 1,
   "id": "5582bbb3",
   "metadata": {
    "_cell_guid": "b1076dfc-b9ad-4769-8c92-a6c4dae69d19",
    "_uuid": "8f2839f25d086af736a60e9eeb907d3b93b6e0e5",
    "execution": {
     "iopub.execute_input": "2021-12-29T09:40:23.865061Z",
     "iopub.status.busy": "2021-12-29T09:40:23.863500Z",
     "iopub.status.idle": "2021-12-29T09:40:28.076053Z",
     "shell.execute_reply": "2021-12-29T09:40:28.075198Z",
     "shell.execute_reply.started": "2021-12-29T09:07:28.45758Z"
    },
    "papermill": {
     "duration": 4.245455,
     "end_time": "2021-12-29T09:40:28.076224",
     "exception": false,
     "start_time": "2021-12-29T09:40:23.830769",
     "status": "completed"
    },
    "tags": []
   },
   "outputs": [],
   "source": [
    "import pandas as pd, numpy as np\n",
    "from kaggle_datasets import KaggleDatasets\n",
    "from sklearn.preprocessing import StandardScaler\n",
    "from sklearn.ensemble import RandomForestClassifier\n",
    "from sklearn.model_selection import KFold\n",
    "from sklearn.metrics import roc_auc_score\n",
    "from glob import glob\n",
    "from PIL import Image\n",
    "from skimage import color\n",
    "import cv2, matplotlib.pyplot as plt\n",
    "import random\n",
    "import gc\n",
    "# Import essential libraries\n",
    "%matplotlib inline\n",
    "import matplotlib.pyplot as plt\n",
    "import pandas as pd\n",
    "from sklearn.model_selection import StratifiedKFold\n",
    "import itertools\n",
    "import seaborn as sns\n",
    "from sklearn.preprocessing import label_binarize\n",
    "from sklearn.metrics import confusion_matrix\n",
    "from sklearn.model_selection import train_test_split\n",
    "from sklearn.model_selection import train_test_split\n",
    "import os\n",
    "import cv2\n",
    "from IPython.display import SVG\n",
    "from sklearn.decomposition import PCA\n",
    "import numpy as np\n",
    "from numpy.random import rand\n",
    "import cudf, cuml\n",
    "from cuml.neighbors import KNeighborsClassifier\n",
    "from sklearn.model_selection import train_test_split\n",
    "import matplotlib.pyplot as plt\n",
    "import random\n",
    "from random import randrange\n",
    "import time"
   ]
  },
  {
   "cell_type": "code",
   "execution_count": 2,
   "id": "a72a688f",
   "metadata": {
    "execution": {
     "iopub.execute_input": "2021-12-29T09:40:28.104515Z",
     "iopub.status.busy": "2021-12-29T09:40:28.103709Z",
     "iopub.status.idle": "2021-12-29T09:40:29.053516Z",
     "shell.execute_reply": "2021-12-29T09:40:29.052983Z",
     "shell.execute_reply.started": "2021-12-29T09:07:49.183767Z"
    },
    "papermill": {
     "duration": 0.964731,
     "end_time": "2021-12-29T09:40:29.053672",
     "exception": false,
     "start_time": "2021-12-29T09:40:28.088941",
     "status": "completed"
    },
    "tags": []
   },
   "outputs": [],
   "source": [
    "features_C_NMC_resnet = np.load('../input/pca-pretraining-featureextraction-resnet-c-nmc/C_NMC_ExtractedFeatures.npy')\n",
    "targets_C_NMC = np.load('../input/pca-pretraining-featureextraction-resnet-c-nmc/Targets.npy')"
   ]
  },
  {
   "cell_type": "code",
   "execution_count": 3,
   "id": "f0564cfc",
   "metadata": {
    "execution": {
     "iopub.execute_input": "2021-12-29T09:40:29.084388Z",
     "iopub.status.busy": "2021-12-29T09:40:29.083519Z",
     "iopub.status.idle": "2021-12-29T09:40:29.420959Z",
     "shell.execute_reply": "2021-12-29T09:40:29.420408Z",
     "shell.execute_reply.started": "2021-12-29T09:07:50.676583Z"
    },
    "papermill": {
     "duration": 0.353773,
     "end_time": "2021-12-29T09:40:29.421112",
     "exception": false,
     "start_time": "2021-12-29T09:40:29.067339",
     "status": "completed"
    },
    "tags": []
   },
   "outputs": [],
   "source": [
    "sc = StandardScaler()\n",
    "features_C_NMC_resnet = sc.fit_transform(features_C_NMC_resnet)"
   ]
  },
  {
   "cell_type": "code",
   "execution_count": 4,
   "id": "0b82ad67",
   "metadata": {
    "execution": {
     "iopub.execute_input": "2021-12-29T09:40:29.450123Z",
     "iopub.status.busy": "2021-12-29T09:40:29.449334Z",
     "iopub.status.idle": "2021-12-29T09:40:29.476786Z",
     "shell.execute_reply": "2021-12-29T09:40:29.476296Z",
     "shell.execute_reply.started": "2021-12-29T09:07:51.019348Z"
    },
    "papermill": {
     "duration": 0.043818,
     "end_time": "2021-12-29T09:40:29.476905",
     "exception": false,
     "start_time": "2021-12-29T09:40:29.433087",
     "status": "completed"
    },
    "tags": []
   },
   "outputs": [],
   "source": [
    "targets_C_NMC = [np.argmax(y, axis=None, out=None) for y in targets_C_NMC]\n",
    "targets_C_NMC = np.asarray(targets_C_NMC)"
   ]
  },
  {
   "cell_type": "code",
   "execution_count": 5,
   "id": "2663782d",
   "metadata": {
    "execution": {
     "iopub.execute_input": "2021-12-29T09:40:29.505346Z",
     "iopub.status.busy": "2021-12-29T09:40:29.504590Z",
     "iopub.status.idle": "2021-12-29T09:40:29.507858Z",
     "shell.execute_reply": "2021-12-29T09:40:29.508303Z",
     "shell.execute_reply.started": "2021-12-29T09:07:51.107505Z"
    },
    "papermill": {
     "duration": 0.019318,
     "end_time": "2021-12-29T09:40:29.508443",
     "exception": false,
     "start_time": "2021-12-29T09:40:29.489125",
     "status": "completed"
    },
    "tags": []
   },
   "outputs": [
    {
     "name": "stdout",
     "output_type": "stream",
     "text": [
      "Features C-NMC ResNet:  (8410, 2304)\n",
      "Labels C-NMC:  (8410,)\n"
     ]
    }
   ],
   "source": [
    "print(\"Features C-NMC ResNet: \", features_C_NMC_resnet.shape)\n",
    "print(\"Labels C-NMC: \", targets_C_NMC.shape)"
   ]
  },
  {
   "cell_type": "code",
   "execution_count": 6,
   "id": "f9cad47c",
   "metadata": {
    "execution": {
     "iopub.execute_input": "2021-12-29T09:40:29.542072Z",
     "iopub.status.busy": "2021-12-29T09:40:29.541379Z",
     "iopub.status.idle": "2021-12-29T09:40:29.543605Z",
     "shell.execute_reply": "2021-12-29T09:40:29.544085Z",
     "shell.execute_reply.started": "2021-12-29T09:07:54.806078Z"
    },
    "papermill": {
     "duration": 0.023529,
     "end_time": "2021-12-29T09:40:29.544209",
     "exception": false,
     "start_time": "2021-12-29T09:40:29.520680",
     "status": "completed"
    },
    "tags": []
   },
   "outputs": [],
   "source": [
    "# error rate\n",
    "def error_rate(xtrain, ytrain, x, opts):\n",
    "    # parameters\n",
    "    k  = opts['k']\n",
    "    fold = opts['fold']\n",
    "    xt = fold['xt']\n",
    "    yt = fold['yt']\n",
    "    xv = fold['xv']\n",
    "    yv = fold['yv']\n",
    "    \n",
    "    # number of instances\n",
    "    num_train = np.size(xt, 0)\n",
    "    num_valid = np.size(xv, 0)\n",
    "    # Define selected features\n",
    "    xtrain = xt[:, x == 1]\n",
    "    ytrain = yt.reshape(num_train)\n",
    "    xvalid = xv[:, x == 1]\n",
    "    yvalid = yv.reshape(num_valid)\n",
    "    # Training\n",
    "    mdl     = KNeighborsClassifier(n_neighbors= k)\n",
    "    mdl.fit(xtrain, ytrain)\n",
    "    # Prediction\n",
    "    ypred   = mdl.predict(xvalid)\n",
    "    acc     = np.sum(yvalid == ypred) / num_valid\n",
    "    error   = 1 - acc\n",
    "    \n",
    "    return error, acc\n",
    "# Error rate & Feature size\n",
    "def Fun(xtrain, ytrain, x, opts):\n",
    "    # parameters\n",
    "    alpha = 0.99\n",
    "    beta = 1 - alpha\n",
    "    # original feature size\n",
    "    max_feat = len(x)\n",
    "    # Number of selected features\n",
    "    num_feat = np.sum(x == 1)\n",
    "    # Solve if no feature selected\n",
    "    if num_feat == 0:\n",
    "        cost = 1\n",
    "    else:\n",
    "        # Get error rate\n",
    "        error, acc = error_rate(xtrain, ytrain, x, opts)\n",
    "        # Objective function\n",
    "        cost = alpha * error + beta * (num_feat / max_feat)\n",
    "        \n",
    "    return cost"
   ]
  },
  {
   "cell_type": "code",
   "execution_count": 7,
   "id": "551261fc",
   "metadata": {
    "execution": {
     "iopub.execute_input": "2021-12-29T09:40:29.574578Z",
     "iopub.status.busy": "2021-12-29T09:40:29.573921Z",
     "iopub.status.idle": "2021-12-29T09:40:29.576069Z",
     "shell.execute_reply": "2021-12-29T09:40:29.576433Z",
     "shell.execute_reply.started": "2021-12-29T09:07:55.73799Z"
    },
    "papermill": {
     "duration": 0.019929,
     "end_time": "2021-12-29T09:40:29.576578",
     "exception": false,
     "start_time": "2021-12-29T09:40:29.556649",
     "status": "completed"
    },
    "tags": []
   },
   "outputs": [],
   "source": [
    "# Error rate & Feature size\n",
    "def Fun(xtrain, ytrain, x, opts):\n",
    "    # parameters\n",
    "    alpha = 0.99\n",
    "    beta = 1 - alpha\n",
    "    # original feature size\n",
    "    max_feat = len(x)\n",
    "    # Number of selected features\n",
    "    num_feat = np.sum(x == 1)\n",
    "    # Solve if no feature selected\n",
    "    if num_feat == 0:\n",
    "        cost = 1\n",
    "    else:\n",
    "        # Get error rate\n",
    "        error, acc = error_rate(xtrain, ytrain, x, opts)\n",
    "        # Objective function\n",
    "        cost = alpha * error + beta * (num_feat / max_feat)\n",
    "        \n",
    "    return cost"
   ]
  },
  {
   "cell_type": "code",
   "execution_count": 8,
   "id": "9e50dde1",
   "metadata": {
    "execution": {
     "iopub.execute_input": "2021-12-29T09:40:29.605750Z",
     "iopub.status.busy": "2021-12-29T09:40:29.605059Z",
     "iopub.status.idle": "2021-12-29T09:40:29.607715Z",
     "shell.execute_reply": "2021-12-29T09:40:29.607260Z",
     "shell.execute_reply.started": "2021-12-29T09:07:56.462367Z"
    },
    "papermill": {
     "duration": 0.01942,
     "end_time": "2021-12-29T09:40:29.607844",
     "exception": false,
     "start_time": "2021-12-29T09:40:29.588424",
     "status": "completed"
    },
    "tags": []
   },
   "outputs": [],
   "source": [
    "def init_position(lb, ub, N, dim):\n",
    "    X = np.zeros([N, dim], dtype='float')\n",
    "    for i in range(N):\n",
    "        for d in range(dim):\n",
    "            X[i,d] = lb[0,d] + (ub[0,d] - lb[0,d]) * rand()        \n",
    "    \n",
    "    return X"
   ]
  },
  {
   "cell_type": "code",
   "execution_count": 9,
   "id": "10354ae9",
   "metadata": {
    "execution": {
     "iopub.execute_input": "2021-12-29T09:40:29.636944Z",
     "iopub.status.busy": "2021-12-29T09:40:29.636218Z",
     "iopub.status.idle": "2021-12-29T09:40:29.638173Z",
     "shell.execute_reply": "2021-12-29T09:40:29.638532Z",
     "shell.execute_reply.started": "2021-12-29T09:07:57.342519Z"
    },
    "papermill": {
     "duration": 0.018941,
     "end_time": "2021-12-29T09:40:29.638675",
     "exception": false,
     "start_time": "2021-12-29T09:40:29.619734",
     "status": "completed"
    },
    "tags": []
   },
   "outputs": [],
   "source": [
    "def binary_conversion(X, thres, N, dim):\n",
    "    Xbin = np.zeros([N, dim], dtype='int')\n",
    "    for i in range(N):\n",
    "        for d in range(dim):\n",
    "            if X[i,d] > thres:\n",
    "                Xbin[i,d] = 1\n",
    "            else:\n",
    "                Xbin[i,d] = 0\n",
    "    \n",
    "    return Xbin"
   ]
  },
  {
   "cell_type": "code",
   "execution_count": 10,
   "id": "07d379aa",
   "metadata": {
    "execution": {
     "iopub.execute_input": "2021-12-29T09:40:29.667532Z",
     "iopub.status.busy": "2021-12-29T09:40:29.666783Z",
     "iopub.status.idle": "2021-12-29T09:40:29.669331Z",
     "shell.execute_reply": "2021-12-29T09:40:29.668885Z",
     "shell.execute_reply.started": "2021-12-29T09:07:59.652349Z"
    },
    "papermill": {
     "duration": 0.019066,
     "end_time": "2021-12-29T09:40:29.669478",
     "exception": false,
     "start_time": "2021-12-29T09:40:29.650412",
     "status": "completed"
    },
    "tags": []
   },
   "outputs": [],
   "source": [
    "def boundary(x, lb, ub):\n",
    "    if x < lb:\n",
    "        x = lb\n",
    "    if x > ub:\n",
    "        x = ub\n",
    "    \n",
    "    return x"
   ]
  },
  {
   "cell_type": "code",
   "execution_count": 11,
   "id": "ad6d62ff",
   "metadata": {
    "execution": {
     "iopub.execute_input": "2021-12-29T09:40:29.711940Z",
     "iopub.status.busy": "2021-12-29T09:40:29.711040Z",
     "iopub.status.idle": "2021-12-29T09:40:29.712950Z",
     "shell.execute_reply": "2021-12-29T09:40:29.713318Z",
     "shell.execute_reply.started": "2021-12-29T09:08:00.151161Z"
    },
    "papermill": {
     "duration": 0.032186,
     "end_time": "2021-12-29T09:40:29.713456",
     "exception": false,
     "start_time": "2021-12-29T09:40:29.681270",
     "status": "completed"
    },
    "tags": []
   },
   "outputs": [],
   "source": [
    "def jfs(xtrain, ytrain, opts):\n",
    "    # Parameters\n",
    "    ub     = 1\n",
    "    lb     = 0\n",
    "    thres  = 0.5\n",
    "    \n",
    "    N          = opts['N']\n",
    "    max_iter   = opts['T']\n",
    "        \n",
    "    # Dimension\n",
    "    dim = np.size(xtrain, 1)\n",
    "    if np.size(lb) == 1:\n",
    "        ub = ub * np.ones([1, dim], dtype='float')\n",
    "        lb = lb * np.ones([1, dim], dtype='float')\n",
    "        \n",
    "    # Initialize position \n",
    "    X     = init_position(lb, ub, N, dim)\n",
    "    \n",
    "    # Binary conversion\n",
    "    Xbin  = binary_conversion(X, thres, N, dim)\n",
    "    \n",
    "    # Fitness at first iteration\n",
    "    fit   = np.zeros([N, 1], dtype='float')\n",
    "    Xgb   = np.zeros([1, dim], dtype='float')\n",
    "    fitG  = float('inf')\n",
    "    \n",
    "    for i in range(N):\n",
    "        fit[i,0] = Fun(xtrain, ytrain, Xbin[i,:], opts)\n",
    "        if fit[i,0] < fitG:\n",
    "            Xgb[0,:] = X[i,:]\n",
    "            fitG     = fit[i,0]\n",
    "    \n",
    "    # Pre\n",
    "    curve = np.zeros([1, max_iter], dtype='float') \n",
    "    t     = 0\n",
    "    \n",
    "    curve[0,t] = fitG.copy()\n",
    "    print(\"Generation:\", t + 1)\n",
    "    print(\"Best (JA):\", curve[0,t])\n",
    "    t += 1\n",
    "    \n",
    "    while t < max_iter:  \n",
    "        Xnew  = np.zeros([N, dim], dtype='float') \n",
    "        \n",
    "        # Identify best & worst in population\n",
    "        idx_max = np.argmax(fit)\n",
    "        Xw      = X[idx_max,np.newaxis,:].copy()\n",
    "        idx_min = np.argmin(fit)\n",
    "        Xb      = X[idx_min,np.newaxis,:].copy()       \n",
    "          \n",
    "        for i in range(N):\n",
    "            for d in range(dim):\n",
    "                # Random numbers\n",
    "                r1 = rand();\n",
    "                r2 = rand();\n",
    "                # Position update (1)\n",
    "                Xnew[i,d] = X[i,d] + r1 * (Xb[0,d] - abs(X[i,d])) - r2 * (Xw[0,d] - abs(X[i,d])) \n",
    "                # Boundary\n",
    "                Xnew[i,d] = boundary(Xnew[i,d], lb[0,d], ub[0,d])\n",
    "                \n",
    "        # Binary conversion\n",
    "        Xbin = binary_conversion(Xnew, thres, N, dim)\n",
    "        \n",
    "        # Greedy selection\n",
    "        for i in range(N):\n",
    "            Fnew = Fun(xtrain, ytrain, Xbin[i,:], opts)\n",
    "            if Fnew < fit[i,0]:\n",
    "                X[i,:]   = Xnew[i,:]\n",
    "                fit[i,0] = Fnew             \n",
    "                \n",
    "            if fit[i,0] < fitG:\n",
    "                Xgb[0,:] = X[i,:]\n",
    "                fitG     = fit[i,0]\n",
    "             \n",
    "        # Store result\n",
    "        curve[0,t] = fitG.copy()\n",
    "        print(\"Generation:\", t + 1)\n",
    "        print(\"Best (JA):\", curve[0,t])\n",
    "        t += 1            \n",
    "\n",
    "            \n",
    "    # Best feature subset\n",
    "    Gbin       = binary_conversion(Xgb, thres, 1, dim) \n",
    "    Gbin       = Gbin.reshape(dim)\n",
    "    pos        = np.asarray(range(0, dim))    \n",
    "    sel_index  = pos[Gbin == 1]\n",
    "    num_feat   = len(sel_index)\n",
    "    # Create dictionary\n",
    "    ja_data = {'sf': sel_index, 'c': curve, 'nf': num_feat}\n",
    "    \n",
    "    return ja_data"
   ]
  },
  {
   "cell_type": "code",
   "execution_count": 12,
   "id": "0ccfce4d",
   "metadata": {
    "execution": {
     "iopub.execute_input": "2021-12-29T09:40:29.744673Z",
     "iopub.status.busy": "2021-12-29T09:40:29.740806Z",
     "iopub.status.idle": "2021-12-29T09:40:29.770437Z",
     "shell.execute_reply": "2021-12-29T09:40:29.769963Z",
     "shell.execute_reply.started": "2021-12-29T09:08:01.121574Z"
    },
    "papermill": {
     "duration": 0.045225,
     "end_time": "2021-12-29T09:40:29.770592",
     "exception": false,
     "start_time": "2021-12-29T09:40:29.725367",
     "status": "completed"
    },
    "tags": []
   },
   "outputs": [],
   "source": [
    "xtrain, xtest, ytrain, ytest = train_test_split(features_C_NMC_resnet, targets_C_NMC, test_size=0.3, shuffle=True)\n",
    "fold = {'xt':xtrain, 'yt':ytrain, 'xv':xtest, 'yv':ytest}"
   ]
  },
  {
   "cell_type": "code",
   "execution_count": 13,
   "id": "8c40615d",
   "metadata": {
    "execution": {
     "iopub.execute_input": "2021-12-29T09:40:29.800438Z",
     "iopub.status.busy": "2021-12-29T09:40:29.799533Z",
     "iopub.status.idle": "2021-12-29T09:40:29.801363Z",
     "shell.execute_reply": "2021-12-29T09:40:29.801792Z",
     "shell.execute_reply.started": "2021-12-29T09:08:02.535669Z"
    },
    "papermill": {
     "duration": 0.01897,
     "end_time": "2021-12-29T09:40:29.801923",
     "exception": false,
     "start_time": "2021-12-29T09:40:29.782953",
     "status": "completed"
    },
    "tags": []
   },
   "outputs": [],
   "source": [
    "P    = 0.8       # switch probability\n",
    "k     = 5     # k-value in KNN\n",
    "N     = 20    # number of\n",
    "T     = 100   # maximum number of iterations\n",
    "opts = {'k':k, 'fold':fold, 'N':N, 'T':T, 'P':P}"
   ]
  },
  {
   "cell_type": "code",
   "execution_count": 14,
   "id": "4707caf2",
   "metadata": {
    "execution": {
     "iopub.execute_input": "2021-12-29T09:40:29.857392Z",
     "iopub.status.busy": "2021-12-29T09:40:29.835925Z",
     "iopub.status.idle": "2021-12-29T09:48:43.718784Z",
     "shell.execute_reply": "2021-12-29T09:48:43.718286Z",
     "shell.execute_reply.started": "2021-12-29T09:08:03.978843Z"
    },
    "papermill": {
     "duration": 493.904381,
     "end_time": "2021-12-29T09:48:43.718924",
     "exception": false,
     "start_time": "2021-12-29T09:40:29.814543",
     "status": "completed"
    },
    "tags": []
   },
   "outputs": [
    {
     "name": "stdout",
     "output_type": "stream",
     "text": [
      "Generation: 1\n",
      "Best (JA): 0.028460935435658648\n",
      "Generation: 2\n",
      "Best (JA): 0.0281379898682124\n",
      "Generation: 3\n",
      "Best (JA): 0.028103267645990176\n",
      "Generation: 4\n",
      "Best (JA): 0.027444355677764563\n",
      "Generation: 5\n",
      "Best (JA): 0.027444355677764563\n",
      "Generation: 6\n",
      "Best (JA): 0.026724679820650063\n",
      "Generation: 7\n",
      "Best (JA): 0.026193400919870484\n",
      "Generation: 8\n",
      "Best (JA): 0.026193400919870484\n",
      "Generation: 9\n",
      "Best (JA): 0.026193400919870484\n",
      "Generation: 10\n",
      "Best (JA): 0.026193400919870484\n",
      "Generation: 11\n",
      "Best (JA): 0.026193400919870484\n",
      "Generation: 12\n",
      "Best (JA): 0.026058852308759373\n",
      "Generation: 13\n",
      "Best (JA): 0.026058852308759373\n",
      "Generation: 14\n",
      "Best (JA): 0.026058852308759373\n",
      "Generation: 15\n",
      "Best (JA): 0.025636080352424345\n",
      "Generation: 16\n",
      "Best (JA): 0.025636080352424345\n",
      "Generation: 17\n",
      "Best (JA): 0.025100461173867095\n",
      "Generation: 18\n",
      "Best (JA): 0.024014436971528566\n",
      "Generation: 19\n",
      "Best (JA): 0.024014436971528566\n",
      "Generation: 20\n",
      "Best (JA): 0.024014436971528566\n",
      "Generation: 21\n",
      "Best (JA): 0.024014436971528566\n",
      "Generation: 22\n",
      "Best (JA): 0.024014436971528566\n",
      "Generation: 23\n",
      "Best (JA): 0.024014436971528566\n",
      "Generation: 24\n",
      "Best (JA): 0.024014436971528566\n",
      "Generation: 25\n",
      "Best (JA): 0.024014436971528566\n",
      "Generation: 26\n",
      "Best (JA): 0.024014436971528566\n",
      "Generation: 27\n",
      "Best (JA): 0.024014436971528566\n",
      "Generation: 28\n",
      "Best (JA): 0.024014436971528566\n",
      "Generation: 29\n",
      "Best (JA): 0.024014436971528566\n",
      "Generation: 30\n",
      "Best (JA): 0.024014436971528566\n",
      "Generation: 31\n",
      "Best (JA): 0.024014436971528566\n",
      "Generation: 32\n",
      "Best (JA): 0.024014436971528566\n",
      "Generation: 33\n",
      "Best (JA): 0.024014436971528566\n",
      "Generation: 34\n",
      "Best (JA): 0.024014436971528566\n",
      "Generation: 35\n",
      "Best (JA): 0.024014436971528566\n",
      "Generation: 36\n",
      "Best (JA): 0.024014436971528566\n",
      "Generation: 37\n",
      "Best (JA): 0.024014436971528566\n",
      "Generation: 38\n",
      "Best (JA): 0.024014436971528566\n",
      "Generation: 39\n",
      "Best (JA): 0.024014436971528566\n",
      "Generation: 40\n",
      "Best (JA): 0.024014436971528566\n",
      "Generation: 41\n",
      "Best (JA): 0.024014436971528566\n",
      "Generation: 42\n",
      "Best (JA): 0.024014436971528566\n",
      "Generation: 43\n",
      "Best (JA): 0.02365242890408243\n",
      "Generation: 44\n",
      "Best (JA): 0.02365242890408243\n",
      "Generation: 45\n",
      "Best (JA): 0.02365242890408243\n",
      "Generation: 46\n",
      "Best (JA): 0.02365242890408243\n",
      "Generation: 47\n",
      "Best (JA): 0.02365242890408243\n",
      "Generation: 48\n",
      "Best (JA): 0.02365242890408243\n",
      "Generation: 49\n",
      "Best (JA): 0.02365242890408243\n",
      "Generation: 50\n",
      "Best (JA): 0.02365242890408243\n",
      "Generation: 51\n",
      "Best (JA): 0.02365242890408243\n",
      "Generation: 52\n",
      "Best (JA): 0.02365242890408243\n",
      "Generation: 53\n",
      "Best (JA): 0.02365242890408243\n",
      "Generation: 54\n",
      "Best (JA): 0.02365242890408243\n",
      "Generation: 55\n",
      "Best (JA): 0.02365242890408243\n",
      "Generation: 56\n",
      "Best (JA): 0.02365242890408243\n",
      "Generation: 57\n",
      "Best (JA): 0.02365242890408243\n",
      "Generation: 58\n",
      "Best (JA): 0.02365242890408243\n",
      "Generation: 59\n",
      "Best (JA): 0.023522220570749097\n",
      "Generation: 60\n",
      "Best (JA): 0.023522220570749097\n",
      "Generation: 61\n",
      "Best (JA): 0.023522220570749097\n",
      "Generation: 62\n",
      "Best (JA): 0.023522220570749097\n",
      "Generation: 63\n",
      "Best (JA): 0.023522220570749097\n",
      "Generation: 64\n",
      "Best (JA): 0.023522220570749097\n",
      "Generation: 65\n",
      "Best (JA): 0.023522220570749097\n",
      "Generation: 66\n",
      "Best (JA): 0.023522220570749097\n",
      "Generation: 67\n",
      "Best (JA): 0.023522220570749097\n",
      "Generation: 68\n",
      "Best (JA): 0.023522220570749097\n",
      "Generation: 69\n",
      "Best (JA): 0.023522220570749097\n",
      "Generation: 70\n",
      "Best (JA): 0.023522220570749097\n",
      "Generation: 71\n",
      "Best (JA): 0.023522220570749097\n",
      "Generation: 72\n",
      "Best (JA): 0.023522220570749097\n",
      "Generation: 73\n",
      "Best (JA): 0.023522220570749097\n",
      "Generation: 74\n",
      "Best (JA): 0.023522220570749097\n",
      "Generation: 75\n",
      "Best (JA): 0.023522220570749097\n",
      "Generation: 76\n",
      "Best (JA): 0.023522220570749097\n",
      "Generation: 77\n",
      "Best (JA): 0.023522220570749097\n",
      "Generation: 78\n",
      "Best (JA): 0.023522220570749097\n",
      "Generation: 79\n",
      "Best (JA): 0.023522220570749097\n",
      "Generation: 80\n",
      "Best (JA): 0.023522220570749097\n",
      "Generation: 81\n",
      "Best (JA): 0.023522220570749097\n",
      "Generation: 82\n",
      "Best (JA): 0.023522220570749097\n",
      "Generation: 83\n",
      "Best (JA): 0.023522220570749097\n",
      "Generation: 84\n",
      "Best (JA): 0.023522220570749097\n",
      "Generation: 85\n",
      "Best (JA): 0.023522220570749097\n",
      "Generation: 86\n",
      "Best (JA): 0.023522220570749097\n",
      "Generation: 87\n",
      "Best (JA): 0.023522220570749097\n",
      "Generation: 88\n",
      "Best (JA): 0.023522220570749097\n",
      "Generation: 89\n",
      "Best (JA): 0.023522220570749097\n",
      "Generation: 90\n",
      "Best (JA): 0.023522220570749097\n",
      "Generation: 91\n",
      "Best (JA): 0.023522220570749097\n",
      "Generation: 92\n",
      "Best (JA): 0.023522220570749097\n",
      "Generation: 93\n",
      "Best (JA): 0.023522220570749097\n",
      "Generation: 94\n",
      "Best (JA): 0.023522220570749097\n",
      "Generation: 95\n",
      "Best (JA): 0.023522220570749097\n",
      "Generation: 96\n",
      "Best (JA): 0.023522220570749097\n",
      "Generation: 97\n",
      "Best (JA): 0.023522220570749097\n",
      "Generation: 98\n",
      "Best (JA): 0.023522220570749097\n",
      "Generation: 99\n",
      "Best (JA): 0.023522220570749097\n",
      "Generation: 100\n",
      "Best (JA): 0.023522220570749097\n",
      "Run Time --- 493.42114901542664 seconds ---\n",
      "Accuracy: 98.09750297265161\n",
      "Feature Size: 1080\n"
     ]
    },
    {
     "data": {
      "image/png": "[encoded data removed]",
      "text/plain": [
       "<Figure size 432x288 with 1 Axes>"
      ]
     },
     "metadata": {
      "needs_background": "light"
     },
     "output_type": "display_data"
    }
   ],
   "source": [
    "# perform feature selection\n",
    "start_time = time.time()\n",
    "fmdl  = jfs(features_C_NMC_resnet, targets_C_NMC, opts)\n",
    "print(\"Run Time --- %s seconds ---\" % (time.time() - start_time))\n",
    "\n",
    "sf    = fmdl['sf']\n",
    "\n",
    "# model with selected features\n",
    "num_train = np.size(xtrain, 0)\n",
    "num_valid = np.size(xtest, 0)\n",
    "x_train   = xtrain[:, sf]\n",
    "y_train   = ytrain.reshape(num_train)  # Solve bug\n",
    "x_valid   = xtest[:, sf]\n",
    "y_valid   = ytest.reshape(num_valid)  # Solve bug\n",
    "\n",
    "mdl       = KNeighborsClassifier(n_neighbors= k) \n",
    "mdl.fit(x_train, y_train)\n",
    "\n",
    "# accuracy\n",
    "y_pred    = mdl.predict(x_valid)\n",
    "Acc       = np.sum(y_valid == y_pred)  / num_valid\n",
    "print(\"Accuracy:\", 100 * Acc)\n",
    "\n",
    "# number of selected features\n",
    "num_feat = fmdl['nf']\n",
    "print(\"Feature Size:\", num_feat)\n",
    "\n",
    "# plot convergence\n",
    "curve   = fmdl['c']\n",
    "curve   = curve.reshape(np.size(curve,1))\n",
    "x       = np.arange(0, opts['T'], 1.0) + 1.0\n",
    "\n",
    "fig, ax = plt.subplots()\n",
    "ax.plot(x, curve, 'o-')\n",
    "ax.set_xlabel('Number of Iterations')\n",
    "ax.set_ylabel('Fitness')\n",
    "ax.set_title('Jaya')\n",
    "ax.grid()\n",
    "plt.show()"
   ]
  },
  {
   "cell_type": "code",
   "execution_count": 15,
   "id": "23f3fd1f",
   "metadata": {
    "execution": {
     "iopub.execute_input": "2021-12-29T09:48:43.807401Z",
     "iopub.status.busy": "2021-12-29T09:48:43.806469Z",
     "iopub.status.idle": "2021-12-29T09:48:43.809065Z",
     "shell.execute_reply": "2021-12-29T09:48:43.808616Z",
     "shell.execute_reply.started": "2021-12-29T09:16:22.580256Z"
    },
    "papermill": {
     "duration": 0.048649,
     "end_time": "2021-12-29T09:48:43.809186",
     "exception": false,
     "start_time": "2021-12-29T09:48:43.760537",
     "status": "completed"
    },
    "tags": []
   },
   "outputs": [],
   "source": [
    "np.save(\"SelectedFeaturesIndexs_C_NMC_ResNet_100iter.npy\", fmdl['sf'])"
   ]
  },
  {
   "cell_type": "code",
   "execution_count": null,
   "id": "eede4cf1",
   "metadata": {
    "papermill": {
     "duration": 0.038744,
     "end_time": "2021-12-29T09:48:43.889211",
     "exception": false,
     "start_time": "2021-12-29T09:48:43.850467",
     "status": "completed"
    },
    "tags": []
   },
   "outputs": [],
   "source": []
  }
 ],
 "metadata": {
  "kernelspec": {
   "display_name": "Python 3",
   "language": "python",
   "name": "python3"
  },
  "language_info": {
   "codemirror_mode": {
    "name": "ipython",
    "version": 3
   },
   "file_extension": ".py",
   "mimetype": "text/x-python",
   "name": "python",
   "nbconvert_exporter": "python",
   "pygments_lexer": "ipython3",
   "version": "3.7.12"
  },
  "papermill": {
   "default_parameters": {},
   "duration": 510.508611,
   "end_time": "2021-12-29T09:48:46.320379",
   "environment_variables": {},
   "exception": null,
   "input_path": "__notebook__.ipynb",
   "output_path": "__notebook__.ipynb",
   "parameters": {},
   "start_time": "2021-12-29T09:40:15.811768",
   "version": "2.3.3"
  }
 },
 "nbformat": 4,
 "nbformat_minor": 5
}
