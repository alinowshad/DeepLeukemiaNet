{
 "cells": [
  {
   "cell_type": "code",
   "execution_count": 1,
   "id": "77151564",
   "metadata": {
    "_cell_guid": "b1076dfc-b9ad-4769-8c92-a6c4dae69d19",
    "_uuid": "8f2839f25d086af736a60e9eeb907d3b93b6e0e5",
    "execution": {
     "iopub.execute_input": "2022-01-05T17:35:45.358159Z",
     "iopub.status.busy": "2022-01-05T17:35:45.356622Z",
     "iopub.status.idle": "2022-01-05T17:35:49.650883Z",
     "shell.execute_reply": "2022-01-05T17:35:49.651327Z",
     "shell.execute_reply.started": "2021-12-29T09:07:28.45758Z"
    },
    "papermill": {
     "duration": 4.312101,
     "end_time": "2022-01-05T17:35:49.651620",
     "exception": false,
     "start_time": "2022-01-05T17:35:45.339519",
     "status": "completed"
    },
    "tags": []
   },
   "outputs": [],
   "source": [
    "import pandas as pd, numpy as np\n",
    "from kaggle_datasets import KaggleDatasets\n",
    "from sklearn.preprocessing import StandardScaler\n",
    "from sklearn.ensemble import RandomForestClassifier\n",
    "from sklearn.model_selection import KFold\n",
    "from sklearn.metrics import roc_auc_score\n",
    "from glob import glob\n",
    "from PIL import Image\n",
    "from skimage import color\n",
    "import cv2, matplotlib.pyplot as plt\n",
    "import random\n",
    "import gc\n",
    "# Import essential libraries\n",
    "%matplotlib inline\n",
    "import matplotlib.pyplot as plt\n",
    "import pandas as pd\n",
    "from sklearn.model_selection import StratifiedKFold\n",
    "import itertools\n",
    "import seaborn as sns\n",
    "from sklearn.preprocessing import label_binarize\n",
    "from sklearn.metrics import confusion_matrix\n",
    "from sklearn.model_selection import train_test_split\n",
    "from sklearn.model_selection import train_test_split\n",
    "import os\n",
    "import cv2\n",
    "from IPython.display import SVG\n",
    "from sklearn.decomposition import PCA\n",
    "import numpy as np\n",
    "from numpy.random import rand\n",
    "import cudf, cuml\n",
    "from cuml.neighbors import KNeighborsClassifier\n",
    "from sklearn.model_selection import train_test_split\n",
    "import matplotlib.pyplot as plt\n",
    "import random\n",
    "from random import randrange\n",
    "import time"
   ]
  },
  {
   "cell_type": "code",
   "execution_count": 2,
   "id": "0e8c6d86",
   "metadata": {
    "execution": {
     "iopub.execute_input": "2022-01-05T17:35:49.681816Z",
     "iopub.status.busy": "2022-01-05T17:35:49.680979Z",
     "iopub.status.idle": "2022-01-05T17:35:51.493307Z",
     "shell.execute_reply": "2022-01-05T17:35:51.492698Z",
     "shell.execute_reply.started": "2021-12-29T09:07:49.183767Z"
    },
    "papermill": {
     "duration": 1.827135,
     "end_time": "2022-01-05T17:35:51.493460",
     "exception": false,
     "start_time": "2022-01-05T17:35:49.666325",
     "status": "completed"
    },
    "tags": []
   },
   "outputs": [],
   "source": [
    "features_C_NMC_resnet = np.load('../input/pca-pretraining-featureextraction-resnet-c-nmc/C_NMC_ExtractedFeatures.npy')\n",
    "targets_C_NMC = np.load('../input/pca-pretraining-featureextraction-resnet-c-nmc/Targets.npy')"
   ]
  },
  {
   "cell_type": "code",
   "execution_count": 3,
   "id": "a7032717",
   "metadata": {
    "execution": {
     "iopub.execute_input": "2022-01-05T17:35:51.522466Z",
     "iopub.status.busy": "2022-01-05T17:35:51.521510Z",
     "iopub.status.idle": "2022-01-05T17:35:51.855193Z",
     "shell.execute_reply": "2022-01-05T17:35:51.854676Z",
     "shell.execute_reply.started": "2021-12-29T09:07:50.676583Z"
    },
    "papermill": {
     "duration": 0.349797,
     "end_time": "2022-01-05T17:35:51.855330",
     "exception": false,
     "start_time": "2022-01-05T17:35:51.505533",
     "status": "completed"
    },
    "tags": []
   },
   "outputs": [],
   "source": [
    "sc = StandardScaler()\n",
    "features_C_NMC_resnet = sc.fit_transform(features_C_NMC_resnet)"
   ]
  },
  {
   "cell_type": "code",
   "execution_count": 4,
   "id": "df324e29",
   "metadata": {
    "execution": {
     "iopub.execute_input": "2022-01-05T17:35:51.884495Z",
     "iopub.status.busy": "2022-01-05T17:35:51.883703Z",
     "iopub.status.idle": "2022-01-05T17:35:51.911415Z",
     "shell.execute_reply": "2022-01-05T17:35:51.910978Z",
     "shell.execute_reply.started": "2021-12-29T09:07:51.019348Z"
    },
    "papermill": {
     "duration": 0.044215,
     "end_time": "2022-01-05T17:35:51.911552",
     "exception": false,
     "start_time": "2022-01-05T17:35:51.867337",
     "status": "completed"
    },
    "tags": []
   },
   "outputs": [],
   "source": [
    "targets_C_NMC = [np.argmax(y, axis=None, out=None) for y in targets_C_NMC]\n",
    "targets_C_NMC = np.asarray(targets_C_NMC)"
   ]
  },
  {
   "cell_type": "code",
   "execution_count": 5,
   "id": "86d4d334",
   "metadata": {
    "execution": {
     "iopub.execute_input": "2022-01-05T17:35:51.941267Z",
     "iopub.status.busy": "2022-01-05T17:35:51.940397Z",
     "iopub.status.idle": "2022-01-05T17:35:51.943524Z",
     "shell.execute_reply": "2022-01-05T17:35:51.943990Z",
     "shell.execute_reply.started": "2021-12-29T09:07:51.107505Z"
    },
    "papermill": {
     "duration": 0.020666,
     "end_time": "2022-01-05T17:35:51.944134",
     "exception": false,
     "start_time": "2022-01-05T17:35:51.923468",
     "status": "completed"
    },
    "tags": []
   },
   "outputs": [
    {
     "name": "stdout",
     "output_type": "stream",
     "text": [
      "Features C-NMC ResNet:  (8410, 2304)\n",
      "Labels C-NMC:  (8410,)\n"
     ]
    }
   ],
   "source": [
    "print(\"Features C-NMC ResNet: \", features_C_NMC_resnet.shape)\n",
    "print(\"Labels C-NMC: \", targets_C_NMC.shape)"
   ]
  },
  {
   "cell_type": "code",
   "execution_count": 6,
   "id": "2e123c4d",
   "metadata": {
    "execution": {
     "iopub.execute_input": "2022-01-05T17:35:51.977731Z",
     "iopub.status.busy": "2022-01-05T17:35:51.977186Z",
     "iopub.status.idle": "2022-01-05T17:35:51.980893Z",
     "shell.execute_reply": "2022-01-05T17:35:51.980423Z",
     "shell.execute_reply.started": "2021-12-29T09:07:54.806078Z"
    },
    "papermill": {
     "duration": 0.024701,
     "end_time": "2022-01-05T17:35:51.981010",
     "exception": false,
     "start_time": "2022-01-05T17:35:51.956309",
     "status": "completed"
    },
    "tags": []
   },
   "outputs": [],
   "source": [
    "# error rate\n",
    "def error_rate(xtrain, ytrain, x, opts):\n",
    "    # parameters\n",
    "    k  = opts['k']\n",
    "    fold = opts['fold']\n",
    "    xt = fold['xt']\n",
    "    yt = fold['yt']\n",
    "    xv = fold['xv']\n",
    "    yv = fold['yv']\n",
    "    \n",
    "    # number of instances\n",
    "    num_train = np.size(xt, 0)\n",
    "    num_valid = np.size(xv, 0)\n",
    "    # Define selected features\n",
    "    xtrain = xt[:, x == 1]\n",
    "    ytrain = yt.reshape(num_train)\n",
    "    xvalid = xv[:, x == 1]\n",
    "    yvalid = yv.reshape(num_valid)\n",
    "    # Training\n",
    "    mdl     = KNeighborsClassifier(n_neighbors= k)\n",
    "    mdl.fit(xtrain, ytrain)\n",
    "    # Prediction\n",
    "    ypred   = mdl.predict(xvalid)\n",
    "    acc     = np.sum(yvalid == ypred) / num_valid\n",
    "    error   = 1 - acc\n",
    "    \n",
    "    return error, acc\n",
    "# Error rate & Feature size\n",
    "def Fun(xtrain, ytrain, x, opts):\n",
    "    # parameters\n",
    "    alpha = 0.99\n",
    "    beta = 1 - alpha\n",
    "    # original feature size\n",
    "    max_feat = len(x)\n",
    "    # Number of selected features\n",
    "    num_feat = np.sum(x == 1)\n",
    "    # Solve if no feature selected\n",
    "    if num_feat == 0:\n",
    "        cost = 1\n",
    "    else:\n",
    "        # Get error rate\n",
    "        error, acc = error_rate(xtrain, ytrain, x, opts)\n",
    "        # Objective function\n",
    "        cost = alpha * error + beta * (num_feat / max_feat)\n",
    "        \n",
    "    return cost"
   ]
  },
  {
   "cell_type": "code",
   "execution_count": 7,
   "id": "c6d19ab9",
   "metadata": {
    "execution": {
     "iopub.execute_input": "2022-01-05T17:35:52.011473Z",
     "iopub.status.busy": "2022-01-05T17:35:52.010881Z",
     "iopub.status.idle": "2022-01-05T17:35:52.013387Z",
     "shell.execute_reply": "2022-01-05T17:35:52.013753Z",
     "shell.execute_reply.started": "2021-12-29T09:07:55.73799Z"
    },
    "papermill": {
     "duration": 0.020879,
     "end_time": "2022-01-05T17:35:52.013918",
     "exception": false,
     "start_time": "2022-01-05T17:35:51.993039",
     "status": "completed"
    },
    "tags": []
   },
   "outputs": [],
   "source": [
    "# Error rate & Feature size\n",
    "def Fun(xtrain, ytrain, x, opts):\n",
    "    # parameters\n",
    "    alpha = 0.99\n",
    "    beta = 1 - alpha\n",
    "    # original feature size\n",
    "    max_feat = len(x)\n",
    "    # Number of selected features\n",
    "    num_feat = np.sum(x == 1)\n",
    "    # Solve if no feature selected\n",
    "    if num_feat == 0:\n",
    "        cost = 1\n",
    "    else:\n",
    "        # Get error rate\n",
    "        error, acc = error_rate(xtrain, ytrain, x, opts)\n",
    "        # Objective function\n",
    "        cost = alpha * error + beta * (num_feat / max_feat)\n",
    "        \n",
    "    return cost"
   ]
  },
  {
   "cell_type": "code",
   "execution_count": 8,
   "id": "b2e8b737",
   "metadata": {
    "execution": {
     "iopub.execute_input": "2022-01-05T17:35:52.044746Z",
     "iopub.status.busy": "2022-01-05T17:35:52.043156Z",
     "iopub.status.idle": "2022-01-05T17:35:52.045351Z",
     "shell.execute_reply": "2022-01-05T17:35:52.045746Z",
     "shell.execute_reply.started": "2021-12-29T09:07:56.462367Z"
    },
    "papermill": {
     "duration": 0.019909,
     "end_time": "2022-01-05T17:35:52.045904",
     "exception": false,
     "start_time": "2022-01-05T17:35:52.025995",
     "status": "completed"
    },
    "tags": []
   },
   "outputs": [],
   "source": [
    "def init_position(lb, ub, N, dim):\n",
    "    X = np.zeros([N, dim], dtype='float')\n",
    "    for i in range(N):\n",
    "        for d in range(dim):\n",
    "            X[i,d] = lb[0,d] + (ub[0,d] - lb[0,d]) * rand()        \n",
    "    \n",
    "    return X"
   ]
  },
  {
   "cell_type": "code",
   "execution_count": 9,
   "id": "97ca5be7",
   "metadata": {
    "execution": {
     "iopub.execute_input": "2022-01-05T17:35:52.075418Z",
     "iopub.status.busy": "2022-01-05T17:35:52.074889Z",
     "iopub.status.idle": "2022-01-05T17:35:52.078877Z",
     "shell.execute_reply": "2022-01-05T17:35:52.078008Z",
     "shell.execute_reply.started": "2021-12-29T09:07:57.342519Z"
    },
    "papermill": {
     "duration": 0.021249,
     "end_time": "2022-01-05T17:35:52.078987",
     "exception": false,
     "start_time": "2022-01-05T17:35:52.057738",
     "status": "completed"
    },
    "tags": []
   },
   "outputs": [],
   "source": [
    "def binary_conversion(X, thres, N, dim):\n",
    "    Xbin = np.zeros([N, dim], dtype='int')\n",
    "    for i in range(N):\n",
    "        for d in range(dim):\n",
    "            if X[i,d] > thres:\n",
    "                Xbin[i,d] = 1\n",
    "            else:\n",
    "                Xbin[i,d] = 0\n",
    "    \n",
    "    return Xbin"
   ]
  },
  {
   "cell_type": "code",
   "execution_count": 10,
   "id": "4f91bdb9",
   "metadata": {
    "execution": {
     "iopub.execute_input": "2022-01-05T17:35:52.108938Z",
     "iopub.status.busy": "2022-01-05T17:35:52.107326Z",
     "iopub.status.idle": "2022-01-05T17:35:52.109497Z",
     "shell.execute_reply": "2022-01-05T17:35:52.109933Z",
     "shell.execute_reply.started": "2021-12-29T09:07:59.652349Z"
    },
    "papermill": {
     "duration": 0.019219,
     "end_time": "2022-01-05T17:35:52.110073",
     "exception": false,
     "start_time": "2022-01-05T17:35:52.090854",
     "status": "completed"
    },
    "tags": []
   },
   "outputs": [],
   "source": [
    "def boundary(x, lb, ub):\n",
    "    if x < lb:\n",
    "        x = lb\n",
    "    if x > ub:\n",
    "        x = ub\n",
    "    \n",
    "    return x"
   ]
  },
  {
   "cell_type": "code",
   "execution_count": 11,
   "id": "87dbf3b3",
   "metadata": {
    "execution": {
     "iopub.execute_input": "2022-01-05T17:35:52.153468Z",
     "iopub.status.busy": "2022-01-05T17:35:52.152296Z",
     "iopub.status.idle": "2022-01-05T17:35:52.154276Z",
     "shell.execute_reply": "2022-01-05T17:35:52.154686Z",
     "shell.execute_reply.started": "2021-12-29T09:08:00.151161Z"
    },
    "papermill": {
     "duration": 0.032723,
     "end_time": "2022-01-05T17:35:52.154843",
     "exception": false,
     "start_time": "2022-01-05T17:35:52.122120",
     "status": "completed"
    },
    "tags": []
   },
   "outputs": [],
   "source": [
    "def jfs(xtrain, ytrain, opts):\n",
    "    # Parameters\n",
    "    ub     = 1\n",
    "    lb     = 0\n",
    "    thres  = 0.5\n",
    "    \n",
    "    N          = opts['N']\n",
    "    max_iter   = opts['T']\n",
    "        \n",
    "    # Dimension\n",
    "    dim = np.size(xtrain, 1)\n",
    "    if np.size(lb) == 1:\n",
    "        ub = ub * np.ones([1, dim], dtype='float')\n",
    "        lb = lb * np.ones([1, dim], dtype='float')\n",
    "        \n",
    "    # Initialize position \n",
    "    X     = init_position(lb, ub, N, dim)\n",
    "    \n",
    "    # Binary conversion\n",
    "    Xbin  = binary_conversion(X, thres, N, dim)\n",
    "    \n",
    "    # Fitness at first iteration\n",
    "    fit   = np.zeros([N, 1], dtype='float')\n",
    "    Xgb   = np.zeros([1, dim], dtype='float')\n",
    "    fitG  = float('inf')\n",
    "    \n",
    "    for i in range(N):\n",
    "        fit[i,0] = Fun(xtrain, ytrain, Xbin[i,:], opts)\n",
    "        if fit[i,0] < fitG:\n",
    "            Xgb[0,:] = X[i,:]\n",
    "            fitG     = fit[i,0]\n",
    "    \n",
    "    # Pre\n",
    "    curve = np.zeros([1, max_iter], dtype='float') \n",
    "    t     = 0\n",
    "    \n",
    "    curve[0,t] = fitG.copy()\n",
    "    print(\"Generation:\", t + 1)\n",
    "    print(\"Best (JA):\", curve[0,t])\n",
    "    t += 1\n",
    "    \n",
    "    while t < max_iter:  \n",
    "        Xnew  = np.zeros([N, dim], dtype='float') \n",
    "        \n",
    "        # Identify best & worst in population\n",
    "        idx_max = np.argmax(fit)\n",
    "        Xw      = X[idx_max,np.newaxis,:].copy()\n",
    "        idx_min = np.argmin(fit)\n",
    "        Xb      = X[idx_min,np.newaxis,:].copy()       \n",
    "          \n",
    "        for i in range(N):\n",
    "            for d in range(dim):\n",
    "                # Random numbers\n",
    "                r1 = rand();\n",
    "                r2 = rand();\n",
    "                # Position update (1)\n",
    "                Xnew[i,d] = X[i,d] + r1 * (Xb[0,d] - abs(X[i,d])) - r2 * (Xw[0,d] - abs(X[i,d])) \n",
    "                # Boundary\n",
    "                Xnew[i,d] = boundary(Xnew[i,d], lb[0,d], ub[0,d])\n",
    "                \n",
    "        # Binary conversion\n",
    "        Xbin = binary_conversion(Xnew, thres, N, dim)\n",
    "        \n",
    "        # Greedy selection\n",
    "        for i in range(N):\n",
    "            Fnew = Fun(xtrain, ytrain, Xbin[i,:], opts)\n",
    "            if Fnew < fit[i,0]:\n",
    "                X[i,:]   = Xnew[i,:]\n",
    "                fit[i,0] = Fnew             \n",
    "                \n",
    "            if fit[i,0] < fitG:\n",
    "                Xgb[0,:] = X[i,:]\n",
    "                fitG     = fit[i,0]\n",
    "             \n",
    "        # Store result\n",
    "        curve[0,t] = fitG.copy()\n",
    "        print(\"Generation:\", t + 1)\n",
    "        print(\"Best (JA):\", curve[0,t])\n",
    "        t += 1            \n",
    "\n",
    "            \n",
    "    # Best feature subset\n",
    "    Gbin       = binary_conversion(Xgb, thres, 1, dim) \n",
    "    Gbin       = Gbin.reshape(dim)\n",
    "    pos        = np.asarray(range(0, dim))    \n",
    "    sel_index  = pos[Gbin == 1]\n",
    "    num_feat   = len(sel_index)\n",
    "    # Create dictionary\n",
    "    ja_data = {'sf': sel_index, 'c': curve, 'nf': num_feat}\n",
    "    \n",
    "    return ja_data"
   ]
  },
  {
   "cell_type": "code",
   "execution_count": 12,
   "id": "e5d105cb",
   "metadata": {
    "execution": {
     "iopub.execute_input": "2022-01-05T17:35:52.186739Z",
     "iopub.status.busy": "2022-01-05T17:35:52.185558Z",
     "iopub.status.idle": "2022-01-05T17:35:52.213267Z",
     "shell.execute_reply": "2022-01-05T17:35:52.212706Z",
     "shell.execute_reply.started": "2021-12-29T09:08:01.121574Z"
    },
    "papermill": {
     "duration": 0.046207,
     "end_time": "2022-01-05T17:35:52.213393",
     "exception": false,
     "start_time": "2022-01-05T17:35:52.167186",
     "status": "completed"
    },
    "tags": []
   },
   "outputs": [],
   "source": [
    "xtrain, xtest, ytrain, ytest = train_test_split(features_C_NMC_resnet, targets_C_NMC, test_size=0.3, shuffle=True)\n",
    "fold = {'xt':xtrain, 'yt':ytrain, 'xv':xtest, 'yv':ytest}"
   ]
  },
  {
   "cell_type": "code",
   "execution_count": 13,
   "id": "eb963198",
   "metadata": {
    "execution": {
     "iopub.execute_input": "2022-01-05T17:35:52.243179Z",
     "iopub.status.busy": "2022-01-05T17:35:52.242313Z",
     "iopub.status.idle": "2022-01-05T17:35:52.244134Z",
     "shell.execute_reply": "2022-01-05T17:35:52.244576Z",
     "shell.execute_reply.started": "2021-12-29T09:08:02.535669Z"
    },
    "papermill": {
     "duration": 0.01906,
     "end_time": "2022-01-05T17:35:52.244708",
     "exception": false,
     "start_time": "2022-01-05T17:35:52.225648",
     "status": "completed"
    },
    "tags": []
   },
   "outputs": [],
   "source": [
    "P    = 0.8       # switch probability\n",
    "k     = 5     # k-value in KNN\n",
    "N     = 20    # number of\n",
    "T     = 100   # maximum number of iterations\n",
    "opts = {'k':k, 'fold':fold, 'N':N, 'T':T, 'P':P}"
   ]
  },
  {
   "cell_type": "code",
   "execution_count": 14,
   "id": "e4c5f53d",
   "metadata": {
    "execution": {
     "iopub.execute_input": "2022-01-05T17:35:52.277341Z",
     "iopub.status.busy": "2022-01-05T17:35:52.276564Z",
     "iopub.status.idle": "2022-01-05T17:44:15.803193Z",
     "shell.execute_reply": "2022-01-05T17:44:15.802718Z",
     "shell.execute_reply.started": "2021-12-29T09:08:03.978843Z"
    },
    "papermill": {
     "duration": 503.546565,
     "end_time": "2022-01-05T17:44:15.803328",
     "exception": false,
     "start_time": "2022-01-05T17:35:52.256763",
     "status": "completed"
    },
    "tags": []
   },
   "outputs": [
    {
     "name": "stdout",
     "output_type": "stream",
     "text": [
      "Generation: 1\n",
      "Best (JA): 0.029633765193552618\n",
      "Generation: 2\n",
      "Best (JA): 0.028142330145990175\n",
      "Generation: 3\n",
      "Best (JA): 0.028142330145990175\n",
      "Generation: 4\n",
      "Best (JA): 0.027823724856321817\n",
      "Generation: 5\n",
      "Best (JA): 0.027823724856321817\n",
      "Generation: 6\n",
      "Best (JA): 0.027823724856321817\n",
      "Generation: 7\n",
      "Best (JA): 0.02667693676509451\n",
      "Generation: 8\n",
      "Best (JA): 0.02667693676509451\n",
      "Generation: 9\n",
      "Best (JA): 0.02667693676509451\n",
      "Generation: 10\n",
      "Best (JA): 0.02667693676509451\n",
      "Generation: 11\n",
      "Best (JA): 0.02667693676509451\n",
      "Generation: 12\n",
      "Best (JA): 0.02667693676509451\n",
      "Generation: 13\n",
      "Best (JA): 0.02667693676509451\n",
      "Generation: 14\n",
      "Best (JA): 0.02667693676509451\n",
      "Generation: 15\n",
      "Best (JA): 0.02667693676509451\n",
      "Generation: 16\n",
      "Best (JA): 0.02667693676509451\n",
      "Generation: 17\n",
      "Best (JA): 0.02667693676509451\n",
      "Generation: 18\n",
      "Best (JA): 0.02667693676509451\n",
      "Generation: 19\n",
      "Best (JA): 0.02667693676509451\n",
      "Generation: 20\n",
      "Best (JA): 0.026624853431761176\n",
      "Generation: 21\n",
      "Best (JA): 0.0258791359079799\n",
      "Generation: 22\n",
      "Best (JA): 0.025495426451644872\n",
      "Generation: 23\n",
      "Best (JA): 0.025478065340533762\n",
      "Generation: 24\n",
      "Best (JA): 0.025478065340533762\n",
      "Generation: 25\n",
      "Best (JA): 0.025478065340533762\n",
      "Generation: 26\n",
      "Best (JA): 0.025478065340533762\n",
      "Generation: 27\n",
      "Best (JA): 0.025478065340533762\n",
      "Generation: 28\n",
      "Best (JA): 0.02462818115008593\n",
      "Generation: 29\n",
      "Best (JA): 0.02462818115008593\n",
      "Generation: 30\n",
      "Best (JA): 0.02462818115008593\n",
      "Generation: 31\n",
      "Best (JA): 0.02462818115008593\n",
      "Generation: 32\n",
      "Best (JA): 0.02462818115008593\n",
      "Generation: 33\n",
      "Best (JA): 0.02462818115008593\n",
      "Generation: 34\n",
      "Best (JA): 0.02462818115008593\n",
      "Generation: 35\n",
      "Best (JA): 0.02462818115008593\n",
      "Generation: 36\n",
      "Best (JA): 0.02462818115008593\n",
      "Generation: 37\n",
      "Best (JA): 0.02462818115008593\n",
      "Generation: 38\n",
      "Best (JA): 0.02462818115008593\n",
      "Generation: 39\n",
      "Best (JA): 0.02462818115008593\n",
      "Generation: 40\n",
      "Best (JA): 0.02462818115008593\n",
      "Generation: 41\n",
      "Best (JA): 0.02462818115008593\n",
      "Generation: 42\n",
      "Best (JA): 0.02462818115008593\n",
      "Generation: 43\n",
      "Best (JA): 0.02462818115008593\n",
      "Generation: 44\n",
      "Best (JA): 0.02462818115008593\n",
      "Generation: 45\n",
      "Best (JA): 0.02462818115008593\n",
      "Generation: 46\n",
      "Best (JA): 0.02462818115008593\n",
      "Generation: 47\n",
      "Best (JA): 0.02462818115008593\n",
      "Generation: 48\n",
      "Best (JA): 0.02462818115008593\n",
      "Generation: 49\n",
      "Best (JA): 0.02462818115008593\n",
      "Generation: 50\n",
      "Best (JA): 0.02462818115008593\n",
      "Generation: 51\n",
      "Best (JA): 0.02462818115008593\n",
      "Generation: 52\n",
      "Best (JA): 0.02462818115008593\n",
      "Generation: 53\n",
      "Best (JA): 0.02462818115008593\n",
      "Generation: 54\n",
      "Best (JA): 0.02462818115008593\n",
      "Generation: 55\n",
      "Best (JA): 0.02462818115008593\n",
      "Generation: 56\n",
      "Best (JA): 0.02462818115008593\n",
      "Generation: 57\n",
      "Best (JA): 0.02462818115008593\n",
      "Generation: 58\n",
      "Best (JA): 0.0242227703048619\n",
      "Generation: 59\n",
      "Best (JA): 0.0242227703048619\n",
      "Generation: 60\n",
      "Best (JA): 0.0242227703048619\n",
      "Generation: 61\n",
      "Best (JA): 0.0242227703048619\n",
      "Generation: 62\n",
      "Best (JA): 0.0242227703048619\n",
      "Generation: 63\n",
      "Best (JA): 0.0242227703048619\n",
      "Generation: 64\n",
      "Best (JA): 0.0242227703048619\n",
      "Generation: 65\n",
      "Best (JA): 0.024196728638195233\n",
      "Generation: 66\n",
      "Best (JA): 0.024196728638195233\n",
      "Generation: 67\n",
      "Best (JA): 0.024196728638195233\n",
      "Generation: 68\n",
      "Best (JA): 0.024196728638195233\n",
      "Generation: 69\n",
      "Best (JA): 0.024196728638195233\n",
      "Generation: 70\n",
      "Best (JA): 0.024196728638195233\n",
      "Generation: 71\n",
      "Best (JA): 0.024196728638195233\n",
      "Generation: 72\n",
      "Best (JA): 0.024196728638195233\n",
      "Generation: 73\n",
      "Best (JA): 0.024196728638195233\n",
      "Generation: 74\n",
      "Best (JA): 0.024192388360417455\n",
      "Generation: 75\n",
      "Best (JA): 0.024192388360417455\n",
      "Generation: 76\n",
      "Best (JA): 0.024192388360417455\n",
      "Generation: 77\n",
      "Best (JA): 0.024192388360417455\n",
      "Generation: 78\n",
      "Best (JA): 0.024192388360417455\n",
      "Generation: 79\n",
      "Best (JA): 0.024192388360417455\n",
      "Generation: 80\n",
      "Best (JA): 0.024192388360417455\n",
      "Generation: 81\n",
      "Best (JA): 0.024192388360417455\n",
      "Generation: 82\n",
      "Best (JA): 0.024192388360417455\n",
      "Generation: 83\n",
      "Best (JA): 0.024192388360417455\n",
      "Generation: 84\n",
      "Best (JA): 0.024192388360417455\n",
      "Generation: 85\n",
      "Best (JA): 0.024144645304861902\n",
      "Generation: 86\n",
      "Best (JA): 0.024144645304861902\n",
      "Generation: 87\n",
      "Best (JA): 0.024144645304861902\n",
      "Generation: 88\n",
      "Best (JA): 0.024144645304861902\n",
      "Generation: 89\n",
      "Best (JA): 0.024144645304861902\n",
      "Generation: 90\n",
      "Best (JA): 0.024144645304861902\n",
      "Generation: 91\n",
      "Best (JA): 0.024144645304861902\n",
      "Generation: 92\n",
      "Best (JA): 0.023817359459637987\n",
      "Generation: 93\n",
      "Best (JA): 0.023817359459637987\n",
      "Generation: 94\n",
      "Best (JA): 0.023817359459637987\n",
      "Generation: 95\n",
      "Best (JA): 0.023817359459637987\n",
      "Generation: 96\n",
      "Best (JA): 0.023817359459637987\n",
      "Generation: 97\n",
      "Best (JA): 0.023817359459637987\n",
      "Generation: 98\n",
      "Best (JA): 0.023817359459637987\n",
      "Generation: 99\n",
      "Best (JA): 0.023817359459637987\n",
      "Generation: 100\n",
      "Best (JA): 0.023817359459637987\n",
      "Run Time --- 503.09047389030457 seconds ---\n",
      "Accuracy: 98.09750297265161\n",
      "Feature Size: 1148\n"
     ]
    },
    {
     "data": {
      "image/png": "[encoded data removed]",
      "text/plain": [
       "<Figure size 432x288 with 1 Axes>"
      ]
     },
     "metadata": {
      "needs_background": "light"
     },
     "output_type": "display_data"
    }
   ],
   "source": [
    "# perform feature selection\n",
    "start_time = time.time()\n",
    "fmdl  = jfs(features_C_NMC_resnet, targets_C_NMC, opts)\n",
    "print(\"Run Time --- %s seconds ---\" % (time.time() - start_time))\n",
    "\n",
    "sf    = fmdl['sf']\n",
    "\n",
    "# model with selected features\n",
    "num_train = np.size(xtrain, 0)\n",
    "num_valid = np.size(xtest, 0)\n",
    "x_train   = xtrain[:, sf]\n",
    "y_train   = ytrain.reshape(num_train)  # Solve bug\n",
    "x_valid   = xtest[:, sf]\n",
    "y_valid   = ytest.reshape(num_valid)  # Solve bug\n",
    "\n",
    "mdl       = KNeighborsClassifier(n_neighbors= k) \n",
    "mdl.fit(x_train, y_train)\n",
    "\n",
    "# accuracy\n",
    "y_pred    = mdl.predict(x_valid)\n",
    "Acc       = np.sum(y_valid == y_pred)  / num_valid\n",
    "print(\"Accuracy:\", 100 * Acc)\n",
    "\n",
    "# number of selected features\n",
    "num_feat = fmdl['nf']\n",
    "print(\"Feature Size:\", num_feat)\n",
    "\n",
    "# plot convergence\n",
    "curve   = fmdl['c']\n",
    "curve   = curve.reshape(np.size(curve,1))\n",
    "x       = np.arange(0, opts['T'], 1.0) + 1.0\n",
    "\n",
    "fig, ax = plt.subplots()\n",
    "ax.plot(x, curve, 'o-')\n",
    "ax.set_xlabel('Number of Iterations')\n",
    "ax.set_ylabel('Fitness')\n",
    "ax.set_title('Jaya')\n",
    "ax.grid()\n",
    "plt.show()"
   ]
  },
  {
   "cell_type": "code",
   "execution_count": 15,
   "id": "afdea48e",
   "metadata": {
    "execution": {
     "iopub.execute_input": "2022-01-05T17:44:15.885955Z",
     "iopub.status.busy": "2022-01-05T17:44:15.885399Z",
     "iopub.status.idle": "2022-01-05T17:44:15.889257Z",
     "shell.execute_reply": "2022-01-05T17:44:15.888749Z",
     "shell.execute_reply.started": "2021-12-29T09:16:22.580256Z"
    },
    "papermill": {
     "duration": 0.046983,
     "end_time": "2022-01-05T17:44:15.889373",
     "exception": false,
     "start_time": "2022-01-05T17:44:15.842390",
     "status": "completed"
    },
    "tags": []
   },
   "outputs": [],
   "source": [
    "np.save(\"SelectedFeaturesIndexs_C_NMC_ResNet_100iter.npy\", fmdl['sf'])"
   ]
  },
  {
   "cell_type": "code",
   "execution_count": null,
   "id": "d6c615d2",
   "metadata": {
    "papermill": {
     "duration": 0.038892,
     "end_time": "2022-01-05T17:44:15.966870",
     "exception": false,
     "start_time": "2022-01-05T17:44:15.927978",
     "status": "completed"
    },
    "tags": []
   },
   "outputs": [],
   "source": []
  }
 ],
 "metadata": {
  "kernelspec": {
   "display_name": "Python 3",
   "language": "python",
   "name": "python3"
  },
  "language_info": {
   "codemirror_mode": {
    "name": "ipython",
    "version": 3
   },
   "file_extension": ".py",
   "mimetype": "text/x-python",
   "name": "python",
   "nbconvert_exporter": "python",
   "pygments_lexer": "ipython3",
   "version": "3.7.12"
  },
  "papermill": {
   "default_parameters": {},
   "duration": 521.605113,
   "end_time": "2022-01-05T17:44:18.230164",
   "environment_variables": {},
   "exception": null,
   "input_path": "__notebook__.ipynb",
   "output_path": "__notebook__.ipynb",
   "parameters": {},
   "start_time": "2022-01-05T17:35:36.625051",
   "version": "2.3.3"
  }
 },
 "nbformat": 4,
 "nbformat_minor": 5
}
