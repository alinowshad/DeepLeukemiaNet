{
 "cells": [
  {
   "cell_type": "code",
   "execution_count": 1,
   "id": "3236f8e7",
   "metadata": {
    "_cell_guid": "b1076dfc-b9ad-4769-8c92-a6c4dae69d19",
    "_uuid": "8f2839f25d086af736a60e9eeb907d3b93b6e0e5",
    "execution": {
     "iopub.execute_input": "2021-12-28T07:11:48.912704Z",
     "iopub.status.busy": "2021-12-28T07:11:48.907264Z",
     "iopub.status.idle": "2021-12-28T07:11:53.876060Z",
     "shell.execute_reply": "2021-12-28T07:11:53.875351Z",
     "shell.execute_reply.started": "2021-12-28T07:02:10.329537Z"
    },
    "papermill": {
     "duration": 4.995863,
     "end_time": "2021-12-28T07:11:53.876232",
     "exception": false,
     "start_time": "2021-12-28T07:11:48.880369",
     "status": "completed"
    },
    "tags": []
   },
   "outputs": [],
   "source": [
    "import pandas as pd, numpy as np\n",
    "from kaggle_datasets import KaggleDatasets\n",
    "from sklearn.preprocessing import StandardScaler\n",
    "from sklearn.ensemble import RandomForestClassifier\n",
    "from sklearn.model_selection import KFold\n",
    "from sklearn.metrics import roc_auc_score\n",
    "from glob import glob\n",
    "from PIL import Image\n",
    "from skimage import color\n",
    "import cv2, matplotlib.pyplot as plt\n",
    "import random\n",
    "import gc\n",
    "# Import essential libraries\n",
    "%matplotlib inline\n",
    "import matplotlib.pyplot as plt\n",
    "import pandas as pd\n",
    "from sklearn.model_selection import StratifiedKFold\n",
    "import itertools\n",
    "import seaborn as sns\n",
    "from sklearn.preprocessing import label_binarize\n",
    "from sklearn.metrics import confusion_matrix\n",
    "from sklearn.model_selection import train_test_split\n",
    "from sklearn.model_selection import train_test_split\n",
    "import os\n",
    "import cv2\n",
    "from IPython.display import SVG\n",
    "from sklearn.decomposition import PCA\n",
    "import numpy as np\n",
    "from numpy.random import rand\n",
    "import cudf, cuml\n",
    "from cuml.neighbors import KNeighborsClassifier\n",
    "from sklearn.model_selection import train_test_split\n",
    "import matplotlib.pyplot as plt\n",
    "import random\n",
    "from random import randrange\n",
    "import time"
   ]
  },
  {
   "cell_type": "code",
   "execution_count": 2,
   "id": "ca6e74cd",
   "metadata": {
    "execution": {
     "iopub.execute_input": "2021-12-28T07:11:53.915501Z",
     "iopub.status.busy": "2021-12-28T07:11:53.914678Z",
     "iopub.status.idle": "2021-12-28T07:11:54.508826Z",
     "shell.execute_reply": "2021-12-28T07:11:54.508228Z",
     "shell.execute_reply.started": "2021-12-28T07:02:39.202387Z"
    },
    "papermill": {
     "duration": 0.614463,
     "end_time": "2021-12-28T07:11:54.509042",
     "exception": false,
     "start_time": "2021-12-28T07:11:53.894579",
     "status": "completed"
    },
    "tags": []
   },
   "outputs": [],
   "source": [
    "features_ALL_IDB2_resnet = np.load('../input/pca-pretraining-featureextraction-resnet-all-idb2/ALL_IDB2_ExtractedFeatures.npy')\n",
    "targets_ALL_IDB2 = np.load('../input/pca-pretraining-featureextraction-resnet-all-idb2/Targets.npy')"
   ]
  },
  {
   "cell_type": "code",
   "execution_count": 3,
   "id": "ef991718",
   "metadata": {
    "execution": {
     "iopub.execute_input": "2021-12-28T07:11:54.543697Z",
     "iopub.status.busy": "2021-12-28T07:11:54.542692Z",
     "iopub.status.idle": "2021-12-28T07:11:54.629137Z",
     "shell.execute_reply": "2021-12-28T07:11:54.629631Z",
     "shell.execute_reply.started": "2021-12-28T07:03:18.972327Z"
    },
    "papermill": {
     "duration": 0.104516,
     "end_time": "2021-12-28T07:11:54.629807",
     "exception": false,
     "start_time": "2021-12-28T07:11:54.525291",
     "status": "completed"
    },
    "tags": []
   },
   "outputs": [],
   "source": [
    "sc = StandardScaler()\n",
    "features_ALL_IDB2_resnet = sc.fit_transform(features_ALL_IDB2_resnet)"
   ]
  },
  {
   "cell_type": "code",
   "execution_count": 4,
   "id": "5a4ab7b5",
   "metadata": {
    "execution": {
     "iopub.execute_input": "2021-12-28T07:11:54.669877Z",
     "iopub.status.busy": "2021-12-28T07:11:54.668781Z",
     "iopub.status.idle": "2021-12-28T07:11:54.678852Z",
     "shell.execute_reply": "2021-12-28T07:11:54.679447Z",
     "shell.execute_reply.started": "2021-12-28T07:03:19.185541Z"
    },
    "papermill": {
     "duration": 0.034675,
     "end_time": "2021-12-28T07:11:54.679587",
     "exception": false,
     "start_time": "2021-12-28T07:11:54.644912",
     "status": "completed"
    },
    "tags": []
   },
   "outputs": [],
   "source": [
    "targets_ALL_IDB2 = [np.argmax(y, axis=None, out=None) for y in targets_ALL_IDB2]\n",
    "targets_ALL_IDB2 = np.asarray(targets_ALL_IDB2)"
   ]
  },
  {
   "cell_type": "code",
   "execution_count": 5,
   "id": "fe4a7ebf",
   "metadata": {
    "execution": {
     "iopub.execute_input": "2021-12-28T07:11:54.716788Z",
     "iopub.status.busy": "2021-12-28T07:11:54.715549Z",
     "iopub.status.idle": "2021-12-28T07:11:54.720037Z",
     "shell.execute_reply": "2021-12-28T07:11:54.720795Z",
     "shell.execute_reply.started": "2021-12-28T07:03:19.352374Z"
    },
    "papermill": {
     "duration": 0.026894,
     "end_time": "2021-12-28T07:11:54.721055",
     "exception": false,
     "start_time": "2021-12-28T07:11:54.694161",
     "status": "completed"
    },
    "tags": []
   },
   "outputs": [
    {
     "name": "stdout",
     "output_type": "stream",
     "text": [
      "Features ALL-IDB2 ResNet:  (1924, 2304)\n",
      "Labels ALL-IDB2:  (1924,)\n"
     ]
    }
   ],
   "source": [
    "print(\"Features ALL-IDB2 ResNet: \", features_ALL_IDB2_resnet.shape)\n",
    "print(\"Labels ALL-IDB2: \", targets_ALL_IDB2.shape)"
   ]
  },
  {
   "cell_type": "code",
   "execution_count": 6,
   "id": "37c6d869",
   "metadata": {
    "execution": {
     "iopub.execute_input": "2021-12-28T07:11:54.764209Z",
     "iopub.status.busy": "2021-12-28T07:11:54.763398Z",
     "iopub.status.idle": "2021-12-28T07:11:54.766756Z",
     "shell.execute_reply": "2021-12-28T07:11:54.766167Z",
     "shell.execute_reply.started": "2021-12-28T07:03:19.585295Z"
    },
    "papermill": {
     "duration": 0.028569,
     "end_time": "2021-12-28T07:11:54.766908",
     "exception": false,
     "start_time": "2021-12-28T07:11:54.738339",
     "status": "completed"
    },
    "tags": []
   },
   "outputs": [],
   "source": [
    "# error rate\n",
    "def error_rate(xtrain, ytrain, x, opts):\n",
    "    # parameters\n",
    "    k  = opts['k']\n",
    "    fold = opts['fold']\n",
    "    xt = fold['xt']\n",
    "    yt = fold['yt']\n",
    "    xv = fold['xv']\n",
    "    yv = fold['yv']\n",
    "    \n",
    "    # number of instances\n",
    "    num_train = np.size(xt, 0)\n",
    "    num_valid = np.size(xv, 0)\n",
    "    # Define selected features\n",
    "    xtrain = xt[:, x == 1]\n",
    "    ytrain = yt.reshape(num_train)\n",
    "    xvalid = xv[:, x == 1]\n",
    "    yvalid = yv.reshape(num_valid)\n",
    "    # Training\n",
    "    mdl     = KNeighborsClassifier(n_neighbors= k)\n",
    "    mdl.fit(xtrain, ytrain)\n",
    "    # Prediction\n",
    "    ypred   = mdl.predict(xvalid)\n",
    "    acc     = np.sum(yvalid == ypred) / num_valid\n",
    "    error   = 1 - acc\n",
    "    \n",
    "    return error, acc\n",
    "# Error rate & Feature size\n",
    "def Fun(xtrain, ytrain, x, opts):\n",
    "    # parameters\n",
    "    alpha = 0.99\n",
    "    beta = 1 - alpha\n",
    "    # original feature size\n",
    "    max_feat = len(x)\n",
    "    # Number of selected features\n",
    "    num_feat = np.sum(x == 1)\n",
    "    # Solve if no feature selected\n",
    "    if num_feat == 0:\n",
    "        cost = 1\n",
    "    else:\n",
    "        # Get error rate\n",
    "        error, acc = error_rate(xtrain, ytrain, x, opts)\n",
    "        # Objective function\n",
    "        cost = alpha * error + beta * (num_feat / max_feat)\n",
    "        \n",
    "    return cost"
   ]
  },
  {
   "cell_type": "code",
   "execution_count": 7,
   "id": "2e894e0f",
   "metadata": {
    "execution": {
     "iopub.execute_input": "2021-12-28T07:11:54.803652Z",
     "iopub.status.busy": "2021-12-28T07:11:54.802509Z",
     "iopub.status.idle": "2021-12-28T07:11:54.805893Z",
     "shell.execute_reply": "2021-12-28T07:11:54.805298Z",
     "shell.execute_reply.started": "2021-12-28T07:03:20.025943Z"
    },
    "papermill": {
     "duration": 0.024043,
     "end_time": "2021-12-28T07:11:54.806033",
     "exception": false,
     "start_time": "2021-12-28T07:11:54.781990",
     "status": "completed"
    },
    "tags": []
   },
   "outputs": [],
   "source": [
    "# Error rate & Feature size\n",
    "def Fun(xtrain, ytrain, x, opts):\n",
    "    # parameters\n",
    "    alpha = 0.99\n",
    "    beta = 1 - alpha\n",
    "    # original feature size\n",
    "    max_feat = len(x)\n",
    "    # Number of selected features\n",
    "    num_feat = np.sum(x == 1)\n",
    "    # Solve if no feature selected\n",
    "    if num_feat == 0:\n",
    "        cost = 1\n",
    "    else:\n",
    "        # Get error rate\n",
    "        error, acc = error_rate(xtrain, ytrain, x, opts)\n",
    "        # Objective function\n",
    "        cost = alpha * error + beta * (num_feat / max_feat)\n",
    "        \n",
    "    return cost"
   ]
  },
  {
   "cell_type": "code",
   "execution_count": 8,
   "id": "845aaacf",
   "metadata": {
    "execution": {
     "iopub.execute_input": "2021-12-28T07:11:54.842879Z",
     "iopub.status.busy": "2021-12-28T07:11:54.841877Z",
     "iopub.status.idle": "2021-12-28T07:11:54.845038Z",
     "shell.execute_reply": "2021-12-28T07:11:54.844434Z",
     "shell.execute_reply.started": "2021-12-28T07:03:20.313413Z"
    },
    "papermill": {
     "duration": 0.023619,
     "end_time": "2021-12-28T07:11:54.845239",
     "exception": false,
     "start_time": "2021-12-28T07:11:54.821620",
     "status": "completed"
    },
    "tags": []
   },
   "outputs": [],
   "source": [
    "def init_position(lb, ub, N, dim):\n",
    "    X = np.zeros([N, dim], dtype='float')\n",
    "    for i in range(N):\n",
    "        for d in range(dim):\n",
    "            X[i,d] = lb[0,d] + (ub[0,d] - lb[0,d]) * rand()        \n",
    "    \n",
    "    return X"
   ]
  },
  {
   "cell_type": "code",
   "execution_count": 9,
   "id": "2b0f0080",
   "metadata": {
    "execution": {
     "iopub.execute_input": "2021-12-28T07:11:54.882624Z",
     "iopub.status.busy": "2021-12-28T07:11:54.881570Z",
     "iopub.status.idle": "2021-12-28T07:11:54.884810Z",
     "shell.execute_reply": "2021-12-28T07:11:54.884287Z",
     "shell.execute_reply.started": "2021-12-28T07:03:20.542932Z"
    },
    "papermill": {
     "duration": 0.024375,
     "end_time": "2021-12-28T07:11:54.884968",
     "exception": false,
     "start_time": "2021-12-28T07:11:54.860593",
     "status": "completed"
    },
    "tags": []
   },
   "outputs": [],
   "source": [
    "def binary_conversion(X, thres, N, dim):\n",
    "    Xbin = np.zeros([N, dim], dtype='int')\n",
    "    for i in range(N):\n",
    "        for d in range(dim):\n",
    "            if X[i,d] > thres:\n",
    "                Xbin[i,d] = 1\n",
    "            else:\n",
    "                Xbin[i,d] = 0\n",
    "    \n",
    "    return Xbin"
   ]
  },
  {
   "cell_type": "code",
   "execution_count": 10,
   "id": "0abaaf35",
   "metadata": {
    "execution": {
     "iopub.execute_input": "2021-12-28T07:11:54.921638Z",
     "iopub.status.busy": "2021-12-28T07:11:54.918355Z",
     "iopub.status.idle": "2021-12-28T07:11:54.925280Z",
     "shell.execute_reply": "2021-12-28T07:11:54.924677Z",
     "shell.execute_reply.started": "2021-12-28T07:03:20.771402Z"
    },
    "papermill": {
     "duration": 0.024815,
     "end_time": "2021-12-28T07:11:54.925412",
     "exception": false,
     "start_time": "2021-12-28T07:11:54.900597",
     "status": "completed"
    },
    "tags": []
   },
   "outputs": [],
   "source": [
    "def boundary(x, lb, ub):\n",
    "    if x < lb:\n",
    "        x = lb\n",
    "    if x > ub:\n",
    "        x = ub\n",
    "    \n",
    "    return x"
   ]
  },
  {
   "cell_type": "code",
   "execution_count": 11,
   "id": "ce29552a",
   "metadata": {
    "execution": {
     "iopub.execute_input": "2021-12-28T07:11:54.978044Z",
     "iopub.status.busy": "2021-12-28T07:11:54.977006Z",
     "iopub.status.idle": "2021-12-28T07:11:54.980236Z",
     "shell.execute_reply": "2021-12-28T07:11:54.979652Z",
     "shell.execute_reply.started": "2021-12-28T07:03:21.235329Z"
    },
    "papermill": {
     "duration": 0.040021,
     "end_time": "2021-12-28T07:11:54.980373",
     "exception": false,
     "start_time": "2021-12-28T07:11:54.940352",
     "status": "completed"
    },
    "tags": []
   },
   "outputs": [],
   "source": [
    "def jfs(xtrain, ytrain, opts):\n",
    "    # Parameters\n",
    "    ub     = 1\n",
    "    lb     = 0\n",
    "    thres  = 0.5\n",
    "    \n",
    "    N          = opts['N']\n",
    "    max_iter   = opts['T']\n",
    "        \n",
    "    # Dimension\n",
    "    dim = np.size(xtrain, 1)\n",
    "    if np.size(lb) == 1:\n",
    "        ub = ub * np.ones([1, dim], dtype='float')\n",
    "        lb = lb * np.ones([1, dim], dtype='float')\n",
    "        \n",
    "    # Initialize position \n",
    "    X     = init_position(lb, ub, N, dim)\n",
    "    \n",
    "    # Binary conversion\n",
    "    Xbin  = binary_conversion(X, thres, N, dim)\n",
    "    \n",
    "    # Fitness at first iteration\n",
    "    fit   = np.zeros([N, 1], dtype='float')\n",
    "    Xgb   = np.zeros([1, dim], dtype='float')\n",
    "    fitG  = float('inf')\n",
    "    \n",
    "    for i in range(N):\n",
    "        fit[i,0] = Fun(xtrain, ytrain, Xbin[i,:], opts)\n",
    "        if fit[i,0] < fitG:\n",
    "            Xgb[0,:] = X[i,:]\n",
    "            fitG     = fit[i,0]\n",
    "    \n",
    "    # Pre\n",
    "    curve = np.zeros([1, max_iter], dtype='float') \n",
    "    t     = 0\n",
    "    \n",
    "    curve[0,t] = fitG.copy()\n",
    "    print(\"Generation:\", t + 1)\n",
    "    print(\"Best (JA):\", curve[0,t])\n",
    "    t += 1\n",
    "    \n",
    "    while t < max_iter:  \n",
    "        Xnew  = np.zeros([N, dim], dtype='float') \n",
    "        \n",
    "        # Identify best & worst in population\n",
    "        idx_max = np.argmax(fit)\n",
    "        Xw      = X[idx_max,np.newaxis,:].copy()\n",
    "        idx_min = np.argmin(fit)\n",
    "        Xb      = X[idx_min,np.newaxis,:].copy()       \n",
    "          \n",
    "        for i in range(N):\n",
    "            for d in range(dim):\n",
    "                # Random numbers\n",
    "                r1 = rand();\n",
    "                r2 = rand();\n",
    "                # Position update (1)\n",
    "                Xnew[i,d] = X[i,d] + r1 * (Xb[0,d] - abs(X[i,d])) - r2 * (Xw[0,d] - abs(X[i,d])) \n",
    "                # Boundary\n",
    "                Xnew[i,d] = boundary(Xnew[i,d], lb[0,d], ub[0,d])\n",
    "                \n",
    "        # Binary conversion\n",
    "        Xbin = binary_conversion(Xnew, thres, N, dim)\n",
    "        \n",
    "        # Greedy selection\n",
    "        for i in range(N):\n",
    "            Fnew = Fun(xtrain, ytrain, Xbin[i,:], opts)\n",
    "            if Fnew < fit[i,0]:\n",
    "                X[i,:]   = Xnew[i,:]\n",
    "                fit[i,0] = Fnew             \n",
    "                \n",
    "            if fit[i,0] < fitG:\n",
    "                Xgb[0,:] = X[i,:]\n",
    "                fitG     = fit[i,0]\n",
    "             \n",
    "        # Store result\n",
    "        curve[0,t] = fitG.copy()\n",
    "        print(\"Generation:\", t + 1)\n",
    "        print(\"Best (JA):\", curve[0,t])\n",
    "        t += 1            \n",
    "\n",
    "            \n",
    "    # Best feature subset\n",
    "    Gbin       = binary_conversion(Xgb, thres, 1, dim) \n",
    "    Gbin       = Gbin.reshape(dim)\n",
    "    pos        = np.asarray(range(0, dim))    \n",
    "    sel_index  = pos[Gbin == 1]\n",
    "    num_feat   = len(sel_index)\n",
    "    # Create dictionary\n",
    "    ja_data = {'sf': sel_index, 'c': curve, 'nf': num_feat}\n",
    "    \n",
    "    return ja_data"
   ]
  },
  {
   "cell_type": "code",
   "execution_count": 12,
   "id": "ce3d394e",
   "metadata": {
    "execution": {
     "iopub.execute_input": "2021-12-28T07:11:55.018950Z",
     "iopub.status.busy": "2021-12-28T07:11:55.017641Z",
     "iopub.status.idle": "2021-12-28T07:11:55.027667Z",
     "shell.execute_reply": "2021-12-28T07:11:55.027135Z",
     "shell.execute_reply.started": "2021-12-28T07:03:21.664324Z"
    },
    "papermill": {
     "duration": 0.032176,
     "end_time": "2021-12-28T07:11:55.027794",
     "exception": false,
     "start_time": "2021-12-28T07:11:54.995618",
     "status": "completed"
    },
    "tags": []
   },
   "outputs": [],
   "source": [
    "xtrain, xtest, ytrain, ytest = train_test_split(features_ALL_IDB2_resnet, targets_ALL_IDB2, test_size=0.3, shuffle=True)\n",
    "fold = {'xt':xtrain, 'yt':ytrain, 'xv':xtest, 'yv':ytest}"
   ]
  },
  {
   "cell_type": "code",
   "execution_count": 13,
   "id": "8c767281",
   "metadata": {
    "execution": {
     "iopub.execute_input": "2021-12-28T07:11:55.063540Z",
     "iopub.status.busy": "2021-12-28T07:11:55.062398Z",
     "iopub.status.idle": "2021-12-28T07:11:55.064583Z",
     "shell.execute_reply": "2021-12-28T07:11:55.065643Z",
     "shell.execute_reply.started": "2021-12-28T07:03:22.015191Z"
    },
    "papermill": {
     "duration": 0.023184,
     "end_time": "2021-12-28T07:11:55.065788",
     "exception": false,
     "start_time": "2021-12-28T07:11:55.042604",
     "status": "completed"
    },
    "tags": []
   },
   "outputs": [],
   "source": [
    "P    = 0.8       # switch probability\n",
    "k     = 5     # k-value in KNN\n",
    "N     = 20    # number of\n",
    "T     = 100   # maximum number of iterations\n",
    "opts = {'k':k, 'fold':fold, 'N':N, 'T':T, 'P':P}"
   ]
  },
  {
   "cell_type": "code",
   "execution_count": 14,
   "id": "400a9a55",
   "metadata": {
    "execution": {
     "iopub.execute_input": "2021-12-28T07:11:55.111927Z",
     "iopub.status.busy": "2021-12-28T07:11:55.106156Z",
     "iopub.status.idle": "2021-12-28T07:19:12.974747Z",
     "shell.execute_reply": "2021-12-28T07:19:12.976240Z",
     "shell.execute_reply.started": "2021-12-28T07:03:22.795636Z"
    },
    "papermill": {
     "duration": 437.895179,
     "end_time": "2021-12-28T07:19:12.976564",
     "exception": false,
     "start_time": "2021-12-28T07:11:55.081385",
     "status": "completed"
    },
    "tags": []
   },
   "outputs": [
    {
     "name": "stdout",
     "output_type": "stream",
     "text": [
      "Generation: 1\n",
      "Best (JA): 0.0048220486111111155\n",
      "Generation: 2\n",
      "Best (JA): 0.004796006944444448\n",
      "Generation: 3\n",
      "Best (JA): 0.004778645833333337\n",
      "Generation: 4\n",
      "Best (JA): 0.004730902777777782\n",
      "Generation: 5\n",
      "Best (JA): 0.004678819444444448\n",
      "Generation: 6\n",
      "Best (JA): 0.004592013888888893\n",
      "Generation: 7\n",
      "Best (JA): 0.004592013888888893\n",
      "Generation: 8\n",
      "Best (JA): 0.004592013888888893\n",
      "Generation: 9\n",
      "Best (JA): 0.004592013888888893\n",
      "Generation: 10\n",
      "Best (JA): 0.004592013888888893\n",
      "Generation: 11\n",
      "Best (JA): 0.004592013888888893\n",
      "Generation: 12\n",
      "Best (JA): 0.004592013888888893\n",
      "Generation: 13\n",
      "Best (JA): 0.0045659722222222265\n",
      "Generation: 14\n",
      "Best (JA): 0.004552951388888893\n",
      "Generation: 15\n",
      "Best (JA): 0.004483506944444448\n",
      "Generation: 16\n",
      "Best (JA): 0.004435763888888893\n",
      "Generation: 17\n",
      "Best (JA): 0.004435763888888893\n",
      "Generation: 18\n",
      "Best (JA): 0.004435763888888893\n",
      "Generation: 19\n",
      "Best (JA): 0.004401041666666671\n",
      "Generation: 20\n",
      "Best (JA): 0.004401041666666671\n",
      "Generation: 21\n",
      "Best (JA): 0.004401041666666671\n",
      "Generation: 22\n",
      "Best (JA): 0.004401041666666671\n",
      "Generation: 23\n",
      "Best (JA): 0.004401041666666671\n",
      "Generation: 24\n",
      "Best (JA): 0.004401041666666671\n",
      "Generation: 25\n",
      "Best (JA): 0.004401041666666671\n",
      "Generation: 26\n",
      "Best (JA): 0.004401041666666671\n",
      "Generation: 27\n",
      "Best (JA): 0.004401041666666671\n",
      "Generation: 28\n",
      "Best (JA): 0.004401041666666671\n",
      "Generation: 29\n",
      "Best (JA): 0.004401041666666671\n",
      "Generation: 30\n",
      "Best (JA): 0.004401041666666671\n",
      "Generation: 31\n",
      "Best (JA): 0.004401041666666671\n",
      "Generation: 32\n",
      "Best (JA): 0.004401041666666671\n",
      "Generation: 33\n",
      "Best (JA): 0.004401041666666671\n",
      "Generation: 34\n",
      "Best (JA): 0.004401041666666671\n",
      "Generation: 35\n",
      "Best (JA): 0.004401041666666671\n",
      "Generation: 36\n",
      "Best (JA): 0.004401041666666671\n",
      "Generation: 37\n",
      "Best (JA): 0.004401041666666671\n",
      "Generation: 38\n",
      "Best (JA): 0.004401041666666671\n",
      "Generation: 39\n",
      "Best (JA): 0.004401041666666671\n",
      "Generation: 40\n",
      "Best (JA): 0.004401041666666671\n",
      "Generation: 41\n",
      "Best (JA): 0.004388020833333337\n",
      "Generation: 42\n",
      "Best (JA): 0.0043793402777777815\n",
      "Generation: 43\n",
      "Best (JA): 0.004366319444444448\n",
      "Generation: 44\n",
      "Best (JA): 0.004357638888888893\n",
      "Generation: 45\n",
      "Best (JA): 0.004335937500000004\n",
      "Generation: 46\n",
      "Best (JA): 0.004309895833333337\n",
      "Generation: 47\n",
      "Best (JA): 0.004309895833333337\n",
      "Generation: 48\n",
      "Best (JA): 0.00430555555555556\n",
      "Generation: 49\n",
      "Best (JA): 0.00430555555555556\n",
      "Generation: 50\n",
      "Best (JA): 0.00430555555555556\n",
      "Generation: 51\n",
      "Best (JA): 0.004288194444444448\n",
      "Generation: 52\n",
      "Best (JA): 0.004288194444444448\n",
      "Generation: 53\n",
      "Best (JA): 0.004279513888888893\n",
      "Generation: 54\n",
      "Best (JA): 0.004279513888888893\n",
      "Generation: 55\n",
      "Best (JA): 0.004279513888888893\n",
      "Generation: 56\n",
      "Best (JA): 0.00426649305555556\n",
      "Generation: 57\n",
      "Best (JA): 0.00426649305555556\n",
      "Generation: 58\n",
      "Best (JA): 0.00426649305555556\n",
      "Generation: 59\n",
      "Best (JA): 0.00426649305555556\n",
      "Generation: 60\n",
      "Best (JA): 0.00426649305555556\n",
      "Generation: 61\n",
      "Best (JA): 0.00426649305555556\n",
      "Generation: 62\n",
      "Best (JA): 0.00426649305555556\n",
      "Generation: 63\n",
      "Best (JA): 0.00418836805555556\n",
      "Generation: 64\n",
      "Best (JA): 0.00418836805555556\n",
      "Generation: 65\n",
      "Best (JA): 0.00418836805555556\n",
      "Generation: 66\n",
      "Best (JA): 0.00418836805555556\n",
      "Generation: 67\n",
      "Best (JA): 0.004175347222222226\n",
      "Generation: 68\n",
      "Best (JA): 0.004175347222222226\n",
      "Generation: 69\n",
      "Best (JA): 0.004175347222222226\n",
      "Generation: 70\n",
      "Best (JA): 0.004175347222222226\n",
      "Generation: 71\n",
      "Best (JA): 0.004175347222222226\n",
      "Generation: 72\n",
      "Best (JA): 0.004175347222222226\n",
      "Generation: 73\n",
      "Best (JA): 0.004175347222222226\n",
      "Generation: 74\n",
      "Best (JA): 0.004175347222222226\n",
      "Generation: 75\n",
      "Best (JA): 0.004175347222222226\n",
      "Generation: 76\n",
      "Best (JA): 0.004175347222222226\n",
      "Generation: 77\n",
      "Best (JA): 0.004175347222222226\n",
      "Generation: 78\n",
      "Best (JA): 0.004175347222222226\n",
      "Generation: 79\n",
      "Best (JA): 0.004175347222222226\n",
      "Generation: 80\n",
      "Best (JA): 0.004175347222222226\n",
      "Generation: 81\n",
      "Best (JA): 0.004175347222222226\n",
      "Generation: 82\n",
      "Best (JA): 0.004175347222222226\n",
      "Generation: 83\n",
      "Best (JA): 0.004175347222222226\n",
      "Generation: 84\n",
      "Best (JA): 0.004175347222222226\n",
      "Generation: 85\n",
      "Best (JA): 0.004166666666666671\n",
      "Generation: 86\n",
      "Best (JA): 0.004166666666666671\n",
      "Generation: 87\n",
      "Best (JA): 0.004166666666666671\n",
      "Generation: 88\n",
      "Best (JA): 0.004166666666666671\n",
      "Generation: 89\n",
      "Best (JA): 0.004166666666666671\n",
      "Generation: 90\n",
      "Best (JA): 0.004166666666666671\n",
      "Generation: 91\n",
      "Best (JA): 0.004140625000000004\n",
      "Generation: 92\n",
      "Best (JA): 0.004140625000000004\n",
      "Generation: 93\n",
      "Best (JA): 0.004140625000000004\n",
      "Generation: 94\n",
      "Best (JA): 0.004140625000000004\n",
      "Generation: 95\n",
      "Best (JA): 0.004140625000000004\n",
      "Generation: 96\n",
      "Best (JA): 0.004140625000000004\n",
      "Generation: 97\n",
      "Best (JA): 0.004140625000000004\n",
      "Generation: 98\n",
      "Best (JA): 0.004140625000000004\n",
      "Generation: 99\n",
      "Best (JA): 0.004140625000000004\n",
      "Generation: 100\n",
      "Best (JA): 0.004140625000000004\n",
      "Run Time --- 437.3204536437988 seconds ---\n",
      "Accuracy: 100.0\n",
      "Feature Size: 954\n"
     ]
    },
    {
     "data": {
      "image/png": "[encoded data removed]",
      "text/plain": [
       "<Figure size 432x288 with 1 Axes>"
      ]
     },
     "metadata": {
      "needs_background": "light"
     },
     "output_type": "display_data"
    }
   ],
   "source": [
    "# perform feature selection\n",
    "start_time = time.time()\n",
    "fmdl  = jfs(features_ALL_IDB2_resnet, targets_ALL_IDB2, opts)\n",
    "print(\"Run Time --- %s seconds ---\" % (time.time() - start_time))\n",
    "\n",
    "sf    = fmdl['sf']\n",
    "\n",
    "# model with selected features\n",
    "num_train = np.size(xtrain, 0)\n",
    "num_valid = np.size(xtest, 0)\n",
    "x_train   = xtrain[:, sf]\n",
    "y_train   = ytrain.reshape(num_train)  # Solve bug\n",
    "x_valid   = xtest[:, sf]\n",
    "y_valid   = ytest.reshape(num_valid)  # Solve bug\n",
    "\n",
    "mdl       = KNeighborsClassifier(n_neighbors= k) \n",
    "mdl.fit(x_train, y_train)\n",
    "\n",
    "# accuracy\n",
    "y_pred    = mdl.predict(x_valid)\n",
    "Acc       = np.sum(y_valid == y_pred)  / num_valid\n",
    "print(\"Accuracy:\", 100 * Acc)\n",
    "\n",
    "# number of selected features\n",
    "num_feat = fmdl['nf']\n",
    "print(\"Feature Size:\", num_feat)\n",
    "\n",
    "# plot convergence\n",
    "curve   = fmdl['c']\n",
    "curve   = curve.reshape(np.size(curve,1))\n",
    "x       = np.arange(0, opts['T'], 1.0) + 1.0\n",
    "\n",
    "fig, ax = plt.subplots()\n",
    "ax.plot(x, curve, 'o-')\n",
    "ax.set_xlabel('Number of Iterations')\n",
    "ax.set_ylabel('Fitness')\n",
    "ax.set_title('Jaya')\n",
    "ax.grid()\n",
    "plt.show()"
   ]
  },
  {
   "cell_type": "code",
   "execution_count": 15,
   "id": "00b1ba6b",
   "metadata": {
    "execution": {
     "iopub.execute_input": "2021-12-28T07:19:13.171587Z",
     "iopub.status.busy": "2021-12-28T07:19:13.170406Z",
     "iopub.status.idle": "2021-12-28T07:19:13.177446Z",
     "shell.execute_reply": "2021-12-28T07:19:13.178468Z",
     "shell.execute_reply.started": "2021-12-28T07:09:44.045147Z"
    },
    "papermill": {
     "duration": 0.106027,
     "end_time": "2021-12-28T07:19:13.178706",
     "exception": false,
     "start_time": "2021-12-28T07:19:13.072679",
     "status": "completed"
    },
    "tags": []
   },
   "outputs": [],
   "source": [
    "np.save(\"SelectedFeaturesIndexs_ALL_IDB2_ResNet_100iter.npy\", fmdl['sf'])"
   ]
  },
  {
   "cell_type": "code",
   "execution_count": null,
   "id": "3d62fafd",
   "metadata": {
    "papermill": {
     "duration": 0.087907,
     "end_time": "2021-12-28T07:19:13.361139",
     "exception": false,
     "start_time": "2021-12-28T07:19:13.273232",
     "status": "completed"
    },
    "tags": []
   },
   "outputs": [],
   "source": []
  }
 ],
 "metadata": {
  "kernelspec": {
   "display_name": "Python 3",
   "language": "python",
   "name": "python3"
  },
  "language_info": {
   "codemirror_mode": {
    "name": "ipython",
    "version": 3
   },
   "file_extension": ".py",
   "mimetype": "text/x-python",
   "name": "python",
   "nbconvert_exporter": "python",
   "pygments_lexer": "ipython3",
   "version": "3.7.12"
  },
  "papermill": {
   "default_parameters": {},
   "duration": 456.83241,
   "end_time": "2021-12-28T07:19:16.059268",
   "environment_variables": {},
   "exception": null,
   "input_path": "__notebook__.ipynb",
   "output_path": "__notebook__.ipynb",
   "parameters": {},
   "start_time": "2021-12-28T07:11:39.226858",
   "version": "2.3.3"
  }
 },
 "nbformat": 4,
 "nbformat_minor": 5
}
