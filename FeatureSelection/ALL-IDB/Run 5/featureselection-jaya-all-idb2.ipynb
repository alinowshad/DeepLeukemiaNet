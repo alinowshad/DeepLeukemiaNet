{
 "cells": [
  {
   "cell_type": "code",
   "execution_count": 1,
   "id": "3eaeda9a",
   "metadata": {
    "_cell_guid": "b1076dfc-b9ad-4769-8c92-a6c4dae69d19",
    "_uuid": "8f2839f25d086af736a60e9eeb907d3b93b6e0e5",
    "execution": {
     "iopub.execute_input": "2022-01-05T19:20:28.958902Z",
     "iopub.status.busy": "2022-01-05T19:20:28.957405Z",
     "iopub.status.idle": "2022-01-05T19:20:33.191582Z",
     "shell.execute_reply": "2022-01-05T19:20:33.192013Z",
     "shell.execute_reply.started": "2021-12-29T09:23:46.666765Z"
    },
    "papermill": {
     "duration": 4.251466,
     "end_time": "2022-01-05T19:20:33.192319",
     "exception": false,
     "start_time": "2022-01-05T19:20:28.940853",
     "status": "completed"
    },
    "tags": []
   },
   "outputs": [],
   "source": [
    "import pandas as pd, numpy as np\n",
    "from kaggle_datasets import KaggleDatasets\n",
    "from sklearn.preprocessing import StandardScaler\n",
    "from sklearn.ensemble import RandomForestClassifier\n",
    "from sklearn.model_selection import KFold\n",
    "from sklearn.metrics import roc_auc_score\n",
    "from glob import glob\n",
    "from PIL import Image\n",
    "from skimage import color\n",
    "import cv2, matplotlib.pyplot as plt\n",
    "import random\n",
    "import gc\n",
    "# Import essential libraries\n",
    "%matplotlib inline\n",
    "import matplotlib.pyplot as plt\n",
    "import pandas as pd\n",
    "from sklearn.model_selection import StratifiedKFold\n",
    "import itertools\n",
    "import seaborn as sns\n",
    "from sklearn.preprocessing import label_binarize\n",
    "from sklearn.metrics import confusion_matrix\n",
    "from sklearn.model_selection import train_test_split\n",
    "from sklearn.model_selection import train_test_split\n",
    "import os\n",
    "import cv2\n",
    "from IPython.display import SVG\n",
    "from sklearn.decomposition import PCA\n",
    "import numpy as np\n",
    "from numpy.random import rand\n",
    "import cudf, cuml\n",
    "from cuml.neighbors import KNeighborsClassifier\n",
    "from sklearn.model_selection import train_test_split\n",
    "import matplotlib.pyplot as plt\n",
    "import random\n",
    "from random import randrange\n",
    "import time"
   ]
  },
  {
   "cell_type": "code",
   "execution_count": 2,
   "id": "75758680",
   "metadata": {
    "execution": {
     "iopub.execute_input": "2022-01-05T19:20:33.220350Z",
     "iopub.status.busy": "2022-01-05T19:20:33.219730Z",
     "iopub.status.idle": "2022-01-05T19:20:33.750472Z",
     "shell.execute_reply": "2022-01-05T19:20:33.749945Z",
     "shell.execute_reply.started": "2021-12-29T09:23:46.961921Z"
    },
    "papermill": {
     "duration": 0.545622,
     "end_time": "2022-01-05T19:20:33.750607",
     "exception": false,
     "start_time": "2022-01-05T19:20:33.204985",
     "status": "completed"
    },
    "tags": []
   },
   "outputs": [],
   "source": [
    "features_ALL_IDB2_resnet = np.load('../input/pca-pretraining-featureextraction-resnet-all-idb2/ALL_IDB2_ExtractedFeatures.npy')\n",
    "targets_ALL_IDB2 = np.load('../input/pca-pretraining-featureextraction-resnet-all-idb2/Targets.npy')"
   ]
  },
  {
   "cell_type": "code",
   "execution_count": 3,
   "id": "1e6280f4",
   "metadata": {
    "execution": {
     "iopub.execute_input": "2022-01-05T19:20:33.780503Z",
     "iopub.status.busy": "2022-01-05T19:20:33.779629Z",
     "iopub.status.idle": "2022-01-05T19:20:33.853703Z",
     "shell.execute_reply": "2022-01-05T19:20:33.853107Z",
     "shell.execute_reply.started": "2021-12-29T09:23:47.249624Z"
    },
    "papermill": {
     "duration": 0.089818,
     "end_time": "2022-01-05T19:20:33.853847",
     "exception": false,
     "start_time": "2022-01-05T19:20:33.764029",
     "status": "completed"
    },
    "tags": []
   },
   "outputs": [],
   "source": [
    "sc = StandardScaler()\n",
    "features_ALL_IDB2_resnet = sc.fit_transform(features_ALL_IDB2_resnet)"
   ]
  },
  {
   "cell_type": "code",
   "execution_count": 4,
   "id": "dcdf4bd0",
   "metadata": {
    "execution": {
     "iopub.execute_input": "2022-01-05T19:20:33.884244Z",
     "iopub.status.busy": "2022-01-05T19:20:33.883409Z",
     "iopub.status.idle": "2022-01-05T19:20:33.892222Z",
     "shell.execute_reply": "2022-01-05T19:20:33.892613Z",
     "shell.execute_reply.started": "2021-12-29T09:23:47.698005Z"
    },
    "papermill": {
     "duration": 0.026805,
     "end_time": "2022-01-05T19:20:33.892749",
     "exception": false,
     "start_time": "2022-01-05T19:20:33.865944",
     "status": "completed"
    },
    "tags": []
   },
   "outputs": [],
   "source": [
    "targets_ALL_IDB2 = [np.argmax(y, axis=None, out=None) for y in targets_ALL_IDB2]\n",
    "targets_ALL_IDB2 = np.asarray(targets_ALL_IDB2)"
   ]
  },
  {
   "cell_type": "code",
   "execution_count": 5,
   "id": "492474c3",
   "metadata": {
    "execution": {
     "iopub.execute_input": "2022-01-05T19:20:33.922293Z",
     "iopub.status.busy": "2022-01-05T19:20:33.920666Z",
     "iopub.status.idle": "2022-01-05T19:20:33.924908Z",
     "shell.execute_reply": "2022-01-05T19:20:33.924298Z",
     "shell.execute_reply.started": "2021-12-29T09:23:48.144891Z"
    },
    "papermill": {
     "duration": 0.020748,
     "end_time": "2022-01-05T19:20:33.925049",
     "exception": false,
     "start_time": "2022-01-05T19:20:33.904301",
     "status": "completed"
    },
    "tags": []
   },
   "outputs": [
    {
     "name": "stdout",
     "output_type": "stream",
     "text": [
      "Features ALL-IDB2 ResNet:  (2004, 2304)\n",
      "Labels ALL-IDB2:  (2004,)\n"
     ]
    }
   ],
   "source": [
    "print(\"Features ALL-IDB2 ResNet: \", features_ALL_IDB2_resnet.shape)\n",
    "print(\"Labels ALL-IDB2: \", targets_ALL_IDB2.shape)"
   ]
  },
  {
   "cell_type": "code",
   "execution_count": 6,
   "id": "328d7176",
   "metadata": {
    "execution": {
     "iopub.execute_input": "2022-01-05T19:20:33.959322Z",
     "iopub.status.busy": "2022-01-05T19:20:33.958520Z",
     "iopub.status.idle": "2022-01-05T19:20:33.960566Z",
     "shell.execute_reply": "2022-01-05T19:20:33.960974Z",
     "shell.execute_reply.started": "2021-12-29T09:23:48.657715Z"
    },
    "papermill": {
     "duration": 0.022854,
     "end_time": "2022-01-05T19:20:33.961092",
     "exception": false,
     "start_time": "2022-01-05T19:20:33.938238",
     "status": "completed"
    },
    "tags": []
   },
   "outputs": [],
   "source": [
    "# error rate\n",
    "def error_rate(xtrain, ytrain, x, opts):\n",
    "    # parameters\n",
    "    k  = opts['k']\n",
    "    fold = opts['fold']\n",
    "    xt = fold['xt']\n",
    "    yt = fold['yt']\n",
    "    xv = fold['xv']\n",
    "    yv = fold['yv']\n",
    "    \n",
    "    # number of instances\n",
    "    num_train = np.size(xt, 0)\n",
    "    num_valid = np.size(xv, 0)\n",
    "    # Define selected features\n",
    "    xtrain = xt[:, x == 1]\n",
    "    ytrain = yt.reshape(num_train)\n",
    "    xvalid = xv[:, x == 1]\n",
    "    yvalid = yv.reshape(num_valid)\n",
    "    # Training\n",
    "    mdl     = KNeighborsClassifier(n_neighbors= k)\n",
    "    mdl.fit(xtrain, ytrain)\n",
    "    # Prediction\n",
    "    ypred   = mdl.predict(xvalid)\n",
    "    acc     = np.sum(yvalid == ypred) / num_valid\n",
    "    error   = 1 - acc\n",
    "    \n",
    "    return error, acc\n",
    "# Error rate & Feature size\n",
    "def Fun(xtrain, ytrain, x, opts):\n",
    "    # parameters\n",
    "    alpha = 0.99\n",
    "    beta = 1 - alpha\n",
    "    # original feature size\n",
    "    max_feat = len(x)\n",
    "    # Number of selected features\n",
    "    num_feat = np.sum(x == 1)\n",
    "    # Solve if no feature selected\n",
    "    if num_feat == 0:\n",
    "        cost = 1\n",
    "    else:\n",
    "        # Get error rate\n",
    "        error, acc = error_rate(xtrain, ytrain, x, opts)\n",
    "        # Objective function\n",
    "        cost = alpha * error + beta * (num_feat / max_feat)\n",
    "        \n",
    "    return cost"
   ]
  },
  {
   "cell_type": "code",
   "execution_count": 7,
   "id": "64ddcb5b",
   "metadata": {
    "execution": {
     "iopub.execute_input": "2022-01-05T19:20:33.990023Z",
     "iopub.status.busy": "2022-01-05T19:20:33.989250Z",
     "iopub.status.idle": "2022-01-05T19:20:33.991735Z",
     "shell.execute_reply": "2022-01-05T19:20:33.991303Z",
     "shell.execute_reply.started": "2021-12-29T09:23:49.279425Z"
    },
    "papermill": {
     "duration": 0.019132,
     "end_time": "2022-01-05T19:20:33.991836",
     "exception": false,
     "start_time": "2022-01-05T19:20:33.972704",
     "status": "completed"
    },
    "tags": []
   },
   "outputs": [],
   "source": [
    "# Error rate & Feature size\n",
    "def Fun(xtrain, ytrain, x, opts):\n",
    "    # parameters\n",
    "    alpha = 0.99\n",
    "    beta = 1 - alpha\n",
    "    # original feature size\n",
    "    max_feat = len(x)\n",
    "    # Number of selected features\n",
    "    num_feat = np.sum(x == 1)\n",
    "    # Solve if no feature selected\n",
    "    if num_feat == 0:\n",
    "        cost = 1\n",
    "    else:\n",
    "        # Get error rate\n",
    "        error, acc = error_rate(xtrain, ytrain, x, opts)\n",
    "        # Objective function\n",
    "        cost = alpha * error + beta * (num_feat / max_feat)\n",
    "        \n",
    "    return cost"
   ]
  },
  {
   "cell_type": "code",
   "execution_count": 8,
   "id": "26bf61e7",
   "metadata": {
    "execution": {
     "iopub.execute_input": "2022-01-05T19:20:34.018594Z",
     "iopub.status.busy": "2022-01-05T19:20:34.017797Z",
     "iopub.status.idle": "2022-01-05T19:20:34.023066Z",
     "shell.execute_reply": "2022-01-05T19:20:34.022672Z",
     "shell.execute_reply.started": "2021-12-29T09:23:49.774858Z"
    },
    "papermill": {
     "duration": 0.019278,
     "end_time": "2022-01-05T19:20:34.023167",
     "exception": false,
     "start_time": "2022-01-05T19:20:34.003889",
     "status": "completed"
    },
    "tags": []
   },
   "outputs": [],
   "source": [
    "def init_position(lb, ub, N, dim):\n",
    "    X = np.zeros([N, dim], dtype='float')\n",
    "    for i in range(N):\n",
    "        for d in range(dim):\n",
    "            X[i,d] = lb[0,d] + (ub[0,d] - lb[0,d]) * rand()        \n",
    "    \n",
    "    return X"
   ]
  },
  {
   "cell_type": "code",
   "execution_count": 9,
   "id": "aa5425b6",
   "metadata": {
    "execution": {
     "iopub.execute_input": "2022-01-05T19:20:34.052286Z",
     "iopub.status.busy": "2022-01-05T19:20:34.051516Z",
     "iopub.status.idle": "2022-01-05T19:20:34.053938Z",
     "shell.execute_reply": "2022-01-05T19:20:34.053508Z",
     "shell.execute_reply.started": "2021-12-29T09:23:50.031206Z"
    },
    "papermill": {
     "duration": 0.018653,
     "end_time": "2022-01-05T19:20:34.054036",
     "exception": false,
     "start_time": "2022-01-05T19:20:34.035383",
     "status": "completed"
    },
    "tags": []
   },
   "outputs": [],
   "source": [
    "def binary_conversion(X, thres, N, dim):\n",
    "    Xbin = np.zeros([N, dim], dtype='int')\n",
    "    for i in range(N):\n",
    "        for d in range(dim):\n",
    "            if X[i,d] > thres:\n",
    "                Xbin[i,d] = 1\n",
    "            else:\n",
    "                Xbin[i,d] = 0\n",
    "    \n",
    "    return Xbin"
   ]
  },
  {
   "cell_type": "code",
   "execution_count": 10,
   "id": "651078fb",
   "metadata": {
    "execution": {
     "iopub.execute_input": "2022-01-05T19:20:34.081997Z",
     "iopub.status.busy": "2022-01-05T19:20:34.081246Z",
     "iopub.status.idle": "2022-01-05T19:20:34.083627Z",
     "shell.execute_reply": "2022-01-05T19:20:34.083160Z",
     "shell.execute_reply.started": "2021-12-29T09:23:50.338001Z"
    },
    "papermill": {
     "duration": 0.017801,
     "end_time": "2022-01-05T19:20:34.083733",
     "exception": false,
     "start_time": "2022-01-05T19:20:34.065932",
     "status": "completed"
    },
    "tags": []
   },
   "outputs": [],
   "source": [
    "def boundary(x, lb, ub):\n",
    "    if x < lb:\n",
    "        x = lb\n",
    "    if x > ub:\n",
    "        x = ub\n",
    "    \n",
    "    return x"
   ]
  },
  {
   "cell_type": "code",
   "execution_count": 11,
   "id": "24198d0a",
   "metadata": {
    "execution": {
     "iopub.execute_input": "2022-01-05T19:20:34.125236Z",
     "iopub.status.busy": "2022-01-05T19:20:34.124419Z",
     "iopub.status.idle": "2022-01-05T19:20:34.126714Z",
     "shell.execute_reply": "2022-01-05T19:20:34.126283Z",
     "shell.execute_reply.started": "2021-12-29T09:23:50.823103Z"
    },
    "papermill": {
     "duration": 0.031169,
     "end_time": "2022-01-05T19:20:34.126815",
     "exception": false,
     "start_time": "2022-01-05T19:20:34.095646",
     "status": "completed"
    },
    "tags": []
   },
   "outputs": [],
   "source": [
    "def jfs(xtrain, ytrain, opts):\n",
    "    # Parameters\n",
    "    ub     = 1\n",
    "    lb     = 0\n",
    "    thres  = 0.5\n",
    "    \n",
    "    N          = opts['N']\n",
    "    max_iter   = opts['T']\n",
    "        \n",
    "    # Dimension\n",
    "    dim = np.size(xtrain, 1)\n",
    "    if np.size(lb) == 1:\n",
    "        ub = ub * np.ones([1, dim], dtype='float')\n",
    "        lb = lb * np.ones([1, dim], dtype='float')\n",
    "        \n",
    "    # Initialize position \n",
    "    X     = init_position(lb, ub, N, dim)\n",
    "    \n",
    "    # Binary conversion\n",
    "    Xbin  = binary_conversion(X, thres, N, dim)\n",
    "    \n",
    "    # Fitness at first iteration\n",
    "    fit   = np.zeros([N, 1], dtype='float')\n",
    "    Xgb   = np.zeros([1, dim], dtype='float')\n",
    "    fitG  = float('inf')\n",
    "    \n",
    "    for i in range(N):\n",
    "        fit[i,0] = Fun(xtrain, ytrain, Xbin[i,:], opts)\n",
    "        if fit[i,0] < fitG:\n",
    "            Xgb[0,:] = X[i,:]\n",
    "            fitG     = fit[i,0]\n",
    "    \n",
    "    # Pre\n",
    "    curve = np.zeros([1, max_iter], dtype='float') \n",
    "    t     = 0\n",
    "    \n",
    "    curve[0,t] = fitG.copy()\n",
    "    print(\"Generation:\", t + 1)\n",
    "    print(\"Best (JA):\", curve[0,t])\n",
    "    t += 1\n",
    "    \n",
    "    while t < max_iter:  \n",
    "        Xnew  = np.zeros([N, dim], dtype='float') \n",
    "        \n",
    "        # Identify best & worst in population\n",
    "        idx_max = np.argmax(fit)\n",
    "        Xw      = X[idx_max,np.newaxis,:].copy()\n",
    "        idx_min = np.argmin(fit)\n",
    "        Xb      = X[idx_min,np.newaxis,:].copy()       \n",
    "          \n",
    "        for i in range(N):\n",
    "            for d in range(dim):\n",
    "                # Random numbers\n",
    "                r1 = rand();\n",
    "                r2 = rand();\n",
    "                # Position update (1)\n",
    "                Xnew[i,d] = X[i,d] + r1 * (Xb[0,d] - abs(X[i,d])) - r2 * (Xw[0,d] - abs(X[i,d])) \n",
    "                # Boundary\n",
    "                Xnew[i,d] = boundary(Xnew[i,d], lb[0,d], ub[0,d])\n",
    "                \n",
    "        # Binary conversion\n",
    "        Xbin = binary_conversion(Xnew, thres, N, dim)\n",
    "        \n",
    "        # Greedy selection\n",
    "        for i in range(N):\n",
    "            Fnew = Fun(xtrain, ytrain, Xbin[i,:], opts)\n",
    "            if Fnew < fit[i,0]:\n",
    "                X[i,:]   = Xnew[i,:]\n",
    "                fit[i,0] = Fnew             \n",
    "                \n",
    "            if fit[i,0] < fitG:\n",
    "                Xgb[0,:] = X[i,:]\n",
    "                fitG     = fit[i,0]\n",
    "             \n",
    "        # Store result\n",
    "        curve[0,t] = fitG.copy()\n",
    "        print(\"Generation:\", t + 1)\n",
    "        print(\"Best (JA):\", curve[0,t])\n",
    "        t += 1            \n",
    "\n",
    "            \n",
    "    # Best feature subset\n",
    "    Gbin       = binary_conversion(Xgb, thres, 1, dim) \n",
    "    Gbin       = Gbin.reshape(dim)\n",
    "    pos        = np.asarray(range(0, dim))    \n",
    "    sel_index  = pos[Gbin == 1]\n",
    "    num_feat   = len(sel_index)\n",
    "    # Create dictionary\n",
    "    ja_data = {'sf': sel_index, 'c': curve, 'nf': num_feat}\n",
    "    \n",
    "    return ja_data"
   ]
  },
  {
   "cell_type": "code",
   "execution_count": 12,
   "id": "82969cbc",
   "metadata": {
    "execution": {
     "iopub.execute_input": "2022-01-05T19:20:34.156557Z",
     "iopub.status.busy": "2022-01-05T19:20:34.155472Z",
     "iopub.status.idle": "2022-01-05T19:20:34.163067Z",
     "shell.execute_reply": "2022-01-05T19:20:34.162644Z",
     "shell.execute_reply.started": "2021-12-29T09:23:52.744622Z"
    },
    "papermill": {
     "duration": 0.024745,
     "end_time": "2022-01-05T19:20:34.163163",
     "exception": false,
     "start_time": "2022-01-05T19:20:34.138418",
     "status": "completed"
    },
    "tags": []
   },
   "outputs": [],
   "source": [
    "xtrain, xtest, ytrain, ytest = train_test_split(features_ALL_IDB2_resnet, targets_ALL_IDB2, test_size=0.3, shuffle=True)\n",
    "fold = {'xt':xtrain, 'yt':ytrain, 'xv':xtest, 'yv':ytest}"
   ]
  },
  {
   "cell_type": "code",
   "execution_count": 13,
   "id": "a2a665a9",
   "metadata": {
    "execution": {
     "iopub.execute_input": "2022-01-05T19:20:34.191030Z",
     "iopub.status.busy": "2022-01-05T19:20:34.190278Z",
     "iopub.status.idle": "2022-01-05T19:20:34.192639Z",
     "shell.execute_reply": "2022-01-05T19:20:34.192188Z",
     "shell.execute_reply.started": "2021-12-29T09:23:53.698677Z"
    },
    "papermill": {
     "duration": 0.017896,
     "end_time": "2022-01-05T19:20:34.192748",
     "exception": false,
     "start_time": "2022-01-05T19:20:34.174852",
     "status": "completed"
    },
    "tags": []
   },
   "outputs": [],
   "source": [
    "P    = 0.8       # switch probability\n",
    "k     = 5     # k-value in KNN\n",
    "N     = 20    # number of\n",
    "T     = 100   # maximum number of iterations\n",
    "opts = {'k':k, 'fold':fold, 'N':N, 'T':T, 'P':P}"
   ]
  },
  {
   "cell_type": "code",
   "execution_count": 14,
   "id": "5ec81e76",
   "metadata": {
    "execution": {
     "iopub.execute_input": "2022-01-05T19:20:34.224631Z",
     "iopub.status.busy": "2022-01-05T19:20:34.223871Z",
     "iopub.status.idle": "2022-01-05T19:26:52.970979Z",
     "shell.execute_reply": "2022-01-05T19:26:52.971397Z",
     "shell.execute_reply.started": "2021-12-29T09:23:54.224597Z"
    },
    "papermill": {
     "duration": 378.767159,
     "end_time": "2022-01-05T19:26:52.971568",
     "exception": false,
     "start_time": "2022-01-05T19:20:34.204409",
     "status": "completed"
    },
    "tags": []
   },
   "outputs": [
    {
     "name": "stdout",
     "output_type": "stream",
     "text": [
      "Generation: 1\n",
      "Best (JA): 0.004865451388888893\n",
      "Generation: 2\n",
      "Best (JA): 0.004817708333333337\n",
      "Generation: 3\n",
      "Best (JA): 0.0047526041666666715\n",
      "Generation: 4\n",
      "Best (JA): 0.004726562500000004\n",
      "Generation: 5\n",
      "Best (JA): 0.004639756944444448\n",
      "Generation: 6\n",
      "Best (JA): 0.004600694444444448\n",
      "Generation: 7\n",
      "Best (JA): 0.004592013888888893\n",
      "Generation: 8\n",
      "Best (JA): 0.004592013888888893\n",
      "Generation: 9\n",
      "Best (JA): 0.004574652777777782\n",
      "Generation: 10\n",
      "Best (JA): 0.004448784722222226\n",
      "Generation: 11\n",
      "Best (JA): 0.004448784722222226\n",
      "Generation: 12\n",
      "Best (JA): 0.004448784722222226\n",
      "Generation: 13\n",
      "Best (JA): 0.004448784722222226\n",
      "Generation: 14\n",
      "Best (JA): 0.004448784722222226\n",
      "Generation: 15\n",
      "Best (JA): 0.004414062500000004\n",
      "Generation: 16\n",
      "Best (JA): 0.004414062500000004\n",
      "Generation: 17\n",
      "Best (JA): 0.004414062500000004\n",
      "Generation: 18\n",
      "Best (JA): 0.004414062500000004\n",
      "Generation: 19\n",
      "Best (JA): 0.004414062500000004\n",
      "Generation: 20\n",
      "Best (JA): 0.004414062500000004\n",
      "Generation: 21\n",
      "Best (JA): 0.004414062500000004\n",
      "Generation: 22\n",
      "Best (JA): 0.004414062500000004\n",
      "Generation: 23\n",
      "Best (JA): 0.004414062500000004\n",
      "Generation: 24\n",
      "Best (JA): 0.004414062500000004\n",
      "Generation: 25\n",
      "Best (JA): 0.004401041666666671\n",
      "Generation: 26\n",
      "Best (JA): 0.004401041666666671\n",
      "Generation: 27\n",
      "Best (JA): 0.00438368055555556\n",
      "Generation: 28\n",
      "Best (JA): 0.00434461805555556\n",
      "Generation: 29\n",
      "Best (JA): 0.00434461805555556\n",
      "Generation: 30\n",
      "Best (JA): 0.004292534722222226\n",
      "Generation: 31\n",
      "Best (JA): 0.004292534722222226\n",
      "Generation: 32\n",
      "Best (JA): 0.004292534722222226\n",
      "Generation: 33\n",
      "Best (JA): 0.004292534722222226\n",
      "Generation: 34\n",
      "Best (JA): 0.004292534722222226\n",
      "Generation: 35\n",
      "Best (JA): 0.004292534722222226\n",
      "Generation: 36\n",
      "Best (JA): 0.004292534722222226\n",
      "Generation: 37\n",
      "Best (JA): 0.004292534722222226\n",
      "Generation: 38\n",
      "Best (JA): 0.004292534722222226\n",
      "Generation: 39\n",
      "Best (JA): 0.004292534722222226\n",
      "Generation: 40\n",
      "Best (JA): 0.004283854166666671\n",
      "Generation: 41\n",
      "Best (JA): 0.004249131944444448\n",
      "Generation: 42\n",
      "Best (JA): 0.004249131944444448\n",
      "Generation: 43\n",
      "Best (JA): 0.004249131944444448\n",
      "Generation: 44\n",
      "Best (JA): 0.004249131944444448\n",
      "Generation: 45\n",
      "Best (JA): 0.004244791666666671\n",
      "Generation: 46\n",
      "Best (JA): 0.004244791666666671\n",
      "Generation: 47\n",
      "Best (JA): 0.004205729166666671\n",
      "Generation: 48\n",
      "Best (JA): 0.004205729166666671\n",
      "Generation: 49\n",
      "Best (JA): 0.004205729166666671\n",
      "Generation: 50\n",
      "Best (JA): 0.004205729166666671\n",
      "Generation: 51\n",
      "Best (JA): 0.004205729166666671\n",
      "Generation: 52\n",
      "Best (JA): 0.004205729166666671\n",
      "Generation: 53\n",
      "Best (JA): 0.004205729166666671\n",
      "Generation: 54\n",
      "Best (JA): 0.004205729166666671\n",
      "Generation: 55\n",
      "Best (JA): 0.004205729166666671\n",
      "Generation: 56\n",
      "Best (JA): 0.004205729166666671\n",
      "Generation: 57\n",
      "Best (JA): 0.004205729166666671\n",
      "Generation: 58\n",
      "Best (JA): 0.004205729166666671\n",
      "Generation: 59\n",
      "Best (JA): 0.004205729166666671\n",
      "Generation: 60\n",
      "Best (JA): 0.004205729166666671\n",
      "Generation: 61\n",
      "Best (JA): 0.004205729166666671\n",
      "Generation: 62\n",
      "Best (JA): 0.004205729166666671\n",
      "Generation: 63\n",
      "Best (JA): 0.004205729166666671\n",
      "Generation: 64\n",
      "Best (JA): 0.004205729166666671\n",
      "Generation: 65\n",
      "Best (JA): 0.004205729166666671\n",
      "Generation: 66\n",
      "Best (JA): 0.004205729166666671\n",
      "Generation: 67\n",
      "Best (JA): 0.004205729166666671\n",
      "Generation: 68\n",
      "Best (JA): 0.004205729166666671\n",
      "Generation: 69\n",
      "Best (JA): 0.004205729166666671\n",
      "Generation: 70\n",
      "Best (JA): 0.004205729166666671\n",
      "Generation: 71\n",
      "Best (JA): 0.004205729166666671\n",
      "Generation: 72\n",
      "Best (JA): 0.004205729166666671\n",
      "Generation: 73\n",
      "Best (JA): 0.004205729166666671\n",
      "Generation: 74\n",
      "Best (JA): 0.004205729166666671\n",
      "Generation: 75\n",
      "Best (JA): 0.004205729166666671\n",
      "Generation: 76\n",
      "Best (JA): 0.004205729166666671\n",
      "Generation: 77\n",
      "Best (JA): 0.004205729166666671\n",
      "Generation: 78\n",
      "Best (JA): 0.004197048611111115\n",
      "Generation: 79\n",
      "Best (JA): 0.004197048611111115\n",
      "Generation: 80\n",
      "Best (JA): 0.004197048611111115\n",
      "Generation: 81\n",
      "Best (JA): 0.004197048611111115\n",
      "Generation: 82\n",
      "Best (JA): 0.004197048611111115\n",
      "Generation: 83\n",
      "Best (JA): 0.004179687500000004\n",
      "Generation: 84\n",
      "Best (JA): 0.004179687500000004\n",
      "Generation: 85\n",
      "Best (JA): 0.004157986111111115\n",
      "Generation: 86\n",
      "Best (JA): 0.004157986111111115\n",
      "Generation: 87\n",
      "Best (JA): 0.004157986111111115\n",
      "Generation: 88\n",
      "Best (JA): 0.004157986111111115\n",
      "Generation: 89\n",
      "Best (JA): 0.004140625000000004\n",
      "Generation: 90\n",
      "Best (JA): 0.004140625000000004\n",
      "Generation: 91\n",
      "Best (JA): 0.004136284722222226\n",
      "Generation: 92\n",
      "Best (JA): 0.004136284722222226\n",
      "Generation: 93\n",
      "Best (JA): 0.004136284722222226\n",
      "Generation: 94\n",
      "Best (JA): 0.0041232638888888925\n",
      "Generation: 95\n",
      "Best (JA): 0.0041232638888888925\n",
      "Generation: 96\n",
      "Best (JA): 0.0041232638888888925\n",
      "Generation: 97\n",
      "Best (JA): 0.0041232638888888925\n",
      "Generation: 98\n",
      "Best (JA): 0.0041232638888888925\n",
      "Generation: 99\n",
      "Best (JA): 0.0041232638888888925\n",
      "Generation: 100\n",
      "Best (JA): 0.0041232638888888925\n",
      "Run Time --- 378.36990571022034 seconds ---\n",
      "Accuracy: 100.0\n",
      "Feature Size: 950\n"
     ]
    },
    {
     "data": {
      "image/png": "[encoded data removed]",
      "text/plain": [
       "<Figure size 432x288 with 1 Axes>"
      ]
     },
     "metadata": {
      "needs_background": "light"
     },
     "output_type": "display_data"
    }
   ],
   "source": [
    "# perform feature selection\n",
    "start_time = time.time()\n",
    "fmdl  = jfs(features_ALL_IDB2_resnet, targets_ALL_IDB2, opts)\n",
    "print(\"Run Time --- %s seconds ---\" % (time.time() - start_time))\n",
    "\n",
    "sf    = fmdl['sf']\n",
    "\n",
    "# model with selected features\n",
    "num_train = np.size(xtrain, 0)\n",
    "num_valid = np.size(xtest, 0)\n",
    "x_train   = xtrain[:, sf]\n",
    "y_train   = ytrain.reshape(num_train)  # Solve bug\n",
    "x_valid   = xtest[:, sf]\n",
    "y_valid   = ytest.reshape(num_valid)  # Solve bug\n",
    "\n",
    "mdl       = KNeighborsClassifier(n_neighbors= k) \n",
    "mdl.fit(x_train, y_train)\n",
    "\n",
    "# accuracy\n",
    "y_pred    = mdl.predict(x_valid)\n",
    "Acc       = np.sum(y_valid == y_pred)  / num_valid\n",
    "print(\"Accuracy:\", 100 * Acc)\n",
    "\n",
    "# number of selected features\n",
    "num_feat = fmdl['nf']\n",
    "print(\"Feature Size:\", num_feat)\n",
    "\n",
    "# plot convergence\n",
    "curve   = fmdl['c']\n",
    "curve   = curve.reshape(np.size(curve,1))\n",
    "x       = np.arange(0, opts['T'], 1.0) + 1.0\n",
    "\n",
    "fig, ax = plt.subplots()\n",
    "ax.plot(x, curve, 'o-')\n",
    "ax.set_xlabel('Number of Iterations')\n",
    "ax.set_ylabel('Fitness')\n",
    "ax.set_title('Jaya')\n",
    "ax.grid()\n",
    "plt.show()"
   ]
  },
  {
   "cell_type": "code",
   "execution_count": 15,
   "id": "c126f468",
   "metadata": {
    "execution": {
     "iopub.execute_input": "2022-01-05T19:26:53.050952Z",
     "iopub.status.busy": "2022-01-05T19:26:53.050125Z",
     "iopub.status.idle": "2022-01-05T19:26:53.053241Z",
     "shell.execute_reply": "2022-01-05T19:26:53.053658Z",
     "shell.execute_reply.started": "2021-12-29T09:31:13.681381Z"
    },
    "papermill": {
     "duration": 0.044634,
     "end_time": "2022-01-05T19:26:53.053791",
     "exception": false,
     "start_time": "2022-01-05T19:26:53.009157",
     "status": "completed"
    },
    "tags": []
   },
   "outputs": [],
   "source": [
    "np.save(\"SelectedFeaturesIndexs_ALL_IDB2_ResNet_100iter.npy\", fmdl['sf'])"
   ]
  },
  {
   "cell_type": "code",
   "execution_count": null,
   "id": "443a0d58",
   "metadata": {
    "papermill": {
     "duration": 0.037118,
     "end_time": "2022-01-05T19:26:53.128441",
     "exception": false,
     "start_time": "2022-01-05T19:26:53.091323",
     "status": "completed"
    },
    "tags": []
   },
   "outputs": [],
   "source": []
  }
 ],
 "metadata": {
  "kernelspec": {
   "display_name": "Python 3",
   "language": "python",
   "name": "python3"
  },
  "language_info": {
   "codemirror_mode": {
    "name": "ipython",
    "version": 3
   },
   "file_extension": ".py",
   "mimetype": "text/x-python",
   "name": "python",
   "nbconvert_exporter": "python",
   "pygments_lexer": "ipython3",
   "version": "3.7.12"
  },
  "papermill": {
   "default_parameters": {},
   "duration": 394.439298,
   "end_time": "2022-01-05T19:26:55.438630",
   "environment_variables": {},
   "exception": null,
   "input_path": "__notebook__.ipynb",
   "output_path": "__notebook__.ipynb",
   "parameters": {},
   "start_time": "2022-01-05T19:20:20.999332",
   "version": "2.3.3"
  }
 },
 "nbformat": 4,
 "nbformat_minor": 5
}
