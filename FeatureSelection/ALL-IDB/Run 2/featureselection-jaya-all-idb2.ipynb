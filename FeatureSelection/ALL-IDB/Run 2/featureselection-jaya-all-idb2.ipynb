{
 "cells": [
  {
   "cell_type": "code",
   "execution_count": 1,
   "id": "b2456e8e",
   "metadata": {
    "_cell_guid": "b1076dfc-b9ad-4769-8c92-a6c4dae69d19",
    "_uuid": "8f2839f25d086af736a60e9eeb907d3b93b6e0e5",
    "execution": {
     "iopub.execute_input": "2021-12-29T09:31:40.755925Z",
     "iopub.status.busy": "2021-12-29T09:31:40.753824Z",
     "iopub.status.idle": "2021-12-29T09:31:45.727920Z",
     "shell.execute_reply": "2021-12-29T09:31:45.727014Z",
     "shell.execute_reply.started": "2021-12-29T09:23:46.666765Z"
    },
    "papermill": {
     "duration": 5.011397,
     "end_time": "2021-12-29T09:31:45.728093",
     "exception": false,
     "start_time": "2021-12-29T09:31:40.716696",
     "status": "completed"
    },
    "tags": []
   },
   "outputs": [],
   "source": [
    "import pandas as pd, numpy as np\n",
    "from kaggle_datasets import KaggleDatasets\n",
    "from sklearn.preprocessing import StandardScaler\n",
    "from sklearn.ensemble import RandomForestClassifier\n",
    "from sklearn.model_selection import KFold\n",
    "from sklearn.metrics import roc_auc_score\n",
    "from glob import glob\n",
    "from PIL import Image\n",
    "from skimage import color\n",
    "import cv2, matplotlib.pyplot as plt\n",
    "import random\n",
    "import gc\n",
    "# Import essential libraries\n",
    "%matplotlib inline\n",
    "import matplotlib.pyplot as plt\n",
    "import pandas as pd\n",
    "from sklearn.model_selection import StratifiedKFold\n",
    "import itertools\n",
    "import seaborn as sns\n",
    "from sklearn.preprocessing import label_binarize\n",
    "from sklearn.metrics import confusion_matrix\n",
    "from sklearn.model_selection import train_test_split\n",
    "from sklearn.model_selection import train_test_split\n",
    "import os\n",
    "import cv2\n",
    "from IPython.display import SVG\n",
    "from sklearn.decomposition import PCA\n",
    "import numpy as np\n",
    "from numpy.random import rand\n",
    "import cudf, cuml\n",
    "from cuml.neighbors import KNeighborsClassifier\n",
    "from sklearn.model_selection import train_test_split\n",
    "import matplotlib.pyplot as plt\n",
    "import random\n",
    "from random import randrange\n",
    "import time"
   ]
  },
  {
   "cell_type": "code",
   "execution_count": 2,
   "id": "caaa9cca",
   "metadata": {
    "execution": {
     "iopub.execute_input": "2021-12-29T09:31:45.769033Z",
     "iopub.status.busy": "2021-12-29T09:31:45.768369Z",
     "iopub.status.idle": "2021-12-29T09:31:46.389885Z",
     "shell.execute_reply": "2021-12-29T09:31:46.388986Z",
     "shell.execute_reply.started": "2021-12-29T09:23:46.961921Z"
    },
    "papermill": {
     "duration": 0.642168,
     "end_time": "2021-12-29T09:31:46.390043",
     "exception": false,
     "start_time": "2021-12-29T09:31:45.747875",
     "status": "completed"
    },
    "tags": []
   },
   "outputs": [],
   "source": [
    "features_ALL_IDB2_resnet = np.load('../input/pca-pretraining-featureextraction-resnet-all-idb2/ALL_IDB2_ExtractedFeatures.npy')\n",
    "targets_ALL_IDB2 = np.load('../input/pca-pretraining-featureextraction-resnet-all-idb2/Targets.npy')"
   ]
  },
  {
   "cell_type": "code",
   "execution_count": 3,
   "id": "487573d6",
   "metadata": {
    "execution": {
     "iopub.execute_input": "2021-12-29T09:31:46.426115Z",
     "iopub.status.busy": "2021-12-29T09:31:46.423703Z",
     "iopub.status.idle": "2021-12-29T09:31:46.522508Z",
     "shell.execute_reply": "2021-12-29T09:31:46.521930Z",
     "shell.execute_reply.started": "2021-12-29T09:23:47.249624Z"
    },
    "papermill": {
     "duration": 0.116599,
     "end_time": "2021-12-29T09:31:46.522673",
     "exception": false,
     "start_time": "2021-12-29T09:31:46.406074",
     "status": "completed"
    },
    "tags": []
   },
   "outputs": [],
   "source": [
    "sc = StandardScaler()\n",
    "features_ALL_IDB2_resnet = sc.fit_transform(features_ALL_IDB2_resnet)"
   ]
  },
  {
   "cell_type": "code",
   "execution_count": 4,
   "id": "1114a32c",
   "metadata": {
    "execution": {
     "iopub.execute_input": "2021-12-29T09:31:46.585961Z",
     "iopub.status.busy": "2021-12-29T09:31:46.584607Z",
     "iopub.status.idle": "2021-12-29T09:31:46.588734Z",
     "shell.execute_reply": "2021-12-29T09:31:46.589270Z",
     "shell.execute_reply.started": "2021-12-29T09:23:47.698005Z"
    },
    "papermill": {
     "duration": 0.051583,
     "end_time": "2021-12-29T09:31:46.589515",
     "exception": false,
     "start_time": "2021-12-29T09:31:46.537932",
     "status": "completed"
    },
    "tags": []
   },
   "outputs": [],
   "source": [
    "targets_ALL_IDB2 = [np.argmax(y, axis=None, out=None) for y in targets_ALL_IDB2]\n",
    "targets_ALL_IDB2 = np.asarray(targets_ALL_IDB2)"
   ]
  },
  {
   "cell_type": "code",
   "execution_count": 5,
   "id": "0a27fc03",
   "metadata": {
    "execution": {
     "iopub.execute_input": "2021-12-29T09:31:46.626138Z",
     "iopub.status.busy": "2021-12-29T09:31:46.625094Z",
     "iopub.status.idle": "2021-12-29T09:31:46.630371Z",
     "shell.execute_reply": "2021-12-29T09:31:46.629414Z",
     "shell.execute_reply.started": "2021-12-29T09:23:48.144891Z"
    },
    "papermill": {
     "duration": 0.025792,
     "end_time": "2021-12-29T09:31:46.630564",
     "exception": false,
     "start_time": "2021-12-29T09:31:46.604772",
     "status": "completed"
    },
    "tags": []
   },
   "outputs": [
    {
     "name": "stdout",
     "output_type": "stream",
     "text": [
      "Features ALL-IDB2 ResNet:  (2004, 2304)\n",
      "Labels ALL-IDB2:  (2004,)\n"
     ]
    }
   ],
   "source": [
    "print(\"Features ALL-IDB2 ResNet: \", features_ALL_IDB2_resnet.shape)\n",
    "print(\"Labels ALL-IDB2: \", targets_ALL_IDB2.shape)"
   ]
  },
  {
   "cell_type": "code",
   "execution_count": 6,
   "id": "87273b61",
   "metadata": {
    "execution": {
     "iopub.execute_input": "2021-12-29T09:31:46.673165Z",
     "iopub.status.busy": "2021-12-29T09:31:46.665518Z",
     "iopub.status.idle": "2021-12-29T09:31:46.676024Z",
     "shell.execute_reply": "2021-12-29T09:31:46.676608Z",
     "shell.execute_reply.started": "2021-12-29T09:23:48.657715Z"
    },
    "papermill": {
     "duration": 0.029288,
     "end_time": "2021-12-29T09:31:46.676784",
     "exception": false,
     "start_time": "2021-12-29T09:31:46.647496",
     "status": "completed"
    },
    "tags": []
   },
   "outputs": [],
   "source": [
    "# error rate\n",
    "def error_rate(xtrain, ytrain, x, opts):\n",
    "    # parameters\n",
    "    k  = opts['k']\n",
    "    fold = opts['fold']\n",
    "    xt = fold['xt']\n",
    "    yt = fold['yt']\n",
    "    xv = fold['xv']\n",
    "    yv = fold['yv']\n",
    "    \n",
    "    # number of instances\n",
    "    num_train = np.size(xt, 0)\n",
    "    num_valid = np.size(xv, 0)\n",
    "    # Define selected features\n",
    "    xtrain = xt[:, x == 1]\n",
    "    ytrain = yt.reshape(num_train)\n",
    "    xvalid = xv[:, x == 1]\n",
    "    yvalid = yv.reshape(num_valid)\n",
    "    # Training\n",
    "    mdl     = KNeighborsClassifier(n_neighbors= k)\n",
    "    mdl.fit(xtrain, ytrain)\n",
    "    # Prediction\n",
    "    ypred   = mdl.predict(xvalid)\n",
    "    acc     = np.sum(yvalid == ypred) / num_valid\n",
    "    error   = 1 - acc\n",
    "    \n",
    "    return error, acc\n",
    "# Error rate & Feature size\n",
    "def Fun(xtrain, ytrain, x, opts):\n",
    "    # parameters\n",
    "    alpha = 0.99\n",
    "    beta = 1 - alpha\n",
    "    # original feature size\n",
    "    max_feat = len(x)\n",
    "    # Number of selected features\n",
    "    num_feat = np.sum(x == 1)\n",
    "    # Solve if no feature selected\n",
    "    if num_feat == 0:\n",
    "        cost = 1\n",
    "    else:\n",
    "        # Get error rate\n",
    "        error, acc = error_rate(xtrain, ytrain, x, opts)\n",
    "        # Objective function\n",
    "        cost = alpha * error + beta * (num_feat / max_feat)\n",
    "        \n",
    "    return cost"
   ]
  },
  {
   "cell_type": "code",
   "execution_count": 7,
   "id": "92698910",
   "metadata": {
    "execution": {
     "iopub.execute_input": "2021-12-29T09:31:46.714965Z",
     "iopub.status.busy": "2021-12-29T09:31:46.713784Z",
     "iopub.status.idle": "2021-12-29T09:31:46.716542Z",
     "shell.execute_reply": "2021-12-29T09:31:46.717060Z",
     "shell.execute_reply.started": "2021-12-29T09:23:49.279425Z"
    },
    "papermill": {
     "duration": 0.024846,
     "end_time": "2021-12-29T09:31:46.717221",
     "exception": false,
     "start_time": "2021-12-29T09:31:46.692375",
     "status": "completed"
    },
    "tags": []
   },
   "outputs": [],
   "source": [
    "# Error rate & Feature size\n",
    "def Fun(xtrain, ytrain, x, opts):\n",
    "    # parameters\n",
    "    alpha = 0.99\n",
    "    beta = 1 - alpha\n",
    "    # original feature size\n",
    "    max_feat = len(x)\n",
    "    # Number of selected features\n",
    "    num_feat = np.sum(x == 1)\n",
    "    # Solve if no feature selected\n",
    "    if num_feat == 0:\n",
    "        cost = 1\n",
    "    else:\n",
    "        # Get error rate\n",
    "        error, acc = error_rate(xtrain, ytrain, x, opts)\n",
    "        # Objective function\n",
    "        cost = alpha * error + beta * (num_feat / max_feat)\n",
    "        \n",
    "    return cost"
   ]
  },
  {
   "cell_type": "code",
   "execution_count": 8,
   "id": "eabc1581",
   "metadata": {
    "execution": {
     "iopub.execute_input": "2021-12-29T09:31:46.755394Z",
     "iopub.status.busy": "2021-12-29T09:31:46.753229Z",
     "iopub.status.idle": "2021-12-29T09:31:46.756063Z",
     "shell.execute_reply": "2021-12-29T09:31:46.756600Z",
     "shell.execute_reply.started": "2021-12-29T09:23:49.774858Z"
    },
    "papermill": {
     "duration": 0.024304,
     "end_time": "2021-12-29T09:31:46.756746",
     "exception": false,
     "start_time": "2021-12-29T09:31:46.732442",
     "status": "completed"
    },
    "tags": []
   },
   "outputs": [],
   "source": [
    "def init_position(lb, ub, N, dim):\n",
    "    X = np.zeros([N, dim], dtype='float')\n",
    "    for i in range(N):\n",
    "        for d in range(dim):\n",
    "            X[i,d] = lb[0,d] + (ub[0,d] - lb[0,d]) * rand()        \n",
    "    \n",
    "    return X"
   ]
  },
  {
   "cell_type": "code",
   "execution_count": 9,
   "id": "b4e2ca24",
   "metadata": {
    "execution": {
     "iopub.execute_input": "2021-12-29T09:31:46.793184Z",
     "iopub.status.busy": "2021-12-29T09:31:46.792076Z",
     "iopub.status.idle": "2021-12-29T09:31:46.794973Z",
     "shell.execute_reply": "2021-12-29T09:31:46.795546Z",
     "shell.execute_reply.started": "2021-12-29T09:23:50.031206Z"
    },
    "papermill": {
     "duration": 0.024507,
     "end_time": "2021-12-29T09:31:46.795724",
     "exception": false,
     "start_time": "2021-12-29T09:31:46.771217",
     "status": "completed"
    },
    "tags": []
   },
   "outputs": [],
   "source": [
    "def binary_conversion(X, thres, N, dim):\n",
    "    Xbin = np.zeros([N, dim], dtype='int')\n",
    "    for i in range(N):\n",
    "        for d in range(dim):\n",
    "            if X[i,d] > thres:\n",
    "                Xbin[i,d] = 1\n",
    "            else:\n",
    "                Xbin[i,d] = 0\n",
    "    \n",
    "    return Xbin"
   ]
  },
  {
   "cell_type": "code",
   "execution_count": 10,
   "id": "f5b0071d",
   "metadata": {
    "execution": {
     "iopub.execute_input": "2021-12-29T09:31:46.831329Z",
     "iopub.status.busy": "2021-12-29T09:31:46.830692Z",
     "iopub.status.idle": "2021-12-29T09:31:46.835029Z",
     "shell.execute_reply": "2021-12-29T09:31:46.834546Z",
     "shell.execute_reply.started": "2021-12-29T09:23:50.338001Z"
    },
    "papermill": {
     "duration": 0.024431,
     "end_time": "2021-12-29T09:31:46.835153",
     "exception": false,
     "start_time": "2021-12-29T09:31:46.810722",
     "status": "completed"
    },
    "tags": []
   },
   "outputs": [],
   "source": [
    "def boundary(x, lb, ub):\n",
    "    if x < lb:\n",
    "        x = lb\n",
    "    if x > ub:\n",
    "        x = ub\n",
    "    \n",
    "    return x"
   ]
  },
  {
   "cell_type": "code",
   "execution_count": 11,
   "id": "f9752d45",
   "metadata": {
    "execution": {
     "iopub.execute_input": "2021-12-29T09:31:46.889069Z",
     "iopub.status.busy": "2021-12-29T09:31:46.888011Z",
     "iopub.status.idle": "2021-12-29T09:31:46.891260Z",
     "shell.execute_reply": "2021-12-29T09:31:46.890721Z",
     "shell.execute_reply.started": "2021-12-29T09:23:50.823103Z"
    },
    "papermill": {
     "duration": 0.040512,
     "end_time": "2021-12-29T09:31:46.891458",
     "exception": false,
     "start_time": "2021-12-29T09:31:46.850946",
     "status": "completed"
    },
    "tags": []
   },
   "outputs": [],
   "source": [
    "def jfs(xtrain, ytrain, opts):\n",
    "    # Parameters\n",
    "    ub     = 1\n",
    "    lb     = 0\n",
    "    thres  = 0.5\n",
    "    \n",
    "    N          = opts['N']\n",
    "    max_iter   = opts['T']\n",
    "        \n",
    "    # Dimension\n",
    "    dim = np.size(xtrain, 1)\n",
    "    if np.size(lb) == 1:\n",
    "        ub = ub * np.ones([1, dim], dtype='float')\n",
    "        lb = lb * np.ones([1, dim], dtype='float')\n",
    "        \n",
    "    # Initialize position \n",
    "    X     = init_position(lb, ub, N, dim)\n",
    "    \n",
    "    # Binary conversion\n",
    "    Xbin  = binary_conversion(X, thres, N, dim)\n",
    "    \n",
    "    # Fitness at first iteration\n",
    "    fit   = np.zeros([N, 1], dtype='float')\n",
    "    Xgb   = np.zeros([1, dim], dtype='float')\n",
    "    fitG  = float('inf')\n",
    "    \n",
    "    for i in range(N):\n",
    "        fit[i,0] = Fun(xtrain, ytrain, Xbin[i,:], opts)\n",
    "        if fit[i,0] < fitG:\n",
    "            Xgb[0,:] = X[i,:]\n",
    "            fitG     = fit[i,0]\n",
    "    \n",
    "    # Pre\n",
    "    curve = np.zeros([1, max_iter], dtype='float') \n",
    "    t     = 0\n",
    "    \n",
    "    curve[0,t] = fitG.copy()\n",
    "    print(\"Generation:\", t + 1)\n",
    "    print(\"Best (JA):\", curve[0,t])\n",
    "    t += 1\n",
    "    \n",
    "    while t < max_iter:  \n",
    "        Xnew  = np.zeros([N, dim], dtype='float') \n",
    "        \n",
    "        # Identify best & worst in population\n",
    "        idx_max = np.argmax(fit)\n",
    "        Xw      = X[idx_max,np.newaxis,:].copy()\n",
    "        idx_min = np.argmin(fit)\n",
    "        Xb      = X[idx_min,np.newaxis,:].copy()       \n",
    "          \n",
    "        for i in range(N):\n",
    "            for d in range(dim):\n",
    "                # Random numbers\n",
    "                r1 = rand();\n",
    "                r2 = rand();\n",
    "                # Position update (1)\n",
    "                Xnew[i,d] = X[i,d] + r1 * (Xb[0,d] - abs(X[i,d])) - r2 * (Xw[0,d] - abs(X[i,d])) \n",
    "                # Boundary\n",
    "                Xnew[i,d] = boundary(Xnew[i,d], lb[0,d], ub[0,d])\n",
    "                \n",
    "        # Binary conversion\n",
    "        Xbin = binary_conversion(Xnew, thres, N, dim)\n",
    "        \n",
    "        # Greedy selection\n",
    "        for i in range(N):\n",
    "            Fnew = Fun(xtrain, ytrain, Xbin[i,:], opts)\n",
    "            if Fnew < fit[i,0]:\n",
    "                X[i,:]   = Xnew[i,:]\n",
    "                fit[i,0] = Fnew             \n",
    "                \n",
    "            if fit[i,0] < fitG:\n",
    "                Xgb[0,:] = X[i,:]\n",
    "                fitG     = fit[i,0]\n",
    "             \n",
    "        # Store result\n",
    "        curve[0,t] = fitG.copy()\n",
    "        print(\"Generation:\", t + 1)\n",
    "        print(\"Best (JA):\", curve[0,t])\n",
    "        t += 1            \n",
    "\n",
    "            \n",
    "    # Best feature subset\n",
    "    Gbin       = binary_conversion(Xgb, thres, 1, dim) \n",
    "    Gbin       = Gbin.reshape(dim)\n",
    "    pos        = np.asarray(range(0, dim))    \n",
    "    sel_index  = pos[Gbin == 1]\n",
    "    num_feat   = len(sel_index)\n",
    "    # Create dictionary\n",
    "    ja_data = {'sf': sel_index, 'c': curve, 'nf': num_feat}\n",
    "    \n",
    "    return ja_data"
   ]
  },
  {
   "cell_type": "code",
   "execution_count": 12,
   "id": "e953f629",
   "metadata": {
    "execution": {
     "iopub.execute_input": "2021-12-29T09:31:46.930966Z",
     "iopub.status.busy": "2021-12-29T09:31:46.929715Z",
     "iopub.status.idle": "2021-12-29T09:31:46.939328Z",
     "shell.execute_reply": "2021-12-29T09:31:46.938798Z",
     "shell.execute_reply.started": "2021-12-29T09:23:52.744622Z"
    },
    "papermill": {
     "duration": 0.033259,
     "end_time": "2021-12-29T09:31:46.939511",
     "exception": false,
     "start_time": "2021-12-29T09:31:46.906252",
     "status": "completed"
    },
    "tags": []
   },
   "outputs": [],
   "source": [
    "xtrain, xtest, ytrain, ytest = train_test_split(features_ALL_IDB2_resnet, targets_ALL_IDB2, test_size=0.3, shuffle=True)\n",
    "fold = {'xt':xtrain, 'yt':ytrain, 'xv':xtest, 'yv':ytest}"
   ]
  },
  {
   "cell_type": "code",
   "execution_count": 13,
   "id": "2e16bbc3",
   "metadata": {
    "execution": {
     "iopub.execute_input": "2021-12-29T09:31:46.976136Z",
     "iopub.status.busy": "2021-12-29T09:31:46.975069Z",
     "iopub.status.idle": "2021-12-29T09:31:46.977692Z",
     "shell.execute_reply": "2021-12-29T09:31:46.978214Z",
     "shell.execute_reply.started": "2021-12-29T09:23:53.698677Z"
    },
    "papermill": {
     "duration": 0.023738,
     "end_time": "2021-12-29T09:31:46.978402",
     "exception": false,
     "start_time": "2021-12-29T09:31:46.954664",
     "status": "completed"
    },
    "tags": []
   },
   "outputs": [],
   "source": [
    "P    = 0.8       # switch probability\n",
    "k     = 5     # k-value in KNN\n",
    "N     = 20    # number of\n",
    "T     = 100   # maximum number of iterations\n",
    "opts = {'k':k, 'fold':fold, 'N':N, 'T':T, 'P':P}"
   ]
  },
  {
   "cell_type": "code",
   "execution_count": 14,
   "id": "d6e99f6d",
   "metadata": {
    "execution": {
     "iopub.execute_input": "2021-12-29T09:31:47.024040Z",
     "iopub.status.busy": "2021-12-29T09:31:47.016545Z",
     "iopub.status.idle": "2021-12-29T09:39:07.319461Z",
     "shell.execute_reply": "2021-12-29T09:39:07.318756Z",
     "shell.execute_reply.started": "2021-12-29T09:23:54.224597Z"
    },
    "papermill": {
     "duration": 440.326111,
     "end_time": "2021-12-29T09:39:07.319619",
     "exception": false,
     "start_time": "2021-12-29T09:31:46.993508",
     "status": "completed"
    },
    "tags": []
   },
   "outputs": [
    {
     "name": "stdout",
     "output_type": "stream",
     "text": [
      "Generation: 1\n",
      "Best (JA): 0.004778645833333337\n",
      "Generation: 2\n",
      "Best (JA): 0.004722222222222227\n",
      "Generation: 3\n",
      "Best (JA): 0.004678819444444448\n",
      "Generation: 4\n",
      "Best (JA): 0.004631076388888893\n",
      "Generation: 5\n",
      "Best (JA): 0.004561631944444448\n",
      "Generation: 6\n",
      "Best (JA): 0.004544270833333337\n",
      "Generation: 7\n",
      "Best (JA): 0.004535590277777782\n",
      "Generation: 8\n",
      "Best (JA): 0.004535590277777782\n",
      "Generation: 9\n",
      "Best (JA): 0.004522569444444448\n",
      "Generation: 10\n",
      "Best (JA): 0.004474826388888893\n",
      "Generation: 11\n",
      "Best (JA): 0.004466145833333337\n",
      "Generation: 12\n",
      "Best (JA): 0.0044574652777777815\n",
      "Generation: 13\n",
      "Best (JA): 0.004448784722222226\n",
      "Generation: 14\n",
      "Best (JA): 0.004396701388888893\n",
      "Generation: 15\n",
      "Best (JA): 0.0043793402777777815\n",
      "Generation: 16\n",
      "Best (JA): 0.004370659722222226\n",
      "Generation: 17\n",
      "Best (JA): 0.004370659722222226\n",
      "Generation: 18\n",
      "Best (JA): 0.0043402777777777814\n",
      "Generation: 19\n",
      "Best (JA): 0.004301215277777781\n",
      "Generation: 20\n",
      "Best (JA): 0.004296875000000004\n",
      "Generation: 21\n",
      "Best (JA): 0.004296875000000004\n",
      "Generation: 22\n",
      "Best (JA): 0.004296875000000004\n",
      "Generation: 23\n",
      "Best (JA): 0.004296875000000004\n",
      "Generation: 24\n",
      "Best (JA): 0.004296875000000004\n",
      "Generation: 25\n",
      "Best (JA): 0.004296875000000004\n",
      "Generation: 26\n",
      "Best (JA): 0.004296875000000004\n",
      "Generation: 27\n",
      "Best (JA): 0.004296875000000004\n",
      "Generation: 28\n",
      "Best (JA): 0.004296875000000004\n",
      "Generation: 29\n",
      "Best (JA): 0.004296875000000004\n",
      "Generation: 30\n",
      "Best (JA): 0.004296875000000004\n",
      "Generation: 31\n",
      "Best (JA): 0.004296875000000004\n",
      "Generation: 32\n",
      "Best (JA): 0.004296875000000004\n",
      "Generation: 33\n",
      "Best (JA): 0.004296875000000004\n",
      "Generation: 34\n",
      "Best (JA): 0.004296875000000004\n",
      "Generation: 35\n",
      "Best (JA): 0.004244791666666671\n",
      "Generation: 36\n",
      "Best (JA): 0.004244791666666671\n",
      "Generation: 37\n",
      "Best (JA): 0.004244791666666671\n",
      "Generation: 38\n",
      "Best (JA): 0.004244791666666671\n",
      "Generation: 39\n",
      "Best (JA): 0.004236111111111115\n",
      "Generation: 40\n",
      "Best (JA): 0.004236111111111115\n",
      "Generation: 41\n",
      "Best (JA): 0.004223090277777781\n",
      "Generation: 42\n",
      "Best (JA): 0.004140625000000004\n",
      "Generation: 43\n",
      "Best (JA): 0.004140625000000004\n",
      "Generation: 44\n",
      "Best (JA): 0.004140625000000004\n",
      "Generation: 45\n",
      "Best (JA): 0.004140625000000004\n",
      "Generation: 46\n",
      "Best (JA): 0.004140625000000004\n",
      "Generation: 47\n",
      "Best (JA): 0.004140625000000004\n",
      "Generation: 48\n",
      "Best (JA): 0.004140625000000004\n",
      "Generation: 49\n",
      "Best (JA): 0.004140625000000004\n",
      "Generation: 50\n",
      "Best (JA): 0.004140625000000004\n",
      "Generation: 51\n",
      "Best (JA): 0.004140625000000004\n",
      "Generation: 52\n",
      "Best (JA): 0.004140625000000004\n",
      "Generation: 53\n",
      "Best (JA): 0.004140625000000004\n",
      "Generation: 54\n",
      "Best (JA): 0.004140625000000004\n",
      "Generation: 55\n",
      "Best (JA): 0.004140625000000004\n",
      "Generation: 56\n",
      "Best (JA): 0.004140625000000004\n",
      "Generation: 57\n",
      "Best (JA): 0.004140625000000004\n",
      "Generation: 58\n",
      "Best (JA): 0.004140625000000004\n",
      "Generation: 59\n",
      "Best (JA): 0.004140625000000004\n",
      "Generation: 60\n",
      "Best (JA): 0.004140625000000004\n",
      "Generation: 61\n",
      "Best (JA): 0.004140625000000004\n",
      "Generation: 62\n",
      "Best (JA): 0.004136284722222226\n",
      "Generation: 63\n",
      "Best (JA): 0.004097222222222226\n",
      "Generation: 64\n",
      "Best (JA): 0.004097222222222226\n",
      "Generation: 65\n",
      "Best (JA): 0.004097222222222226\n",
      "Generation: 66\n",
      "Best (JA): 0.004097222222222226\n",
      "Generation: 67\n",
      "Best (JA): 0.004097222222222226\n",
      "Generation: 68\n",
      "Best (JA): 0.00407118055555556\n",
      "Generation: 69\n",
      "Best (JA): 0.00403211805555556\n",
      "Generation: 70\n",
      "Best (JA): 0.004023437500000004\n",
      "Generation: 71\n",
      "Best (JA): 0.004023437500000004\n",
      "Generation: 72\n",
      "Best (JA): 0.004023437500000004\n",
      "Generation: 73\n",
      "Best (JA): 0.004023437500000004\n",
      "Generation: 74\n",
      "Best (JA): 0.0040147569444444475\n",
      "Generation: 75\n",
      "Best (JA): 0.0040147569444444475\n",
      "Generation: 76\n",
      "Best (JA): 0.0040147569444444475\n",
      "Generation: 77\n",
      "Best (JA): 0.0040147569444444475\n",
      "Generation: 78\n",
      "Best (JA): 0.004010416666666671\n",
      "Generation: 79\n",
      "Best (JA): 0.0039843750000000035\n",
      "Generation: 80\n",
      "Best (JA): 0.0039843750000000035\n",
      "Generation: 81\n",
      "Best (JA): 0.0039843750000000035\n",
      "Generation: 82\n",
      "Best (JA): 0.0039843750000000035\n",
      "Generation: 83\n",
      "Best (JA): 0.0039843750000000035\n",
      "Generation: 84\n",
      "Best (JA): 0.0039843750000000035\n",
      "Generation: 85\n",
      "Best (JA): 0.0039843750000000035\n",
      "Generation: 86\n",
      "Best (JA): 0.0039843750000000035\n",
      "Generation: 87\n",
      "Best (JA): 0.0039843750000000035\n",
      "Generation: 88\n",
      "Best (JA): 0.0039843750000000035\n",
      "Generation: 89\n",
      "Best (JA): 0.0039843750000000035\n",
      "Generation: 90\n",
      "Best (JA): 0.0039843750000000035\n",
      "Generation: 91\n",
      "Best (JA): 0.0039843750000000035\n",
      "Generation: 92\n",
      "Best (JA): 0.003962673611111115\n",
      "Generation: 93\n",
      "Best (JA): 0.003962673611111115\n",
      "Generation: 94\n",
      "Best (JA): 0.003962673611111115\n",
      "Generation: 95\n",
      "Best (JA): 0.003940972222222226\n",
      "Generation: 96\n",
      "Best (JA): 0.003940972222222226\n",
      "Generation: 97\n",
      "Best (JA): 0.003940972222222226\n",
      "Generation: 98\n",
      "Best (JA): 0.003940972222222226\n",
      "Generation: 99\n",
      "Best (JA): 0.003940972222222226\n",
      "Generation: 100\n",
      "Best (JA): 0.003940972222222226\n",
      "Run Time --- 439.8627951145172 seconds ---\n",
      "Accuracy: 100.0\n",
      "Feature Size: 908\n"
     ]
    },
    {
     "data": {
      "image/png": "[encoded data removed]",
      "text/plain": [
       "<Figure size 432x288 with 1 Axes>"
      ]
     },
     "metadata": {
      "needs_background": "light"
     },
     "output_type": "display_data"
    }
   ],
   "source": [
    "# perform feature selection\n",
    "start_time = time.time()\n",
    "fmdl  = jfs(features_ALL_IDB2_resnet, targets_ALL_IDB2, opts)\n",
    "print(\"Run Time --- %s seconds ---\" % (time.time() - start_time))\n",
    "\n",
    "sf    = fmdl['sf']\n",
    "\n",
    "# model with selected features\n",
    "num_train = np.size(xtrain, 0)\n",
    "num_valid = np.size(xtest, 0)\n",
    "x_train   = xtrain[:, sf]\n",
    "y_train   = ytrain.reshape(num_train)  # Solve bug\n",
    "x_valid   = xtest[:, sf]\n",
    "y_valid   = ytest.reshape(num_valid)  # Solve bug\n",
    "\n",
    "mdl       = KNeighborsClassifier(n_neighbors= k) \n",
    "mdl.fit(x_train, y_train)\n",
    "\n",
    "# accuracy\n",
    "y_pred    = mdl.predict(x_valid)\n",
    "Acc       = np.sum(y_valid == y_pred)  / num_valid\n",
    "print(\"Accuracy:\", 100 * Acc)\n",
    "\n",
    "# number of selected features\n",
    "num_feat = fmdl['nf']\n",
    "print(\"Feature Size:\", num_feat)\n",
    "\n",
    "# plot convergence\n",
    "curve   = fmdl['c']\n",
    "curve   = curve.reshape(np.size(curve,1))\n",
    "x       = np.arange(0, opts['T'], 1.0) + 1.0\n",
    "\n",
    "fig, ax = plt.subplots()\n",
    "ax.plot(x, curve, 'o-')\n",
    "ax.set_xlabel('Number of Iterations')\n",
    "ax.set_ylabel('Fitness')\n",
    "ax.set_title('Jaya')\n",
    "ax.grid()\n",
    "plt.show()"
   ]
  },
  {
   "cell_type": "code",
   "execution_count": 15,
   "id": "f0c3573d",
   "metadata": {
    "execution": {
     "iopub.execute_input": "2021-12-29T09:39:07.423304Z",
     "iopub.status.busy": "2021-12-29T09:39:07.422411Z",
     "iopub.status.idle": "2021-12-29T09:39:07.426568Z",
     "shell.execute_reply": "2021-12-29T09:39:07.425979Z",
     "shell.execute_reply.started": "2021-12-29T09:31:13.681381Z"
    },
    "papermill": {
     "duration": 0.058193,
     "end_time": "2021-12-29T09:39:07.426714",
     "exception": false,
     "start_time": "2021-12-29T09:39:07.368521",
     "status": "completed"
    },
    "tags": []
   },
   "outputs": [],
   "source": [
    "np.save(\"SelectedFeaturesIndexs_ALL_IDB2_ResNet_100iter.npy\", fmdl['sf'])"
   ]
  },
  {
   "cell_type": "code",
   "execution_count": null,
   "id": "a7f40f08",
   "metadata": {
    "papermill": {
     "duration": 0.049519,
     "end_time": "2021-12-29T09:39:07.526198",
     "exception": false,
     "start_time": "2021-12-29T09:39:07.476679",
     "status": "completed"
    },
    "tags": []
   },
   "outputs": [],
   "source": []
  }
 ],
 "metadata": {
  "kernelspec": {
   "display_name": "Python 3",
   "language": "python",
   "name": "python3"
  },
  "language_info": {
   "codemirror_mode": {
    "name": "ipython",
    "version": 3
   },
   "file_extension": ".py",
   "mimetype": "text/x-python",
   "name": "python",
   "nbconvert_exporter": "python",
   "pygments_lexer": "ipython3",
   "version": "3.7.12"
  },
  "papermill": {
   "default_parameters": {},
   "duration": 458.43228,
   "end_time": "2021-12-29T09:39:09.092227",
   "environment_variables": {},
   "exception": null,
   "input_path": "__notebook__.ipynb",
   "output_path": "__notebook__.ipynb",
   "parameters": {},
   "start_time": "2021-12-29T09:31:30.659947",
   "version": "2.3.3"
  }
 },
 "nbformat": 4,
 "nbformat_minor": 5
}
