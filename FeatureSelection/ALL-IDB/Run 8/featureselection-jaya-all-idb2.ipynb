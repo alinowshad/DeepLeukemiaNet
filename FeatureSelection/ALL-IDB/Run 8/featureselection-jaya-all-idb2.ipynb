{
 "cells": [
  {
   "cell_type": "code",
   "execution_count": 1,
   "id": "e0b9ffcf",
   "metadata": {
    "_cell_guid": "b1076dfc-b9ad-4769-8c92-a6c4dae69d19",
    "_uuid": "8f2839f25d086af736a60e9eeb907d3b93b6e0e5",
    "execution": {
     "iopub.execute_input": "2022-01-05T19:57:53.677112Z",
     "iopub.status.busy": "2022-01-05T19:57:53.675579Z",
     "iopub.status.idle": "2022-01-05T19:57:57.867623Z",
     "shell.execute_reply": "2022-01-05T19:57:57.867021Z",
     "shell.execute_reply.started": "2021-12-29T09:23:46.666765Z"
    },
    "papermill": {
     "duration": 4.21675,
     "end_time": "2022-01-05T19:57:57.867786",
     "exception": false,
     "start_time": "2022-01-05T19:57:53.651036",
     "status": "completed"
    },
    "tags": []
   },
   "outputs": [],
   "source": [
    "import pandas as pd, numpy as np\n",
    "from kaggle_datasets import KaggleDatasets\n",
    "from sklearn.preprocessing import StandardScaler\n",
    "from sklearn.ensemble import RandomForestClassifier\n",
    "from sklearn.model_selection import KFold\n",
    "from sklearn.metrics import roc_auc_score\n",
    "from glob import glob\n",
    "from PIL import Image\n",
    "from skimage import color\n",
    "import cv2, matplotlib.pyplot as plt\n",
    "import random\n",
    "import gc\n",
    "# Import essential libraries\n",
    "%matplotlib inline\n",
    "import matplotlib.pyplot as plt\n",
    "import pandas as pd\n",
    "from sklearn.model_selection import StratifiedKFold\n",
    "import itertools\n",
    "import seaborn as sns\n",
    "from sklearn.preprocessing import label_binarize\n",
    "from sklearn.metrics import confusion_matrix\n",
    "from sklearn.model_selection import train_test_split\n",
    "from sklearn.model_selection import train_test_split\n",
    "import os\n",
    "import cv2\n",
    "from IPython.display import SVG\n",
    "from sklearn.decomposition import PCA\n",
    "import numpy as np\n",
    "from numpy.random import rand\n",
    "import cudf, cuml\n",
    "from cuml.neighbors import KNeighborsClassifier\n",
    "from sklearn.model_selection import train_test_split\n",
    "import matplotlib.pyplot as plt\n",
    "import random\n",
    "from random import randrange\n",
    "import time"
   ]
  },
  {
   "cell_type": "code",
   "execution_count": 2,
   "id": "beaceb63",
   "metadata": {
    "execution": {
     "iopub.execute_input": "2022-01-05T19:57:57.896012Z",
     "iopub.status.busy": "2022-01-05T19:57:57.895419Z",
     "iopub.status.idle": "2022-01-05T19:57:58.050018Z",
     "shell.execute_reply": "2022-01-05T19:57:58.049517Z",
     "shell.execute_reply.started": "2021-12-29T09:23:46.961921Z"
    },
    "papermill": {
     "duration": 0.169408,
     "end_time": "2022-01-05T19:57:58.050155",
     "exception": false,
     "start_time": "2022-01-05T19:57:57.880747",
     "status": "completed"
    },
    "tags": []
   },
   "outputs": [],
   "source": [
    "features_ALL_IDB2_resnet = np.load('../input/pca-pretraining-featureextraction-resnet-all-idb2/ALL_IDB2_ExtractedFeatures.npy')\n",
    "targets_ALL_IDB2 = np.load('../input/pca-pretraining-featureextraction-resnet-all-idb2/Targets.npy')"
   ]
  },
  {
   "cell_type": "code",
   "execution_count": 3,
   "id": "4e428165",
   "metadata": {
    "execution": {
     "iopub.execute_input": "2022-01-05T19:57:58.078372Z",
     "iopub.status.busy": "2022-01-05T19:57:58.077522Z",
     "iopub.status.idle": "2022-01-05T19:57:58.155969Z",
     "shell.execute_reply": "2022-01-05T19:57:58.155450Z",
     "shell.execute_reply.started": "2021-12-29T09:23:47.249624Z"
    },
    "papermill": {
     "duration": 0.094098,
     "end_time": "2022-01-05T19:57:58.156110",
     "exception": false,
     "start_time": "2022-01-05T19:57:58.062012",
     "status": "completed"
    },
    "tags": []
   },
   "outputs": [],
   "source": [
    "sc = StandardScaler()\n",
    "features_ALL_IDB2_resnet = sc.fit_transform(features_ALL_IDB2_resnet)"
   ]
  },
  {
   "cell_type": "code",
   "execution_count": 4,
   "id": "e84db889",
   "metadata": {
    "execution": {
     "iopub.execute_input": "2022-01-05T19:57:58.202475Z",
     "iopub.status.busy": "2022-01-05T19:57:58.189777Z",
     "iopub.status.idle": "2022-01-05T19:57:58.204631Z",
     "shell.execute_reply": "2022-01-05T19:57:58.205181Z",
     "shell.execute_reply.started": "2021-12-29T09:23:47.698005Z"
    },
    "papermill": {
     "duration": 0.037327,
     "end_time": "2022-01-05T19:57:58.205338",
     "exception": false,
     "start_time": "2022-01-05T19:57:58.168011",
     "status": "completed"
    },
    "tags": []
   },
   "outputs": [],
   "source": [
    "targets_ALL_IDB2 = [np.argmax(y, axis=None, out=None) for y in targets_ALL_IDB2]\n",
    "targets_ALL_IDB2 = np.asarray(targets_ALL_IDB2)"
   ]
  },
  {
   "cell_type": "code",
   "execution_count": 5,
   "id": "9e48b3d3",
   "metadata": {
    "execution": {
     "iopub.execute_input": "2022-01-05T19:57:58.238888Z",
     "iopub.status.busy": "2022-01-05T19:57:58.238296Z",
     "iopub.status.idle": "2022-01-05T19:57:58.242491Z",
     "shell.execute_reply": "2022-01-05T19:57:58.242960Z",
     "shell.execute_reply.started": "2021-12-29T09:23:48.144891Z"
    },
    "papermill": {
     "duration": 0.023259,
     "end_time": "2022-01-05T19:57:58.243107",
     "exception": false,
     "start_time": "2022-01-05T19:57:58.219848",
     "status": "completed"
    },
    "tags": []
   },
   "outputs": [
    {
     "name": "stdout",
     "output_type": "stream",
     "text": [
      "Features ALL-IDB2 ResNet:  (2004, 2304)\n",
      "Labels ALL-IDB2:  (2004,)\n"
     ]
    }
   ],
   "source": [
    "print(\"Features ALL-IDB2 ResNet: \", features_ALL_IDB2_resnet.shape)\n",
    "print(\"Labels ALL-IDB2: \", targets_ALL_IDB2.shape)"
   ]
  },
  {
   "cell_type": "code",
   "execution_count": 6,
   "id": "2edd2db0",
   "metadata": {
    "execution": {
     "iopub.execute_input": "2022-01-05T19:57:58.277399Z",
     "iopub.status.busy": "2022-01-05T19:57:58.276616Z",
     "iopub.status.idle": "2022-01-05T19:57:58.278579Z",
     "shell.execute_reply": "2022-01-05T19:57:58.278981Z",
     "shell.execute_reply.started": "2021-12-29T09:23:48.657715Z"
    },
    "papermill": {
     "duration": 0.023733,
     "end_time": "2022-01-05T19:57:58.279113",
     "exception": false,
     "start_time": "2022-01-05T19:57:58.255380",
     "status": "completed"
    },
    "tags": []
   },
   "outputs": [],
   "source": [
    "# error rate\n",
    "def error_rate(xtrain, ytrain, x, opts):\n",
    "    # parameters\n",
    "    k  = opts['k']\n",
    "    fold = opts['fold']\n",
    "    xt = fold['xt']\n",
    "    yt = fold['yt']\n",
    "    xv = fold['xv']\n",
    "    yv = fold['yv']\n",
    "    \n",
    "    # number of instances\n",
    "    num_train = np.size(xt, 0)\n",
    "    num_valid = np.size(xv, 0)\n",
    "    # Define selected features\n",
    "    xtrain = xt[:, x == 1]\n",
    "    ytrain = yt.reshape(num_train)\n",
    "    xvalid = xv[:, x == 1]\n",
    "    yvalid = yv.reshape(num_valid)\n",
    "    # Training\n",
    "    mdl     = KNeighborsClassifier(n_neighbors= k)\n",
    "    mdl.fit(xtrain, ytrain)\n",
    "    # Prediction\n",
    "    ypred   = mdl.predict(xvalid)\n",
    "    acc     = np.sum(yvalid == ypred) / num_valid\n",
    "    error   = 1 - acc\n",
    "    \n",
    "    return error, acc\n",
    "# Error rate & Feature size\n",
    "def Fun(xtrain, ytrain, x, opts):\n",
    "    # parameters\n",
    "    alpha = 0.99\n",
    "    beta = 1 - alpha\n",
    "    # original feature size\n",
    "    max_feat = len(x)\n",
    "    # Number of selected features\n",
    "    num_feat = np.sum(x == 1)\n",
    "    # Solve if no feature selected\n",
    "    if num_feat == 0:\n",
    "        cost = 1\n",
    "    else:\n",
    "        # Get error rate\n",
    "        error, acc = error_rate(xtrain, ytrain, x, opts)\n",
    "        # Objective function\n",
    "        cost = alpha * error + beta * (num_feat / max_feat)\n",
    "        \n",
    "    return cost"
   ]
  },
  {
   "cell_type": "code",
   "execution_count": 7,
   "id": "2168d796",
   "metadata": {
    "execution": {
     "iopub.execute_input": "2022-01-05T19:57:58.308697Z",
     "iopub.status.busy": "2022-01-05T19:57:58.308186Z",
     "iopub.status.idle": "2022-01-05T19:57:58.311309Z",
     "shell.execute_reply": "2022-01-05T19:57:58.311674Z",
     "shell.execute_reply.started": "2021-12-29T09:23:49.279425Z"
    },
    "papermill": {
     "duration": 0.020555,
     "end_time": "2022-01-05T19:57:58.311827",
     "exception": false,
     "start_time": "2022-01-05T19:57:58.291272",
     "status": "completed"
    },
    "tags": []
   },
   "outputs": [],
   "source": [
    "# Error rate & Feature size\n",
    "def Fun(xtrain, ytrain, x, opts):\n",
    "    # parameters\n",
    "    alpha = 0.99\n",
    "    beta = 1 - alpha\n",
    "    # original feature size\n",
    "    max_feat = len(x)\n",
    "    # Number of selected features\n",
    "    num_feat = np.sum(x == 1)\n",
    "    # Solve if no feature selected\n",
    "    if num_feat == 0:\n",
    "        cost = 1\n",
    "    else:\n",
    "        # Get error rate\n",
    "        error, acc = error_rate(xtrain, ytrain, x, opts)\n",
    "        # Objective function\n",
    "        cost = alpha * error + beta * (num_feat / max_feat)\n",
    "        \n",
    "    return cost"
   ]
  },
  {
   "cell_type": "code",
   "execution_count": 8,
   "id": "3d04609d",
   "metadata": {
    "execution": {
     "iopub.execute_input": "2022-01-05T19:57:58.340783Z",
     "iopub.status.busy": "2022-01-05T19:57:58.340115Z",
     "iopub.status.idle": "2022-01-05T19:57:58.342680Z",
     "shell.execute_reply": "2022-01-05T19:57:58.342265Z",
     "shell.execute_reply.started": "2021-12-29T09:23:49.774858Z"
    },
    "papermill": {
     "duration": 0.018881,
     "end_time": "2022-01-05T19:57:58.342790",
     "exception": false,
     "start_time": "2022-01-05T19:57:58.323909",
     "status": "completed"
    },
    "tags": []
   },
   "outputs": [],
   "source": [
    "def init_position(lb, ub, N, dim):\n",
    "    X = np.zeros([N, dim], dtype='float')\n",
    "    for i in range(N):\n",
    "        for d in range(dim):\n",
    "            X[i,d] = lb[0,d] + (ub[0,d] - lb[0,d]) * rand()        \n",
    "    \n",
    "    return X"
   ]
  },
  {
   "cell_type": "code",
   "execution_count": 9,
   "id": "574b3897",
   "metadata": {
    "execution": {
     "iopub.execute_input": "2022-01-05T19:57:58.371598Z",
     "iopub.status.busy": "2022-01-05T19:57:58.370942Z",
     "iopub.status.idle": "2022-01-05T19:57:58.373334Z",
     "shell.execute_reply": "2022-01-05T19:57:58.372902Z",
     "shell.execute_reply.started": "2021-12-29T09:23:50.031206Z"
    },
    "papermill": {
     "duration": 0.018711,
     "end_time": "2022-01-05T19:57:58.373435",
     "exception": false,
     "start_time": "2022-01-05T19:57:58.354724",
     "status": "completed"
    },
    "tags": []
   },
   "outputs": [],
   "source": [
    "def binary_conversion(X, thres, N, dim):\n",
    "    Xbin = np.zeros([N, dim], dtype='int')\n",
    "    for i in range(N):\n",
    "        for d in range(dim):\n",
    "            if X[i,d] > thres:\n",
    "                Xbin[i,d] = 1\n",
    "            else:\n",
    "                Xbin[i,d] = 0\n",
    "    \n",
    "    return Xbin"
   ]
  },
  {
   "cell_type": "code",
   "execution_count": 10,
   "id": "f7667343",
   "metadata": {
    "execution": {
     "iopub.execute_input": "2022-01-05T19:57:58.401396Z",
     "iopub.status.busy": "2022-01-05T19:57:58.400891Z",
     "iopub.status.idle": "2022-01-05T19:57:58.404567Z",
     "shell.execute_reply": "2022-01-05T19:57:58.404161Z",
     "shell.execute_reply.started": "2021-12-29T09:23:50.338001Z"
    },
    "papermill": {
     "duration": 0.019277,
     "end_time": "2022-01-05T19:57:58.404670",
     "exception": false,
     "start_time": "2022-01-05T19:57:58.385393",
     "status": "completed"
    },
    "tags": []
   },
   "outputs": [],
   "source": [
    "def boundary(x, lb, ub):\n",
    "    if x < lb:\n",
    "        x = lb\n",
    "    if x > ub:\n",
    "        x = ub\n",
    "    \n",
    "    return x"
   ]
  },
  {
   "cell_type": "code",
   "execution_count": 11,
   "id": "bcbae145",
   "metadata": {
    "execution": {
     "iopub.execute_input": "2022-01-05T19:57:58.446464Z",
     "iopub.status.busy": "2022-01-05T19:57:58.441281Z",
     "iopub.status.idle": "2022-01-05T19:57:58.448897Z",
     "shell.execute_reply": "2022-01-05T19:57:58.448472Z",
     "shell.execute_reply.started": "2021-12-29T09:23:50.823103Z"
    },
    "papermill": {
     "duration": 0.032397,
     "end_time": "2022-01-05T19:57:58.449015",
     "exception": false,
     "start_time": "2022-01-05T19:57:58.416618",
     "status": "completed"
    },
    "tags": []
   },
   "outputs": [],
   "source": [
    "def jfs(xtrain, ytrain, opts):\n",
    "    # Parameters\n",
    "    ub     = 1\n",
    "    lb     = 0\n",
    "    thres  = 0.5\n",
    "    \n",
    "    N          = opts['N']\n",
    "    max_iter   = opts['T']\n",
    "        \n",
    "    # Dimension\n",
    "    dim = np.size(xtrain, 1)\n",
    "    if np.size(lb) == 1:\n",
    "        ub = ub * np.ones([1, dim], dtype='float')\n",
    "        lb = lb * np.ones([1, dim], dtype='float')\n",
    "        \n",
    "    # Initialize position \n",
    "    X     = init_position(lb, ub, N, dim)\n",
    "    \n",
    "    # Binary conversion\n",
    "    Xbin  = binary_conversion(X, thres, N, dim)\n",
    "    \n",
    "    # Fitness at first iteration\n",
    "    fit   = np.zeros([N, 1], dtype='float')\n",
    "    Xgb   = np.zeros([1, dim], dtype='float')\n",
    "    fitG  = float('inf')\n",
    "    \n",
    "    for i in range(N):\n",
    "        fit[i,0] = Fun(xtrain, ytrain, Xbin[i,:], opts)\n",
    "        if fit[i,0] < fitG:\n",
    "            Xgb[0,:] = X[i,:]\n",
    "            fitG     = fit[i,0]\n",
    "    \n",
    "    # Pre\n",
    "    curve = np.zeros([1, max_iter], dtype='float') \n",
    "    t     = 0\n",
    "    \n",
    "    curve[0,t] = fitG.copy()\n",
    "    print(\"Generation:\", t + 1)\n",
    "    print(\"Best (JA):\", curve[0,t])\n",
    "    t += 1\n",
    "    \n",
    "    while t < max_iter:  \n",
    "        Xnew  = np.zeros([N, dim], dtype='float') \n",
    "        \n",
    "        # Identify best & worst in population\n",
    "        idx_max = np.argmax(fit)\n",
    "        Xw      = X[idx_max,np.newaxis,:].copy()\n",
    "        idx_min = np.argmin(fit)\n",
    "        Xb      = X[idx_min,np.newaxis,:].copy()       \n",
    "          \n",
    "        for i in range(N):\n",
    "            for d in range(dim):\n",
    "                # Random numbers\n",
    "                r1 = rand();\n",
    "                r2 = rand();\n",
    "                # Position update (1)\n",
    "                Xnew[i,d] = X[i,d] + r1 * (Xb[0,d] - abs(X[i,d])) - r2 * (Xw[0,d] - abs(X[i,d])) \n",
    "                # Boundary\n",
    "                Xnew[i,d] = boundary(Xnew[i,d], lb[0,d], ub[0,d])\n",
    "                \n",
    "        # Binary conversion\n",
    "        Xbin = binary_conversion(Xnew, thres, N, dim)\n",
    "        \n",
    "        # Greedy selection\n",
    "        for i in range(N):\n",
    "            Fnew = Fun(xtrain, ytrain, Xbin[i,:], opts)\n",
    "            if Fnew < fit[i,0]:\n",
    "                X[i,:]   = Xnew[i,:]\n",
    "                fit[i,0] = Fnew             \n",
    "                \n",
    "            if fit[i,0] < fitG:\n",
    "                Xgb[0,:] = X[i,:]\n",
    "                fitG     = fit[i,0]\n",
    "             \n",
    "        # Store result\n",
    "        curve[0,t] = fitG.copy()\n",
    "        print(\"Generation:\", t + 1)\n",
    "        print(\"Best (JA):\", curve[0,t])\n",
    "        t += 1            \n",
    "\n",
    "            \n",
    "    # Best feature subset\n",
    "    Gbin       = binary_conversion(Xgb, thres, 1, dim) \n",
    "    Gbin       = Gbin.reshape(dim)\n",
    "    pos        = np.asarray(range(0, dim))    \n",
    "    sel_index  = pos[Gbin == 1]\n",
    "    num_feat   = len(sel_index)\n",
    "    # Create dictionary\n",
    "    ja_data = {'sf': sel_index, 'c': curve, 'nf': num_feat}\n",
    "    \n",
    "    return ja_data"
   ]
  },
  {
   "cell_type": "code",
   "execution_count": 12,
   "id": "ea826877",
   "metadata": {
    "execution": {
     "iopub.execute_input": "2022-01-05T19:57:58.479317Z",
     "iopub.status.busy": "2022-01-05T19:57:58.478287Z",
     "iopub.status.idle": "2022-01-05T19:57:58.485381Z",
     "shell.execute_reply": "2022-01-05T19:57:58.485750Z",
     "shell.execute_reply.started": "2021-12-29T09:23:52.744622Z"
    },
    "papermill": {
     "duration": 0.025051,
     "end_time": "2022-01-05T19:57:58.485905",
     "exception": false,
     "start_time": "2022-01-05T19:57:58.460854",
     "status": "completed"
    },
    "tags": []
   },
   "outputs": [],
   "source": [
    "xtrain, xtest, ytrain, ytest = train_test_split(features_ALL_IDB2_resnet, targets_ALL_IDB2, test_size=0.3, shuffle=True)\n",
    "fold = {'xt':xtrain, 'yt':ytrain, 'xv':xtest, 'yv':ytest}"
   ]
  },
  {
   "cell_type": "code",
   "execution_count": 13,
   "id": "5f631311",
   "metadata": {
    "execution": {
     "iopub.execute_input": "2022-01-05T19:57:58.514123Z",
     "iopub.status.busy": "2022-01-05T19:57:58.513376Z",
     "iopub.status.idle": "2022-01-05T19:57:58.515409Z",
     "shell.execute_reply": "2022-01-05T19:57:58.515828Z",
     "shell.execute_reply.started": "2021-12-29T09:23:53.698677Z"
    },
    "papermill": {
     "duration": 0.018185,
     "end_time": "2022-01-05T19:57:58.515957",
     "exception": false,
     "start_time": "2022-01-05T19:57:58.497772",
     "status": "completed"
    },
    "tags": []
   },
   "outputs": [],
   "source": [
    "P    = 0.8       # switch probability\n",
    "k     = 5     # k-value in KNN\n",
    "N     = 20    # number of\n",
    "T     = 100   # maximum number of iterations\n",
    "opts = {'k':k, 'fold':fold, 'N':N, 'T':T, 'P':P}"
   ]
  },
  {
   "cell_type": "code",
   "execution_count": 14,
   "id": "f632c7bf",
   "metadata": {
    "execution": {
     "iopub.execute_input": "2022-01-05T19:57:58.548027Z",
     "iopub.status.busy": "2022-01-05T19:57:58.547222Z",
     "iopub.status.idle": "2022-01-05T20:04:21.182927Z",
     "shell.execute_reply": "2022-01-05T20:04:21.183347Z",
     "shell.execute_reply.started": "2021-12-29T09:23:54.224597Z"
    },
    "papermill": {
     "duration": 382.655779,
     "end_time": "2022-01-05T20:04:21.183501",
     "exception": false,
     "start_time": "2022-01-05T19:57:58.527722",
     "status": "completed"
    },
    "tags": []
   },
   "outputs": [
    {
     "name": "stdout",
     "output_type": "stream",
     "text": [
      "Generation: 1\n",
      "Best (JA): 0.004908854166666672\n",
      "Generation: 2\n",
      "Best (JA): 0.004726562500000004\n",
      "Generation: 3\n",
      "Best (JA): 0.004622395833333337\n",
      "Generation: 4\n",
      "Best (JA): 0.004622395833333337\n",
      "Generation: 5\n",
      "Best (JA): 0.004622395833333337\n",
      "Generation: 6\n",
      "Best (JA): 0.00450086805555556\n",
      "Generation: 7\n",
      "Best (JA): 0.00450086805555556\n",
      "Generation: 8\n",
      "Best (JA): 0.00450086805555556\n",
      "Generation: 9\n",
      "Best (JA): 0.00450086805555556\n",
      "Generation: 10\n",
      "Best (JA): 0.00450086805555556\n",
      "Generation: 11\n",
      "Best (JA): 0.00450086805555556\n",
      "Generation: 12\n",
      "Best (JA): 0.00450086805555556\n",
      "Generation: 13\n",
      "Best (JA): 0.00450086805555556\n",
      "Generation: 14\n",
      "Best (JA): 0.00450086805555556\n",
      "Generation: 15\n",
      "Best (JA): 0.004492187500000004\n",
      "Generation: 16\n",
      "Best (JA): 0.004440104166666671\n",
      "Generation: 17\n",
      "Best (JA): 0.004335937500000004\n",
      "Generation: 18\n",
      "Best (JA): 0.004335937500000004\n",
      "Generation: 19\n",
      "Best (JA): 0.004335937500000004\n",
      "Generation: 20\n",
      "Best (JA): 0.004335937500000004\n",
      "Generation: 21\n",
      "Best (JA): 0.004279513888888893\n",
      "Generation: 22\n",
      "Best (JA): 0.004279513888888893\n",
      "Generation: 23\n",
      "Best (JA): 0.004279513888888893\n",
      "Generation: 24\n",
      "Best (JA): 0.004279513888888893\n",
      "Generation: 25\n",
      "Best (JA): 0.004279513888888893\n",
      "Generation: 26\n",
      "Best (JA): 0.004279513888888893\n",
      "Generation: 27\n",
      "Best (JA): 0.004279513888888893\n",
      "Generation: 28\n",
      "Best (JA): 0.004279513888888893\n",
      "Generation: 29\n",
      "Best (JA): 0.004279513888888893\n",
      "Generation: 30\n",
      "Best (JA): 0.004262152777777781\n",
      "Generation: 31\n",
      "Best (JA): 0.004262152777777781\n",
      "Generation: 32\n",
      "Best (JA): 0.004262152777777781\n",
      "Generation: 33\n",
      "Best (JA): 0.004223090277777781\n",
      "Generation: 34\n",
      "Best (JA): 0.004223090277777781\n",
      "Generation: 35\n",
      "Best (JA): 0.004223090277777781\n",
      "Generation: 36\n",
      "Best (JA): 0.004223090277777781\n",
      "Generation: 37\n",
      "Best (JA): 0.004223090277777781\n",
      "Generation: 38\n",
      "Best (JA): 0.004223090277777781\n",
      "Generation: 39\n",
      "Best (JA): 0.0041927083333333365\n",
      "Generation: 40\n",
      "Best (JA): 0.0041927083333333365\n",
      "Generation: 41\n",
      "Best (JA): 0.004184027777777781\n",
      "Generation: 42\n",
      "Best (JA): 0.004184027777777781\n",
      "Generation: 43\n",
      "Best (JA): 0.004179687500000004\n",
      "Generation: 44\n",
      "Best (JA): 0.0041536458333333364\n",
      "Generation: 45\n",
      "Best (JA): 0.0041536458333333364\n",
      "Generation: 46\n",
      "Best (JA): 0.0041536458333333364\n",
      "Generation: 47\n",
      "Best (JA): 0.0041536458333333364\n",
      "Generation: 48\n",
      "Best (JA): 0.0041536458333333364\n",
      "Generation: 49\n",
      "Best (JA): 0.0041536458333333364\n",
      "Generation: 50\n",
      "Best (JA): 0.0041536458333333364\n",
      "Generation: 51\n",
      "Best (JA): 0.0041536458333333364\n",
      "Generation: 52\n",
      "Best (JA): 0.0041536458333333364\n",
      "Generation: 53\n",
      "Best (JA): 0.0041536458333333364\n",
      "Generation: 54\n",
      "Best (JA): 0.0041536458333333364\n",
      "Generation: 55\n",
      "Best (JA): 0.0041536458333333364\n",
      "Generation: 56\n",
      "Best (JA): 0.0041536458333333364\n",
      "Generation: 57\n",
      "Best (JA): 0.0041536458333333364\n",
      "Generation: 58\n",
      "Best (JA): 0.0041536458333333364\n",
      "Generation: 59\n",
      "Best (JA): 0.0041536458333333364\n",
      "Generation: 60\n",
      "Best (JA): 0.0041536458333333364\n",
      "Generation: 61\n",
      "Best (JA): 0.0041536458333333364\n",
      "Generation: 62\n",
      "Best (JA): 0.0041536458333333364\n",
      "Generation: 63\n",
      "Best (JA): 0.0041536458333333364\n",
      "Generation: 64\n",
      "Best (JA): 0.0041536458333333364\n",
      "Generation: 65\n",
      "Best (JA): 0.0041536458333333364\n",
      "Generation: 66\n",
      "Best (JA): 0.0041536458333333364\n",
      "Generation: 67\n",
      "Best (JA): 0.0041536458333333364\n",
      "Generation: 68\n",
      "Best (JA): 0.0041232638888888925\n",
      "Generation: 69\n",
      "Best (JA): 0.0041232638888888925\n",
      "Generation: 70\n",
      "Best (JA): 0.0041232638888888925\n",
      "Generation: 71\n",
      "Best (JA): 0.0041232638888888925\n",
      "Generation: 72\n",
      "Best (JA): 0.00411024305555556\n",
      "Generation: 73\n",
      "Best (JA): 0.004088541666666671\n",
      "Generation: 74\n",
      "Best (JA): 0.004088541666666671\n",
      "Generation: 75\n",
      "Best (JA): 0.004088541666666671\n",
      "Generation: 76\n",
      "Best (JA): 0.004088541666666671\n",
      "Generation: 77\n",
      "Best (JA): 0.004088541666666671\n",
      "Generation: 78\n",
      "Best (JA): 0.004088541666666671\n",
      "Generation: 79\n",
      "Best (JA): 0.004088541666666671\n",
      "Generation: 80\n",
      "Best (JA): 0.004088541666666671\n",
      "Generation: 81\n",
      "Best (JA): 0.004088541666666671\n",
      "Generation: 82\n",
      "Best (JA): 0.004088541666666671\n",
      "Generation: 83\n",
      "Best (JA): 0.004088541666666671\n",
      "Generation: 84\n",
      "Best (JA): 0.004075520833333336\n",
      "Generation: 85\n",
      "Best (JA): 0.004075520833333336\n",
      "Generation: 86\n",
      "Best (JA): 0.004075520833333336\n",
      "Generation: 87\n",
      "Best (JA): 0.004075520833333336\n",
      "Generation: 88\n",
      "Best (JA): 0.004075520833333336\n",
      "Generation: 89\n",
      "Best (JA): 0.004075520833333336\n",
      "Generation: 90\n",
      "Best (JA): 0.004075520833333336\n",
      "Generation: 91\n",
      "Best (JA): 0.004075520833333336\n",
      "Generation: 92\n",
      "Best (JA): 0.004075520833333336\n",
      "Generation: 93\n",
      "Best (JA): 0.004075520833333336\n",
      "Generation: 94\n",
      "Best (JA): 0.004075520833333336\n",
      "Generation: 95\n",
      "Best (JA): 0.00407118055555556\n",
      "Generation: 96\n",
      "Best (JA): 0.00407118055555556\n",
      "Generation: 97\n",
      "Best (JA): 0.00407118055555556\n",
      "Generation: 98\n",
      "Best (JA): 0.004062500000000004\n",
      "Generation: 99\n",
      "Best (JA): 0.0040538194444444476\n",
      "Generation: 100\n",
      "Best (JA): 0.0040538194444444476\n",
      "Run Time --- 382.2610094547272 seconds ---\n",
      "Accuracy: 100.0\n",
      "Feature Size: 934\n"
     ]
    },
    {
     "data": {
      "image/png": "[encoded data removed]",
      "text/plain": [
       "<Figure size 432x288 with 1 Axes>"
      ]
     },
     "metadata": {
      "needs_background": "light"
     },
     "output_type": "display_data"
    }
   ],
   "source": [
    "# perform feature selection\n",
    "start_time = time.time()\n",
    "fmdl  = jfs(features_ALL_IDB2_resnet, targets_ALL_IDB2, opts)\n",
    "print(\"Run Time --- %s seconds ---\" % (time.time() - start_time))\n",
    "\n",
    "sf    = fmdl['sf']\n",
    "\n",
    "# model with selected features\n",
    "num_train = np.size(xtrain, 0)\n",
    "num_valid = np.size(xtest, 0)\n",
    "x_train   = xtrain[:, sf]\n",
    "y_train   = ytrain.reshape(num_train)  # Solve bug\n",
    "x_valid   = xtest[:, sf]\n",
    "y_valid   = ytest.reshape(num_valid)  # Solve bug\n",
    "\n",
    "mdl       = KNeighborsClassifier(n_neighbors= k) \n",
    "mdl.fit(x_train, y_train)\n",
    "\n",
    "# accuracy\n",
    "y_pred    = mdl.predict(x_valid)\n",
    "Acc       = np.sum(y_valid == y_pred)  / num_valid\n",
    "print(\"Accuracy:\", 100 * Acc)\n",
    "\n",
    "# number of selected features\n",
    "num_feat = fmdl['nf']\n",
    "print(\"Feature Size:\", num_feat)\n",
    "\n",
    "# plot convergence\n",
    "curve   = fmdl['c']\n",
    "curve   = curve.reshape(np.size(curve,1))\n",
    "x       = np.arange(0, opts['T'], 1.0) + 1.0\n",
    "\n",
    "fig, ax = plt.subplots()\n",
    "ax.plot(x, curve, 'o-')\n",
    "ax.set_xlabel('Number of Iterations')\n",
    "ax.set_ylabel('Fitness')\n",
    "ax.set_title('Jaya')\n",
    "ax.grid()\n",
    "plt.show()"
   ]
  },
  {
   "cell_type": "code",
   "execution_count": 15,
   "id": "d30b0144",
   "metadata": {
    "execution": {
     "iopub.execute_input": "2022-01-05T20:04:21.268117Z",
     "iopub.status.busy": "2022-01-05T20:04:21.267285Z",
     "iopub.status.idle": "2022-01-05T20:04:21.270712Z",
     "shell.execute_reply": "2022-01-05T20:04:21.270288Z",
     "shell.execute_reply.started": "2021-12-29T09:31:13.681381Z"
    },
    "papermill": {
     "duration": 0.046723,
     "end_time": "2022-01-05T20:04:21.270846",
     "exception": false,
     "start_time": "2022-01-05T20:04:21.224123",
     "status": "completed"
    },
    "tags": []
   },
   "outputs": [],
   "source": [
    "np.save(\"SelectedFeaturesIndexs_ALL_IDB2_ResNet_100iter.npy\", fmdl['sf'])"
   ]
  },
  {
   "cell_type": "code",
   "execution_count": null,
   "id": "ba338fea",
   "metadata": {
    "papermill": {
     "duration": 0.037329,
     "end_time": "2022-01-05T20:04:21.346188",
     "exception": false,
     "start_time": "2022-01-05T20:04:21.308859",
     "status": "completed"
    },
    "tags": []
   },
   "outputs": [],
   "source": []
  }
 ],
 "metadata": {
  "kernelspec": {
   "display_name": "Python 3",
   "language": "python",
   "name": "python3"
  },
  "language_info": {
   "codemirror_mode": {
    "name": "ipython",
    "version": 3
   },
   "file_extension": ".py",
   "mimetype": "text/x-python",
   "name": "python",
   "nbconvert_exporter": "python",
   "pygments_lexer": "ipython3",
   "version": "3.7.12"
  },
  "papermill": {
   "default_parameters": {},
   "duration": 397.163758,
   "end_time": "2022-01-05T20:04:22.695501",
   "environment_variables": {},
   "exception": null,
   "input_path": "__notebook__.ipynb",
   "output_path": "__notebook__.ipynb",
   "parameters": {},
   "start_time": "2022-01-05T19:57:45.531743",
   "version": "2.3.3"
  }
 },
 "nbformat": 4,
 "nbformat_minor": 5
}
