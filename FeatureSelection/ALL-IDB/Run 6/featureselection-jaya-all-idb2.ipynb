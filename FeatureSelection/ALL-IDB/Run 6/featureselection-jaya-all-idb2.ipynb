{
 "cells": [
  {
   "cell_type": "code",
   "execution_count": 1,
   "id": "2f6e5182",
   "metadata": {
    "_cell_guid": "b1076dfc-b9ad-4769-8c92-a6c4dae69d19",
    "_uuid": "8f2839f25d086af736a60e9eeb907d3b93b6e0e5",
    "execution": {
     "iopub.execute_input": "2022-01-05T19:30:36.349496Z",
     "iopub.status.busy": "2022-01-05T19:30:36.347988Z",
     "iopub.status.idle": "2022-01-05T19:30:40.723115Z",
     "shell.execute_reply": "2022-01-05T19:30:40.723554Z",
     "shell.execute_reply.started": "2021-12-29T09:23:46.666765Z"
    },
    "papermill": {
     "duration": 4.39347,
     "end_time": "2022-01-05T19:30:40.723865",
     "exception": false,
     "start_time": "2022-01-05T19:30:36.330395",
     "status": "completed"
    },
    "tags": []
   },
   "outputs": [],
   "source": [
    "import pandas as pd, numpy as np\n",
    "from kaggle_datasets import KaggleDatasets\n",
    "from sklearn.preprocessing import StandardScaler\n",
    "from sklearn.ensemble import RandomForestClassifier\n",
    "from sklearn.model_selection import KFold\n",
    "from sklearn.metrics import roc_auc_score\n",
    "from glob import glob\n",
    "from PIL import Image\n",
    "from skimage import color\n",
    "import cv2, matplotlib.pyplot as plt\n",
    "import random\n",
    "import gc\n",
    "# Import essential libraries\n",
    "%matplotlib inline\n",
    "import matplotlib.pyplot as plt\n",
    "import pandas as pd\n",
    "from sklearn.model_selection import StratifiedKFold\n",
    "import itertools\n",
    "import seaborn as sns\n",
    "from sklearn.preprocessing import label_binarize\n",
    "from sklearn.metrics import confusion_matrix\n",
    "from sklearn.model_selection import train_test_split\n",
    "from sklearn.model_selection import train_test_split\n",
    "import os\n",
    "import cv2\n",
    "from IPython.display import SVG\n",
    "from sklearn.decomposition import PCA\n",
    "import numpy as np\n",
    "from numpy.random import rand\n",
    "import cudf, cuml\n",
    "from cuml.neighbors import KNeighborsClassifier\n",
    "from sklearn.model_selection import train_test_split\n",
    "import matplotlib.pyplot as plt\n",
    "import random\n",
    "from random import randrange\n",
    "import time"
   ]
  },
  {
   "cell_type": "code",
   "execution_count": 2,
   "id": "ed4dfaf1",
   "metadata": {
    "execution": {
     "iopub.execute_input": "2022-01-05T19:30:40.753254Z",
     "iopub.status.busy": "2022-01-05T19:30:40.752664Z",
     "iopub.status.idle": "2022-01-05T19:30:41.407131Z",
     "shell.execute_reply": "2022-01-05T19:30:41.406453Z",
     "shell.execute_reply.started": "2021-12-29T09:23:46.961921Z"
    },
    "papermill": {
     "duration": 0.669564,
     "end_time": "2022-01-05T19:30:41.407267",
     "exception": false,
     "start_time": "2022-01-05T19:30:40.737703",
     "status": "completed"
    },
    "tags": []
   },
   "outputs": [],
   "source": [
    "features_ALL_IDB2_resnet = np.load('../input/pca-pretraining-featureextraction-resnet-all-idb2/ALL_IDB2_ExtractedFeatures.npy')\n",
    "targets_ALL_IDB2 = np.load('../input/pca-pretraining-featureextraction-resnet-all-idb2/Targets.npy')"
   ]
  },
  {
   "cell_type": "code",
   "execution_count": 3,
   "id": "99ceb4e6",
   "metadata": {
    "execution": {
     "iopub.execute_input": "2022-01-05T19:30:41.436440Z",
     "iopub.status.busy": "2022-01-05T19:30:41.434560Z",
     "iopub.status.idle": "2022-01-05T19:30:41.514601Z",
     "shell.execute_reply": "2022-01-05T19:30:41.514078Z",
     "shell.execute_reply.started": "2021-12-29T09:23:47.249624Z"
    },
    "papermill": {
     "duration": 0.095381,
     "end_time": "2022-01-05T19:30:41.514752",
     "exception": false,
     "start_time": "2022-01-05T19:30:41.419371",
     "status": "completed"
    },
    "tags": []
   },
   "outputs": [],
   "source": [
    "sc = StandardScaler()\n",
    "features_ALL_IDB2_resnet = sc.fit_transform(features_ALL_IDB2_resnet)"
   ]
  },
  {
   "cell_type": "code",
   "execution_count": 4,
   "id": "8c8d438f",
   "metadata": {
    "execution": {
     "iopub.execute_input": "2022-01-05T19:30:41.542081Z",
     "iopub.status.busy": "2022-01-05T19:30:41.541260Z",
     "iopub.status.idle": "2022-01-05T19:30:41.551561Z",
     "shell.execute_reply": "2022-01-05T19:30:41.551161Z",
     "shell.execute_reply.started": "2021-12-29T09:23:47.698005Z"
    },
    "papermill": {
     "duration": 0.025056,
     "end_time": "2022-01-05T19:30:41.551697",
     "exception": false,
     "start_time": "2022-01-05T19:30:41.526641",
     "status": "completed"
    },
    "tags": []
   },
   "outputs": [],
   "source": [
    "targets_ALL_IDB2 = [np.argmax(y, axis=None, out=None) for y in targets_ALL_IDB2]\n",
    "targets_ALL_IDB2 = np.asarray(targets_ALL_IDB2)"
   ]
  },
  {
   "cell_type": "code",
   "execution_count": 5,
   "id": "d050fc08",
   "metadata": {
    "execution": {
     "iopub.execute_input": "2022-01-05T19:30:41.579215Z",
     "iopub.status.busy": "2022-01-05T19:30:41.578557Z",
     "iopub.status.idle": "2022-01-05T19:30:41.581457Z",
     "shell.execute_reply": "2022-01-05T19:30:41.581921Z",
     "shell.execute_reply.started": "2021-12-29T09:23:48.144891Z"
    },
    "papermill": {
     "duration": 0.018837,
     "end_time": "2022-01-05T19:30:41.582048",
     "exception": false,
     "start_time": "2022-01-05T19:30:41.563211",
     "status": "completed"
    },
    "tags": []
   },
   "outputs": [
    {
     "name": "stdout",
     "output_type": "stream",
     "text": [
      "Features ALL-IDB2 ResNet:  (2004, 2304)\n",
      "Labels ALL-IDB2:  (2004,)\n"
     ]
    }
   ],
   "source": [
    "print(\"Features ALL-IDB2 ResNet: \", features_ALL_IDB2_resnet.shape)\n",
    "print(\"Labels ALL-IDB2: \", targets_ALL_IDB2.shape)"
   ]
  },
  {
   "cell_type": "code",
   "execution_count": 6,
   "id": "61b815f7",
   "metadata": {
    "execution": {
     "iopub.execute_input": "2022-01-05T19:30:41.617487Z",
     "iopub.status.busy": "2022-01-05T19:30:41.610145Z",
     "iopub.status.idle": "2022-01-05T19:30:41.619925Z",
     "shell.execute_reply": "2022-01-05T19:30:41.619492Z",
     "shell.execute_reply.started": "2021-12-29T09:23:48.657715Z"
    },
    "papermill": {
     "duration": 0.024891,
     "end_time": "2022-01-05T19:30:41.620035",
     "exception": false,
     "start_time": "2022-01-05T19:30:41.595144",
     "status": "completed"
    },
    "tags": []
   },
   "outputs": [],
   "source": [
    "# error rate\n",
    "def error_rate(xtrain, ytrain, x, opts):\n",
    "    # parameters\n",
    "    k  = opts['k']\n",
    "    fold = opts['fold']\n",
    "    xt = fold['xt']\n",
    "    yt = fold['yt']\n",
    "    xv = fold['xv']\n",
    "    yv = fold['yv']\n",
    "    \n",
    "    # number of instances\n",
    "    num_train = np.size(xt, 0)\n",
    "    num_valid = np.size(xv, 0)\n",
    "    # Define selected features\n",
    "    xtrain = xt[:, x == 1]\n",
    "    ytrain = yt.reshape(num_train)\n",
    "    xvalid = xv[:, x == 1]\n",
    "    yvalid = yv.reshape(num_valid)\n",
    "    # Training\n",
    "    mdl     = KNeighborsClassifier(n_neighbors= k)\n",
    "    mdl.fit(xtrain, ytrain)\n",
    "    # Prediction\n",
    "    ypred   = mdl.predict(xvalid)\n",
    "    acc     = np.sum(yvalid == ypred) / num_valid\n",
    "    error   = 1 - acc\n",
    "    \n",
    "    return error, acc\n",
    "# Error rate & Feature size\n",
    "def Fun(xtrain, ytrain, x, opts):\n",
    "    # parameters\n",
    "    alpha = 0.99\n",
    "    beta = 1 - alpha\n",
    "    # original feature size\n",
    "    max_feat = len(x)\n",
    "    # Number of selected features\n",
    "    num_feat = np.sum(x == 1)\n",
    "    # Solve if no feature selected\n",
    "    if num_feat == 0:\n",
    "        cost = 1\n",
    "    else:\n",
    "        # Get error rate\n",
    "        error, acc = error_rate(xtrain, ytrain, x, opts)\n",
    "        # Objective function\n",
    "        cost = alpha * error + beta * (num_feat / max_feat)\n",
    "        \n",
    "    return cost"
   ]
  },
  {
   "cell_type": "code",
   "execution_count": 7,
   "id": "b8f13aa0",
   "metadata": {
    "execution": {
     "iopub.execute_input": "2022-01-05T19:30:41.647762Z",
     "iopub.status.busy": "2022-01-05T19:30:41.646942Z",
     "iopub.status.idle": "2022-01-05T19:30:41.652852Z",
     "shell.execute_reply": "2022-01-05T19:30:41.652372Z",
     "shell.execute_reply.started": "2021-12-29T09:23:49.279425Z"
    },
    "papermill": {
     "duration": 0.020607,
     "end_time": "2022-01-05T19:30:41.652957",
     "exception": false,
     "start_time": "2022-01-05T19:30:41.632350",
     "status": "completed"
    },
    "tags": []
   },
   "outputs": [],
   "source": [
    "# Error rate & Feature size\n",
    "def Fun(xtrain, ytrain, x, opts):\n",
    "    # parameters\n",
    "    alpha = 0.99\n",
    "    beta = 1 - alpha\n",
    "    # original feature size\n",
    "    max_feat = len(x)\n",
    "    # Number of selected features\n",
    "    num_feat = np.sum(x == 1)\n",
    "    # Solve if no feature selected\n",
    "    if num_feat == 0:\n",
    "        cost = 1\n",
    "    else:\n",
    "        # Get error rate\n",
    "        error, acc = error_rate(xtrain, ytrain, x, opts)\n",
    "        # Objective function\n",
    "        cost = alpha * error + beta * (num_feat / max_feat)\n",
    "        \n",
    "    return cost"
   ]
  },
  {
   "cell_type": "code",
   "execution_count": 8,
   "id": "0a352ae4",
   "metadata": {
    "execution": {
     "iopub.execute_input": "2022-01-05T19:30:41.680032Z",
     "iopub.status.busy": "2022-01-05T19:30:41.679245Z",
     "iopub.status.idle": "2022-01-05T19:30:41.684293Z",
     "shell.execute_reply": "2022-01-05T19:30:41.684756Z",
     "shell.execute_reply.started": "2021-12-29T09:23:49.774858Z"
    },
    "papermill": {
     "duration": 0.019997,
     "end_time": "2022-01-05T19:30:41.684883",
     "exception": false,
     "start_time": "2022-01-05T19:30:41.664886",
     "status": "completed"
    },
    "tags": []
   },
   "outputs": [],
   "source": [
    "def init_position(lb, ub, N, dim):\n",
    "    X = np.zeros([N, dim], dtype='float')\n",
    "    for i in range(N):\n",
    "        for d in range(dim):\n",
    "            X[i,d] = lb[0,d] + (ub[0,d] - lb[0,d]) * rand()        \n",
    "    \n",
    "    return X"
   ]
  },
  {
   "cell_type": "code",
   "execution_count": 9,
   "id": "a8809a10",
   "metadata": {
    "execution": {
     "iopub.execute_input": "2022-01-05T19:30:41.714675Z",
     "iopub.status.busy": "2022-01-05T19:30:41.713805Z",
     "iopub.status.idle": "2022-01-05T19:30:41.715783Z",
     "shell.execute_reply": "2022-01-05T19:30:41.716301Z",
     "shell.execute_reply.started": "2021-12-29T09:23:50.031206Z"
    },
    "papermill": {
     "duration": 0.019834,
     "end_time": "2022-01-05T19:30:41.716426",
     "exception": false,
     "start_time": "2022-01-05T19:30:41.696592",
     "status": "completed"
    },
    "tags": []
   },
   "outputs": [],
   "source": [
    "def binary_conversion(X, thres, N, dim):\n",
    "    Xbin = np.zeros([N, dim], dtype='int')\n",
    "    for i in range(N):\n",
    "        for d in range(dim):\n",
    "            if X[i,d] > thres:\n",
    "                Xbin[i,d] = 1\n",
    "            else:\n",
    "                Xbin[i,d] = 0\n",
    "    \n",
    "    return Xbin"
   ]
  },
  {
   "cell_type": "code",
   "execution_count": 10,
   "id": "3f77baf6",
   "metadata": {
    "execution": {
     "iopub.execute_input": "2022-01-05T19:30:41.744925Z",
     "iopub.status.busy": "2022-01-05T19:30:41.744288Z",
     "iopub.status.idle": "2022-01-05T19:30:41.746468Z",
     "shell.execute_reply": "2022-01-05T19:30:41.746935Z",
     "shell.execute_reply.started": "2021-12-29T09:23:50.338001Z"
    },
    "papermill": {
     "duration": 0.018406,
     "end_time": "2022-01-05T19:30:41.747055",
     "exception": false,
     "start_time": "2022-01-05T19:30:41.728649",
     "status": "completed"
    },
    "tags": []
   },
   "outputs": [],
   "source": [
    "def boundary(x, lb, ub):\n",
    "    if x < lb:\n",
    "        x = lb\n",
    "    if x > ub:\n",
    "        x = ub\n",
    "    \n",
    "    return x"
   ]
  },
  {
   "cell_type": "code",
   "execution_count": 11,
   "id": "11f70308",
   "metadata": {
    "execution": {
     "iopub.execute_input": "2022-01-05T19:30:41.789035Z",
     "iopub.status.busy": "2022-01-05T19:30:41.778460Z",
     "iopub.status.idle": "2022-01-05T19:30:41.790965Z",
     "shell.execute_reply": "2022-01-05T19:30:41.791382Z",
     "shell.execute_reply.started": "2021-12-29T09:23:50.823103Z"
    },
    "papermill": {
     "duration": 0.032483,
     "end_time": "2022-01-05T19:30:41.791502",
     "exception": false,
     "start_time": "2022-01-05T19:30:41.759019",
     "status": "completed"
    },
    "tags": []
   },
   "outputs": [],
   "source": [
    "def jfs(xtrain, ytrain, opts):\n",
    "    # Parameters\n",
    "    ub     = 1\n",
    "    lb     = 0\n",
    "    thres  = 0.5\n",
    "    \n",
    "    N          = opts['N']\n",
    "    max_iter   = opts['T']\n",
    "        \n",
    "    # Dimension\n",
    "    dim = np.size(xtrain, 1)\n",
    "    if np.size(lb) == 1:\n",
    "        ub = ub * np.ones([1, dim], dtype='float')\n",
    "        lb = lb * np.ones([1, dim], dtype='float')\n",
    "        \n",
    "    # Initialize position \n",
    "    X     = init_position(lb, ub, N, dim)\n",
    "    \n",
    "    # Binary conversion\n",
    "    Xbin  = binary_conversion(X, thres, N, dim)\n",
    "    \n",
    "    # Fitness at first iteration\n",
    "    fit   = np.zeros([N, 1], dtype='float')\n",
    "    Xgb   = np.zeros([1, dim], dtype='float')\n",
    "    fitG  = float('inf')\n",
    "    \n",
    "    for i in range(N):\n",
    "        fit[i,0] = Fun(xtrain, ytrain, Xbin[i,:], opts)\n",
    "        if fit[i,0] < fitG:\n",
    "            Xgb[0,:] = X[i,:]\n",
    "            fitG     = fit[i,0]\n",
    "    \n",
    "    # Pre\n",
    "    curve = np.zeros([1, max_iter], dtype='float') \n",
    "    t     = 0\n",
    "    \n",
    "    curve[0,t] = fitG.copy()\n",
    "    print(\"Generation:\", t + 1)\n",
    "    print(\"Best (JA):\", curve[0,t])\n",
    "    t += 1\n",
    "    \n",
    "    while t < max_iter:  \n",
    "        Xnew  = np.zeros([N, dim], dtype='float') \n",
    "        \n",
    "        # Identify best & worst in population\n",
    "        idx_max = np.argmax(fit)\n",
    "        Xw      = X[idx_max,np.newaxis,:].copy()\n",
    "        idx_min = np.argmin(fit)\n",
    "        Xb      = X[idx_min,np.newaxis,:].copy()       \n",
    "          \n",
    "        for i in range(N):\n",
    "            for d in range(dim):\n",
    "                # Random numbers\n",
    "                r1 = rand();\n",
    "                r2 = rand();\n",
    "                # Position update (1)\n",
    "                Xnew[i,d] = X[i,d] + r1 * (Xb[0,d] - abs(X[i,d])) - r2 * (Xw[0,d] - abs(X[i,d])) \n",
    "                # Boundary\n",
    "                Xnew[i,d] = boundary(Xnew[i,d], lb[0,d], ub[0,d])\n",
    "                \n",
    "        # Binary conversion\n",
    "        Xbin = binary_conversion(Xnew, thres, N, dim)\n",
    "        \n",
    "        # Greedy selection\n",
    "        for i in range(N):\n",
    "            Fnew = Fun(xtrain, ytrain, Xbin[i,:], opts)\n",
    "            if Fnew < fit[i,0]:\n",
    "                X[i,:]   = Xnew[i,:]\n",
    "                fit[i,0] = Fnew             \n",
    "                \n",
    "            if fit[i,0] < fitG:\n",
    "                Xgb[0,:] = X[i,:]\n",
    "                fitG     = fit[i,0]\n",
    "             \n",
    "        # Store result\n",
    "        curve[0,t] = fitG.copy()\n",
    "        print(\"Generation:\", t + 1)\n",
    "        print(\"Best (JA):\", curve[0,t])\n",
    "        t += 1            \n",
    "\n",
    "            \n",
    "    # Best feature subset\n",
    "    Gbin       = binary_conversion(Xgb, thres, 1, dim) \n",
    "    Gbin       = Gbin.reshape(dim)\n",
    "    pos        = np.asarray(range(0, dim))    \n",
    "    sel_index  = pos[Gbin == 1]\n",
    "    num_feat   = len(sel_index)\n",
    "    # Create dictionary\n",
    "    ja_data = {'sf': sel_index, 'c': curve, 'nf': num_feat}\n",
    "    \n",
    "    return ja_data"
   ]
  },
  {
   "cell_type": "code",
   "execution_count": 12,
   "id": "c1a37b35",
   "metadata": {
    "execution": {
     "iopub.execute_input": "2022-01-05T19:30:41.820473Z",
     "iopub.status.busy": "2022-01-05T19:30:41.819976Z",
     "iopub.status.idle": "2022-01-05T19:30:41.830535Z",
     "shell.execute_reply": "2022-01-05T19:30:41.829605Z",
     "shell.execute_reply.started": "2021-12-29T09:23:52.744622Z"
    },
    "papermill": {
     "duration": 0.027378,
     "end_time": "2022-01-05T19:30:41.830665",
     "exception": false,
     "start_time": "2022-01-05T19:30:41.803287",
     "status": "completed"
    },
    "tags": []
   },
   "outputs": [],
   "source": [
    "xtrain, xtest, ytrain, ytest = train_test_split(features_ALL_IDB2_resnet, targets_ALL_IDB2, test_size=0.3, shuffle=True)\n",
    "fold = {'xt':xtrain, 'yt':ytrain, 'xv':xtest, 'yv':ytest}"
   ]
  },
  {
   "cell_type": "code",
   "execution_count": 13,
   "id": "bc0f58e2",
   "metadata": {
    "execution": {
     "iopub.execute_input": "2022-01-05T19:30:41.859694Z",
     "iopub.status.busy": "2022-01-05T19:30:41.858854Z",
     "iopub.status.idle": "2022-01-05T19:30:41.861153Z",
     "shell.execute_reply": "2022-01-05T19:30:41.860653Z",
     "shell.execute_reply.started": "2021-12-29T09:23:53.698677Z"
    },
    "papermill": {
     "duration": 0.018588,
     "end_time": "2022-01-05T19:30:41.861257",
     "exception": false,
     "start_time": "2022-01-05T19:30:41.842669",
     "status": "completed"
    },
    "tags": []
   },
   "outputs": [],
   "source": [
    "P    = 0.8       # switch probability\n",
    "k     = 5     # k-value in KNN\n",
    "N     = 20    # number of\n",
    "T     = 100   # maximum number of iterations\n",
    "opts = {'k':k, 'fold':fold, 'N':N, 'T':T, 'P':P}"
   ]
  },
  {
   "cell_type": "code",
   "execution_count": 14,
   "id": "79f6a0fa",
   "metadata": {
    "execution": {
     "iopub.execute_input": "2022-01-05T19:30:41.887913Z",
     "iopub.status.busy": "2022-01-05T19:30:41.887092Z",
     "iopub.status.idle": "2022-01-05T19:37:02.657300Z",
     "shell.execute_reply": "2022-01-05T19:37:02.657730Z",
     "shell.execute_reply.started": "2021-12-29T09:23:54.224597Z"
    },
    "papermill": {
     "duration": 380.784841,
     "end_time": "2022-01-05T19:37:02.657890",
     "exception": false,
     "start_time": "2022-01-05T19:30:41.873049",
     "status": "completed"
    },
    "tags": []
   },
   "outputs": [
    {
     "name": "stdout",
     "output_type": "stream",
     "text": [
      "Generation: 1\n",
      "Best (JA): 0.004743923611111115\n",
      "Generation: 2\n",
      "Best (JA): 0.004722222222222227\n",
      "Generation: 3\n",
      "Best (JA): 0.004670138888888893\n",
      "Generation: 4\n",
      "Best (JA): 0.0046050347222222265\n",
      "Generation: 5\n",
      "Best (JA): 0.0046050347222222265\n",
      "Generation: 6\n",
      "Best (JA): 0.004552951388888893\n",
      "Generation: 7\n",
      "Best (JA): 0.004513888888888893\n",
      "Generation: 8\n",
      "Best (JA): 0.004496527777777782\n",
      "Generation: 9\n",
      "Best (JA): 0.004496527777777782\n",
      "Generation: 10\n",
      "Best (JA): 0.004483506944444448\n",
      "Generation: 11\n",
      "Best (JA): 0.0044574652777777815\n",
      "Generation: 12\n",
      "Best (JA): 0.0044574652777777815\n",
      "Generation: 13\n",
      "Best (JA): 0.0044574652777777815\n",
      "Generation: 14\n",
      "Best (JA): 0.004414062500000004\n",
      "Generation: 15\n",
      "Best (JA): 0.004409722222222226\n",
      "Generation: 16\n",
      "Best (JA): 0.0043793402777777815\n",
      "Generation: 17\n",
      "Best (JA): 0.004327256944444448\n",
      "Generation: 18\n",
      "Best (JA): 0.004327256944444448\n",
      "Generation: 19\n",
      "Best (JA): 0.004309895833333337\n",
      "Generation: 20\n",
      "Best (JA): 0.004309895833333337\n",
      "Generation: 21\n",
      "Best (JA): 0.004309895833333337\n",
      "Generation: 22\n",
      "Best (JA): 0.00430555555555556\n",
      "Generation: 23\n",
      "Best (JA): 0.00430555555555556\n",
      "Generation: 24\n",
      "Best (JA): 0.00430555555555556\n",
      "Generation: 25\n",
      "Best (JA): 0.004292534722222226\n",
      "Generation: 26\n",
      "Best (JA): 0.004292534722222226\n",
      "Generation: 27\n",
      "Best (JA): 0.004292534722222226\n",
      "Generation: 28\n",
      "Best (JA): 0.004236111111111115\n",
      "Generation: 29\n",
      "Best (JA): 0.004236111111111115\n",
      "Generation: 30\n",
      "Best (JA): 0.004236111111111115\n",
      "Generation: 31\n",
      "Best (JA): 0.004236111111111115\n",
      "Generation: 32\n",
      "Best (JA): 0.0042317708333333365\n",
      "Generation: 33\n",
      "Best (JA): 0.0042317708333333365\n",
      "Generation: 34\n",
      "Best (JA): 0.0042317708333333365\n",
      "Generation: 35\n",
      "Best (JA): 0.0042317708333333365\n",
      "Generation: 36\n",
      "Best (JA): 0.00422743055555556\n",
      "Generation: 37\n",
      "Best (JA): 0.00422743055555556\n",
      "Generation: 38\n",
      "Best (JA): 0.00422743055555556\n",
      "Generation: 39\n",
      "Best (JA): 0.00422743055555556\n",
      "Generation: 40\n",
      "Best (JA): 0.004218750000000004\n",
      "Generation: 41\n",
      "Best (JA): 0.004205729166666671\n",
      "Generation: 42\n",
      "Best (JA): 0.004184027777777781\n",
      "Generation: 43\n",
      "Best (JA): 0.004184027777777781\n",
      "Generation: 44\n",
      "Best (JA): 0.004184027777777781\n",
      "Generation: 45\n",
      "Best (JA): 0.004184027777777781\n",
      "Generation: 46\n",
      "Best (JA): 0.004184027777777781\n",
      "Generation: 47\n",
      "Best (JA): 0.004184027777777781\n",
      "Generation: 48\n",
      "Best (JA): 0.004184027777777781\n",
      "Generation: 49\n",
      "Best (JA): 0.004184027777777781\n",
      "Generation: 50\n",
      "Best (JA): 0.004184027777777781\n",
      "Generation: 51\n",
      "Best (JA): 0.004184027777777781\n",
      "Generation: 52\n",
      "Best (JA): 0.004114583333333336\n",
      "Generation: 53\n",
      "Best (JA): 0.004114583333333336\n",
      "Generation: 54\n",
      "Best (JA): 0.004114583333333336\n",
      "Generation: 55\n",
      "Best (JA): 0.004114583333333336\n",
      "Generation: 56\n",
      "Best (JA): 0.004114583333333336\n",
      "Generation: 57\n",
      "Best (JA): 0.004114583333333336\n",
      "Generation: 58\n",
      "Best (JA): 0.004101562500000004\n",
      "Generation: 59\n",
      "Best (JA): 0.004101562500000004\n",
      "Generation: 60\n",
      "Best (JA): 0.004101562500000004\n",
      "Generation: 61\n",
      "Best (JA): 0.004101562500000004\n",
      "Generation: 62\n",
      "Best (JA): 0.004101562500000004\n",
      "Generation: 63\n",
      "Best (JA): 0.004101562500000004\n",
      "Generation: 64\n",
      "Best (JA): 0.004101562500000004\n",
      "Generation: 65\n",
      "Best (JA): 0.004092881944444448\n",
      "Generation: 66\n",
      "Best (JA): 0.004092881944444448\n",
      "Generation: 67\n",
      "Best (JA): 0.004092881944444448\n",
      "Generation: 68\n",
      "Best (JA): 0.004092881944444448\n",
      "Generation: 69\n",
      "Best (JA): 0.004092881944444448\n",
      "Generation: 70\n",
      "Best (JA): 0.004092881944444448\n",
      "Generation: 71\n",
      "Best (JA): 0.004092881944444448\n",
      "Generation: 72\n",
      "Best (JA): 0.004092881944444448\n",
      "Generation: 73\n",
      "Best (JA): 0.004092881944444448\n",
      "Generation: 74\n",
      "Best (JA): 0.004092881944444448\n",
      "Generation: 75\n",
      "Best (JA): 0.004092881944444448\n",
      "Generation: 76\n",
      "Best (JA): 0.004058159722222226\n",
      "Generation: 77\n",
      "Best (JA): 0.004049479166666671\n",
      "Generation: 78\n",
      "Best (JA): 0.004049479166666671\n",
      "Generation: 79\n",
      "Best (JA): 0.004049479166666671\n",
      "Generation: 80\n",
      "Best (JA): 0.00403211805555556\n",
      "Generation: 81\n",
      "Best (JA): 0.00403211805555556\n",
      "Generation: 82\n",
      "Best (JA): 0.00403211805555556\n",
      "Generation: 83\n",
      "Best (JA): 0.00403211805555556\n",
      "Generation: 84\n",
      "Best (JA): 0.00403211805555556\n",
      "Generation: 85\n",
      "Best (JA): 0.00403211805555556\n",
      "Generation: 86\n",
      "Best (JA): 0.00403211805555556\n",
      "Generation: 87\n",
      "Best (JA): 0.00403211805555556\n",
      "Generation: 88\n",
      "Best (JA): 0.003997395833333336\n",
      "Generation: 89\n",
      "Best (JA): 0.003997395833333336\n",
      "Generation: 90\n",
      "Best (JA): 0.003997395833333336\n",
      "Generation: 91\n",
      "Best (JA): 0.003997395833333336\n",
      "Generation: 92\n",
      "Best (JA): 0.0039756944444444475\n",
      "Generation: 93\n",
      "Best (JA): 0.0039756944444444475\n",
      "Generation: 94\n",
      "Best (JA): 0.0039756944444444475\n",
      "Generation: 95\n",
      "Best (JA): 0.0039756944444444475\n",
      "Generation: 96\n",
      "Best (JA): 0.0039756944444444475\n",
      "Generation: 97\n",
      "Best (JA): 0.003971354166666671\n",
      "Generation: 98\n",
      "Best (JA): 0.003971354166666671\n",
      "Generation: 99\n",
      "Best (JA): 0.003971354166666671\n",
      "Generation: 100\n",
      "Best (JA): 0.003971354166666671\n",
      "Run Time --- 380.3894085884094 seconds ---\n",
      "Accuracy: 100.0\n",
      "Feature Size: 915\n"
     ]
    },
    {
     "data": {
      "image/png": "[encoded data removed]",
      "text/plain": [
       "<Figure size 432x288 with 1 Axes>"
      ]
     },
     "metadata": {
      "needs_background": "light"
     },
     "output_type": "display_data"
    }
   ],
   "source": [
    "# perform feature selection\n",
    "start_time = time.time()\n",
    "fmdl  = jfs(features_ALL_IDB2_resnet, targets_ALL_IDB2, opts)\n",
    "print(\"Run Time --- %s seconds ---\" % (time.time() - start_time))\n",
    "\n",
    "sf    = fmdl['sf']\n",
    "\n",
    "# model with selected features\n",
    "num_train = np.size(xtrain, 0)\n",
    "num_valid = np.size(xtest, 0)\n",
    "x_train   = xtrain[:, sf]\n",
    "y_train   = ytrain.reshape(num_train)  # Solve bug\n",
    "x_valid   = xtest[:, sf]\n",
    "y_valid   = ytest.reshape(num_valid)  # Solve bug\n",
    "\n",
    "mdl       = KNeighborsClassifier(n_neighbors= k) \n",
    "mdl.fit(x_train, y_train)\n",
    "\n",
    "# accuracy\n",
    "y_pred    = mdl.predict(x_valid)\n",
    "Acc       = np.sum(y_valid == y_pred)  / num_valid\n",
    "print(\"Accuracy:\", 100 * Acc)\n",
    "\n",
    "# number of selected features\n",
    "num_feat = fmdl['nf']\n",
    "print(\"Feature Size:\", num_feat)\n",
    "\n",
    "# plot convergence\n",
    "curve   = fmdl['c']\n",
    "curve   = curve.reshape(np.size(curve,1))\n",
    "x       = np.arange(0, opts['T'], 1.0) + 1.0\n",
    "\n",
    "fig, ax = plt.subplots()\n",
    "ax.plot(x, curve, 'o-')\n",
    "ax.set_xlabel('Number of Iterations')\n",
    "ax.set_ylabel('Fitness')\n",
    "ax.set_title('Jaya')\n",
    "ax.grid()\n",
    "plt.show()"
   ]
  },
  {
   "cell_type": "code",
   "execution_count": 15,
   "id": "4cd1d17f",
   "metadata": {
    "execution": {
     "iopub.execute_input": "2022-01-05T19:37:02.737698Z",
     "iopub.status.busy": "2022-01-05T19:37:02.737008Z",
     "iopub.status.idle": "2022-01-05T19:37:02.739804Z",
     "shell.execute_reply": "2022-01-05T19:37:02.740184Z",
     "shell.execute_reply.started": "2021-12-29T09:31:13.681381Z"
    },
    "papermill": {
     "duration": 0.044193,
     "end_time": "2022-01-05T19:37:02.740325",
     "exception": false,
     "start_time": "2022-01-05T19:37:02.696132",
     "status": "completed"
    },
    "tags": []
   },
   "outputs": [],
   "source": [
    "np.save(\"SelectedFeaturesIndexs_ALL_IDB2_ResNet_100iter.npy\", fmdl['sf'])"
   ]
  },
  {
   "cell_type": "code",
   "execution_count": null,
   "id": "d00c5ff2",
   "metadata": {
    "papermill": {
     "duration": 0.037135,
     "end_time": "2022-01-05T19:37:02.814798",
     "exception": false,
     "start_time": "2022-01-05T19:37:02.777663",
     "status": "completed"
    },
    "tags": []
   },
   "outputs": [],
   "source": []
  }
 ],
 "metadata": {
  "kernelspec": {
   "display_name": "Python 3",
   "language": "python",
   "name": "python3"
  },
  "language_info": {
   "codemirror_mode": {
    "name": "ipython",
    "version": 3
   },
   "file_extension": ".py",
   "mimetype": "text/x-python",
   "name": "python",
   "nbconvert_exporter": "python",
   "pygments_lexer": "ipython3",
   "version": "3.7.12"
  },
  "papermill": {
   "default_parameters": {},
   "duration": 396.077726,
   "end_time": "2022-01-05T19:37:04.269457",
   "environment_variables": {},
   "exception": null,
   "input_path": "__notebook__.ipynb",
   "output_path": "__notebook__.ipynb",
   "parameters": {},
   "start_time": "2022-01-05T19:30:28.191731",
   "version": "2.3.3"
  }
 },
 "nbformat": 4,
 "nbformat_minor": 5
}
